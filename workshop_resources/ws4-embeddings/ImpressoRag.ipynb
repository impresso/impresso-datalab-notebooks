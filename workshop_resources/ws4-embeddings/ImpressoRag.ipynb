{
  "nbformat": 4,
  "nbformat_minor": 0,
  "metadata": {
    "colab": {
      "provenance": [],
      "gpuType": "T4"
    },
    "kernelspec": {
      "name": "python3",
      "display_name": "Python 3"
    },
    "language_info": {
      "name": "python"
    },
    "accelerator": "GPU"
  },
  "cells": [
    {
      "cell_type": "markdown",
      "source": [
        "<a target=\"_blank\" href=\"https://colab.research.google.com/github/impresso/impresso-datalab-notebooks/blob/main/workshop_resources/ws4-embeddings/ImpressoRag.ipynb\">\n",
        "  <img src=\"https://colab.research.google.com/assets/colab-badge.svg\" alt=\"Open In Colab\"/>\n",
        "</a>"
      ],
      "metadata": {
        "id": "BbSLdDEnvdvA"
      }
    },
    {
      "cell_type": "code",
      "execution_count": null,
      "metadata": {
        "id": "KPIdlpdEqW8S"
      },
      "outputs": [],
      "source": [
        "!pip install git+https://github.com/impresso/impresso-py.git@embeddings-search"
      ]
    },
    {
      "cell_type": "code",
      "source": [
        "\n",
        "from impresso import connect\n",
        "\n",
        "impresso_session = connect('https://dev.impresso-project.ch/public-api/v1')"
      ],
      "metadata": {
        "id": "FjMtK_vOj7U_"
      },
      "execution_count": null,
      "outputs": []
    },
    {
      "cell_type": "code",
      "source": [
        "# ---embed and search---\n",
        "\n",
        "question = \"What happened in Zurich in the year 1950?\"\n",
        "\n",
        "\n",
        "embedding = impresso_session.tools.embed_text(text=question, target=\"text\")\n",
        "# using the embedding to search in impresso\n",
        "result = impresso_session.search.find(embedding=embedding, limit=5)\n",
        "\n",
        "# ---some post-processing for convenience---\n",
        "\n",
        "# get ids of search results\n",
        "result_uids = [r[\"uid\"] for r in result.raw[\"data\"]]\n",
        "# get texts of search results\n",
        "result_articles = [impresso_session.content_items.get(uid) for uid in result_uids]\n",
        "# concatenate title and text of search results\n",
        "article_texts = [article.raw.get(\"title\") + \" \" + article.raw.get(\"transcript\") for article in result_articles]"
      ],
      "metadata": {
        "id": "tzz_VBUVfy4r"
      },
      "execution_count": null,
      "outputs": []
    },
    {
      "cell_type": "code",
      "source": [
        "import sys\n",
        "# Clone the repository\n",
        "!rm -rf Pleias-RAG-Library/\n",
        "!git clone https://github.com/Pleias/Pleias-RAG-Library\n",
        "\n",
        "# Install the cloned package in development mode\n",
        "%cd Pleias-RAG-Library\n",
        "!pip install -e .\n",
        "\n",
        "%cd ..\n",
        "sys.path.append('/content/Pleias-RAG-Library')"
      ],
      "metadata": {
        "id": "zWxxu4vj70nT"
      },
      "execution_count": null,
      "outputs": []
    },
    {
      "cell_type": "code",
      "source": [
        "from pleias_rag_interface import RAGWithCitations\n",
        "\n",
        "rag = RAGWithCitations(\"PleIAs/Pleias-RAG-1B\")\n",
        "\n",
        "sources = [{\"text\":article} for article in article_texts]\n",
        "\n",
        "# Generate a response\n",
        "response = rag.generate(question, sources)\n",
        "\n",
        "# Print the final answer with citations\n",
        "print(response[\"processed\"])\n",
        "\n"
      ],
      "metadata": {
        "id": "Ak7Odjve7eXJ"
      },
      "execution_count": null,
      "outputs": []
    },
    {
      "cell_type": "code",
      "source": [],
      "metadata": {
        "id": "W-BtG70KoyfI"
      },
      "execution_count": null,
      "outputs": []
    }
  ]
}