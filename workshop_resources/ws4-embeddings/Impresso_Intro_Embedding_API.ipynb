{
  "nbformat": 4,
  "nbformat_minor": 0,
  "metadata": {
    "colab": {
      "provenance": []
    },
    "kernelspec": {
      "name": "python3",
      "display_name": "Python 3"
    },
    "language_info": {
      "name": "python"
    }
  },
  "cells": [
    {
      "cell_type": "markdown",
      "source": [
        "<a target=\"_blank\" href=\"https://colab.research.google.com/github/impresso/impresso-datalab-notebooks/blob/main/workshop_resources/ws4-embeddings/Impresso_Intro_Embedding_API.ipynb\">\n",
        "  <img src=\"https://colab.research.google.com/assets/colab-badge.svg\" alt=\"Open In Colab\"/>\n",
        "</a>"
      ],
      "metadata": {
        "id": "nWkAXU_C2LWb"
      }
    },
    {
      "cell_type": "markdown",
      "source": [
        "# A Quick Overview of the Impresso Embedding API\n",
        "\n",
        "This notebook aims to give a concise overview of the basic API functionalities for embeddings.\n",
        "\n",
        "We show how to\n",
        " - embed documents (either image or text)\n",
        " - retrieve embeddings from the database directly\n",
        " - query the vector space\n"
      ],
      "metadata": {
        "id": "3btZtuOAAbmu"
      }
    },
    {
      "cell_type": "markdown",
      "source": [
        "## Installation\n",
        "\n",
        "Install the Impresso library (for now a specific branch)."
      ],
      "metadata": {
        "id": "ROj_6ouiTOG-"
      }
    },
    {
      "cell_type": "code",
      "execution_count": null,
      "metadata": {
        "id": "V2TwpEkb_pQH"
      },
      "outputs": [],
      "source": [
        "!pip install -qqq git+https://github.com/impresso/impresso-py.git@embeddings-search"
      ]
    },
    {
      "cell_type": "markdown",
      "source": [
        "Go to https://dev.impresso-project.ch/datalab/\n",
        "\n",
        "... and create an API key!"
      ],
      "metadata": {
        "id": "VR8qE7jwSuCI"
      },
      "execution_count": null,
      "outputs": []
    },
    {
      "cell_type": "markdown",
      "source": [
        "## Connect to Impresso client"
      ],
      "metadata": {
        "id": "LPEnUu6_TRYW"
      }
    },
    {
      "cell_type": "code",
      "source": [
        "from impresso import connect\n",
        "\n",
        "impresso_session = connect('https://dev.impresso-project.ch/public-api/v1')"
      ],
      "metadata": {
        "id": "5jEYhBfNA0rp"
      },
      "execution_count": null,
      "outputs": []
    },
    {
      "cell_type": "markdown",
      "source": [
        "## Embed a Document"
      ],
      "metadata": {
        "id": "KRXxNXIDTU6q"
      }
    },
    {
      "cell_type": "code",
      "source": [
        "embedding = impresso_session.tools.embed_text(text=\"Schumann politicien\", target=\"text\")"
      ],
      "metadata": {
        "id": "P_t0HcqGBR82"
      },
      "execution_count": null,
      "outputs": []
    },
    {
      "cell_type": "code",
      "source": [
        "embedding"
      ],
      "metadata": {
        "id": "6q8SfO-UBeQ5"
      },
      "execution_count": null,
      "outputs": []
    },
    {
      "cell_type": "markdown",
      "source": [
        "# Embedding Search"
      ],
      "metadata": {
        "id": "id72W9oNTdKw"
      }
    },
    {
      "cell_type": "code",
      "source": [
        "impresso_session.search.find(\n",
        "  embedding=embedding,\n",
        "  limit=5\n",
        ")"
      ],
      "metadata": {
        "id": "bSNbaD_aBPso"
      },
      "execution_count": null,
      "outputs": []
    },
    {
      "cell_type": "code",
      "source": [
        "impresso_session.search.find(\n",
        "  country='FR'\n",
        "  embedding=embedding,\n",
        "  limit=5\n",
        ")"
      ],
      "metadata": {
        "id": "94kDEY05BiCN"
      },
      "execution_count": null,
      "outputs": []
    },
    {
      "cell_type": "markdown",
      "source": [
        "For more search options, please consult the documentation or these notebooks.\n",
        "- [The Impresso Python Library](https://dev.impresso-project.ch/datalab/notebooks/impresso-py-connect/)\n",
        "- [Searching with the Impresso library](https://dev.impresso-project.ch/datalab/notebooks/impresso-py-search/)"
      ],
      "metadata": {
        "id": "tyLoYX6_BwuP"
      }
    },
    {
      "cell_type": "markdown",
      "source": [
        "## Retrieve Embedding"
      ],
      "metadata": {
        "id": "zv039TtiThR2"
      }
    },
    {
      "cell_type": "code",
      "source": [
        "original_embedding = impresso_session.content_items.get_embeddings(\"JDG-1963-09-06-a-i0004\")[0]\n",
        "original_embedding"
      ],
      "metadata": {
        "id": "6MqiHAqzBt_Q"
      },
      "execution_count": null,
      "outputs": []
    },
    {
      "cell_type": "markdown",
      "source": [
        "## Convert Embedding to Vector"
      ],
      "metadata": {
        "id": "l8jFdgB6Tk9Q"
      }
    },
    {
      "cell_type": "code",
      "source": [
        "from impresso.util.embeddings import embedding_to_vector, vector_to_embedding\n",
        "\n",
        "array = embedding_to_vector(original_embedding)\n",
        "array[:10]  # show first 10 values"
      ],
      "metadata": {
        "id": "HGWH-mXDCuE8"
      },
      "execution_count": null,
      "outputs": []
    },
    {
      "cell_type": "markdown",
      "source": [
        "## Retrieve Image"
      ],
      "metadata": {
        "id": "-NuOzu8-TozB"
      }
    },
    {
      "cell_type": "code",
      "source": [
        "image_id = \"luxwort-1930-09-26-a-i0036\"\n",
        "image = impresso_session.images.get(image_id, include_embeddings=True)\n",
        "image"
      ],
      "metadata": {
        "id": "FURi9zTMDekd"
      },
      "execution_count": null,
      "outputs": []
    },
    {
      "cell_type": "markdown",
      "source": [
        "## Retrieve Image Embedding"
      ],
      "metadata": {
        "id": "qDMUFQj0TuHI"
      }
    },
    {
      "cell_type": "code",
      "source": [
        "embeddings = impresso_session.images.get_embeddings(image_id)\n",
        "embeddings"
      ],
      "metadata": {
        "id": "xYsUWWBJDwJF"
      },
      "execution_count": null,
      "outputs": []
    },
    {
      "cell_type": "code",
      "source": [
        "impresso_session.images.find(\n",
        "  embedding=embeddings[0],\n",
        "  limit=3\n",
        ")"
      ],
      "metadata": {
        "id": "mC1whrMyD3IL"
      },
      "execution_count": null,
      "outputs": []
    },
    {
      "cell_type": "markdown",
      "source": [
        "# Embed Text for Image Search"
      ],
      "metadata": {
        "id": "vqgbgOEUUCbd"
      }
    },
    {
      "cell_type": "code",
      "source": [
        "impresso_session.images.find(\n",
        "  embedding=impresso_session.tools.embed_text(text=\"belval\", target=\"image\"),\n",
        "  # media_id=\"luxwort\",\n",
        "  limit=3\n",
        ")"
      ],
      "metadata": {
        "id": "VkcHccsYEPap"
      },
      "execution_count": null,
      "outputs": []
    },
    {
      "cell_type": "markdown",
      "source": [
        "## Embed External Image for Image Search"
      ],
      "metadata": {
        "id": "h2whZ24nUKDf"
      }
    },
    {
      "cell_type": "code",
      "source": [
        "impresso_session.images.find(\n",
        "  embedding=impresso_session.tools.embed_image(image=\"https://upload.wikimedia.org/wikipedia/en/7/73/Trollface.png\", target=\"image\"),\n",
        "  limit=3\n",
        ")"
      ],
      "metadata": {
        "id": "Mq5WQ8QSElrh"
      },
      "execution_count": null,
      "outputs": []
    },
    {
      "cell_type": "markdown",
      "source": [
        "# Fin."
      ],
      "metadata": {
        "id": "JJD9nBz4UOOJ"
      }
    },
    {
      "cell_type": "code",
      "source": [],
      "metadata": {
        "id": "LClqgqGtEtrx"
      },
      "execution_count": null,
      "outputs": []
    }
  ]
}
