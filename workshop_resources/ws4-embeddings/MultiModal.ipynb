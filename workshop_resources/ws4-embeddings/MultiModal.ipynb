{
  "nbformat": 4,
  "nbformat_minor": 0,
  "metadata": {
    "colab": {
      "provenance": []
    },
    "kernelspec": {
      "name": "python3",
      "display_name": "Python 3"
    },
    "language_info": {
      "name": "python"
    }
  },
  "cells": [
    {
      "cell_type": "markdown",
      "source": [
        "<a target=\"_blank\" href=\"https://colab.research.google.com/github/impresso/impresso-datalab-notebooks/blob/main/workshop_resources/ws4-embeddings/MultiModal.ipynb\">\n",
        "  <img src=\"https://colab.research.google.com/assets/colab-badge.svg\" alt=\"Open In Colab\"/>\n",
        "</a>"
      ],
      "metadata": {
        "id": "PLE2OPdEaUp0"
      }
    },
    {
      "cell_type": "code",
      "source": [
        "!pip install -qqq git+https://github.com/impresso/impresso-py.git@embeddings-search"
      ],
      "metadata": {
        "id": "iZl2G0rZs__p"
      },
      "execution_count": null,
      "outputs": []
    },
    {
      "cell_type": "markdown",
      "source": [
        "# Mapping Holy Lands?\n",
        "\n",
        "The visual representation of Israel/Palestine through the centuries.\n",
        "An exercise in multimodality.\n",
        "\n",
        "This notebook contains a few examples for multimodal and image search focussing on the visual representation of Israel and Palestine in the historical press.\n",
        "\n",
        "The main aim of the notebooks is to showcase the API functionalities of the datalab.\n",
        "\n",
        "Key questions:\n",
        "- How can we find maps (or other types of visualisation) of these contested (and historically fluctuating) places, names and borders?\n",
        "- How to combine image and text search?\n",
        "- How can we analyse these outputs at scale and from a multimodal approach?"
      ],
      "metadata": {
        "id": "LnnhNWglqr-D"
      }
    },
    {
      "cell_type": "code",
      "source": [
        "# restart the kernel just in case...\n",
        "import os\n",
        "os.kill(os.getpid(), 9)"
      ],
      "metadata": {
        "id": "dkYTPrvOtDgV"
      },
      "execution_count": null,
      "outputs": []
    },
    {
      "cell_type": "code",
      "source": [
        "from impresso import connect\n",
        "\n",
        "impresso = connect('https://dev.impresso-project.ch/public-api/v1')"
      ],
      "metadata": {
        "id": "ntz7LLnAtqcW"
      },
      "execution_count": null,
      "outputs": []
    },
    {
      "cell_type": "code",
      "execution_count": null,
      "metadata": {
        "id": "NKQHgUwQR8AE"
      },
      "outputs": [],
      "source": [
        "# use a wikipedia image url as starting point\n",
        "image_url = 'https://upload.wikimedia.org/wikipedia/commons/e/e6/Dioecesis_Orientis_400_AD.png'\n",
        "embedding = impresso.tools.embed_image(image=image_url, target=\"image\")\n"
      ]
    },
    {
      "cell_type": "code",
      "source": [
        "# look at images similar to the embedding\n",
        "results = impresso.images.find(\n",
        "  embedding=embedding,\n",
        "  limit=5\n",
        ")"
      ],
      "metadata": {
        "id": "c_o_4WXnuC35"
      },
      "execution_count": null,
      "outputs": []
    },
    {
      "cell_type": "code",
      "source": [
        "results"
      ],
      "metadata": {
        "id": "crS0FAxSWYH8"
      },
      "execution_count": null,
      "outputs": []
    },
    {
      "cell_type": "code",
      "source": [
        "# we can not see the images, but can acccess them in the Impresso webapp\n",
        "# but have to create a link\n",
        "def img_webapp_url(uid):\n",
        "  pre, suf = uid.split('-a-')\n",
        "  return f'https://dev.impresso-project.ch/app/issue/{pre}-a/view?articleId={suf}'"
      ],
      "metadata": {
        "id": "ftUnkUI6Yqv8"
      },
      "execution_count": null,
      "outputs": []
    },
    {
      "cell_type": "code",
      "source": [
        "# add Impresso webapp link\n",
        "df = results.df.copy()\n",
        "df['webapp_url'] = df.contentItemUid.apply(img_webapp_url)"
      ],
      "metadata": {
        "id": "hk9ViiDWTipA"
      },
      "execution_count": null,
      "outputs": []
    },
    {
      "cell_type": "code",
      "source": [
        "df.webapp_url.values"
      ],
      "metadata": {
        "id": "9EYjS635ZmTB"
      },
      "execution_count": null,
      "outputs": []
    },
    {
      "cell_type": "code",
      "source": [
        "# filter results based on the image content type\n",
        "results = impresso.images.find(\n",
        "  content_type=\"Map - Geopolitical\",\n",
        "  embedding=embedding,\n",
        "  limit=5\n",
        ")"
      ],
      "metadata": {
        "id": "x4JRvxJ8eTdc"
      },
      "execution_count": null,
      "outputs": []
    },
    {
      "cell_type": "code",
      "source": [
        "# inspect in Impresso webapp\n",
        "df = results.df.copy()\n",
        "df['webapp_url'] = df.contentItemUid.apply(img_webapp_url)\n",
        "df['webapp_url'].values"
      ],
      "metadata": {
        "id": "dYEOge48eeOC"
      },
      "execution_count": null,
      "outputs": []
    },
    {
      "cell_type": "code",
      "source": [
        "# filter with a date range\n",
        "from impresso import DateRange\n",
        "\n",
        "results = impresso.images.find(\n",
        "  content_type=\"Map - Geopolitical\",\n",
        "  embedding=embedding,\n",
        "  date_range=DateRange(\"1800-01-01\", \"1960-01-01\"),\n",
        "  limit=5\n",
        ")\n",
        "\n",
        "results\n"
      ],
      "metadata": {
        "id": "uTk3Mi8Pfzur"
      },
      "execution_count": null,
      "outputs": []
    },
    {
      "cell_type": "code",
      "source": [
        "# use an images prompt for find geopolitical maps\n",
        "result = impresso.images.find(term=\"Palästina\",content_type=\"Map - Geopolitical\")\n",
        "result"
      ],
      "metadata": {
        "id": "-ypMqR_0dZp9"
      },
      "execution_count": null,
      "outputs": []
    },
    {
      "cell_type": "code",
      "source": [
        "# get the image embeddings\n",
        "image_id = 'tageblatt-1937-07-10-a-i0080'\n",
        "embedding = impresso.images.get_embeddings(image_id)\n",
        "embedding"
      ],
      "metadata": {
        "id": "kGIbdoPfRJaW"
      },
      "execution_count": null,
      "outputs": []
    },
    {
      "cell_type": "code",
      "source": [
        "# use the embedded image to find similar items\n",
        "results = impresso.images.find(\n",
        "  content_type=\"Map - Geopolitical\",\n",
        "  embedding=embedding[0],\n",
        "  date_range=DateRange(\"1800-01-01\", \"1960-01-01\"),\n",
        "  limit=5\n",
        ")"
      ],
      "metadata": {
        "id": "d0o8oOilPQbC"
      },
      "execution_count": null,
      "outputs": []
    },
    {
      "cell_type": "code",
      "source": [
        "results"
      ],
      "metadata": {
        "id": "doUrlXh8WmMz"
      },
      "execution_count": null,
      "outputs": []
    },
    {
      "cell_type": "code",
      "source": [
        "# combined text-to-image search with a date range\n",
        "result = impresso.images.find(term=\"Jerusalem\", date_range=DateRange(\"1900-01-01\", \"1960-01-01\"))\n",
        "result"
      ],
      "metadata": {
        "id": "S6JZLEOkW2D_"
      },
      "execution_count": null,
      "outputs": []
    },
    {
      "cell_type": "code",
      "source": [
        "results.df['imageTypes.visualContent']"
      ],
      "metadata": {
        "id": "PXXvWtsnjD3t"
      },
      "execution_count": null,
      "outputs": []
    },
    {
      "cell_type": "code",
      "source": [
        "# trying to find other representations\n",
        "result = impresso.images.find(term=\"Jerusalem\",\n",
        "                             date_range=DateRange(\"1900-01-01\", \"1960-01-01\"),\n",
        "                             content_type=OR('Scenery or Landscape','Human representations - Scene'))\n",
        "result"
      ],
      "metadata": {
        "id": "-TpnvXubivZu"
      },
      "execution_count": null,
      "outputs": []
    },
    {
      "cell_type": "markdown",
      "source": [
        "# Fin."
      ],
      "metadata": {
        "id": "8Pb1iXhPvUp1"
      }
    },
    {
      "cell_type": "code",
      "source": [],
      "metadata": {
        "id": "UO0_rHdfkopA"
      },
      "execution_count": null,
      "outputs": []
    }
  ]
}