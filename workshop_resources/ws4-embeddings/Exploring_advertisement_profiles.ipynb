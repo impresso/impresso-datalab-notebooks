{
 "cells": [
  {
   "metadata": {},
   "cell_type": "markdown",
   "source": "# Exploring Advertisement Profiles",
   "id": "65d0613e76459dd5"
  },
  {
   "metadata": {
    "ExecuteTime": {
     "end_time": "2025-10-30T14:44:38.703951Z",
     "start_time": "2025-10-30T14:44:35.575900Z"
    }
   },
   "cell_type": "code",
   "source": [
    "import pandas as pd\n",
    "!pip install -qqq git+https://github.com/impresso/impresso-py.git@embeddings-search"
   ],
   "id": "cb89603b4206f94e",
   "outputs": [],
   "execution_count": 11
  },
  {
   "metadata": {
    "ExecuteTime": {
     "end_time": "2025-10-30T14:44:56.158749Z",
     "start_time": "2025-10-30T14:44:55.111998Z"
    }
   },
   "cell_type": "code",
   "source": [
    "from impresso import connect\n",
    "\n",
    "impresso_session = connect('https://dev.impresso-project.ch/public-api/v1')"
   ],
   "id": "a5942cf69822e1f9",
   "outputs": [
    {
     "name": "stdout",
     "output_type": "stream",
     "text": [
      "🎉 You are now connected to the Impresso API!  🎉\n",
      "🔗 Using API: https://dev.impresso-project.ch/public-api/v1\n"
     ]
    }
   ],
   "execution_count": 1
  },
  {
   "metadata": {},
   "cell_type": "markdown",
   "source": "## 1. Linking within - looking up Impresso data in Impresso embedding spaces",
   "id": "5eb2349e29f19309"
  },
  {
   "metadata": {},
   "cell_type": "markdown",
   "source": "#### Getting similar text advertisements from Impresso text embedding space",
   "id": "c32fd01f9f386abe"
  },
  {
   "metadata": {
    "ExecuteTime": {
     "end_time": "2025-10-30T14:44:58.257541Z",
     "start_time": "2025-10-30T14:44:58.255382Z"
    }
   },
   "cell_type": "code",
   "source": [
    "# Our starting content item ids (articles)\n",
    "aspirin_text_ci_ids = []\n",
    "schweppes_text_ci_ids = [\"FZG-2005-03-19-a-i0079\", \"EXP-1968-05-24-a-i0241\" ]\n",
    "media_text_ci_ids = []\n",
    "medads_text_ci_ids = []"
   ],
   "id": "7eaf391f7cf947a7",
   "outputs": [],
   "execution_count": 2
  },
  {
   "metadata": {},
   "cell_type": "markdown",
   "source": "We loop over each id and retrieve the 5 top similar",
   "id": "6455619362e95034"
  },
  {
   "metadata": {
    "ExecuteTime": {
     "end_time": "2025-10-30T14:59:08.348653Z",
     "start_time": "2025-10-30T14:59:07.973696Z"
    }
   },
   "cell_type": "code",
   "source": [
    "import pandas as pd\n",
    "df = pd.DataFrame()\n",
    "for ci_id in schweppes_text_ci_ids:\n",
    "    original_embedding = impresso_session.content_items.get_embeddings(ci_id)\n",
    "    if original_embedding is not None and len(original_embedding) != 0:\n",
    "        similar_top_5 = impresso_session.search.find(\n",
    "            embedding=original_embedding[0],\n",
    "            limit=5\n",
    "         )\n",
    "        df = pd.concat([df, similar_top_5.df])\n",
    "df\n",
    "#print(f\"Similar content items for {ci_id} (Aspirin): {}\")"
   ],
   "id": "a432b4341a11a4d1",
   "outputs": [
    {
     "data": {
      "text/plain": [
       "                       copyrightStatus type sourceMedium  \\\n",
       "uid                                                        \n",
       "IMP-1973-07-13-a-i0105          in_cpy   ar        print   \n",
       "IMP-1970-07-15-a-i0024          in_cpy   ar        print   \n",
       "EXP-2008-11-25-a-i0279          in_cpy   ar        print   \n",
       "IMP-1963-07-18-a-i0146          in_cpy   ar        print   \n",
       "IMP-2008-11-25-a-i0264          in_cpy   ar        print   \n",
       "\n",
       "                                                                   title  \\\n",
       "uid                                                                        \n",
       "IMP-1973-07-13-a-i0105  Soif = besoin d'eau = besoin de saison chaude...   \n",
       "IMP-1970-07-15-a-i0024                                       Vive l'eau!   \n",
       "EXP-2008-11-25-a-i0279                   Fontaine, je boirai de ton eau!   \n",
       "IMP-1963-07-18-a-i0146                                          DIVERS I   \n",
       "IMP-2008-11-25-a-i0264                   Fontaine, je boirai de ton eau!   \n",
       "\n",
       "                       locationEntities personEntities organisationEntities  \\\n",
       "uid                                                                           \n",
       "IMP-1973-07-13-a-i0105               []             []                   []   \n",
       "IMP-1970-07-15-a-i0024               []             []                   []   \n",
       "EXP-2008-11-25-a-i0279               []             []                   []   \n",
       "IMP-1963-07-18-a-i0146               []             []                   []   \n",
       "IMP-2008-11-25-a-i0264               []             []                   []   \n",
       "\n",
       "                       newsAgenciesEntities  \\\n",
       "uid                                           \n",
       "IMP-1973-07-13-a-i0105                   []   \n",
       "IMP-1970-07-15-a-i0024                   []   \n",
       "EXP-2008-11-25-a-i0279                   []   \n",
       "IMP-1963-07-18-a-i0146                   []   \n",
       "IMP-2008-11-25-a-i0264                   []   \n",
       "\n",
       "                                                                   topics  \\\n",
       "uid                                                                         \n",
       "IMP-1973-07-13-a-i0105  [{'uid': 'tm-fr-all-v2.0_tp43_fr', 'relevance'...   \n",
       "IMP-1970-07-15-a-i0024  [{'uid': 'tm-fr-all-v2.0_tp36_fr', 'relevance'...   \n",
       "EXP-2008-11-25-a-i0279  [{'uid': 'tm-fr-all-v2.0_tp17_fr', 'relevance'...   \n",
       "IMP-1963-07-18-a-i0146  [{'uid': 'tm-fr-all-v2.0_tp43_fr', 'relevance'...   \n",
       "IMP-2008-11-25-a-i0264  [{'uid': 'tm-fr-all-v2.0_tp17_fr', 'relevance'...   \n",
       "\n",
       "                        transcriptLength  totalPages languageCode  \\\n",
       "uid                                                                 \n",
       "IMP-1973-07-13-a-i0105               476           1           fr   \n",
       "IMP-1970-07-15-a-i0024               319           1           fr   \n",
       "EXP-2008-11-25-a-i0279               165           1           fr   \n",
       "IMP-1963-07-18-a-i0146               232           1           fr   \n",
       "IMP-2008-11-25-a-i0264               166           1           fr   \n",
       "\n",
       "                        isOnFrontPage            publicationDate  \\\n",
       "uid                                                                \n",
       "IMP-1973-07-13-a-i0105          False  1973-07-13T00:00:00+00:00   \n",
       "IMP-1970-07-15-a-i0024          False  1970-07-15T00:00:00+00:00   \n",
       "EXP-2008-11-25-a-i0279          False  2008-11-25T00:00:00+00:00   \n",
       "IMP-1963-07-18-a-i0146          False  1963-07-18T00:00:00+00:00   \n",
       "IMP-2008-11-25-a-i0264          False  2008-11-25T00:00:00+00:00   \n",
       "\n",
       "                                issueUid countryCode providerCode mediaUid  \\\n",
       "uid                                                                          \n",
       "IMP-1973-07-13-a-i0105  IMP-1973-07-13-a          CH          SNL      IMP   \n",
       "IMP-1970-07-15-a-i0024  IMP-1970-07-15-a          CH          SNL      IMP   \n",
       "EXP-2008-11-25-a-i0279  EXP-2008-11-25-a          CH          SNL      EXP   \n",
       "IMP-1963-07-18-a-i0146  IMP-1963-07-18-a          CH          SNL      IMP   \n",
       "IMP-2008-11-25-a-i0264  IMP-2008-11-25-a          CH          SNL      IMP   \n",
       "\n",
       "                        mediaType  \n",
       "uid                                \n",
       "IMP-1973-07-13-a-i0105  newspaper  \n",
       "IMP-1970-07-15-a-i0024  newspaper  \n",
       "EXP-2008-11-25-a-i0279  newspaper  \n",
       "IMP-1963-07-18-a-i0146  newspaper  \n",
       "IMP-2008-11-25-a-i0264  newspaper  "
      ],
      "text/html": [
       "<div>\n",
       "<style scoped>\n",
       "    .dataframe tbody tr th:only-of-type {\n",
       "        vertical-align: middle;\n",
       "    }\n",
       "\n",
       "    .dataframe tbody tr th {\n",
       "        vertical-align: top;\n",
       "    }\n",
       "\n",
       "    .dataframe thead th {\n",
       "        text-align: right;\n",
       "    }\n",
       "</style>\n",
       "<table border=\"1\" class=\"dataframe\">\n",
       "  <thead>\n",
       "    <tr style=\"text-align: right;\">\n",
       "      <th></th>\n",
       "      <th>copyrightStatus</th>\n",
       "      <th>type</th>\n",
       "      <th>sourceMedium</th>\n",
       "      <th>title</th>\n",
       "      <th>locationEntities</th>\n",
       "      <th>personEntities</th>\n",
       "      <th>organisationEntities</th>\n",
       "      <th>newsAgenciesEntities</th>\n",
       "      <th>topics</th>\n",
       "      <th>transcriptLength</th>\n",
       "      <th>totalPages</th>\n",
       "      <th>languageCode</th>\n",
       "      <th>isOnFrontPage</th>\n",
       "      <th>publicationDate</th>\n",
       "      <th>issueUid</th>\n",
       "      <th>countryCode</th>\n",
       "      <th>providerCode</th>\n",
       "      <th>mediaUid</th>\n",
       "      <th>mediaType</th>\n",
       "    </tr>\n",
       "    <tr>\n",
       "      <th>uid</th>\n",
       "      <th></th>\n",
       "      <th></th>\n",
       "      <th></th>\n",
       "      <th></th>\n",
       "      <th></th>\n",
       "      <th></th>\n",
       "      <th></th>\n",
       "      <th></th>\n",
       "      <th></th>\n",
       "      <th></th>\n",
       "      <th></th>\n",
       "      <th></th>\n",
       "      <th></th>\n",
       "      <th></th>\n",
       "      <th></th>\n",
       "      <th></th>\n",
       "      <th></th>\n",
       "      <th></th>\n",
       "      <th></th>\n",
       "    </tr>\n",
       "  </thead>\n",
       "  <tbody>\n",
       "    <tr>\n",
       "      <th>IMP-1973-07-13-a-i0105</th>\n",
       "      <td>in_cpy</td>\n",
       "      <td>ar</td>\n",
       "      <td>print</td>\n",
       "      <td>Soif = besoin d'eau = besoin de saison chaude...</td>\n",
       "      <td>[]</td>\n",
       "      <td>[]</td>\n",
       "      <td>[]</td>\n",
       "      <td>[]</td>\n",
       "      <td>[{'uid': 'tm-fr-all-v2.0_tp43_fr', 'relevance'...</td>\n",
       "      <td>476</td>\n",
       "      <td>1</td>\n",
       "      <td>fr</td>\n",
       "      <td>False</td>\n",
       "      <td>1973-07-13T00:00:00+00:00</td>\n",
       "      <td>IMP-1973-07-13-a</td>\n",
       "      <td>CH</td>\n",
       "      <td>SNL</td>\n",
       "      <td>IMP</td>\n",
       "      <td>newspaper</td>\n",
       "    </tr>\n",
       "    <tr>\n",
       "      <th>IMP-1970-07-15-a-i0024</th>\n",
       "      <td>in_cpy</td>\n",
       "      <td>ar</td>\n",
       "      <td>print</td>\n",
       "      <td>Vive l'eau!</td>\n",
       "      <td>[]</td>\n",
       "      <td>[]</td>\n",
       "      <td>[]</td>\n",
       "      <td>[]</td>\n",
       "      <td>[{'uid': 'tm-fr-all-v2.0_tp36_fr', 'relevance'...</td>\n",
       "      <td>319</td>\n",
       "      <td>1</td>\n",
       "      <td>fr</td>\n",
       "      <td>False</td>\n",
       "      <td>1970-07-15T00:00:00+00:00</td>\n",
       "      <td>IMP-1970-07-15-a</td>\n",
       "      <td>CH</td>\n",
       "      <td>SNL</td>\n",
       "      <td>IMP</td>\n",
       "      <td>newspaper</td>\n",
       "    </tr>\n",
       "    <tr>\n",
       "      <th>EXP-2008-11-25-a-i0279</th>\n",
       "      <td>in_cpy</td>\n",
       "      <td>ar</td>\n",
       "      <td>print</td>\n",
       "      <td>Fontaine, je boirai de ton eau!</td>\n",
       "      <td>[]</td>\n",
       "      <td>[]</td>\n",
       "      <td>[]</td>\n",
       "      <td>[]</td>\n",
       "      <td>[{'uid': 'tm-fr-all-v2.0_tp17_fr', 'relevance'...</td>\n",
       "      <td>165</td>\n",
       "      <td>1</td>\n",
       "      <td>fr</td>\n",
       "      <td>False</td>\n",
       "      <td>2008-11-25T00:00:00+00:00</td>\n",
       "      <td>EXP-2008-11-25-a</td>\n",
       "      <td>CH</td>\n",
       "      <td>SNL</td>\n",
       "      <td>EXP</td>\n",
       "      <td>newspaper</td>\n",
       "    </tr>\n",
       "    <tr>\n",
       "      <th>IMP-1963-07-18-a-i0146</th>\n",
       "      <td>in_cpy</td>\n",
       "      <td>ar</td>\n",
       "      <td>print</td>\n",
       "      <td>DIVERS I</td>\n",
       "      <td>[]</td>\n",
       "      <td>[]</td>\n",
       "      <td>[]</td>\n",
       "      <td>[]</td>\n",
       "      <td>[{'uid': 'tm-fr-all-v2.0_tp43_fr', 'relevance'...</td>\n",
       "      <td>232</td>\n",
       "      <td>1</td>\n",
       "      <td>fr</td>\n",
       "      <td>False</td>\n",
       "      <td>1963-07-18T00:00:00+00:00</td>\n",
       "      <td>IMP-1963-07-18-a</td>\n",
       "      <td>CH</td>\n",
       "      <td>SNL</td>\n",
       "      <td>IMP</td>\n",
       "      <td>newspaper</td>\n",
       "    </tr>\n",
       "    <tr>\n",
       "      <th>IMP-2008-11-25-a-i0264</th>\n",
       "      <td>in_cpy</td>\n",
       "      <td>ar</td>\n",
       "      <td>print</td>\n",
       "      <td>Fontaine, je boirai de ton eau!</td>\n",
       "      <td>[]</td>\n",
       "      <td>[]</td>\n",
       "      <td>[]</td>\n",
       "      <td>[]</td>\n",
       "      <td>[{'uid': 'tm-fr-all-v2.0_tp17_fr', 'relevance'...</td>\n",
       "      <td>166</td>\n",
       "      <td>1</td>\n",
       "      <td>fr</td>\n",
       "      <td>False</td>\n",
       "      <td>2008-11-25T00:00:00+00:00</td>\n",
       "      <td>IMP-2008-11-25-a</td>\n",
       "      <td>CH</td>\n",
       "      <td>SNL</td>\n",
       "      <td>IMP</td>\n",
       "      <td>newspaper</td>\n",
       "    </tr>\n",
       "  </tbody>\n",
       "</table>\n",
       "</div>"
      ]
     },
     "execution_count": 17,
     "metadata": {},
     "output_type": "execute_result"
    }
   ],
   "execution_count": 17
  },
  {
   "metadata": {},
   "cell_type": "markdown",
   "source": "#### Getting similar image advertisements from Impresso image-visual embedding space",
   "id": "a7893ca92299a45b"
  },
  {
   "metadata": {
    "ExecuteTime": {
     "end_time": "2025-10-30T14:43:46.881398Z",
     "start_time": "2025-10-30T14:10:32.086738Z"
    }
   },
   "cell_type": "code",
   "source": [
    "# Our starting advertisement ids (images)\n",
    "aspirin_img_ci_ids = []\n",
    "schweppes_img_ci_ids = []\n",
    "media_img_ci_ids = []\n",
    "medads_img_ci_ids = []\n"
   ],
   "id": "13ace4be1db16402",
   "outputs": [],
   "execution_count": 3
  },
  {
   "metadata": {},
   "cell_type": "markdown",
   "source": "We loop over each id and retrieve the 5 top similar",
   "id": "7c219a3ffa7b1ea3"
  },
  {
   "metadata": {},
   "cell_type": "code",
   "outputs": [],
   "execution_count": null,
   "source": [
    "#code\n",
    "for ci_id in aspirin_text_ci_ids:\n",
    " ....\n",
    "    print(f\"Similar content items for {ci_id} (Aspirin): {similar_cis}\")"
   ],
   "id": "4002447a9648a642"
  },
  {
   "metadata": {},
   "cell_type": "markdown",
   "source": "## 2. Searching image-text embeddings with key words or phrases or more",
   "id": "dcc4c15320b68e30"
  },
  {
   "metadata": {
    "ExecuteTime": {
     "end_time": "2025-10-30T14:43:43.918871Z",
     "start_time": "2025-10-30T14:23:25.918963Z"
    }
   },
   "cell_type": "code",
   "source": "## Searching image-text embeddings with key words or phrases or more",
   "id": "ec54ba3e19600fe0",
   "outputs": [],
   "execution_count": 1
  },
  {
   "metadata": {},
   "cell_type": "code",
   "outputs": [],
   "execution_count": null,
   "source": "",
   "id": "bc37547ecadbfe60"
  },
  {
   "metadata": {},
   "cell_type": "markdown",
   "source": "## 3. Linking within  - looking up external data in Impresso embedding spaces",
   "id": "5b7ed5fe7a173dc9"
  },
  {
   "metadata": {
    "ExecuteTime": {
     "end_time": "2025-10-30T14:43:43.919847Z",
     "start_time": "2025-10-30T14:24:22.628916Z"
    }
   },
   "cell_type": "code",
   "source": "## Searchhing text embeddings with external text",
   "id": "1b706d5aeb3d8167",
   "outputs": [],
   "execution_count": 2
  },
  {
   "metadata": {},
   "cell_type": "markdown",
   "source": "",
   "id": "4266f3e23f06d3fa"
  },
  {
   "metadata": {},
   "cell_type": "markdown",
   "source": "### Searching text embeddings with external text",
   "id": "f646318770b1d1ca"
  },
  {
   "metadata": {},
   "cell_type": "code",
   "outputs": [],
   "execution_count": null,
   "source": "",
   "id": "92697cf04ba687fb"
  },
  {
   "metadata": {},
   "cell_type": "markdown",
   "source": "### Searching image embeddings with external images",
   "id": "83e6ad1f6762f886"
  },
  {
   "metadata": {},
   "cell_type": "code",
   "outputs": [],
   "execution_count": null,
   "source": "",
   "id": "a8d20c4d6d09eed1"
  },
  {
   "metadata": {},
   "cell_type": "markdown",
   "source": "### Searching image embeddings with typical image we draw",
   "id": "4dffe234c5c352d"
  },
  {
   "metadata": {},
   "cell_type": "code",
   "outputs": [],
   "execution_count": null,
   "source": "",
   "id": "7af31925ba4a690e"
  }
 ],
 "metadata": {
  "kernelspec": {
   "display_name": "Python 3",
   "language": "python",
   "name": "python3"
  },
  "language_info": {
   "codemirror_mode": {
    "name": "ipython",
    "version": 2
   },
   "file_extension": ".py",
   "mimetype": "text/x-python",
   "name": "python",
   "nbconvert_exporter": "python",
   "pygments_lexer": "ipython2",
   "version": "2.7.6"
  }
 },
 "nbformat": 4,
 "nbformat_minor": 5
}
