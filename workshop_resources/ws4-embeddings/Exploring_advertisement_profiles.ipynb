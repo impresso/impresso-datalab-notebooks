{
 "cells": [
  {
   "metadata": {},
   "cell_type": "markdown",
   "source": "# Exploring Advertisement Profiles",
   "id": "65d0613e76459dd5"
  },
  {
   "metadata": {},
   "cell_type": "markdown",
   "source": "## Linking within - looking up Impresso data in Impresso embedding spaces",
   "id": "5eb2349e29f19309"
  },
  {
   "metadata": {},
   "cell_type": "markdown",
   "source": "#### Getting similar text advertisements from Impresso text embedding space",
   "id": "c32fd01f9f386abe"
  },
  {
   "metadata": {
    "ExecuteTime": {
     "end_time": "2025-10-30T14:08:18.491718Z",
     "start_time": "2025-10-30T14:08:18.483673Z"
    }
   },
   "cell_type": "code",
   "source": [
    "# Our starting content item ids (articles)\n",
    "aspirin_text_ci_ids = []\n",
    "schweppes_text_ci_ids = []\n",
    "media_text_ci_ids = []\n",
    "medads_text_ci_ids = []"
   ],
   "id": "7eaf391f7cf947a7",
   "outputs": [],
   "execution_count": 2
  },
  {
   "metadata": {},
   "cell_type": "markdown",
   "source": "We loop over each id and retrieve the 5 top similar",
   "id": "6455619362e95034"
  },
  {
   "metadata": {},
   "cell_type": "code",
   "outputs": [],
   "execution_count": null,
   "source": [
    "#code\n",
    "for ci_id in aspirin_text_ci_ids:\n",
    " ....\n",
    "    print(f\"Similar content items for {ci_id} (Aspirin): {similar_cis}\")"
   ],
   "id": "a432b4341a11a4d1"
  },
  {
   "metadata": {},
   "cell_type": "markdown",
   "source": "#### Getting similar image advertisements from Impresso image-visual embedding space",
   "id": "a7893ca92299a45b"
  },
  {
   "metadata": {
    "ExecuteTime": {
     "end_time": "2025-10-30T14:10:32.095713Z",
     "start_time": "2025-10-30T14:10:32.086738Z"
    }
   },
   "cell_type": "code",
   "source": [
    "# Our starting advertisement ids (images)\n",
    "aspirin_img_ci_ids = []\n",
    "schweppes_img_ci_ids = []\n",
    "media_img_ci_ids = []\n",
    "medads_img_ci_ids = []\n"
   ],
   "id": "13ace4be1db16402",
   "outputs": [],
   "execution_count": 3
  },
  {
   "metadata": {},
   "cell_type": "markdown",
   "source": "We loop over each id and retrieve the 5 top similar",
   "id": "7c219a3ffa7b1ea3"
  },
  {
   "metadata": {},
   "cell_type": "code",
   "outputs": [],
   "execution_count": null,
   "source": [
    "#code\n",
    "for ci_id in aspirin_text_ci_ids:\n",
    " ....\n",
    "    print(f\"Similar content items for {ci_id} (Aspirin): {similar_cis}\")"
   ],
   "id": "4002447a9648a642"
  }
 ],
 "metadata": {
  "kernelspec": {
   "display_name": "Python 3",
   "language": "python",
   "name": "python3"
  },
  "language_info": {
   "codemirror_mode": {
    "name": "ipython",
    "version": 2
   },
   "file_extension": ".py",
   "mimetype": "text/x-python",
   "name": "python",
   "nbconvert_exporter": "python",
   "pygments_lexer": "ipython2",
   "version": "2.7.6"
  }
 },
 "nbformat": 4,
 "nbformat_minor": 5
}
