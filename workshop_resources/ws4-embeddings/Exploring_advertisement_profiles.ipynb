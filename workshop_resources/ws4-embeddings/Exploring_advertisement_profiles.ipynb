{
 "cells": [
  {
   "metadata": {},
   "cell_type": "markdown",
   "source": "# Exploring Advertisement Profiles",
   "id": "65d0613e76459dd5"
  },
  {
   "metadata": {},
   "cell_type": "markdown",
   "source": "## 1. Linking within - looking up Impresso data in Impresso embedding spaces",
   "id": "5eb2349e29f19309"
  },
  {
   "metadata": {},
   "cell_type": "markdown",
   "source": "#### Getting similar text advertisements from Impresso text embedding space",
   "id": "c32fd01f9f386abe"
  },
  {
   "metadata": {
    "ExecuteTime": {
     "end_time": "2025-10-30T14:08:18.491718Z",
     "start_time": "2025-10-30T14:08:18.483673Z"
    }
   },
   "cell_type": "code",
   "source": [
    "# Our starting content item ids (articles)\n",
    "aspirin_text_ci_ids = []\n",
    "schweppes_text_ci_ids = []\n",
    "media_text_ci_ids = []\n",
    "medads_text_ci_ids = []"
   ],
   "id": "7eaf391f7cf947a7",
   "outputs": [],
   "execution_count": 2
  },
  {
   "metadata": {},
   "cell_type": "markdown",
   "source": "We loop over each id and retrieve the 5 top similar",
   "id": "6455619362e95034"
  },
  {
   "metadata": {},
   "cell_type": "code",
   "outputs": [],
   "execution_count": null,
   "source": [
    "#code\n",
    "for ci_id in aspirin_text_ci_ids:\n",
    " ....\n",
    "    print(f\"Similar content items for {ci_id} (Aspirin): {similar_cis}\")"
   ],
   "id": "a432b4341a11a4d1"
  },
  {
   "metadata": {},
   "cell_type": "markdown",
   "source": "#### Getting similar image advertisements from Impresso image-visual embedding space",
   "id": "a7893ca92299a45b"
  },
  {
   "metadata": {
    "ExecuteTime": {
     "end_time": "2025-10-30T14:10:32.095713Z",
     "start_time": "2025-10-30T14:10:32.086738Z"
    }
   },
   "cell_type": "code",
   "source": [
    "# Our starting advertisement ids (images)\n",
    "aspirin_img_ci_ids = []\n",
    "schweppes_img_ci_ids = []\n",
    "media_img_ci_ids = []\n",
    "medads_img_ci_ids = []\n"
   ],
   "id": "13ace4be1db16402",
   "outputs": [],
   "execution_count": 3
  },
  {
   "metadata": {},
   "cell_type": "markdown",
   "source": "We loop over each id and retrieve the 5 top similar",
   "id": "7c219a3ffa7b1ea3"
  },
  {
   "metadata": {},
   "cell_type": "code",
   "outputs": [],
   "execution_count": null,
   "source": [
    "#code\n",
    "for ci_id in aspirin_text_ci_ids:\n",
    " ....\n",
    "    print(f\"Similar content items for {ci_id} (Aspirin): {similar_cis}\")"
   ],
   "id": "4002447a9648a642"
  },
  {
   "metadata": {},
   "cell_type": "markdown",
   "source": "## 2. Searching image-text embeddings with key words or phrases or more",
   "id": "dcc4c15320b68e30"
  },
  {
   "metadata": {
    "ExecuteTime": {
     "end_time": "2025-10-30T14:23:25.921895Z",
     "start_time": "2025-10-30T14:23:25.918963Z"
    }
   },
   "cell_type": "code",
   "source": "## Searching image-text embeddings with key words or phrases or more",
   "id": "ec54ba3e19600fe0",
   "outputs": [],
   "execution_count": 1
  },
  {
   "metadata": {},
   "cell_type": "code",
   "outputs": [],
   "execution_count": null,
   "source": "",
   "id": "bc37547ecadbfe60"
  },
  {
   "metadata": {},
   "cell_type": "markdown",
   "source": "## 3. Linking within  - looking up external data in Impresso embedding spaces",
   "id": "5b7ed5fe7a173dc9"
  },
  {
   "metadata": {
    "ExecuteTime": {
     "end_time": "2025-10-30T14:24:22.645083Z",
     "start_time": "2025-10-30T14:24:22.628916Z"
    }
   },
   "cell_type": "code",
   "source": "## Searchhing text embeddings with external text",
   "id": "1b706d5aeb3d8167",
   "outputs": [],
   "execution_count": 2
  },
  {
   "metadata": {},
   "cell_type": "markdown",
   "source": "",
   "id": "4266f3e23f06d3fa"
  },
  {
   "metadata": {},
   "cell_type": "markdown",
   "source": "### Searching text embeddings with external text",
   "id": "f646318770b1d1ca"
  },
  {
   "metadata": {},
   "cell_type": "code",
   "outputs": [],
   "execution_count": null,
   "source": "",
   "id": "92697cf04ba687fb"
  },
  {
   "metadata": {},
   "cell_type": "markdown",
   "source": "### Searching image embeddings with external images",
   "id": "83e6ad1f6762f886"
  },
  {
   "metadata": {},
   "cell_type": "code",
   "outputs": [],
   "execution_count": null,
   "source": "",
   "id": "a8d20c4d6d09eed1"
  },
  {
   "metadata": {},
   "cell_type": "markdown",
   "source": "### Searching image embeddings with typical image we draw",
   "id": "4dffe234c5c352d"
  },
  {
   "metadata": {},
   "cell_type": "code",
   "outputs": [],
   "execution_count": null,
   "source": "",
   "id": "7af31925ba4a690e"
  }
 ],
 "metadata": {
  "kernelspec": {
   "display_name": "Python 3",
   "language": "python",
   "name": "python3"
  },
  "language_info": {
   "codemirror_mode": {
    "name": "ipython",
    "version": 2
   },
   "file_extension": ".py",
   "mimetype": "text/x-python",
   "name": "python",
   "nbconvert_exporter": "python",
   "pygments_lexer": "ipython2",
   "version": "2.7.6"
  }
 },
 "nbformat": 4,
 "nbformat_minor": 5
}
