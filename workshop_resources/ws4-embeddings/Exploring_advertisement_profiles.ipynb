{
 "cells": [
  {
   "metadata": {},
   "cell_type": "markdown",
   "source": "# Exploring Advertisement Profiles",
   "id": "65d0613e76459dd5"
  },
  {
   "metadata": {
    "ExecuteTime": {
     "end_time": "2025-10-30T14:44:38.703951Z",
     "start_time": "2025-10-30T14:44:35.575900Z"
    }
   },
   "cell_type": "code",
   "source": [
    "import pandas as pd\n",
    "!pip install -qqq git+https://github.com/impresso/impresso-py.git@embeddings-search"
   ],
   "id": "cb89603b4206f94e",
   "outputs": [],
   "execution_count": 11
  },
  {
   "metadata": {
    "ExecuteTime": {
     "end_time": "2025-10-30T14:44:56.158749Z",
     "start_time": "2025-10-30T14:44:55.111998Z"
    }
   },
   "cell_type": "code",
   "source": [
    "from impresso import connect\n",
    "\n",
    "impresso_session = connect('https://dev.impresso-project.ch/public-api/v1')"
   ],
   "id": "a5942cf69822e1f9",
   "outputs": [
    {
     "name": "stdout",
     "output_type": "stream",
     "text": [
      "🎉 You are now connected to the Impresso API!  🎉\n",
      "🔗 Using API: https://dev.impresso-project.ch/public-api/v1\n"
     ]
    }
   ],
   "execution_count": 1
  },
  {
   "metadata": {},
   "cell_type": "markdown",
   "source": "## 1. Linking within - looking up Impresso data in Impresso embedding spaces",
   "id": "5eb2349e29f19309"
  },
  {
   "metadata": {},
   "cell_type": "markdown",
   "source": "#### Getting similar text advertisements from Impresso text embedding space",
   "id": "c32fd01f9f386abe"
  },
  {
   "metadata": {
    "ExecuteTime": {
     "end_time": "2025-10-30T15:06:05.659997Z",
     "start_time": "2025-10-30T15:06:05.653656Z"
    }
   },
   "cell_type": "code",
   "source": [
    "# Our starting content item ids (articles)\n",
    "aspirin_text_ci_ids = []\n",
    "schweppes_text_ci_ids = [\"FZG-2005-03-19-a-i0079\", \"EXP-1968-05-24-a-i0241\" ]\n",
    "media_text_ci_ids = [\"GDL-1944-11-04-a-i0084\", \"EXP-1930-11-22-a-i0090\"]\n",
    "medads_text_ci_ids = []"
   ],
   "id": "7eaf391f7cf947a7",
   "outputs": [],
   "execution_count": 20
  },
  {
   "metadata": {},
   "cell_type": "markdown",
   "source": "We loop over each id and retrieve the 5 top similar",
   "id": "6455619362e95034"
  },
  {
   "metadata": {
    "ExecuteTime": {
     "end_time": "2025-10-30T15:06:45.623215Z",
     "start_time": "2025-10-30T15:06:45.397728Z"
    }
   },
   "cell_type": "code",
   "source": [
    "import pandas as pd\n",
    "df = pd.DataFrame()\n",
    "for ci_id in media_text_ci_ids:\n",
    "    print(ci_id)\n",
    "    original_embedding = impresso_session.content_items.get_embeddings(ci_id)\n",
    "    if original_embedding is not None and len(original_embedding) != 0:\n",
    "        similar_top_5 = impresso_session.search.find(\n",
    "            embedding=original_embedding[0],\n",
    "            limit=5\n",
    "         )\n",
    "        df = pd.concat([df, similar_top_5.df])\n",
    "df\n",
    "#print(f\"Similar content items for {ci_id} (Aspirin): {}\")"
   ],
   "id": "a432b4341a11a4d1",
   "outputs": [
    {
     "name": "stdout",
     "output_type": "stream",
     "text": [
      "GDL-1944-11-04-a-i0084\n",
      "EXP-1930-11-22-a-i0090\n"
     ]
    },
    {
     "data": {
      "text/plain": [
       "Empty DataFrame\n",
       "Columns: []\n",
       "Index: []"
      ],
      "text/html": [
       "<div>\n",
       "<style scoped>\n",
       "    .dataframe tbody tr th:only-of-type {\n",
       "        vertical-align: middle;\n",
       "    }\n",
       "\n",
       "    .dataframe tbody tr th {\n",
       "        vertical-align: top;\n",
       "    }\n",
       "\n",
       "    .dataframe thead th {\n",
       "        text-align: right;\n",
       "    }\n",
       "</style>\n",
       "<table border=\"1\" class=\"dataframe\">\n",
       "  <thead>\n",
       "    <tr style=\"text-align: right;\">\n",
       "      <th></th>\n",
       "    </tr>\n",
       "  </thead>\n",
       "  <tbody>\n",
       "  </tbody>\n",
       "</table>\n",
       "</div>"
      ]
     },
     "execution_count": 22,
     "metadata": {},
     "output_type": "execute_result"
    }
   ],
   "execution_count": 22
  },
  {
   "metadata": {},
   "cell_type": "markdown",
   "source": "#### Getting similar image advertisements from Impresso image-visual embedding space",
   "id": "a7893ca92299a45b"
  },
  {
   "metadata": {
    "ExecuteTime": {
     "end_time": "2025-10-30T14:43:46.881398Z",
     "start_time": "2025-10-30T14:10:32.086738Z"
    }
   },
   "cell_type": "code",
   "source": [
    "# Our starting advertisement ids (images)\n",
    "aspirin_img_ci_ids = []\n",
    "schweppes_img_ci_ids = []\n",
    "media_img_ci_ids = []\n",
    "medads_img_ci_ids = []\n"
   ],
   "id": "13ace4be1db16402",
   "outputs": [],
   "execution_count": 3
  },
  {
   "metadata": {},
   "cell_type": "markdown",
   "source": "We loop over each id and retrieve the 5 top similar",
   "id": "7c219a3ffa7b1ea3"
  },
  {
   "metadata": {},
   "cell_type": "code",
   "outputs": [],
   "execution_count": null,
   "source": [
    "#code\n",
    "for ci_id in aspirin_text_ci_ids:\n",
    " ....\n",
    "    print(f\"Similar content items for {ci_id} (Aspirin): {similar_cis}\")"
   ],
   "id": "4002447a9648a642"
  },
  {
   "metadata": {},
   "cell_type": "markdown",
   "source": "## 2. Searching image-text embeddings with key words or phrases or more",
   "id": "dcc4c15320b68e30"
  },
  {
   "metadata": {
    "ExecuteTime": {
     "end_time": "2025-10-30T14:43:43.918871Z",
     "start_time": "2025-10-30T14:23:25.918963Z"
    }
   },
   "cell_type": "code",
   "source": "## Searching image-text embeddings with key words or phrases or more",
   "id": "ec54ba3e19600fe0",
   "outputs": [],
   "execution_count": 1
  },
  {
   "metadata": {},
   "cell_type": "code",
   "outputs": [],
   "execution_count": null,
   "source": "",
   "id": "bc37547ecadbfe60"
  },
  {
   "metadata": {},
   "cell_type": "markdown",
   "source": "## 3. Linking within  - looking up external data in Impresso embedding spaces",
   "id": "5b7ed5fe7a173dc9"
  },
  {
   "metadata": {
    "ExecuteTime": {
     "end_time": "2025-10-30T14:43:43.919847Z",
     "start_time": "2025-10-30T14:24:22.628916Z"
    }
   },
   "cell_type": "code",
   "source": "## Searchhing text embeddings with external text",
   "id": "1b706d5aeb3d8167",
   "outputs": [],
   "execution_count": 2
  },
  {
   "metadata": {},
   "cell_type": "markdown",
   "source": "",
   "id": "4266f3e23f06d3fa"
  },
  {
   "metadata": {},
   "cell_type": "markdown",
   "source": "### Searching text embeddings with external text",
   "id": "f646318770b1d1ca"
  },
  {
   "metadata": {
    "ExecuteTime": {
     "end_time": "2025-10-30T15:21:23.350611Z",
     "start_time": "2025-10-30T15:21:06.422746Z"
    }
   },
   "cell_type": "code",
   "source": [
    "impresso_session.images.find(\n",
    "  embedding=impresso_session.tools.embed_text(text=\"radio transistor\", target=\"image\"),\n",
    "  # media_id=\"luxwort\",\n",
    "  limit=3\n",
    ")\n",
    "\n"
   ],
   "id": "92697cf04ba687fb",
   "outputs": [
    {
     "data": {
      "text/plain": [
       "<impresso.resources.images.FindImagesContainer at 0x13171f810>"
      ],
      "text/html": [
       "<div style=\"display: grid; \">\n",
       "<div>\n",
       "<h2>FindImages result</h2>\n",
       "<div>Contains <b>3</b> items (<b>0</b> - <b>3</b>) of <b>6</b> total items.</div>\n",
       "<br/>\n",
       "See this result in the <a href=\"https://impresso-project.ch/app/images\">Impresso App</a>.\n",
       "</div>\n",
       "</div>\n",
       "<h3>Data preview:</h3>\n",
       "<style type=\"text/css\">\n",
       "</style>\n",
       "<table id=\"T_db409\">\n",
       "  <thead>\n",
       "    <tr>\n",
       "      <th class=\"blank level0\" >&nbsp;</th>\n",
       "      <th id=\"T_db409_level0_col0\" class=\"col_heading level0 col0\" >issueUid</th>\n",
       "      <th id=\"T_db409_level0_col1\" class=\"col_heading level0 col1\" >previewImage</th>\n",
       "      <th id=\"T_db409_level0_col2\" class=\"col_heading level0 col2\" >date</th>\n",
       "      <th id=\"T_db409_level0_col3\" class=\"col_heading level0 col3\" >caption</th>\n",
       "      <th id=\"T_db409_level0_col4\" class=\"col_heading level0 col4\" >pageNumbers</th>\n",
       "      <th id=\"T_db409_level0_col5\" class=\"col_heading level0 col5\" >mediaSourceRef.uid</th>\n",
       "      <th id=\"T_db409_level0_col6\" class=\"col_heading level0 col6\" >mediaSourceRef.name</th>\n",
       "      <th id=\"T_db409_level0_col7\" class=\"col_heading level0 col7\" >mediaSourceRef.type</th>\n",
       "      <th id=\"T_db409_level0_col8\" class=\"col_heading level0 col8\" >imageTypes.visualContent</th>\n",
       "      <th id=\"T_db409_level0_col9\" class=\"col_heading level0 col9\" >previewUrl</th>\n",
       "      <th id=\"T_db409_level0_col10\" class=\"col_heading level0 col10\" >imageTypes.visualContentType</th>\n",
       "    </tr>\n",
       "    <tr>\n",
       "      <th class=\"index_name level0\" >uid</th>\n",
       "      <th class=\"blank col0\" >&nbsp;</th>\n",
       "      <th class=\"blank col1\" >&nbsp;</th>\n",
       "      <th class=\"blank col2\" >&nbsp;</th>\n",
       "      <th class=\"blank col3\" >&nbsp;</th>\n",
       "      <th class=\"blank col4\" >&nbsp;</th>\n",
       "      <th class=\"blank col5\" >&nbsp;</th>\n",
       "      <th class=\"blank col6\" >&nbsp;</th>\n",
       "      <th class=\"blank col7\" >&nbsp;</th>\n",
       "      <th class=\"blank col8\" >&nbsp;</th>\n",
       "      <th class=\"blank col9\" >&nbsp;</th>\n",
       "      <th class=\"blank col10\" >&nbsp;</th>\n",
       "    </tr>\n",
       "  </thead>\n",
       "  <tbody>\n",
       "    <tr>\n",
       "      <th id=\"T_db409_level0_row0\" class=\"row_heading level0 row0\" >FZG-1964-04-10-a-i0084</th>\n",
       "      <td id=\"T_db409_row0_col0\" class=\"data row0 col0\" >FZG-1964-04-10-a</td>\n",
       "      <td id=\"T_db409_row0_col1\" class=\"data row0 col1\" ><img src=\"/assets/images/not-allowed.png\"/></td>\n",
       "      <td id=\"T_db409_row0_col2\" class=\"data row0 col2\" >1964-04-10</td>\n",
       "      <td id=\"T_db409_row0_col3\" class=\"data row0 col3\" >[REDACTED]</td>\n",
       "      <td id=\"T_db409_row0_col4\" class=\"data row0 col4\" >[6]</td>\n",
       "      <td id=\"T_db409_row0_col5\" class=\"data row0 col5\" >FZG</td>\n",
       "      <td id=\"T_db409_row0_col6\" class=\"data row0 col6\" >Freiburger Nachrichten</td>\n",
       "      <td id=\"T_db409_row0_col7\" class=\"data row0 col7\" >newspaper</td>\n",
       "      <td id=\"T_db409_row0_col8\" class=\"data row0 col8\" >Image</td>\n",
       "      <td id=\"T_db409_row0_col9\" class=\"data row0 col9\" >/assets/images/not-allowed.png</td>\n",
       "      <td id=\"T_db409_row0_col10\" class=\"data row0 col10\" >Object</td>\n",
       "    </tr>\n",
       "    <tr>\n",
       "      <th id=\"T_db409_level0_row1\" class=\"row_heading level0 row1\" >obermosel-1933-08-26-b-i0032</th>\n",
       "      <td id=\"T_db409_row1_col0\" class=\"data row1 col0\" >obermosel-1933-08-26-b</td>\n",
       "      <td id=\"T_db409_row1_col1\" class=\"data row1 col1\" ><img src=\"/assets/images/not-allowed.png\"/></td>\n",
       "      <td id=\"T_db409_row1_col2\" class=\"data row1 col2\" >1933-08-26</td>\n",
       "      <td id=\"T_db409_row1_col3\" class=\"data row1 col3\" >nan</td>\n",
       "      <td id=\"T_db409_row1_col4\" class=\"data row1 col4\" >[4]</td>\n",
       "      <td id=\"T_db409_row1_col5\" class=\"data row1 col5\" >obermosel</td>\n",
       "      <td id=\"T_db409_row1_col6\" class=\"data row1 col6\" >Obermosel-Zeitung</td>\n",
       "      <td id=\"T_db409_row1_col7\" class=\"data row1 col7\" >newspaper</td>\n",
       "      <td id=\"T_db409_row1_col8\" class=\"data row1 col8\" >Image</td>\n",
       "      <td id=\"T_db409_row1_col9\" class=\"data row1 col9\" >/assets/images/not-allowed.png</td>\n",
       "      <td id=\"T_db409_row1_col10\" class=\"data row1 col10\" >Object</td>\n",
       "    </tr>\n",
       "    <tr>\n",
       "      <th id=\"T_db409_level0_row2\" class=\"row_heading level0 row2\" >DTT-1965-06-22-a-i0040</th>\n",
       "      <td id=\"T_db409_row2_col0\" class=\"data row2 col0\" >DTT-1965-06-22-a</td>\n",
       "      <td id=\"T_db409_row2_col1\" class=\"data row2 col1\" ><img src=\"/assets/images/not-allowed.png\"/></td>\n",
       "      <td id=\"T_db409_row2_col2\" class=\"data row2 col2\" >1965-06-22</td>\n",
       "      <td id=\"T_db409_row2_col3\" class=\"data row2 col3\" >[REDACTED]</td>\n",
       "      <td id=\"T_db409_row2_col4\" class=\"data row2 col4\" >[9]</td>\n",
       "      <td id=\"T_db409_row2_col5\" class=\"data row2 col5\" >DTT</td>\n",
       "      <td id=\"T_db409_row2_col6\" class=\"data row2 col6\" >Die Tat</td>\n",
       "      <td id=\"T_db409_row2_col7\" class=\"data row2 col7\" >newspaper</td>\n",
       "      <td id=\"T_db409_row2_col8\" class=\"data row2 col8\" >Image</td>\n",
       "      <td id=\"T_db409_row2_col9\" class=\"data row2 col9\" >/assets/images/not-allowed.png</td>\n",
       "      <td id=\"T_db409_row2_col10\" class=\"data row2 col10\" >Object</td>\n",
       "    </tr>\n",
       "  </tbody>\n",
       "</table>\n"
      ]
     },
     "execution_count": 25,
     "metadata": {},
     "output_type": "execute_result"
    }
   ],
   "execution_count": 25
  },
  {
   "metadata": {},
   "cell_type": "markdown",
   "source": "### Searching image embeddings with external images",
   "id": "83e6ad1f6762f886"
  },
  {
   "metadata": {
    "ExecuteTime": {
     "end_time": "2025-10-30T15:13:53.649062Z",
     "start_time": "2025-10-30T15:13:33.849064Z"
    }
   },
   "cell_type": "code",
   "source": [
    "impresso_session.images.find(\n",
    "  embedding=impresso_session.tools.embed_image(image=\"/Users/ehrmann/Work/04_code/impresso/impresso-datalab-notebooks/workshop_resources/ws4-embeddings/resources/Logo_Philips.png\", target=\"image\"),\n",
    "  limit=3\n",
    ")\n"
   ],
   "id": "a8d20c4d6d09eed1",
   "outputs": [
    {
     "data": {
      "text/plain": [
       "<impresso.resources.images.FindImagesContainer at 0x134510990>"
      ],
      "text/html": [
       "<div style=\"display: grid; \">\n",
       "<div>\n",
       "<h2>FindImages result</h2>\n",
       "<div>Contains <b>3</b> items (<b>0</b> - <b>3</b>) of <b>6</b> total items.</div>\n",
       "<br/>\n",
       "See this result in the <a href=\"https://impresso-project.ch/app/images\">Impresso App</a>.\n",
       "</div>\n",
       "</div>\n",
       "<h3>Data preview:</h3>\n",
       "<style type=\"text/css\">\n",
       "</style>\n",
       "<table id=\"T_032f9\">\n",
       "  <thead>\n",
       "    <tr>\n",
       "      <th class=\"blank level0\" >&nbsp;</th>\n",
       "      <th id=\"T_032f9_level0_col0\" class=\"col_heading level0 col0\" >issueUid</th>\n",
       "      <th id=\"T_032f9_level0_col1\" class=\"col_heading level0 col1\" >previewImage</th>\n",
       "      <th id=\"T_032f9_level0_col2\" class=\"col_heading level0 col2\" >date</th>\n",
       "      <th id=\"T_032f9_level0_col3\" class=\"col_heading level0 col3\" >caption</th>\n",
       "      <th id=\"T_032f9_level0_col4\" class=\"col_heading level0 col4\" >pageNumbers</th>\n",
       "      <th id=\"T_032f9_level0_col5\" class=\"col_heading level0 col5\" >mediaSourceRef.uid</th>\n",
       "      <th id=\"T_032f9_level0_col6\" class=\"col_heading level0 col6\" >mediaSourceRef.name</th>\n",
       "      <th id=\"T_032f9_level0_col7\" class=\"col_heading level0 col7\" >mediaSourceRef.type</th>\n",
       "      <th id=\"T_032f9_level0_col8\" class=\"col_heading level0 col8\" >imageTypes.visualContent</th>\n",
       "      <th id=\"T_032f9_level0_col9\" class=\"col_heading level0 col9\" >previewUrl</th>\n",
       "      <th id=\"T_032f9_level0_col10\" class=\"col_heading level0 col10\" >imageTypes.visualContentType</th>\n",
       "    </tr>\n",
       "    <tr>\n",
       "      <th class=\"index_name level0\" >uid</th>\n",
       "      <th class=\"blank col0\" >&nbsp;</th>\n",
       "      <th class=\"blank col1\" >&nbsp;</th>\n",
       "      <th class=\"blank col2\" >&nbsp;</th>\n",
       "      <th class=\"blank col3\" >&nbsp;</th>\n",
       "      <th class=\"blank col4\" >&nbsp;</th>\n",
       "      <th class=\"blank col5\" >&nbsp;</th>\n",
       "      <th class=\"blank col6\" >&nbsp;</th>\n",
       "      <th class=\"blank col7\" >&nbsp;</th>\n",
       "      <th class=\"blank col8\" >&nbsp;</th>\n",
       "      <th class=\"blank col9\" >&nbsp;</th>\n",
       "      <th class=\"blank col10\" >&nbsp;</th>\n",
       "    </tr>\n",
       "  </thead>\n",
       "  <tbody>\n",
       "    <tr>\n",
       "      <th id=\"T_032f9_level0_row0\" class=\"row_heading level0 row0\" >LLE-1978-02-03-a-i0349</th>\n",
       "      <td id=\"T_032f9_row0_col0\" class=\"data row0 col0\" >LLE-1978-02-03-a</td>\n",
       "      <td id=\"T_032f9_row0_col1\" class=\"data row0 col1\" ><img src=\"/assets/images/not-allowed.png\"/></td>\n",
       "      <td id=\"T_032f9_row0_col2\" class=\"data row0 col2\" >1978-02-03</td>\n",
       "      <td id=\"T_032f9_row0_col3\" class=\"data row0 col3\" >[REDACTED]</td>\n",
       "      <td id=\"T_032f9_row0_col4\" class=\"data row0 col4\" >[6]</td>\n",
       "      <td id=\"T_032f9_row0_col5\" class=\"data row0 col5\" >LLE</td>\n",
       "      <td id=\"T_032f9_row0_col6\" class=\"data row0 col6\" >La Liberté</td>\n",
       "      <td id=\"T_032f9_row0_col7\" class=\"data row0 col7\" >newspaper</td>\n",
       "      <td id=\"T_032f9_row0_col8\" class=\"data row0 col8\" >Image</td>\n",
       "      <td id=\"T_032f9_row0_col9\" class=\"data row0 col9\" >/assets/images/not-allowed.png</td>\n",
       "      <td id=\"T_032f9_row0_col10\" class=\"data row0 col10\" >Ornament or Illustrated Title</td>\n",
       "    </tr>\n",
       "    <tr>\n",
       "      <th id=\"T_032f9_level0_row1\" class=\"row_heading level0 row1\" >LLE-1974-07-31-a-i0213</th>\n",
       "      <td id=\"T_032f9_row1_col0\" class=\"data row1 col0\" >LLE-1974-07-31-a</td>\n",
       "      <td id=\"T_032f9_row1_col1\" class=\"data row1 col1\" ><img src=\"/assets/images/not-allowed.png\"/></td>\n",
       "      <td id=\"T_032f9_row1_col2\" class=\"data row1 col2\" >1974-07-31</td>\n",
       "      <td id=\"T_032f9_row1_col3\" class=\"data row1 col3\" >[REDACTED]</td>\n",
       "      <td id=\"T_032f9_row1_col4\" class=\"data row1 col4\" >[10]</td>\n",
       "      <td id=\"T_032f9_row1_col5\" class=\"data row1 col5\" >LLE</td>\n",
       "      <td id=\"T_032f9_row1_col6\" class=\"data row1 col6\" >La Liberté</td>\n",
       "      <td id=\"T_032f9_row1_col7\" class=\"data row1 col7\" >newspaper</td>\n",
       "      <td id=\"T_032f9_row1_col8\" class=\"data row1 col8\" >Image</td>\n",
       "      <td id=\"T_032f9_row1_col9\" class=\"data row1 col9\" >/assets/images/not-allowed.png</td>\n",
       "      <td id=\"T_032f9_row1_col10\" class=\"data row1 col10\" >Ornament or Illustrated Title</td>\n",
       "    </tr>\n",
       "    <tr>\n",
       "      <th id=\"T_032f9_level0_row2\" class=\"row_heading level0 row2\" >LLE-1976-04-07-a-i0276</th>\n",
       "      <td id=\"T_032f9_row2_col0\" class=\"data row2 col0\" >LLE-1976-04-07-a</td>\n",
       "      <td id=\"T_032f9_row2_col1\" class=\"data row2 col1\" ><img src=\"/assets/images/not-allowed.png\"/></td>\n",
       "      <td id=\"T_032f9_row2_col2\" class=\"data row2 col2\" >1976-04-07</td>\n",
       "      <td id=\"T_032f9_row2_col3\" class=\"data row2 col3\" >[REDACTED]</td>\n",
       "      <td id=\"T_032f9_row2_col4\" class=\"data row2 col4\" >[10]</td>\n",
       "      <td id=\"T_032f9_row2_col5\" class=\"data row2 col5\" >LLE</td>\n",
       "      <td id=\"T_032f9_row2_col6\" class=\"data row2 col6\" >La Liberté</td>\n",
       "      <td id=\"T_032f9_row2_col7\" class=\"data row2 col7\" >newspaper</td>\n",
       "      <td id=\"T_032f9_row2_col8\" class=\"data row2 col8\" >Image</td>\n",
       "      <td id=\"T_032f9_row2_col9\" class=\"data row2 col9\" >/assets/images/not-allowed.png</td>\n",
       "      <td id=\"T_032f9_row2_col10\" class=\"data row2 col10\" >Non-Figurative Visual Content</td>\n",
       "    </tr>\n",
       "  </tbody>\n",
       "</table>\n"
      ]
     },
     "execution_count": 23,
     "metadata": {},
     "output_type": "execute_result"
    }
   ],
   "execution_count": 23
  },
  {
   "metadata": {},
   "cell_type": "markdown",
   "source": "### Searching image embeddings with typical image we draw",
   "id": "4dffe234c5c352d"
  },
  {
   "metadata": {},
   "cell_type": "code",
   "outputs": [],
   "execution_count": null,
   "source": "",
   "id": "7af31925ba4a690e"
  }
 ],
 "metadata": {
  "kernelspec": {
   "display_name": "Python 3",
   "language": "python",
   "name": "python3"
  },
  "language_info": {
   "codemirror_mode": {
    "name": "ipython",
    "version": 2
   },
   "file_extension": ".py",
   "mimetype": "text/x-python",
   "name": "python",
   "nbconvert_exporter": "python",
   "pygments_lexer": "ipython2",
   "version": "2.7.6"
  }
 },
 "nbformat": 4,
 "nbformat_minor": 5
}
