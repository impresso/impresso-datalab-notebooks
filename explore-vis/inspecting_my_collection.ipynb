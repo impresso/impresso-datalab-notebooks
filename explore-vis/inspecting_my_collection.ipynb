{
  "cells": [
    {
      "cell_type": "markdown",
      "metadata": {
        "id": "o09ceel_NJX6"
      },
      "source": [
        "# Inspecting my collection with data visualisation tools\n",
        "\n",
        "<a target=\"_blank\" href=\"https://colab.research.google.com/github/impresso/impresso-datalab-notebooks/blob/main/explore-vis/inspecting_my_collection.ipynb\">\n",
        "  <img src=\"https://colab.research.google.com/assets/colab-badge.svg\" alt=\"Open In Colab\"/>\n",
        "</a>\n",
        "\n",
        "If something doesn't work, you can [report a problem](https://github.com/impresso/impresso-datalab-notebooks/blob/main/reporting-problems.md)."
      ]
    },
    {
      "cell_type": "markdown",
      "metadata": {
        "id": "4Cx6Yk8-cKIx"
      },
      "source": [
        "## What is this notebook about?\n",
        "\n",
        "This notebook provides you with basic tools for a data-driven inspection of your collection using data visualisation tools. By plotting several charts, it should facilitate the identification of the nature of the content you have stored in your collection, helping with analysing your corpus or even planning ammendments to the content you collected.  Moreover, this notebook aims at fostering data/source criticism by raising awareness on the origing of Impresso metadata and quality of digitised materials.    \n",
        "\n",
        "## Why is this useful?\n",
        "These visualisations can be useful for revealing trends or aspects of your collection that you did not realise before or for presenting your collection to different audiences.\n",
        "\n",
        "## What will you learn?\n",
        "\n",
        "In this notebook, you will learn how to:\n",
        "* Load and manage dataframes using Pandas library;\n",
        "* Create visualisations using Python libraries such as Plotly;\n",
        "* Critically interpret the data you have saved in your collection.\n",
        "\n",
        "## Recommended resources\n",
        "\n",
        "- [How Charts Lie](https://web.archive.org/web/20241110022144/https://stephencredmond.medium.com/a-review-of-how-charts-lie-by-alberto-cairo-2763286237a6) by Alberto Cairo (2019) provides a comprehensive introduction to critical data visualisation;\n",
        "- [Getting started with Plotly in Python](https://plotly.com/python/getting-started/) is a tutorial for those unfamiliar with the library.\n",
        "- [From the shelf to the web: exploring historical newspapers in the digital age](https://ranke2.uni.lu/u/exploring-historical-newspapers/) deals with how digitised newspapers that are available online change the way historians use newspapers as historical sources, and ask new skills for applying source criticism.\n",
        "\n",
        "> Quick tip: Code in Jupyter notebooks must be run in sequence. If something does not work, double-check if you forgot to run a previous cell."
      ]
    },
    {
      "cell_type": "markdown",
      "metadata": {
        "id": "5XIIRhYCPWM5"
      },
      "source": [
        "# Introduction: Loading the data"
      ]
    },
    {
      "cell_type": "markdown",
      "metadata": {
        "id": "ipUBRYUeFUwB"
      },
      "source": [
        "First step is to load your csv file into the Colab notebook. We use the function 'read' in Pandas to load the csv as a dataframe"
      ]
    },
    {
      "cell_type": "code",
      "execution_count": null,
      "metadata": {
        "id": "5ZmYmh80FZR9"
      },
      "outputs": [],
      "source": [
        "# Import .csv file retrieved from Web App and load the file as Pandas dataframe\n",
        "import pandas as pd\n",
        "dataframe = pd.read_csv('Olympics_1948.csv', skiprows=4, delimiter=';', on_bad_lines='skip')"
      ]
    },
    {
      "cell_type": "markdown",
      "metadata": {
        "id": "W46q6AoWHIqJ"
      },
      "source": [
        "Now, you can inspect your Pandas dataframe. By running `dataframe.info()`"
      ]
    },
    {
      "cell_type": "code",
      "execution_count": null,
      "metadata": {
        "colab": {
          "base_uri": "https://localhost:8080/"
        },
        "id": "NbGRId1PFc-7",
        "outputId": "d4831a86-57cc-4bdb-c035-bee46c1a29ad"
      },
      "outputs": [],
      "source": [
        "# This shows how many columns you have, how many entries,the name of the columns and the type of values you have in each column.\n",
        "dataframe.info()"
      ]
    },
    {
      "cell_type": "markdown",
      "metadata": {
        "id": "0l_1ICXpHfks"
      },
      "source": [
        "You can also preview the first rows of your dataframe by running `dataframe.head()`"
      ]
    },
    {
      "cell_type": "code",
      "execution_count": null,
      "metadata": {
        "id": "mgORMUqrHejh"
      },
      "outputs": [],
      "source": [
        "# Try here"
      ]
    },
    {
      "cell_type": "markdown",
      "metadata": {
        "id": "ZzlrvKBqQyt4"
      },
      "source": [
        "# Part 1: Creating my first chart (step-by-step)"
      ]
    },
    {
      "cell_type": "markdown",
      "metadata": {
        "id": "BvN84KMRHxMd"
      },
      "source": [
        "To create charts, we are going to use a library called [Plotly](https://plotly.com/python/). Let's import it first."
      ]
    },
    {
      "cell_type": "code",
      "execution_count": null,
      "metadata": {
        "id": "6_gH_XEEHwH0"
      },
      "outputs": [],
      "source": [
        "import plotly.express as px"
      ]
    },
    {
      "cell_type": "markdown",
      "metadata": {
        "id": "9ZC0yT2_IKle"
      },
      "source": [
        "You can now start exploring our collection by ploting charts.\n",
        "\n",
        "Below, we demonstrate how to plot a bar chart showing how many articles you have in your collection by newspaper. Let's do it step-by-step:\n",
        "1. First, you need to count how many articles you have by newspaper. We do this by counting how many times each newspaper ID occurs in column 'newspaper' of dataframe"
      ]
    },
    {
      "cell_type": "code",
      "execution_count": null,
      "metadata": {
        "id": "-zzE68hRJi5g"
      },
      "outputs": [],
      "source": [
        "# Count values in column 'newspaper' of dataframe\n",
        "newspaper_counts = dataframe['newspaper'].value_counts().reset_index()"
      ]
    },
    {
      "cell_type": "code",
      "execution_count": null,
      "metadata": {
        "colab": {
          "base_uri": "https://localhost:8080/",
          "height": 551
        },
        "id": "KxkEgmn7KbKf",
        "outputId": "4ae8c80a-7185-4101-ae17-83f77b05d2e5"
      },
      "outputs": [],
      "source": [
        "# Visualise your counts\n",
        "newspaper_counts"
      ]
    },
    {
      "cell_type": "markdown",
      "metadata": {
        "id": "o7fsi06uKgqV"
      },
      "source": [
        "2. Using Plotly, you can now plot a bar chart with results stored in `newspapers_counts`. We determine axis x as corresponding to column 'newspaper' and axis y as corresponding to column 'count'."
      ]
    },
    {
      "cell_type": "code",
      "execution_count": null,
      "metadata": {
        "colab": {
          "base_uri": "https://localhost:8080/",
          "height": 542
        },
        "id": "Z0009nzsJ2BO",
        "outputId": "0aad5b0d-f5cb-4d0e-b9ff-fedcd91c3084"
      },
      "outputs": [],
      "source": [
        "# Plot bar chart using Plotly for dataframe 'newspaper_counts'\n",
        "fig = px.bar(newspaper_counts, x='newspaper', y='count', title='Count of Articles by Newspaper')\n",
        "\n",
        "# Define colour as gray scale\n",
        "fig.update_traces(marker_color='black')\n",
        "\n",
        "# Show figure\n",
        "fig.show()"
      ]
    },
    {
      "cell_type": "markdown",
      "metadata": {
        "id": "weffMIAGLBgj"
      },
      "source": [
        "You can also plot a pie chart with the exact same values."
      ]
    },
    {
      "cell_type": "code",
      "execution_count": null,
      "metadata": {
        "colab": {
          "base_uri": "https://localhost:8080/",
          "height": 542
        },
        "id": "3lG-vFEvRZW0",
        "outputId": "1bd73f35-1fb3-492c-b8ff-9fb9e9fb97ca"
      },
      "outputs": [],
      "source": [
        "# Pie charts will have 'names' and 'values' instead of axis x and y\n",
        "fig = px.pie(newspaper_counts, names='newspaper', values='count', title='Count of Articles by Newspaper')\n",
        "\n",
        "# Layout options to improve readability: include text inside chart. Also include %\n",
        "fig.update_traces(textposition='inside', textinfo='percent+label')\n",
        "\n",
        "# Show figure\n",
        "fig.show()"
      ]
    },
    {
      "cell_type": "markdown",
      "metadata": {
        "id": "sTs-HNy-RjUg"
      },
      "source": [
        "**Question:** which chart do you think is more useful or more efficient in communicating the data? What are the pros and cons of each of them?"
      ]
    },
    {
      "cell_type": "markdown",
      "metadata": {
        "id": "5vp8eiZaMGAL"
      },
      "source": [
        "# Part 2: Combining newspaper and content provider"
      ]
    },
    {
      "cell_type": "markdown",
      "metadata": {
        "id": "aluYZOr7MZPW"
      },
      "source": [
        "We can plot a treemap to visualise the number of articles by newspaper along with their content provider"
      ]
    },
    {
      "cell_type": "code",
      "execution_count": null,
      "metadata": {
        "id": "8zC-tSEMR2Gd"
      },
      "outputs": [],
      "source": [
        "# Count values based on columns 'content provider' and 'newspaper'\n",
        "np_provider_counts = dataframe[['content_provider', 'newspaper']].value_counts().reset_index()"
      ]
    },
    {
      "cell_type": "code",
      "execution_count": null,
      "metadata": {
        "colab": {
          "base_uri": "https://localhost:8080/",
          "height": 551
        },
        "id": "4eAjw0S2NBMM",
        "outputId": "7dbe06ad-1b94-4941-f7a1-b4a97449277b"
      },
      "outputs": [],
      "source": [
        "# Take a look at the dataframe with your counts.\n",
        "np_provider_counts"
      ]
    },
    {
      "cell_type": "markdown",
      "metadata": {
        "id": "i-iQY0-9NJzL"
      },
      "source": [
        "> It is worth noticing that the dataframe looks different. You have now counted values based on two columns, rather than a single column."
      ]
    },
    {
      "cell_type": "code",
      "execution_count": null,
      "metadata": {
        "colab": {
          "base_uri": "https://localhost:8080/",
          "height": 542
        },
        "id": "8Ay6UtWRM35C",
        "outputId": "021f7f8b-1a30-4a54-d172-a0921515f015"
      },
      "outputs": [],
      "source": [
        "# Plot a treemap\n",
        "fig = px.treemap(np_provider_counts, path=[px.Constant(\"all\"),'content_provider', 'newspaper'], values='count',\n",
        "                 color='count', color_continuous_scale='Greys',\n",
        "                 title='Count of articles by Newspaper and their Content Providers')\n",
        "fig.show()"
      ]
    },
    {
      "cell_type": "markdown",
      "metadata": {
        "id": "S-uZeaZFdQDR"
      },
      "source": [
        "# Part 3: Temporal distribution of articles"
      ]
    },
    {
      "cell_type": "markdown",
      "metadata": {
        "id": "_8wU5hZoUdGI"
      },
      "source": [
        "See temporal distribution of articles for a given newspaper using a histogram. In the example below, we look at values for the newspaper Gazette de Lausanne (GDL).\n",
        "\n",
        "> Bar charts are used to represent categorical data. [Histograms](https://plotly.com/python/histograms/#:~:text=More%20generally%2C%20in%20Plotly%20a,as%20well%20as%20linear%20axes.), in contrast, represent continuous data such as ages, daily temperatures, etc. For dates, histograms can be particularly useful for time-series analysis, to help identify trends over long periods. **Be aware that Gazette de Lausanne will only show up in the chart below if you have a content item by them in your collection.**"
      ]
    },
    {
      "cell_type": "code",
      "execution_count": null,
      "metadata": {
        "colab": {
          "base_uri": "https://localhost:8080/",
          "height": 542
        },
        "id": "O5pnke-RUP2t",
        "outputId": "20c70f7c-8585-4a79-af36-cc8482899766"
      },
      "outputs": [],
      "source": [
        "# Create a dataframe with values for Gazette de Lausanne (GDL)\n",
        "df_GDL = dataframe[dataframe['newspaper'] == 'GDL'].copy()\n",
        "\n",
        "# Define histogram axis\n",
        "fig = px.histogram(df_GDL, x='date', title=f'Distribution of Articles over time for Gazette de Lausanne')\n",
        "\n",
        "# Data is aggragated in bins based on month (size in millisecond)\n",
        "fig.update_traces(xbins=dict(size=30*24*60*60*1000))  # 1 month in ms | To aggregate by day, use 1 day = 24*60*60*1000\n",
        "\n",
        "# Define colour\n",
        "fig.update_traces(marker_color='black')\n",
        "\n",
        "# Show figure\n",
        "fig.show()"
      ]
    },
    {
      "cell_type": "markdown",
      "metadata": {
        "id": "7bY8KepLX6s_"
      },
      "source": [
        "You can also generate a list of histograms, one for each newspaper in your collection by writing a `for loop`."
      ]
    },
    {
      "cell_type": "code",
      "execution_count": null,
      "metadata": {
        "colab": {
          "base_uri": "https://localhost:8080/",
          "height": 1000
        },
        "id": "IaEKKvpdOuaG",
        "outputId": "3b5cf3bd-ce05-4fe5-dacc-92511f132866"
      },
      "outputs": [],
      "source": [
        "# Get the earliest and latest dates in dataset\n",
        "earliest_date = dataframe['date'].min()\n",
        "latest_date = dataframe['date'].max()\n",
        "\n",
        "# Get unique list of newspapers\n",
        "newspapers = dataframe['newspaper'].unique()\n",
        "\n",
        "# Create separate histograms for each newspaper using a 'for loop'\n",
        "for newspaper in newspapers:\n",
        "    df_newspaper = dataframe[dataframe['newspaper'] == newspaper].copy()\n",
        "    fig = px.histogram(df_newspaper, x='date', title=f'Distribution of Articles over Time for {newspaper}')\n",
        "\n",
        "    # Data is aggragated in bins based on month (size in millisecond)\n",
        "    fig.update_traces(xbins=dict(size=30*24*60*60*1000))  # 1 month in ms\n",
        "\n",
        "    # Always set start of x-axis based on the ealiest date in dataset and end based on the latest.\n",
        "    fig.update_layout(\n",
        "        xaxis_range=[earliest_date, latest_date],\n",
        "    # Always set minimun value of y-axis 0 and max value as 60 (customise as necessary)\n",
        "        yaxis_range=[0, 60]\n",
        "    )\n",
        "\n",
        "    # Define colour\n",
        "    fig.update_traces(marker_color='black')\n",
        "\n",
        "    # Show figure\n",
        "    fig.show()"
      ]
    },
    {
      "cell_type": "markdown",
      "metadata": {
        "id": "9dlqMeLiaU1w"
      },
      "source": [
        "To facilitate comparison, you can display the histograms in dashboard format."
      ]
    },
    {
      "cell_type": "code",
      "execution_count": null,
      "metadata": {
        "id": "H6LE1Vw4S5lD"
      },
      "outputs": [],
      "source": [
        "# Import IPython display and plotly.graph_objects modules to create a dashboard\n",
        "from IPython.display import display, HTML\n",
        "import plotly.graph_objects as go"
      ]
    },
    {
      "cell_type": "code",
      "execution_count": null,
      "metadata": {
        "colab": {
          "base_uri": "https://localhost:8080/",
          "height": 1000
        },
        "id": "kjqtFVkhSX5O",
        "outputId": "95c51f16-2836-4c52-82cb-a9dd955e8d0a"
      },
      "outputs": [],
      "source": [
        "# plot histograms in dashboard side-by-side showing number of articles overtime by newspaper\n",
        "\n",
        "dashboard_html = \"\"\"\n",
        "<html>\n",
        "<head>\n",
        "    <style>\n",
        "        .container {{\n",
        "            display: flex;\n",
        "            flex-wrap: wrap;\n",
        "            gap: 20px;\n",
        "            justify-content: center; /* Center the items in the container */\n",
        "        }}\n",
        "        .chart-item {{\n",
        "            width: 45%; /* Adjust as needed to have two columns with gap */\n",
        "            box-shadow: 0 4px 8px 0 rgba(0,0,0,0.2);\n",
        "            transition: 0.3s;\n",
        "            padding: 10px;\n",
        "            box-sizing: border-box; /* Include padding and border in the element's total width and height */\n",
        "        }}\n",
        "         .chart-item:hover {{\n",
        "            box-shadow: 0 8px 16px 0 rgba(0,0,0,0.2);\n",
        "        }}\n",
        "        h2 {{\n",
        "            text-align: center;\n",
        "            width: 100%; /* Make sure title takes full width */\n",
        "        }}\n",
        "    </style>\n",
        "</head>\n",
        "<body>\n",
        "    <h2>Data Overview Dashboard</h2>\n",
        "    <div class=\"container\">\n",
        "        {newspaper_histograms}\n",
        "    </div>\n",
        "</body>\n",
        "</html>\n",
        "\"\"\"\n",
        "\n",
        "# Re-generate plots and capture their HTML output\n",
        "# Histograms for each newspaper\n",
        "newspaper_histograms_html = \"\"\n",
        "newspapers = dataframe['newspaper'].unique()\n",
        "min_date = dataframe['date'].min()\n",
        "max_date = dataframe['date'].max()\n",
        "\n",
        "for newspaper in newspapers:\n",
        "    newspaper_df = dataframe[dataframe['newspaper'] == newspaper]\n",
        "    fig = px.histogram(newspaper_df, x='date',\n",
        "                       labels={'x':'Date', 'y':'Number of Articles'},\n",
        "                       title=f'Count of content items over time for {newspaper}',\n",
        "                       range_x=[min_date, max_date])\n",
        "    fig.update_traces(xbins=dict(size=30*24*60*60*1000))  # 1 month in ms\n",
        "    fig.update_traces(marker_color='black')\n",
        "    fig.update_layout(yaxis_range=[0, 60])\n",
        "    newspaper_histograms_html += f'<div class=\"chart-item\">{fig.to_html(full_html=False, include_plotlyjs=\"cdn\")}</div>'\n",
        "    # Always set start of x-axis based on the ealiest date in dataset and end based on the latest.\n",
        "\n",
        "\n",
        "# Populate the dashboard HTML template\n",
        "full_dashboard_html = dashboard_html.format(\n",
        "    newspaper_histograms=newspaper_histograms_html,\n",
        ")\n",
        "\n",
        "# Display the dashboard\n",
        "display(HTML(full_dashboard_html))"
      ]
    },
    {
      "cell_type": "markdown",
      "metadata": {
        "id": "drivY0d_bsPH"
      },
      "source": [
        "To visualise the temporal distribution of articles for the whole collection, you can plot a histogram as follows\n",
        "\n",
        "> Tip: by clicking on the name of the newspapers in the right-hand side column, you can select specific newspapers you want to visualise"
      ]
    },
    {
      "cell_type": "code",
      "execution_count": null,
      "metadata": {
        "colab": {
          "base_uri": "https://localhost:8080/",
          "height": 542
        },
        "id": "Us7myq96TodF",
        "outputId": "9d120857-85b8-4729-fd9a-dceca5e06ae1"
      },
      "outputs": [],
      "source": [
        "# Plot chart to see distribution of articles over time\n",
        "\n",
        "earliest_latest_dated_per_np = dataframe.groupby('newspaper').agg({'date': ['min', 'max']})\n",
        "earliest_latest_dated_per_np.columns = ['earliest_date', 'latest_date']\n",
        "\n",
        "# varying the nbins value provides more or less precision\n",
        "nbins_value = 366\n",
        "\n",
        "# stacked histogram\n",
        "fig = px.histogram(dataframe, x=\"date\", color='newspaper', title=f'Distribution of Articles over Time', nbins=nbins_value)\n",
        "fig.show()"
      ]
    },
    {
      "cell_type": "markdown",
      "metadata": {
        "id": "ptvWQ8UxdC1y"
      },
      "source": [
        "# Part 4: Visualising metadata"
      ]
    },
    {
      "cell_type": "markdown",
      "metadata": {
        "id": "cxNKT4todhWG"
      },
      "source": [
        "In Part 4 of this notebook, you will plot several charts based on your collection's available metadata such as countries where articles were published, languages, articles sizes and newspaper page in which the article occurs.\n",
        "\n",
        "At the end of this session, you will be able to load your charts into a dashboard."
      ]
    },
    {
      "cell_type": "code",
      "execution_count": null,
      "metadata": {
        "colab": {
          "base_uri": "https://localhost:8080/",
          "height": 542
        },
        "id": "Q4xQSK2Ydl0C",
        "outputId": "ab9c94c4-0bea-42c9-e5da-9dd67177c43c"
      },
      "outputs": [],
      "source": [
        "# count values on column 'country' and plot a treemap\n",
        "\n",
        "country_counts = dataframe['country'].value_counts().reset_index()\n",
        "country_counts.columns = ['country', 'count']\n",
        "\n",
        "fig = px.treemap(country_counts, path=['country'], values='count',\n",
        "                 color='count', color_continuous_scale='Greys',\n",
        "                 title='Distribution of Countries')\n",
        "fig.show()"
      ]
    },
    {
      "cell_type": "code",
      "execution_count": null,
      "metadata": {
        "colab": {
          "base_uri": "https://localhost:8080/",
          "height": 542
        },
        "id": "jiSbqHsudpUx",
        "outputId": "6925b3aa-86d1-4f62-83d9-f28482a72d02"
      },
      "outputs": [],
      "source": [
        "# count values on column 'content_provider' and plot a treemap\n",
        "\n",
        "content_provider_counts = dataframe['content_provider'].value_counts().reset_index()\n",
        "content_provider_counts.columns = ['content_provider', 'count']\n",
        "\n",
        "fig = px.treemap(content_provider_counts, path=['content_provider'], values='count',\n",
        "                 color='count', color_continuous_scale='Greys',\n",
        "                 title='Distribution of Content Providers')\n",
        "fig.show()"
      ]
    },
    {
      "cell_type": "code",
      "execution_count": null,
      "metadata": {
        "colab": {
          "base_uri": "https://localhost:8080/",
          "height": 542
        },
        "id": "1AZ3-ngkdsih",
        "outputId": "652d9b0c-514d-4f72-bbdd-71a77ee11a01"
      },
      "outputs": [],
      "source": [
        "# count values on column 'language' and plot a treemap\n",
        "\n",
        "language_counts = dataframe['language'].value_counts().reset_index()\n",
        "language_counts.columns = ['language', 'count']\n",
        "\n",
        "fig = px.treemap(language_counts, path=['language'], values='count',\n",
        "                 color='count', color_continuous_scale='Greys',\n",
        "                 title='Distribution of Languages')\n",
        "fig.show()"
      ]
    },
    {
      "cell_type": "code",
      "execution_count": null,
      "metadata": {
        "colab": {
          "base_uri": "https://localhost:8080/",
          "height": 542
        },
        "id": "bPAjMaROdyf3",
        "outputId": "49c06d73-11af-4b0b-c177-88bacde0f50c"
      },
      "outputs": [],
      "source": [
        "# count values in column 'type' and plot pie chart showing distribution\n",
        "\n",
        "type_counts = dataframe['type'].value_counts().reset_index()\n",
        "type_counts.columns = ['type', 'count']\n",
        "\n",
        "gray_shades = ['#111111','#BBBBBB', '#DDDDDD']\n",
        "\n",
        "fig = px.pie(type_counts, values='count', names='type',\n",
        "             color_discrete_sequence=gray_shades,\n",
        "             title='Distribution of Article Types')\n",
        "fig.show()"
      ]
    },
    {
      "cell_type": "code",
      "execution_count": null,
      "metadata": {
        "colab": {
          "base_uri": "https://localhost:8080/",
          "height": 542
        },
        "id": "e82RRVaTd3ar",
        "outputId": "2ba84a67-38a4-445f-985b-4a78972d6c6a"
      },
      "outputs": [],
      "source": [
        "# plot chart showing distribution of values in column 'size' and add mark on the average and mean\n",
        "\n",
        "fig = px.histogram(dataframe, x='size', title='Distribution of Article Sizes', color_discrete_sequence=['grey'])\n",
        "fig.add_vline(x=dataframe['size'].mean(), line_dash=\"dash\", line_color=\"red\", annotation_text=f\"Mean: {dataframe['size'].mean():.2f}\", annotation_position=\"top right\")\n",
        "fig.add_vline(x=dataframe['size'].median(), line_dash=\"dash\", line_color=\"black\", annotation_text=f\"Median: {dataframe['size'].median():.2f}\", annotation_position=\"top left\")\n",
        "\n",
        "fig.show()"
      ]
    },
    {
      "cell_type": "code",
      "execution_count": null,
      "metadata": {},
      "outputs": [],
      "source": [
        "# Violin plots showing distribution of article size per Newspaper title\n",
        "\n",
        "import plotly.graph_objects as go\n",
        "\n",
        "fig = go.Figure()\n",
        "\n",
        "for title in dataframe['newspaper'].unique():\n",
        "    fig.add_trace(go.Violin(x=dataframe['newspaper'][dataframe['newspaper'] == title],\n",
        "                            y=dataframe['size'][dataframe['newspaper'] == title],\n",
        "                            name=title,\n",
        "                            box_visible=True,\n",
        "                            meanline_visible=True))\n",
        "\n",
        "fig.update_layout(title_text=\"Distribution of Article Sizes per Title\")\n",
        "fig.show()"
      ]
    },
    {
      "cell_type": "code",
      "execution_count": null,
      "metadata": {
        "colab": {
          "base_uri": "https://localhost:8080/",
          "height": 542
        },
        "id": "bTZwFPZ2eBo1",
        "outputId": "01eeac21-c86c-4faa-c5c5-a2ac1a68b3d5"
      },
      "outputs": [],
      "source": [
        "# plot chart showing distribution of values occuring in column 'pages' and add mark on the average and mean\n",
        "\n",
        "# Convert 'pages' column to numeric, coercing errors\n",
        "\n",
        "fig = px.histogram(dataframe.dropna(subset=['pages']), x='pages', title='Distribution of Article Pages', color_discrete_sequence=['grey'])\n",
        "fig.add_vline(x=dataframe['pages'].mean(), line_dash=\"dash\", line_color=\"red\", annotation_text=f\"Mean: {dataframe['pages'].mean():.2f}\", annotation_position=\"top right\")\n",
        "fig.add_vline(x=dataframe['pages'].median(), line_dash=\"dash\", line_color=\"black\", annotation_text=f\"Median: {dataframe['pages'].median():.2f}\", annotation_position=\"top left\")\n",
        "fig.show()"
      ]
    },
    {
      "cell_type": "code",
      "execution_count": null,
      "metadata": {},
      "outputs": [],
      "source": [
        "# Violin plots showing distribution of article page per Newspaper title\n",
        "\n",
        "fig = go.Figure()\n",
        "\n",
        "sorted_page_num = dataframe.sort_values(by='pages').dropna(subset=['pages'])\n",
        "\n",
        "for title in sorted_page_num['newspaper'].unique():\n",
        "    fig.add_trace(go.Violin(x=sorted_page_num['newspaper'][sorted_page_num['newspaper'] == title],\n",
        "                            y=sorted_page_num['pages'][sorted_page_num['newspaper'] == title],\n",
        "                            name=title,\n",
        "                            box_visible=True,\n",
        "                            meanline_visible=True))\n",
        "\n",
        "fig.update_layout(title_text=\"Distribution of Article Pages per Title\", yaxis_range=[-5,25], height=800)\n",
        "fig.update_yaxes(dtick=1)\n",
        "fig.show()"
      ]
    },
    {
      "cell_type": "code",
      "execution_count": null,
      "metadata": {
        "colab": {
          "base_uri": "https://localhost:8080/",
          "height": 542
        },
        "id": "QYJasXK-eEFK",
        "outputId": "fdb44875-0319-4a2c-d694-28bd7be23166"
      },
      "outputs": [],
      "source": [
        "# plot chart with count of values in column 'is_on_front_page'\n",
        "\n",
        "# count values in column 'is_on_front_page' and plot a bar chart\n",
        "is_on_front_page_counts = dataframe['is_on_front_page'].value_counts().reset_index()\n",
        "is_on_front_page_counts.columns = ['is_on_front_page', 'count']\n",
        "\n",
        "fig = px.bar(is_on_front_page_counts, x='is_on_front_page', y='count',\n",
        "             labels={'is_on_front_page':'On Front Page', 'count':'Number of Articles'},\n",
        "             title='Count of Articles on Front Page', color_discrete_sequence=['grey'])\n",
        "\n",
        "fig.show()"
      ]
    },
    {
      "cell_type": "markdown",
      "metadata": {
        "id": "ZrwQeA9Ddwm-"
      },
      "source": [
        "## Visualise your charts in a dashboard\n",
        "\n",
        "Try visualising in full-screen by clicking on the arrow in the output cell (see figure):\n",
        "\n",
        "![Screenshot 2025-06-19 at 16.47.20.png](data:image/png;base64,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)"
      ]
    },
    {
      "cell_type": "code",
      "execution_count": null,
      "metadata": {
        "cellView": "form",
        "colab": {
          "base_uri": "https://localhost:8080/",
          "height": 1000
        },
        "id": "858fjHIRXh9U",
        "outputId": "cae856cb-366f-485f-a920-96f16fb75988"
      },
      "outputs": [],
      "source": [
        "# @title This cell will create a dash board and plot several charts about your collection\n",
        "# create a dashboard showing all the charts\n",
        "\n",
        "import pandas as pd\n",
        "from IPython.display import display, HTML\n",
        "import plotly.graph_objects as go\n",
        "\n",
        "# Combine all figures into a single dashboard layout\n",
        "dashboard_html = \"\"\"\n",
        "<html>\n",
        "<head>\n",
        "    <style>\n",
        "        .container {{\n",
        "            display: flex;\n",
        "            flex-wrap: wrap;\n",
        "            gap: 20px;\n",
        "            justify-content: center; /* Center the items in the container */\n",
        "        }}\n",
        "        .chart-item {{\n",
        "            width: 45%; /* Adjust as needed */\n",
        "            box-shadow: 0 4px 8px 0 rgba(0,0,0,0.2);\n",
        "            transition: 0.3s;\n",
        "            padding: 10px;\n",
        "            box-sizing: border-box; /* Include padding and border in the element's total width and height */\n",
        "        }}\n",
        "         .chart-item:hover {{\n",
        "            box-shadow: 0 8px 16px 0 rgba(0,0,0,0.2);\n",
        "        }}\n",
        "        h2 {{\n",
        "            text-align: center;\n",
        "            width: 100%; /* Make sure title takes full width */\n",
        "        }}\n",
        "    </style>\n",
        "</head>\n",
        "<body>\n",
        "    <h2>Data Overview Dashboard</h2>\n",
        "    <div class=\"container\">\n",
        "        <div class=\"chart-item\">{bar_chart}</div>\n",
        "        <div class=\"chart-item\">{country_treemap}</div>\n",
        "        <div class=\"chart-item\">{content_provider_treemap}</div>\n",
        "        <div class=\"chart-item\">{language_treemap}</div>\n",
        "        <div class=\"chart-item\">{type_pie_chart}</div>\n",
        "        <div class=\"chart-item\">{size_histogram}</div>\n",
        "        <div class=\"chart-item\">{pages_histogram}</div>\n",
        "        <div class=\"chart-item\">{front_page_bar_chart}</div>\n",
        "    </div>\n",
        "</body>\n",
        "</html>\n",
        "\"\"\"\n",
        "\n",
        "# Re-generate plots and capture their HTML output\n",
        "# Bar chart of newspaper counts\n",
        "newspaper_counts = dataframe['newspaper'].value_counts().reset_index()\n",
        "newspaper_counts.columns = ['Newspaper', 'Count'] # Rename for clarity in plot\n",
        "fig_newspaper_bar = px.bar(newspaper_counts, x='Newspaper', y='Count',\n",
        "             labels={'Newspaper':'Newspaper', 'Count':'Number of Articles'},\n",
        "             title='Count of content items by newspaper title')\n",
        "fig_newspaper_bar.update_traces(marker_color='gray')\n",
        "bar_chart_html = fig_newspaper_bar.to_html(full_html=False, include_plotlyjs='cdn')\n",
        "\n",
        "\n",
        "# Treemap for countries\n",
        "country_counts = dataframe['country'].value_counts().reset_index()\n",
        "country_counts.columns = ['country', 'count']\n",
        "fig_country_treemap = px.treemap(country_counts, path=['country'], values='count',\n",
        "                 title='Distribution of Countries', color='count', color_continuous_scale='Greys')\n",
        "country_treemap_html = fig_country_treemap.to_html(full_html=False, include_plotlyjs='cdn')\n",
        "\n",
        "# Treemap for content providers\n",
        "content_provider_counts = dataframe['content_provider'].value_counts().reset_index()\n",
        "content_provider_counts.columns = ['content_provider', 'count']\n",
        "fig_content_provider_treemap = px.treemap(content_provider_counts, path=['content_provider'], values='count',\n",
        "                 title='Distribution of Content Providers', color='count', color_continuous_scale='Greys')\n",
        "content_provider_treemap_html = fig_content_provider_treemap.to_html(full_html=False, include_plotlyjs='cdn')\n",
        "\n",
        "# Treemap for languages\n",
        "language_counts = dataframe['language'].value_counts().reset_index()\n",
        "language_counts.columns = ['language', 'count']\n",
        "fig_language_treemap = px.treemap(language_counts, path=['language'], values='count',\n",
        "                 title='Distribution of Languages', color='count', color_continuous_scale='Greys')\n",
        "language_treemap_html = fig_language_treemap.to_html(full_html=False, include_plotlyjs='cdn')\n",
        "\n",
        "# Pie chart for article types\n",
        "type_counts = dataframe['type'].value_counts().reset_index()\n",
        "type_counts.columns = ['type', 'count']\n",
        "fig_type_pie = px.pie(type_counts, values='count', names='type',\n",
        "             title='Distribution of Article Types', color_discrete_sequence=gray_shades)\n",
        "type_pie_chart_html = fig_type_pie.to_html(full_html=False, include_plotlyjs='cdn')\n",
        "\n",
        "# Histogram for article sizes\n",
        "fig_size_hist = px.histogram(dataframe, x='size', title='Distribution of Article Sizes', color_discrete_sequence=['grey'])\n",
        "fig_size_hist.add_vline(x=dataframe['size'].mean(), line_dash=\"dash\", line_color=\"red\", annotation_text=f\"Mean: {dataframe['size'].mean():.2f}\", annotation_position=\"top right\")\n",
        "fig_size_hist.add_vline(x=dataframe['size'].median(), line_dash=\"dash\", line_color=\"black\", annotation_text=f\"Median: {dataframe['size'].median():.2f}\", annotation_position=\"top left\")\n",
        "size_histogram_html = fig_size_hist.to_html(full_html=False, include_plotlyjs='cdn')\n",
        "\n",
        "# Histogram for article pages\n",
        "dataframe['pages'] = pd.to_numeric(dataframe['pages'], errors='coerce')\n",
        "fig_pages_hist = px.histogram(dataframe.dropna(subset=['pages']), x='pages', title='Distribution of Article Pages', color_discrete_sequence=['grey'])\n",
        "fig_pages_hist.add_vline(x=dataframe['pages'].mean(), line_dash=\"dash\", line_color=\"red\", annotation_text=f\"Mean: {dataframe['pages'].mean():.2f}\", annotation_position=\"top right\")\n",
        "fig_pages_hist.add_vline(x=dataframe['pages'].median(), line_dash=\"dash\", line_color=\"black\", annotation_text=f\"Median: {dataframe['pages'].median():.2f}\", annotation_position=\"top left\")\n",
        "pages_histogram_html = fig_pages_hist.to_html(full_html=False, include_plotlyjs='cdn')\n",
        "\n",
        "\n",
        "# Bar chart for front page status\n",
        "is_on_front_page_counts = dataframe['is_on_front_page'].value_counts().reset_index()\n",
        "is_on_front_page_counts.columns = ['is_on_front_page', 'count']\n",
        "fig_front_page_bar = px.bar(is_on_front_page_counts, x='is_on_front_page', y='count',\n",
        "             labels={'is_on_front_page':'On Front Page', 'count':'Number of Articles'},\n",
        "             title='Count of Articles on Front Page', color_discrete_sequence=['grey'])\n",
        "front_page_bar_chart_html = fig_front_page_bar.to_html(full_html=False, include_plotlyjs='cdn')\n",
        "\n",
        "\n",
        "# Populate the dashboard HTML template\n",
        "full_dashboard_html = dashboard_html.format(\n",
        "    bar_chart=bar_chart_html,\n",
        "    country_treemap=country_treemap_html,\n",
        "    content_provider_treemap=content_provider_treemap_html,\n",
        "    language_treemap=language_treemap_html,\n",
        "    type_pie_chart=type_pie_chart_html,\n",
        "    size_histogram=size_histogram_html,\n",
        "    pages_histogram=pages_histogram_html,\n",
        "    front_page_bar_chart=front_page_bar_chart_html)\n",
        "\n",
        "# Display the dashboard\n",
        "display(HTML(full_dashboard_html))\n"
      ]
    },
    {
      "cell_type": "markdown",
      "metadata": {
        "id": "i8e947DFb5oM"
      },
      "source": [
        "# Part 5: Inspecting entities in my collection"
      ]
    },
    {
      "cell_type": "markdown",
      "metadata": {
        "id": "bRXeFuRRcvFL"
      },
      "source": [
        "In Impresso we have named entities of two different natures: those captured by simpling using NER models and those linked with wikidata. On the Impresso Web App, for example, you only see those linked with wikidata.\n",
        "\n",
        "Linking entities with wikidata helps with differentiating, for example, whether a mention to 'apple' refers to the company or the fruit, by linking the entity to a unique ID.\n",
        "\n",
        "However, on the other hand, if we just look at linked entities, we might be ignoring other important entities that either could not be linked to wikidata due to technical limitations of the models, or entities that do not exist in wikidata. Therefore, we will use this notebook to explore both kinds of entities."
      ]
    },
    {
      "cell_type": "markdown",
      "metadata": {
        "id": "OqNtDwgEcSN1"
      },
      "source": [
        "The following cells calculates how many content items in my collection have metadata for persons mentioned and how many do not have (labelled as 'nan values')"
      ]
    },
    {
      "cell_type": "code",
      "execution_count": null,
      "metadata": {
        "colab": {
          "base_uri": "https://localhost:8080/",
          "height": 577
        },
        "id": "M0AJ6bC3U-Rg",
        "outputId": "c5943f24-d5dc-406c-e6d9-9e45737e2162"
      },
      "outputs": [],
      "source": [
        "# count nan values in column 'persons_mentioned' and plot chart showing the percentage of nan values in the dataframe\n",
        "\n",
        "# Count NaN values in 'persons_mentioned'\n",
        "nan_count = dataframe['persons_mentioned'].isna().sum()\n",
        "\n",
        "# Calculate percentage of NaN values\n",
        "total_rows = len(dataframe)\n",
        "nan_percentage = (nan_count / total_rows) * 100\n",
        "\n",
        "print(f\"Number of NaN values in 'persons_mentioned': {nan_count}\")\n",
        "print(f\"Percentage of NaN values in 'persons_mentioned': {nan_percentage:.2f}%\")\n",
        "\n",
        "# Create a small dataframe for plotting the percentage\n",
        "nan_data = pd.DataFrame({'Category': ['NaN', 'Not NaN'], 'Percentage': [nan_percentage, 100 - nan_percentage]})\n",
        "\n",
        "# Plotting the percentage of NaN values\n",
        "fig = px.pie(nan_data, values='Percentage', names='Category',\n",
        "             title='Percentage of NaN Values in \"persons_mentioned\"', color_discrete_sequence=gray_shades)\n",
        "fig.show()"
      ]
    },
    {
      "cell_type": "markdown",
      "metadata": {
        "id": "f1P9HKITfMv7"
      },
      "source": [
        "The cell below prints the list of entities (not linked) and the count of documents in which they occur."
      ]
    },
    {
      "cell_type": "code",
      "execution_count": null,
      "metadata": {
        "colab": {
          "base_uri": "https://localhost:8080/",
          "height": 441
        },
        "id": "alrC1748ZUcj",
        "outputId": "4a713624-7db1-4f29-fdd0-4db9619698e4"
      },
      "outputs": [],
      "source": [
        "# in df_persons, where words in column 'persons_mentioned' are separated by '|', write values in new lines\n",
        "df_persons = dataframe[['persons_mentioned']]\n",
        "df_persons_expanded = df_persons['persons_mentioned'].str.split('|', expand=True).stack().reset_index(level=1, drop=True).to_frame('persons_mentioned')\n",
        "\n",
        "# count occurances of values of df_persons_expanded in column persons_mentioned and output ranking with count of occurances\n",
        "\n",
        "person_counts = df_persons_expanded['persons_mentioned'].value_counts().reset_index()\n",
        "person_counts.columns = ['person_mentioned', 'count']\n",
        "\n",
        "# Display the ranking of persons by count\n",
        "print(\"Ranking of Persons Mentioned:\")\n",
        "person_counts\n"
      ]
    },
    {
      "cell_type": "markdown",
      "metadata": {
        "id": "Kf72EB_3fa-D"
      },
      "source": [
        "In the next cell, we can visualise the same data but now in a bar chart, focusing on the top 10 most mentioned persons"
      ]
    },
    {
      "cell_type": "code",
      "execution_count": null,
      "metadata": {
        "colab": {
          "base_uri": "https://localhost:8080/",
          "height": 542
        },
        "id": "C-6romTNZX3o",
        "outputId": "7264b394-a1af-43a4-9459-802561a8ac30"
      },
      "outputs": [],
      "source": [
        "# Plot the top 10 persons mentioned\n",
        "\n",
        "if len(person_counts) > 0:\n",
        "    top_n = 10  # You can adjust this number\n",
        "    fig = px.bar(person_counts.head(top_n), x='person_mentioned', y='count',\n",
        "                 labels={'person_mentioned':'Person', 'count':'Count'},\n",
        "                 title=f'Top {top_n} Most Mentioned Persons')\n",
        "    fig.update_layout(xaxis={'categoryorder':'total descending'})\n",
        "    fig.update_traces(marker_color='black')\n",
        "    fig.show()\n",
        "else:\n",
        "    print(\"No persons mentioned found in the data.\")"
      ]
    },
    {
      "cell_type": "markdown",
      "metadata": {
        "id": "8bXvpQXQfjk_"
      },
      "source": [
        "Let's now compare the most mentioned persons with the linked entities we have in the Impresso Web App. For that, we need access to the Impresso API.\n",
        "\n",
        "Run the following cell to install the impresso python library. You may need to restart the kernel to use updated packages. To do so, on Google Colab, go to Runtime and select Restart session."
      ]
    },
    {
      "cell_type": "code",
      "execution_count": null,
      "metadata": {
        "colab": {
          "base_uri": "https://localhost:8080/"
        },
        "id": "PJXVnQ-GFqJO",
        "outputId": "ddff9b63-bc20-4955-9cbb-a74efb4509c0"
      },
      "outputs": [],
      "source": [
        "# Impresso Python Library provides access to the API\n",
        "%pip install -q impresso"
      ]
    },
    {
      "cell_type": "markdown",
      "metadata": {
        "id": "7Vd0-nxyF8tj"
      },
      "source": [
        "By running the following cell, we create an instance of the Impresso client and authenticate it with the Impresso API.\n",
        "\n",
        "> The impresso variable stores an instance of ImpressoClient, which establishes a connection to the API using your authentication token. With this object, you can interact with the API to perform operations such as searching for content items, retrieving entities, and fetching facets.\n",
        "\n",
        "The following command will prompt you to enter your Impresso token if it has not been authenticated recently (it expires after 8 hours).\n",
        "\n",
        "To get access to an Impresso API token, go to [Impresso Datalab](https://impresso-project.ch/datalab/) and select Get API Token on the menu."
      ]
    },
    {
      "cell_type": "code",
      "execution_count": null,
      "metadata": {
        "colab": {
          "base_uri": "https://localhost:8080/"
        },
        "id": "7aTtPyPlFqGo",
        "outputId": "b2b2b50e-cc02-4c03-8675-0ceb1bb7c061"
      },
      "outputs": [],
      "source": [
        "from impresso import connect\n",
        "\n",
        "client = connect()"
      ]
    },
    {
      "cell_type": "markdown",
      "metadata": {
        "id": "uDccv2D7J_K9"
      },
      "source": [
        "Now you can load your collection into this notebook."
      ]
    },
    {
      "cell_type": "code",
      "execution_count": null,
      "metadata": {
        "colab": {
          "base_uri": "https://localhost:8080/",
          "height": 315
        },
        "id": "RAyanZ30ZfeM",
        "outputId": "75895dc0-b78c-4a58-d4b3-8019160e31cf"
      },
      "outputs": [],
      "source": [
        "# Find my collections and print them ordering by size (descendent)\n",
        "\n",
        "mycollections = client.collections.find(order_by=\"-size\")\n",
        "mycollections"
      ]
    },
    {
      "cell_type": "code",
      "execution_count": null,
      "metadata": {
        "cellView": "form",
        "colab": {
          "base_uri": "https://localhost:8080/",
          "height": 455
        },
        "id": "kiBqqXbyZkRN",
        "outputId": "d619377c-0a28-47a4-c9fc-db7867d60195"
      },
      "outputs": [],
      "source": [
        "# @title Now, copy the uid of the collection you want to inspect and paste here:\n",
        "collection_id = \"local-QrxZkrAx-4weP_Ewp\" # @param {\"type\":\"string\"}\n",
        "\n",
        "linked_entities = client.search.facet(\n",
        "    \"person\",\n",
        "    collection_id=collection_id,\n",
        "    limit=100,\n",
        "    order_by=\"-count\"\n",
        ")\n",
        "\n",
        "linked_entities = linked_entities.df\n",
        "linked_entities"
      ]
    },
    {
      "cell_type": "markdown",
      "metadata": {
        "id": "ly8OTJ6ggGLN"
      },
      "source": [
        "Now you can see the most mentioned linked entities in your collection. Next step is comparing linked entities with the entities we retrieved from the csv file."
      ]
    },
    {
      "cell_type": "code",
      "execution_count": null,
      "metadata": {
        "colab": {
          "base_uri": "https://localhost:8080/",
          "height": 424
        },
        "id": "EGk9G4y2Zr4B",
        "outputId": "c82f32c2-55f5-48c3-9e4e-5a20363924f5"
      },
      "outputs": [],
      "source": [
        "# Here we create two columns with counts of mentioned entities (retrieved using NER) and linked entities (those linked with wikidata)\n",
        "\n",
        "person_counts = person_counts.rename(columns={'person_mentioned': 'label'})\n",
        "person_counts = person_counts.rename(columns={'count': 'count_mentioned'})\n",
        "linked_entities = linked_entities.rename(columns={'count': 'count_linked'})\n",
        "merged_df = pd.merge(person_counts, linked_entities, on='label', how='inner')\n",
        "merged_df"
      ]
    },
    {
      "cell_type": "markdown",
      "metadata": {
        "id": "uChr97VHgh3z"
      },
      "source": [
        "Now we can visualise this dataframe in the form of bar chart. The chart helps with identifying entities that were successfully linked with wikidata and those that might have been 'ignored' (if the black bar is much bigger than the gray bar).\n",
        "\n",
        "On the other hand, the chart also helps identify entities that might either be linked to the wrong wikidata ID or that occur in diverse forms (if the gray bar is much bigger than the black bar)."
      ]
    },
    {
      "cell_type": "code",
      "execution_count": null,
      "metadata": {
        "colab": {
          "base_uri": "https://localhost:8080/",
          "height": 542
        },
        "id": "74ZBwxIiZuRT",
        "outputId": "a72e5a63-9150-43b8-b467-d747771e59a7"
      },
      "outputs": [],
      "source": [
        "# Plot chart to compare entities mentioned and linked\n",
        "\n",
        "fig = px.bar(merged_df, x='label', y=['count_mentioned', 'count_linked'],\n",
        "             labels={'label':'Person', 'value':'Count', 'variable':'Source'},\n",
        "             title='Comparison of persons mentioned and linked entities', color_discrete_sequence=gray_shades)\n",
        "fig.update_layout(barmode='group')\n",
        "fig.show()"
      ]
    },
    {
      "cell_type": "markdown",
      "metadata": {
        "id": "lTpeUt-VhvVY"
      },
      "source": [
        "We can also inspect more closely which entities have occured in text but have not been linked to wikidata"
      ]
    },
    {
      "cell_type": "code",
      "execution_count": null,
      "metadata": {
        "colab": {
          "base_uri": "https://localhost:8080/",
          "height": 441
        },
        "id": "apkiWBzyZw1E",
        "outputId": "4de42468-64c4-4836-9bca-902f0bcdfb45"
      },
      "outputs": [],
      "source": [
        "# labels in column 'label' that exist in dataframe person_counts but not in dataframe linked_entities\n",
        "\n",
        "# Find labels in person_counts that are not in linked_entities\n",
        "labels_not_in_linked_entities = person_counts[~person_counts['label'].isin(linked_entities['label'])]\n",
        "\n",
        "print(\"Labels in 'person_counts' but not in 'linked_entities':\")\n",
        "labels_not_in_linked_entities"
      ]
    },
    {
      "cell_type": "code",
      "execution_count": null,
      "metadata": {
        "colab": {
          "base_uri": "https://localhost:8080/",
          "height": 542
        },
        "id": "eRsFgI2mZzah",
        "outputId": "29057fba-9e23-4636-d66f-9693c7350265"
      },
      "outputs": [],
      "source": [
        "top_N_persons = labels_not_in_linked_entities.head(30)\n",
        "# Plot the count of labels not in linked entities\n",
        "fig = px.bar(top_N_persons, x='label', y='count_mentioned',\n",
        "             labels={'label':'Person Mentioned', 'count_mentioned':'Count'},\n",
        "             title=\"Count of 'Persons Mentioned' Not Found in 'Linked Entities'\", color_discrete_sequence=gray_shades)\n",
        "fig.update_layout(xaxis={'categoryorder':'total descending'})\n",
        "fig.show()"
      ]
    },
    {
      "cell_type": "markdown",
      "metadata": {
        "id": "23i3oydokb9u"
      },
      "source": [
        "# Part 6: Data quality assessment\n",
        "\n"
      ]
    },
    {
      "cell_type": "markdown",
      "metadata": {
        "id": "_qJPUU8bPKBF"
      },
      "source": [
        "Lastly, you can explore the quality of the data in your collection. This means, how many articles in your collection have OLR (Optical Layout Recognition) or the quality of OCR (Optical Character Recognition). [More information about OCR/OLR](https://impresso-project.ch/app/faq#What-OCR).  "
      ]
    },
    {
      "cell_type": "code",
      "execution_count": null,
      "metadata": {
        "colab": {
          "base_uri": "https://localhost:8080/",
          "height": 542
        },
        "id": "mC4ZAnNcZ619",
        "outputId": "99e4f1ec-614e-47ed-9bff-75fa24f950d9"
      },
      "outputs": [],
      "source": [
        "# plot a pie chart based on column 'is_olr' in dataframe\n",
        "\n",
        "# Count values in column 'is_olr' and plot a pie chart\n",
        "is_olr_counts = dataframe['is_olr'].value_counts().reset_index()\n",
        "is_olr_counts.columns = ['is_olr', 'count']\n",
        "\n",
        "fig = px.pie(is_olr_counts, values='count', names='is_olr',\n",
        "             title='Distribution of \"is_olr\" Status', color_discrete_sequence=gray_shades)\n",
        "fig.show()"
      ]
    },
    {
      "cell_type": "markdown",
      "metadata": {
        "id": "PiRWJ1gpO3u5"
      },
      "source": [
        "# Conclusion\n",
        "\n",
        "Be mindful of people with [colour blindness](https://web.archive.org/web/20250327234513/https://www.tableau.com/blog/examining-data-viz-rules-dont-use-red-green-together) when choosing the colours of your visuals. The internet is full of tools to generate accessible palettes, which you can consult before deciding on the best colours for your visuals.\n",
        "\n",
        "## Next Steps\n",
        "\n",
        "That's it for now! Next, you can explore:\n",
        "\n",
        "- The [Visualising Place Entities on Maps](https://impresso-project.ch/datalab/notebooks/impresso-py-maps/) notebook introduces you to how to create maps based on locations mentioned in newspaper's articles.\n"
      ]
    },
    {
      "cell_type": "markdown",
      "metadata": {
        "id": "r29jtBXBPA7H"
      },
      "source": [
        "---\n",
        "## Project and License info\n",
        "\n",
        "### Notebook credits [![CreditLogo.png](data:image/png;base64,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)](https://credit.niso.org/)\n",
        "**Writing - Original draft:** Caio Mello, Pauline Conti, Martin Grandjean. **Conceptualization:** Martin Grandjean, Caio Mello, Pauline Conti. **Software:** Roman Kalyakin. **Writing - Review & Editing**: Cao Vy. **Validation:** TBC. **Datalab editorial board:** Caio Mello (Managing), Pauline Conti, Emanuela Boros, Marten Düring, Juri Opitz, Martin Grandjean, Estelle Bunout. **Data curation & Formal analysis:** Maud Ehrmann, Emanuela Boros, Pauline Conti, Simon Clematide, Juri Opitz, Andrianos Michail. **Methodology:** Caio Mello, Pauline Conti. **Supervision:** Martin Grandjean. **Funding aquisition:** Maud Ehrmann, Simon Clematide, Marten Düring, Raphaëlle Ruppen Coutaz.\n",
        "\n",
        "\n",
        "<br><a target=\"_blank\" href=\"https://creativecommons.org/licenses/by/4.0/\">\n",
        "  <img src=\"https://mirrors.creativecommons.org/presskit/buttons/88x31/png/by.png\"  width=\"100\" alt=\"Open In Colab\"/>\n",
        "</a>\n",
        "\n",
        "This notebook is published under [CC BY 4.0 License](https://creativecommons.org/licenses/by/4.0/)\n",
        "\n",
        "For feedback on this notebook, please send an email to info@impresso-project.ch\n",
        "\n",
        "### Impresso project\n",
        "\n",
        "[Impresso - Media Monitoring of the Past](https://impresso-project.ch) is an interdisciplinary research project that aims to develop and consolidate tools for processing and exploring large collections of media archives across modalities, time, languages and national borders. The first project (2017-2021) was funded by the Swiss National Science Foundation under grant No. [CRSII5_173719](http://p3.snf.ch/project-173719) and the second project (2023-2027) by the SNSF under grant No. [CRSII5_213585](https://data.snf.ch/grants/grant/213585) and the Luxembourg National Research Fund under grant No. 17498891.\n",
        "<br></br>\n",
        "### License\n",
        "\n",
        "All Impresso code is published open source under the [GNU Affero General Public License](https://github.com/impresso/impresso-pyindexation/blob/master/LICENSE) v3 or later.\n",
        "\n",
        "\n",
        "---\n",
        "\n",
        "<p align=\"center\">\n",
        "  <img src=\"https://github.com/impresso/impresso.github.io/blob/master/assets/images/3x1--Yellow-Impresso-Black-on-White--transparent.png?raw=true\" width=\"350\" alt=\"Impresso Project Logo\"/>\n",
        "</p>\n",
        "\n"
      ]
    }
  ],
  "metadata": {
    "colab": {
      "provenance": []
    },
    "kernelspec": {
      "display_name": "Python 3",
      "name": "python3"
    },
    "language_info": {
      "name": "python"
    }
  },
  "nbformat": 4,
  "nbformat_minor": 0
}
