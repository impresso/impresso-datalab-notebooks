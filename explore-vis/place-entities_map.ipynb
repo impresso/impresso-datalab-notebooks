{
 "cells": [
  {
   "cell_type": "markdown",
   "metadata": {
    "id": "yRLcZiRnl4u2"
   },
   "source": [
    "# Visualising Place Entities on Maps\n",
    "\n",
    "<a target=\"_blank\" href=\"https://colab.research.google.com/github/impresso/impresso-datalab-notebooks/blob/main/explore-vis/place-entities_map.ipynb\">\n",
    "  <img src=\"https://colab.research.google.com/assets/colab-badge.svg\" alt=\"Open In Colab\"/>\n",
    "</a> \n",
    "\n",
    "If something doesn't work, you can [report a problem](https://github.com/impresso/impresso-datalab-notebooks/blob/main/reporting-problems.md)."
   ]
  },
  {
   "cell_type": "markdown",
   "metadata": {},
   "source": [
    "## What is this notebook about?\n",
    "\n",
    "This notebook presents a step-by-step guide to retrieve names of places mentionned in the Impresso corpus and plot them on a map for a given search query.\n",
    "\n",
    " To access the data, you will need an Impresso account. If you do not have one yet, you can register on the [Impresso Datalab Website](https://impresso-project.ch/datalab/)."
   ]
  },
  {
   "cell_type": "markdown",
   "metadata": {},
   "source": [
    "## What will you learn?\n",
    "\n",
    "In this notebook, you will learn how to:\n",
    "\n",
    "- Search for content items (news articles, radio files) using the Impresso python library;\n",
    "- Retrieve information on places that are mentioned in texts for a given query;\n",
    "- Link those place entities with Wikidata IDs;\n",
    "- Plot an interactive map that tags locations.\n",
    "\n",
    "## Useful resources\n",
    "\n",
    "These are some useful resources to complement this notebook's content: \n",
    "\n",
    "- [How Charts Lie](https://web.archive.org/web/20241110022144/https://stephencredmond.medium.com/a-review-of-how-charts-lie-by-alberto-cairo-2763286237a6) by Alberto Cairo (2019) provides a comprehensive introduction to critical data visualisation;\n",
    "- [Chapter 2.3: Fun with visualising geographic information](https://cssbook.net/content/chapter02.html#sec-fungeo) of the book [Computational Analysis of Communication](https://cssbook.net/) by Van Atteveldt, W., Trilling, D., & Calderón, C. A. (2022)."
   ]
  },
  {
   "cell_type": "markdown",
   "metadata": {},
   "source": [
    "## Prerequisites\n",
    "\n",
    "Install dependencies:\n",
    "\n",
    "Run the following cell to install the required packages:\n",
    "\n",
    "* `impresso-py` - [See documentation](https://impresso.github.io/impresso-py/)\n",
    "* `ipyleaflet` - [See documentation](https://ipyleaflet.readthedocs.io/en/latest/index.html)\n",
    "\n",
    "> You may need to restart the kernel to use updated packages. To do so, on Google Colab, go to *Runtime* and select *Restart session*. "
   ]
  },
  {
   "cell_type": "code",
   "execution_count": null,
   "metadata": {
    "id": "Z9NkyAPSlzpV"
   },
   "outputs": [],
   "source": [
    "%pip install -q impresso ipyleaflet"
   ]
  },
  {
   "cell_type": "markdown",
   "metadata": {},
   "source": [
    "## Initialising an Impresso Client\n",
    "\n",
    "By running the following cell, you create an instance of the Impresso client and authenticate it with the Impresso API.\n",
    "\n",
    "> The `impresso_session` variable stores an instance of `ImpressoClient`, which establishes a connection to the API using your authentication token. With this object, you can interact with the API to perform operations such as searching for content items, retrieving entities, and fetching facets.\n",
    "\n",
    "The following command will prompt you to enter your Impresso token if it has not been authenticated recently (it expires after 8 hours). Paste your API token in the form and press Enter.\n",
    "\n",
    "To get access to an Impresso API token, go to [Impresso Datalab](https://impresso-project.ch/datalab/) and select *Get API Token* on the menu."
   ]
  },
  {
   "cell_type": "code",
   "execution_count": null,
   "metadata": {
    "id": "ZvQs-aKtqSDh"
   },
   "outputs": [],
   "source": [
    "from impresso import connect, OR, DateRange\n",
    "\n",
    "client = connect()"
   ]
  },
  {
   "cell_type": "markdown",
   "metadata": {},
   "source": [
    "# Part 1. Data preparation"
   ]
  },
  {
   "cell_type": "markdown",
   "metadata": {
    "id": "4zm8UOU0qj71"
   },
   "source": [
    "## Search and retrieve place entities\n",
    "\n",
    "Let's begin by searching for the top 100 place entities (or locations) mentioned in content items that talk about nuclear power plants in the first three decades following the second world war. \n",
    "\n",
    "> In Impresso, a **Content Item** is the smallest unit of editorial content within a newspaper or radio collection. This can be an article (for newspapers) or a radio show or episode (for radio programs). Content items can also vary by type, including articles, advertisements, tables, images, and more. Please note that when a newspaper does not have segmentation ([OLR - Optical Layout Recognition](https://impresso-project.ch/app/faq#What-OCR)) content items for this title correspond to pages.\n",
    "\n",
    "Search will be conducted using French, English and German keywords. Results are sorted by frequency of location mentions (in descending order `-count`)."
   ]
  },
  {
   "cell_type": "code",
   "execution_count": null,
   "metadata": {
    "id": "nEqtRN_OrHVw"
   },
   "outputs": [],
   "source": [
    "locations = client.search.facet(\n",
    "    \"location\",\n",
    "    term=OR(\"centrale nucléaire\", \"nuclear power plant\", \"Kernkraftwerk\"),\n",
    "    date_range=DateRange(\"1945-01-01\", \"1975-01-01\"),\n",
    "    \n",
    "    # Increasing the limit above 100 might break the code. \n",
    "    limit=100,\n",
    "    order_by=\"-count\"\n",
    ")\n",
    "locations"
   ]
  },
  {
   "cell_type": "markdown",
   "metadata": {
    "id": "hJFsjJn3sgel"
   },
   "source": [
    "Now, you can get entities' metadata, including Wikidata details. \n",
    "\n",
    "> Impresso links place entities to [Wikidata](https://www.wikidata.org/wiki/Wikidata:Introduction). Therefore, after a place entity has been recognised by the models, it is linked to a unique identifier (or Wikidata ID). For Switzerland, for example, the identifier is 'Q22036'. This helps, for instance, disambiguate entities. If an article mentions Washington, Wikidata will have a different ID for the US former president George Washington, the US capital city Washington D.C., and the US state Washington. "
   ]
  },
  {
   "cell_type": "code",
   "execution_count": null,
   "metadata": {
    "id": "ZJ3-OYjNsk2h"
   },
   "outputs": [],
   "source": [
    "# Store place entities in a list\n",
    "entities_ids = locations.df.index.tolist()\n",
    "\n",
    "# Retrieve metadata on entities \n",
    "entities = client.entities.find(entity_id=OR(*entities_ids), resolve=True, limit=len(entities_ids))\n",
    "entities"
   ]
  },
  {
   "cell_type": "markdown",
   "metadata": {
    "id": "gEF8KFwHv3fX"
   },
   "source": [
    "In order to plot a map, you need the geographic coordinates of each location. However, not all locations have this information. \n",
    "\n",
    "You will then filter out entities that have no coordinates. "
   ]
  },
  {
   "cell_type": "code",
   "execution_count": null,
   "metadata": {
    "id": "TFyRKiTjv5-c"
   },
   "outputs": [],
   "source": [
    "import pandas as pd\n",
    "# disable \"copy-on-write\" warning\n",
    "pd.options.mode.copy_on_write = True\n",
    "\n",
    "df = entities.df\n",
    "entities_with_coordinates = df[df['wikidataDetails.coordinates.latitude'].notna() & df['wikidataDetails.coordinates.longitude'].notna()]\n",
    "\n",
    "# as dataframe has too many columns, we are selecting only the ones we want to see in the output for now\n",
    "selected_columns = entities_with_coordinates[['label', 'wikidataId', 'totalMentions', 'wikidataDetails.coordinates.latitude', 'wikidataDetails.coordinates.longitude', 'wikidataDetails.descriptions.fr']]\n",
    "selected_columns"
   ]
  },
  {
   "cell_type": "code",
   "execution_count": null,
   "metadata": {},
   "outputs": [],
   "source": [
    "# You can check what the removed entities are by running this code (if result is empty, all entities have coordinates)\n",
    "\n",
    "entities_without_coordinates = df[df['wikidataDetails.coordinates.latitude'].isna() & df['wikidataDetails.coordinates.longitude'].isna()]\n",
    "entities_without_coordinates[['label', 'wikidataId', 'wikidataDetails.coordinates.latitude', 'wikidataDetails.coordinates.longitude', 'wikidataDetails.descriptions.fr']]"
   ]
  },
  {
   "cell_type": "markdown",
   "metadata": {},
   "source": [
    "In the last column of the output for 'selected_columns', you see a description (in French) of every Wikidata ID. You can find the ones that are countries by checking whether the word 'pays' appears in column 'wikidataDetails.descriptions.fr'. If true, then we add a country tag to the new column 'is_country'."
   ]
  },
  {
   "cell_type": "code",
   "execution_count": null,
   "metadata": {},
   "outputs": [],
   "source": [
    "\n",
    "# Check for the presence of the word 'pays' and assign TRUE or FALSE to new column 'is_country'\n",
    "entities_with_coordinates['is_country'] = entities_with_coordinates['wikidataDetails.descriptions.fr'].str.contains('pays')\n",
    "\n",
    "# Again, we are selecting only the columns we want to see in the output for now\n",
    "selected_columns_countries = entities_with_coordinates[['label', 'wikidataId', 'totalMentions', 'wikidataDetails.descriptions.fr', 'is_country']]\n",
    "selected_columns_countries "
   ]
  },
  {
   "cell_type": "markdown",
   "metadata": {
    "id": "0qTmuE7vSgMp"
   },
   "source": [
    "Now, you count how many times each place entity occurs in our dataframe and add this value to a new column named 'mentions_count'."
   ]
  },
  {
   "cell_type": "code",
   "execution_count": null,
   "metadata": {
    "id": "KGUcrriHRzsc"
   },
   "outputs": [],
   "source": [
    "entities_with_coordinates['mentions_count'] = entities_with_coordinates.index.map(locations.df['count'])\n",
    "\n",
    "# output shows the top 5 most mention entities in the documents you 'collected' \n",
    "entities_with_coordinates[['label', 'wikidataId', 'wikidataDetails.descriptions.fr', 'mentions_count']].sort_values(by='mentions_count', ascending=False).head()"
   ]
  },
  {
   "cell_type": "markdown",
   "metadata": {
    "id": "e0azuaG_wWXq"
   },
   "source": [
    "# Part 2. Plot entities on the map"
   ]
  },
  {
   "cell_type": "markdown",
   "metadata": {
    "id": "NlCWMjt2xuA3"
   },
   "source": [
    "## Utility methods\n",
    "\n",
    "Below are some functions used to calculate extra details needed to plot data on a map. "
   ]
  },
  {
   "cell_type": "markdown",
   "metadata": {
    "id": "EOIyQi81YrxT"
   },
   "source": [
    "This first one finds geo bounds of a group of items. This translates geo coordinates into positions on the map. "
   ]
  },
  {
   "cell_type": "code",
   "execution_count": null,
   "metadata": {
    "id": "vLbgIdCBxv1z"
   },
   "outputs": [],
   "source": [
    "def find_bounds(coordinates):\n",
    "  \"\"\"\n",
    "  Finds the top/left, bottom/right bounds of an area that fits all coordinates.\n",
    "\n",
    "  Args:\n",
    "    coordinates: A list of coordinate tuples (latitude, longitude).\n",
    "\n",
    "  Returns:\n",
    "    A tuple containing the top/left and bottom/right bounds:\n",
    "      ((top_lat, left_lon), (bottom_lat, right_lon))\n",
    "  \"\"\"\n",
    "  if not coordinates:\n",
    "    return None\n",
    "\n",
    "  min_lat = coordinates[0][0]\n",
    "  max_lat = coordinates[0][0]\n",
    "  min_lon = coordinates[0][1]\n",
    "  max_lon = coordinates[0][1]\n",
    "\n",
    "  for lat, lon in coordinates:\n",
    "    min_lat = min(min_lat, lat)\n",
    "    max_lat = max(max_lat, lat)\n",
    "    min_lon = min(min_lon, lon)\n",
    "    max_lon = max(max_lon, lon)\n",
    "\n",
    "  return ((max_lat, min_lon), (min_lat, max_lon))\n"
   ]
  },
  {
   "cell_type": "markdown",
   "metadata": {
    "id": "2U1u_sSVYwWu"
   },
   "source": [
    "This second function creates HTML code used for rendering the hover pop-up. This way, you can create an interactive map using `ipyleaflet` package."
   ]
  },
  {
   "cell_type": "code",
   "execution_count": null,
   "metadata": {
    "id": "X0JNp8-2zN2p"
   },
   "outputs": [],
   "source": [
    "from ipywidgets import HTML\n",
    "from ipyleaflet import Popup\n",
    "\n",
    "def build_hover_popup(title: str, subtitle: str, mentions: int) -> Popup:\n",
    "  message = HTML()\n",
    "  message.value = f\"\"\"\n",
    "    <div style=\"display: flex; flex-direction: column; color: black; line-height: normal; max-width: 200px;\">\n",
    "      <b>{title}</b>\n",
    "      <p>{subtitle}</p>\n",
    "      <b>Mentions: {mentions}</b>\n",
    "    </div>\n",
    "  \"\"\"\n",
    "\n",
    "  # Popup with a given location on the map:\n",
    "  popup = Popup(\n",
    "      # location=center,\n",
    "      child=message,\n",
    "      close_button=False,\n",
    "      auto_close=True,\n",
    "      close_on_escape_key=False\n",
    "  )\n",
    "  return popup"
   ]
  },
  {
   "cell_type": "markdown",
   "metadata": {
    "id": "I3hczNN_x0ul"
   },
   "source": [
    "## Plot map with adaptive pins\n",
    "\n",
    "Display entities on a map with pin size based on the number of mentions (more mentions = bigger pin). The pins are colored based on the type of the entity: country (red) or location (black). Location can be either a city, state, region, commune, etc.\n",
    "\n",
    "> Be mindful of people with [colour blindness](https://web.archive.org/web/20250327234513/https://www.tableau.com/blog/examining-data-viz-rules-dont-use-red-green-together) when choosing the colours of your visuals. Here, we opted for red and black due to the high contrast. The internet is full of tools to generate accessible palettes, which you can consult before deciding on the best colours. "
   ]
  },
  {
   "cell_type": "code",
   "execution_count": null,
   "metadata": {
    "id": "I7FzgNN4wA-h"
   },
   "outputs": [],
   "source": [
    "from ipyleaflet import Map, Marker, AwesomeIcon, CircleMarker\n",
    "\n",
    "map = Map(zoom=0)\n",
    "\n",
    "country_icon = AwesomeIcon(\n",
    "  name='fa-globe',\n",
    "  marker_color='red',\n",
    "  spin=False,\n",
    ")\n",
    "\n",
    "place_icon = AwesomeIcon(\n",
    "  name='fa-building-o',\n",
    "  marker_color='green',\n",
    "  spin=False,\n",
    ")\n",
    "\n",
    "max_mentions_count = entities_with_coordinates['mentions_count'].max()\n",
    "\n",
    "coordinates = []\n",
    "markers = []\n",
    "# Build markers\n",
    "for index, row in entities_with_coordinates.iterrows():\n",
    "    lat = row['wikidataDetails.coordinates.latitude']\n",
    "    lon = row['wikidataDetails.coordinates.longitude']\n",
    "    label = row['wikidataDetails.labels.en']\n",
    "    description = row['wikidataDetails.descriptions.en']\n",
    "    is_country = row['is_country']\n",
    "\n",
    "    radius = (row['mentions_count'] / max_mentions_count) * 20\n",
    "\n",
    "\n",
    "    marker = CircleMarker(\n",
    "      location=(lat, lon),\n",
    "      draggable=False,\n",
    "      title=label,\n",
    "      color=\"red\" if is_country else \"black\",\n",
    "      fill_color=\"red\" if is_country else \"black\",\n",
    "      radius=int(radius)\n",
    "    )\n",
    "\n",
    "    marker.popup = build_hover_popup(label, description, row['mentions_count'])\n",
    "\n",
    "    coordinates.append((lat, lon))\n",
    "    markers.append(marker)\n",
    "\n",
    "\n",
    "# Fit the map to the bounds\n",
    "map.fit_bounds(find_bounds(coordinates))\n",
    "\n",
    "# add markers\n",
    "for m in markers:\n",
    "  map += m\n",
    "\n",
    "\n",
    "display(map)"
   ]
  },
  {
   "cell_type": "markdown",
   "metadata": {},
   "source": [
    "## Try a heatmap\n",
    "\n",
    "This is just an alternative visualisation. It displays entities on a map with a heatmap overlay. The colour intensity is higher where the entities are more concentrated and more frequently mentioned. This map style is, however, considerably less accessible. It's worth considering which map meets best your needs and the needs of your audiences."
   ]
  },
  {
   "cell_type": "code",
   "execution_count": null,
   "metadata": {},
   "outputs": [],
   "source": [
    "from ipyleaflet import Map, Heatmap\n",
    "\n",
    "map = Map(zoom=0)\n",
    "\n",
    "locations = []\n",
    "for index, row in entities_with_coordinates.iterrows():\n",
    "    lat = row['wikidataDetails.coordinates.latitude']\n",
    "    lon = row['wikidataDetails.coordinates.longitude']\n",
    "    # add every coordinate 30 times to make the heatmap more visible\n",
    "    locations.extend([(lat, lon) for i in range(30)])\n",
    "\n",
    "heatmap = Heatmap(\n",
    "    locations=locations,\n",
    "    radius=20,\n",
    "    blur=10,\n",
    ")\n",
    "\n",
    "map.add(heatmap)\n",
    "\n",
    "map"
   ]
  },
  {
   "cell_type": "markdown",
   "metadata": {},
   "source": [
    "## Conclusion\n",
    "\n",
    "This notebook provided you with a step-by-step guide to retrieve place entities from Impresso corpus and visualise them on a map. \n",
    "\n",
    "It is important to have in mind that only places that have been tagged as entity 'location' in the Impresso corpus will be added to this visualisation. Because of the way Named Entity Recognition (NER) works, it is possible that some places that are mentioned in the texts are not recognised as 'location' by the algorithms. In this case, those places will not be shown in the graph. For more information on NER, check our [FAQ](https://impresso-project.ch/app/faq#what-is-nep).\n",
    "\n",
    "## Next Steps\n",
    "\n",
    "That's it for now! Next, you can explore the [Exploring Entity Co-occurrence Networks](https://github.com/impresso/impresso-datalab-notebooks/blob/main/explore-vis/entity_network.ipynb) notebook, which demonstrates how to create network graphs to represent persons that are mentioned in the Impresso corpus."
   ]
  },
  {
   "cell_type": "markdown",
   "metadata": {},
   "source": [
    "---\n",
    "## Project and License info\n",
    "\n",
    "### Notebook credits [![CreditLogo.png](data:image/png;base64,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)](https://credit.niso.org/)\n",
    "**Writing - Original draft:**  Roman Kalyakin. **Conceptualization:** Marten Düring. **Software:** Roman Kalyakin. **Writing - Review & Editing**: Marten Düring, Caio Mello. **Validation:** Martin Grandjean, Kirill Veprikov, Cao Vy. **Datalab editorial board:** Caio Mello (Managing), Pauline Conti, Emanuela Boros, Marten Düring, Juri Opitz, Martin Grandjean, Estelle Bunout, Cao Vy. **Data curation & Formal analysis:** Maud Ehrmann, Emanuela Boros, Pauline Conti, Simon Clematide, Juri Opitz, Andrianos Michail. **Methodology:** Roman Kalyakin. **Supervision:** Marten Düring. **Funding aquisition:** Maud Ehrmann, Simon Clematide, Marten Düring, Raphaëlle Ruppen Coutaz.\n",
    "\n",
    "<br><a target=\"_blank\" href=\"https://creativecommons.org/licenses/by/4.0/\">\n",
    "  <img src=\"https://mirrors.creativecommons.org/presskit/buttons/88x31/png/by.png\"  width=\"100\" alt=\"Open In Colab\"/>\n",
    "</a> \n",
    "\n",
    "This notebook is published under [CC BY 4.0 License](https://creativecommons.org/licenses/by/4.0/)\n",
    "\n",
    "For feedback on this notebook, please send an email to info@impresso-project.ch\n",
    "\n",
    "### Impresso project\n",
    "\n",
    "[Impresso - Media Monitoring of the Past](https://impresso-project.ch) is an interdisciplinary research project that aims to develop and consolidate tools for processing and exploring large collections of media archives across modalities, time, languages and national borders. The first project (2017-2021) was funded by the Swiss National Science Foundation under grant No. [CRSII5_173719](http://p3.snf.ch/project-173719) and the second project (2023-2027) by the SNSF under grant No. [CRSII5_213585](https://data.snf.ch/grants/grant/213585) and the Luxembourg National Research Fund under grant No. 17498891.\n",
    "<br></br>\n",
    "### License\n",
    "\n",
    "All Impresso code is published open source under the [GNU Affero General Public License](https://github.com/impresso/impresso-pyindexation/blob/master/LICENSE) v3 or later.\n",
    "\n",
    "\n",
    "---\n",
    "\n",
    "<p align=\"center\">\n",
    "  <img src=\"https://github.com/impresso/impresso.github.io/blob/master/assets/images/3x1--Yellow-Impresso-Black-on-White--transparent.png?raw=true\" width=\"350\" alt=\"Impresso Project Logo\"/>\n",
    "</p>\n"
   ]
  },
  {
   "cell_type": "markdown",
   "metadata": {},
   "source": []
  }
 ],
 "metadata": {
  "colab": {
   "provenance": []
  },
  "kernelspec": {
   "display_name": ".venv",
   "language": "python",
   "name": "python3"
  },
  "language_info": {
   "codemirror_mode": {
    "name": "ipython",
    "version": 3
   },
   "file_extension": ".py",
   "mimetype": "text/x-python",
   "name": "python",
   "nbconvert_exporter": "python",
   "pygments_lexer": "ipython3",
   "version": "3.12.7"
  }
 },
 "nbformat": 4,
 "nbformat_minor": 0
}
