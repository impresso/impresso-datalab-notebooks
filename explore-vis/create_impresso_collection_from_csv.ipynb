{
 "cells": [
  {
   "cell_type": "markdown",
   "metadata": {
    "id": "f8VMzOmOMJ5u"
   },
   "source": [
    "# Add existing items in a collection\n",
    "\n",
    "## What is this notebook about?\n",
    "\n",
    "This notebook allows the upload of an existing local collection into the app.\n"
   ]
  },
  {
   "cell_type": "code",
   "execution_count": 11,
   "metadata": {
    "id": "7bOYby77MCec"
   },
   "outputs": [
    {
     "name": "stdout",
     "output_type": "stream",
     "text": [
      "Note: you may need to restart the kernel to use updated packages.\n"
     ]
    }
   ],
   "source": [
    "%pip install -q impresso --upgrade"
   ]
  },
  {
   "cell_type": "markdown",
   "metadata": {},
   "source": [
    "### Open a working client connection to the Impresso API\n",
    "\n",
    "Requires a valid API key and secret. You can obtain these from the Impresso website.\n"
   ]
  },
  {
   "cell_type": "code",
   "execution_count": 12,
   "metadata": {
    "id": "yb8RPt4LQsDQ"
   },
   "outputs": [
    {
     "name": "stdout",
     "output_type": "stream",
     "text": [
      "🎉 You are now connected to the Impresso API!  🎉\n",
      "🔗 Using API: https://impresso-project.ch/public-api\n"
     ]
    }
   ],
   "source": [
    "from impresso import connect\n",
    "\n",
    "client = connect()"
   ]
  },
  {
   "cell_type": "markdown",
   "metadata": {},
   "source": [
    "### 📂 Load a local CSV file\n",
    "\n",
    "And now, we load a **local CSV file** that you have saved on your computer.  \n",
    "This file comes from the Impresso platform and contains your sampled articles.  \n",
    "\n",
    "Because Impresso exports include some disclaimers and extra lines at the top, we tell [pandas](https://pandas.pydata.org/) to skip the first 4 rows so we only keep the useful data.  \n",
    "\n",
    "- We're loading the CSV from your computer using [pandas](https://pandas.pydata.org/), a popular Python library for working with tabular data.  \n",
    "- The dataset contains article metadata such as `uid`, `title`, `publicationDate`, etc.  \n",
    "- We will use the `uid` column later to add these articles into a new Impresso user collection.  "
   ]
  },
  {
   "cell_type": "code",
   "execution_count": 13,
   "metadata": {},
   "outputs": [
    {
     "name": "stdout",
     "output_type": "stream",
     "text": [
      "Columns: ['uid', 'access_right', 'collections', 'countryCode', 'dataProviderCode', 'excerpt', 'isOnFrontPage', 'is_content_available', 'is_olr', 'issue', 'languageCode', 'locations_mentioned', 'mediaCode', 'mediaPoliticalOrientation', 'mediaTopics', 'newsagencies_mentioned', 'pages', 'periodicity', 'persons_mentioned', 'provinceCode', 'publicationDate', 'relevance', 'title', 'topics', 'totalPages', 'transcript', 'transcriptLength', 'type', 'year']\n",
      "Shape: (26, 29)\n"
     ]
    },
    {
     "data": {
      "text/html": [
       "<div>\n",
       "<style scoped>\n",
       "    .dataframe tbody tr th:only-of-type {\n",
       "        vertical-align: middle;\n",
       "    }\n",
       "\n",
       "    .dataframe tbody tr th {\n",
       "        vertical-align: top;\n",
       "    }\n",
       "\n",
       "    .dataframe thead th {\n",
       "        text-align: right;\n",
       "    }\n",
       "</style>\n",
       "<table border=\"1\" class=\"dataframe\">\n",
       "  <thead>\n",
       "    <tr style=\"text-align: right;\">\n",
       "      <th></th>\n",
       "      <th>uid</th>\n",
       "      <th>access_right</th>\n",
       "      <th>collections</th>\n",
       "      <th>countryCode</th>\n",
       "      <th>dataProviderCode</th>\n",
       "      <th>excerpt</th>\n",
       "      <th>isOnFrontPage</th>\n",
       "      <th>is_content_available</th>\n",
       "      <th>is_olr</th>\n",
       "      <th>issue</th>\n",
       "      <th>...</th>\n",
       "      <th>provinceCode</th>\n",
       "      <th>publicationDate</th>\n",
       "      <th>relevance</th>\n",
       "      <th>title</th>\n",
       "      <th>topics</th>\n",
       "      <th>totalPages</th>\n",
       "      <th>transcript</th>\n",
       "      <th>transcriptLength</th>\n",
       "      <th>type</th>\n",
       "      <th>year</th>\n",
       "    </tr>\n",
       "  </thead>\n",
       "  <tbody>\n",
       "    <tr>\n",
       "      <th>0</th>\n",
       "      <td>DTT-1958-07-19-a-i0041</td>\n",
       "      <td>NaN</td>\n",
       "      <td>NaN</td>\n",
       "      <td>CH</td>\n",
       "      <td>Migros</td>\n",
       "      <td>[Copyright restricted]</td>\n",
       "      <td>False</td>\n",
       "      <td>N</td>\n",
       "      <td>True</td>\n",
       "      <td>DTT-1958-07-19-a</td>\n",
       "      <td>...</td>\n",
       "      <td>na</td>\n",
       "      <td>1958-07-19T00:00:00Z</td>\n",
       "      <td>4.102252</td>\n",
       "      <td>Jazzecke ää ^ um—¦Mm —uaamri+laJzZtäm</td>\n",
       "      <td>tm-de-all-v2.0_tp87_de|0.619 tm-de-all-v2.0_tp...</td>\n",
       "      <td>1</td>\n",
       "      <td>[Copyright restricted]</td>\n",
       "      <td>893</td>\n",
       "      <td>ar</td>\n",
       "      <td>1958</td>\n",
       "    </tr>\n",
       "    <tr>\n",
       "      <th>1</th>\n",
       "      <td>DTT-1959-06-27-a-i0223</td>\n",
       "      <td>NaN</td>\n",
       "      <td>NaN</td>\n",
       "      <td>CH</td>\n",
       "      <td>Migros</td>\n",
       "      <td>[Copyright restricted]</td>\n",
       "      <td>False</td>\n",
       "      <td>N</td>\n",
       "      <td>True</td>\n",
       "      <td>DTT-1959-06-27-a</td>\n",
       "      <td>...</td>\n",
       "      <td>na</td>\n",
       "      <td>1959-06-27T00:00:00Z</td>\n",
       "      <td>1.096451</td>\n",
       "      <td>mwm®fmmm WMMMMEMW*W&gt;M@&gt;@IMMMM</td>\n",
       "      <td>tm-de-all-v2.0_tp62_de|0.389 tm-de-all-v2.0_tp...</td>\n",
       "      <td>1</td>\n",
       "      <td>[Copyright restricted]</td>\n",
       "      <td>3826</td>\n",
       "      <td>ar</td>\n",
       "      <td>1959</td>\n",
       "    </tr>\n",
       "    <tr>\n",
       "      <th>2</th>\n",
       "      <td>DTT-1959-07-02-a-i0035</td>\n",
       "      <td>NaN</td>\n",
       "      <td>NaN</td>\n",
       "      <td>CH</td>\n",
       "      <td>Migros</td>\n",
       "      <td>[Copyright restricted]</td>\n",
       "      <td>False</td>\n",
       "      <td>N</td>\n",
       "      <td>True</td>\n",
       "      <td>DTT-1959-07-02-a</td>\n",
       "      <td>...</td>\n",
       "      <td>na</td>\n",
       "      <td>1959-07-02T00:00:00Z</td>\n",
       "      <td>4.767456</td>\n",
       "      <td>Radio Beromünster Mittwoch, 1. Juli 1959...</td>\n",
       "      <td>tm-de-all-v2.0_tp62_de|0.307 tm-de-all-v2.0_tp...</td>\n",
       "      <td>1</td>\n",
       "      <td>[Copyright restricted]</td>\n",
       "      <td>536</td>\n",
       "      <td>ar</td>\n",
       "      <td>1959</td>\n",
       "    </tr>\n",
       "    <tr>\n",
       "      <th>3</th>\n",
       "      <td>DTT-1970-01-03-a-i0046</td>\n",
       "      <td>NaN</td>\n",
       "      <td>NaN</td>\n",
       "      <td>CH</td>\n",
       "      <td>Migros</td>\n",
       "      <td>[Copyright restricted]</td>\n",
       "      <td>False</td>\n",
       "      <td>N</td>\n",
       "      <td>True</td>\n",
       "      <td>DTT-1970-01-03-a</td>\n",
       "      <td>...</td>\n",
       "      <td>na</td>\n",
       "      <td>1970-01-03T00:00:00Z</td>\n",
       "      <td>8.846883</td>\n",
       "      <td>Boro Drascovic: «Horoscope»</td>\n",
       "      <td>tm-de-all-v2.0_tp46_de|0.435 tm-de-all-v2.0_tp...</td>\n",
       "      <td>1</td>\n",
       "      <td>[Copyright restricted]</td>\n",
       "      <td>613</td>\n",
       "      <td>ar</td>\n",
       "      <td>1970</td>\n",
       "    </tr>\n",
       "    <tr>\n",
       "      <th>4</th>\n",
       "      <td>DTT-1970-01-03-a-i0047</td>\n",
       "      <td>NaN</td>\n",
       "      <td>NaN</td>\n",
       "      <td>CH</td>\n",
       "      <td>Migros</td>\n",
       "      <td>[Copyright restricted]</td>\n",
       "      <td>False</td>\n",
       "      <td>N</td>\n",
       "      <td>True</td>\n",
       "      <td>DTT-1970-01-03-a</td>\n",
       "      <td>...</td>\n",
       "      <td>na</td>\n",
       "      <td>1970-01-03T00:00:00Z</td>\n",
       "      <td>4.994109</td>\n",
       "      <td>* -. i.._J</td>\n",
       "      <td>tm-de-all-v2.0_tp87_de|0.407 tm-de-all-v2.0_tp...</td>\n",
       "      <td>1</td>\n",
       "      <td>[Copyright restricted]</td>\n",
       "      <td>1419</td>\n",
       "      <td>ar</td>\n",
       "      <td>1970</td>\n",
       "    </tr>\n",
       "  </tbody>\n",
       "</table>\n",
       "<p>5 rows × 29 columns</p>\n",
       "</div>"
      ],
      "text/plain": [
       "                      uid  access_right  collections countryCode  \\\n",
       "0  DTT-1958-07-19-a-i0041           NaN          NaN          CH   \n",
       "1  DTT-1959-06-27-a-i0223           NaN          NaN          CH   \n",
       "2  DTT-1959-07-02-a-i0035           NaN          NaN          CH   \n",
       "3  DTT-1970-01-03-a-i0046           NaN          NaN          CH   \n",
       "4  DTT-1970-01-03-a-i0047           NaN          NaN          CH   \n",
       "\n",
       "  dataProviderCode                 excerpt  isOnFrontPage  \\\n",
       "0           Migros  [Copyright restricted]          False   \n",
       "1           Migros  [Copyright restricted]          False   \n",
       "2           Migros  [Copyright restricted]          False   \n",
       "3           Migros  [Copyright restricted]          False   \n",
       "4           Migros  [Copyright restricted]          False   \n",
       "\n",
       "  is_content_available  is_olr             issue  ... provinceCode  \\\n",
       "0                    N    True  DTT-1958-07-19-a  ...           na   \n",
       "1                    N    True  DTT-1959-06-27-a  ...           na   \n",
       "2                    N    True  DTT-1959-07-02-a  ...           na   \n",
       "3                    N    True  DTT-1970-01-03-a  ...           na   \n",
       "4                    N    True  DTT-1970-01-03-a  ...           na   \n",
       "\n",
       "        publicationDate relevance  \\\n",
       "0  1958-07-19T00:00:00Z  4.102252   \n",
       "1  1959-06-27T00:00:00Z  1.096451   \n",
       "2  1959-07-02T00:00:00Z  4.767456   \n",
       "3  1970-01-03T00:00:00Z  8.846883   \n",
       "4  1970-01-03T00:00:00Z  4.994109   \n",
       "\n",
       "                                         title  \\\n",
       "0        Jazzecke ää ^ um—¦Mm —uaamri+laJzZtäm   \n",
       "1                mwm®fmmm WMMMMEMW*W>M@>@IMMMM   \n",
       "2  Radio Beromünster Mittwoch, 1. Juli 1959...   \n",
       "3                  Boro Drascovic: «Horoscope»   \n",
       "4                                   * -. i.._J   \n",
       "\n",
       "                                              topics totalPages  \\\n",
       "0  tm-de-all-v2.0_tp87_de|0.619 tm-de-all-v2.0_tp...          1   \n",
       "1  tm-de-all-v2.0_tp62_de|0.389 tm-de-all-v2.0_tp...          1   \n",
       "2  tm-de-all-v2.0_tp62_de|0.307 tm-de-all-v2.0_tp...          1   \n",
       "3  tm-de-all-v2.0_tp46_de|0.435 tm-de-all-v2.0_tp...          1   \n",
       "4  tm-de-all-v2.0_tp87_de|0.407 tm-de-all-v2.0_tp...          1   \n",
       "\n",
       "               transcript transcriptLength type  year  \n",
       "0  [Copyright restricted]              893   ar  1958  \n",
       "1  [Copyright restricted]             3826   ar  1959  \n",
       "2  [Copyright restricted]              536   ar  1959  \n",
       "3  [Copyright restricted]              613   ar  1970  \n",
       "4  [Copyright restricted]             1419   ar  1970  \n",
       "\n",
       "[5 rows x 29 columns]"
      ]
     },
     "execution_count": 13,
     "metadata": {},
     "output_type": "execute_result"
    }
   ],
   "source": [
    "import pandas as pd\n",
    "\n",
    "csv_path = \"samples/2025-09-18T12-09-21-f40f40f5.csv\"\n",
    "\n",
    "# Skip the disclaimer rows\n",
    "df = pd.read_csv(csv_path, sep=';', skiprows=4)\n",
    "\n",
    "print(\"Columns:\", df.columns.tolist())\n",
    "print(\"Shape:\", df.shape)\n",
    "\n",
    "# Peek at first few rows\n",
    "df.head()\n"
   ]
  },
  {
   "cell_type": "markdown",
   "metadata": {},
   "source": [
    "### 🔑 Extract article identifiers (UIDs)\n",
    "\n",
    "Every article in Impresso has a unique identifier called a **UID** (e.g. `DTT-1958-07-19-a-i0041`).  \n",
    "This is the key we will use to tell the Impresso API which articles to add to our collection.  \n",
    "\n",
    "From the CSV file, we now extract the values in the `uid` column and store them in a Python list called `doc_ids`.  \n",
    "We also print out how many UIDs were found, along with the first few as an example."
   ]
  },
  {
   "cell_type": "code",
   "execution_count": 14,
   "metadata": {},
   "outputs": [
    {
     "name": "stdout",
     "output_type": "stream",
     "text": [
      "Extracted 26 doc_ids, example: ['DTT-1958-07-19-a-i0041', 'DTT-1959-06-27-a-i0223', 'DTT-1959-07-02-a-i0035', 'DTT-1970-01-03-a-i0046', 'DTT-1970-01-03-a-i0047']\n"
     ]
    }
   ],
   "source": [
    "# --- Extract document IDs ---\n",
    "if \"uid\" not in df.columns:\n",
    "    raise ValueError(\"Expected 'uid' column with document IDs not found.\")\n",
    "\n",
    "doc_ids = df[\"uid\"].dropna().astype(str).tolist()\n",
    "print(f\"Extracted {len(doc_ids)} doc_ids, example: {doc_ids[:5]}\")"
   ]
  },
  {
   "cell_type": "markdown",
   "metadata": {},
   "source": [
    "### ⚙️ Functions to create and populate an Impresso user collection\n",
    "\n",
    "In this section, we define helper functions that make it easy to work with Impresso user collections:\n",
    "\n",
    "1. **`create_collection`**  \n",
    "   Creates a new collection in your Impresso account by calling the public API.  \n",
    "   You provide a name and (optionally) a description. The function returns the collection details, including its unique ID.\n",
    "\n",
    "2. **`add_docids`**  \n",
    "   Adds a list of article identifiers (`uid`s) to a collection.  \n",
    "   Since the API accepts documents in batches, this function uploads them in groups of up to 200 articles at a time.\n",
    "\n",
    "3. **`create_collection_with_docs`**  \n",
    "   Combines the two steps above: it first creates a new collection, then immediately fills it with the article UIDs you provide.\n",
    "\n",
    "These functions allow us to take the list of UIDs we extracted from the CSV and send them directly to the Impresso platform, so that we can view and analyze them inside the Impresso interface."
   ]
  },
  {
   "cell_type": "code",
   "execution_count": 15,
   "metadata": {},
   "outputs": [],
   "source": [
    "import time\n",
    "import requests\n",
    "\n",
    "def create_collection(client, name: str, description: str = \"\") -> dict:\n",
    "    \"\"\"\n",
    "    Create a new collection in the Impresso public API.\n",
    "    \"\"\"\n",
    "    token = getattr(client, \"_api_bearer_token\", None)\n",
    "    if not token:\n",
    "        raise ValueError(\"Client does not have a valid _api_bearer_token.\")\n",
    "\n",
    "    url = \"https://impresso-project.ch/public-api/v1/collections\"\n",
    "    headers = {\n",
    "        \"Authorization\": f\"Bearer {token}\",\n",
    "        \"Content-Type\": \"application/json\",\n",
    "        \"Accept\": \"application/json\",\n",
    "    }\n",
    "    payload = {\"name\": name, \"description\": description, \"accessLevel\": \"private\"}\n",
    "\n",
    "    response = requests.post(url, headers=headers, json=payload)\n",
    "\n",
    "    if response.ok:\n",
    "        data = response.json()\n",
    "        print(f\"✅ Collection '{name}' created successfully (ID: {data.get('uid')})\")\n",
    "        return data\n",
    "    else:\n",
    "        raise RuntimeError(\n",
    "            f\"❌ Failed to create collection: {response.status_code} {response.text}\"\n",
    "        )\n"
   ]
  },
  {
   "cell_type": "code",
   "execution_count": 16,
   "metadata": {},
   "outputs": [],
   "source": [
    "\n",
    "def add_docids(client, collection_id: str, doc_ids: list[str], delay: float = 4) -> None:\n",
    "    \"\"\"\n",
    "    Add article IDs to a collection in batches of 200.\n",
    "    \"\"\"\n",
    "    print(f\"⏳ Adding {len(doc_ids)} documents to collection {collection_id}...\")\n",
    "    batch_size = 200\n",
    "\n",
    "    for i in range(0, len(doc_ids), batch_size):\n",
    "        batch = doc_ids[i : i + batch_size]\n",
    "        try:\n",
    "            client.collections.add_items(collection_id, batch)\n",
    "            print(f\"   ✅ Added {len(batch)} documents ({i+1}–{i+len(batch)})\")\n",
    "        except Exception as e:\n",
    "            print(f\"   ❌ Error adding batch: {e}\")\n",
    "            raise\n",
    "\n",
    "        if i + batch_size < len(doc_ids):  # sleep only if more batches remain\n",
    "            print(f\"   ⏸ Waiting {delay} seconds before next batch...\")\n",
    "            time.sleep(delay)\n",
    "\n",
    "    print(f\"🎉 Done! Added all {len(doc_ids)} documents.\")\n",
    "\n"
   ]
  },
  {
   "cell_type": "code",
   "execution_count": null,
   "metadata": {},
   "outputs": [],
   "source": [
    "This method `create_collection_with_docs` uses the previous two methods to create a collection and add "
   ]
  },
  {
   "cell_type": "code",
   "execution_count": 17,
   "metadata": {},
   "outputs": [],
   "source": [
    "\n",
    "def create_collection_with_docs(\n",
    "    client, name: str, doc_ids: list[str], description: str = \"\", delay: float = 4\n",
    ") -> str:\n",
    "    \"\"\"\n",
    "    Create a new collection and populate it with document IDs.\n",
    "    \"\"\"\n",
    "    print(f\"🚀 Creating collection '{name}' with {len(doc_ids)} documents...\")\n",
    "\n",
    "    collection = create_collection(client, name, description or \"\")\n",
    "    collection_id = collection.get(\"uid\")\n",
    "    if not collection_id:\n",
    "        raise ValueError(\"❌ Collection ID not found in the response.\")\n",
    "\n",
    "    time.sleep(delay)\n",
    "    add_docids(client, collection_id, doc_ids, delay)\n",
    "\n",
    "    print(f\"✅ Collection '{name}' ready (ID: {collection_id})\")\n",
    "    return collection_id\n"
   ]
  },
  {
   "cell_type": "markdown",
   "metadata": {},
   "source": [
    "### 🚀 Example: Create and fill a collection from our CSV\n",
    "\n",
    "* Give our collection a **name** and an optional **description**.  \n",
    "* Call `create_collection_with_docs` with the list of `doc_ids`.  \n",
    "* The function creates the collection in Impresso, then uploads all article UIDs in batches.  \n",
    "* Finally, we print the **collection ID** so we can look it up later in the Impresso app.\n",
    "\n",
    "⚠️ **Note about duplicate collection names**\n",
    "\n",
    "If you see an error like this:\n",
    "> Failed to create collection: 409 {“type”:“https://impresso-project.ch/probs/unclassified-error”,“title”:“An unclassified error occurred”,“status”:409,“detail”:“ConstraintValidationFailed: collections_name_creator_id_85ceb8cf_uniq must be unique”}\n",
    "\n",
    "it means that you already have a collection with the same **name** in your Impresso account.  \n",
    "To fix this, simply choose a different name when creating your collection (for example, by adding today’s date or a version number).  "
   ]
  },
  {
   "cell_type": "code",
   "execution_count": null,
   "metadata": {},
   "outputs": [],
   "source": [
    "# --- Example usage ---\n",
    "collection_name = \"My Awesome Collection\" # This needs to be unique\n",
    "collection_description = \"My Awesome Collection uploaded from CSV on 2025-09-18\"\n",
    "\n",
    "collection_id = create_collection_with_docs(\n",
    "    client,\n",
    "    name=collection_name,\n",
    "    doc_ids=doc_ids,   # list of UIDs you extracted from CSV\n",
    "    description=collection_description,\n",
    "    delay=4,  # wait 4s between batches\n",
    ")\n",
    "\n",
    "print(\"📦 Final collection ID:\", collection_id)"
   ]
  },
  {
   "cell_type": "code",
   "execution_count": null,
   "metadata": {},
   "outputs": [],
   "source": []
  },
  {
   "cell_type": "code",
   "execution_count": null,
   "metadata": {},
   "outputs": [],
   "source": []
  },
  {
   "cell_type": "code",
   "execution_count": null,
   "metadata": {},
   "outputs": [],
   "source": []
  },
  {
   "cell_type": "code",
   "execution_count": null,
   "metadata": {},
   "outputs": [],
   "source": []
  },
  {
   "cell_type": "code",
   "execution_count": null,
   "metadata": {},
   "outputs": [],
   "source": []
  },
  {
   "cell_type": "code",
   "execution_count": null,
   "metadata": {},
   "outputs": [],
   "source": []
  }
 ],
 "metadata": {
  "colab": {
   "private_outputs": true,
   "provenance": []
  },
  "kernelspec": {
   "display_name": "Python 3 (ipykernel)",
   "language": "python",
   "name": "python3"
  },
  "language_info": {
   "codemirror_mode": {
    "name": "ipython",
    "version": 3
   },
   "file_extension": ".py",
   "mimetype": "text/x-python",
   "name": "python",
   "nbconvert_exporter": "python",
   "pygments_lexer": "ipython3",
   "version": "3.11.10"
  }
 },
 "nbformat": 4,
 "nbformat_minor": 4
}
