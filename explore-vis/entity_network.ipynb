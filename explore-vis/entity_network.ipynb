{
 "cells": [
  {
   "cell_type": "markdown",
   "metadata": {
    "id": "ge_Cq0FFaIrR"
   },
   "source": [
    "# Exploring Entity Co-occurrence Networks\n",
    "\n",
    "<a target=\"_blank\" href=\"https://colab.research.google.com/github/impresso/impresso-datalab-notebooks/4-impresso-py/network_graph.ipynb\">\n",
    "  <img src=\"https://colab.research.google.com/assets/colab-badge.svg\" alt=\"Open In Colab\"/>\n",
    "</a>"
   ]
  },
  {
   "cell_type": "markdown",
   "metadata": {
    "id": "TwR9UmpvaLhp"
   },
   "source": [
    "## Install dependencies"
   ]
  },
  {
   "cell_type": "code",
   "execution_count": null,
   "metadata": {
    "id": "WRpCUxZdaGUf"
   },
   "outputs": [
    {
     "name": "stdout",
     "output_type": "stream",
     "text": [
      "\n",
      "\u001b[1m[\u001b[0m\u001b[34;49mnotice\u001b[0m\u001b[1;39;49m]\u001b[0m\u001b[39;49m A new release of pip is available: \u001b[0m\u001b[31;49m24.2\u001b[0m\u001b[39;49m -> \u001b[0m\u001b[32;49m25.0.1\u001b[0m\n",
      "\u001b[1m[\u001b[0m\u001b[34;49mnotice\u001b[0m\u001b[1;39;49m]\u001b[0m\u001b[39;49m To update, run: \u001b[0m\u001b[32;49mpip install --upgrade pip\u001b[0m\n",
      "Note: you may need to restart the kernel to use updated packages.\n"
     ]
    }
   ],
   "source": [
    "%pip install -q impresso ipysigma networkx tqdm"
   ]
  },
  {
   "cell_type": "markdown",
   "metadata": {
    "id": "q1NQ9Kq9aVm4"
   },
   "source": [
    "## Connect to Impresso"
   ]
  },
  {
   "cell_type": "code",
   "execution_count": 7,
   "metadata": {
    "id": "neqz3bBJaYr2"
   },
   "outputs": [
    {
     "name": "stdout",
     "output_type": "stream",
     "text": [
      "🎉 You are now connected to the Impresso API!  🎉\n"
     ]
    }
   ],
   "source": [
    "from impresso import connect, OR, AND\n",
    "\n",
    "impresso_session = connect()"
   ]
  },
  {
   "cell_type": "markdown",
   "metadata": {
    "id": "b-2vEEpkawoj"
   },
   "source": [
    "## Part 1: Get entities and their co-occurrences\n",
    "\n",
    "### First, we retrieve all person entities mentioned in all articles that talk about the [Prague Spring](https://en.wikipedia.org/wiki/Prague_Spring)."
   ]
  },
  {
   "cell_type": "code",
   "execution_count": 8,
   "metadata": {
    "id": "ebAC0LuZEooc"
   },
   "outputs": [],
   "source": [
    "query = OR(\"Prague Spring\", \"Prager Frühling\", \"Printemps de Prague\")"
   ]
  },
  {
   "cell_type": "code",
   "execution_count": 9,
   "metadata": {
    "id": "FnS9eIZba0Dz"
   },
   "outputs": [
    {
     "data": {
      "text/html": [
       "<div style=\"display: grid; grid-template-columns: minmax(200px, 1fr) auto;\">\n",
       "<div>\n",
       "<h2>Facet result</h2>\n",
       "<div>Contains <b>100</b> items (<b>0</b> - <b>100</b>) of <b>2355</b> total items.</div>\n",
       "<br/>\n",
       "See this result in the <a href=\"https://impresso-project.ch/app/search?index=search&facet=type&domain=person&sq=CjgYByoTUHJpbnRlbXBzIGRlIFByYWd1ZSoQUHJhZ2VyIEZyw7xobGluZyoNUHJhZ3VlIFNwcmluZw==&p=1\">Impresso App</a>.\n",
       "</div>\n",
       "<div style=\"align-content: center;\"><img src=\"data:image/png;base64,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\" style=\"max-width: 800px; width: 100%;\"></div>\n",
       "</div>\n",
       "<h3>Data preview:</h3>\n",
       "<div>\n",
       "<style scoped>\n",
       "    .dataframe tbody tr th:only-of-type {\n",
       "        vertical-align: middle;\n",
       "    }\n",
       "\n",
       "    .dataframe tbody tr th {\n",
       "        vertical-align: top;\n",
       "    }\n",
       "\n",
       "    .dataframe thead th {\n",
       "        text-align: right;\n",
       "    }\n",
       "</style>\n",
       "<table border=\"1\" class=\"dataframe\">\n",
       "  <thead>\n",
       "    <tr style=\"text-align: right;\">\n",
       "      <th></th>\n",
       "      <th>count</th>\n",
       "      <th>label</th>\n",
       "    </tr>\n",
       "    <tr>\n",
       "      <th>value</th>\n",
       "      <th></th>\n",
       "      <th></th>\n",
       "    </tr>\n",
       "  </thead>\n",
       "  <tbody>\n",
       "    <tr>\n",
       "      <th>aida-0001-50-Alexander_Dubček</th>\n",
       "      <td>83</td>\n",
       "      <td>Alexander Dubček</td>\n",
       "    </tr>\n",
       "    <tr>\n",
       "      <th>aida-0001-50-Gustáv_Husák</th>\n",
       "      <td>57</td>\n",
       "      <td>Gustáv Husák</td>\n",
       "    </tr>\n",
       "    <tr>\n",
       "      <th>aida-0001-50-Ota_Šik</th>\n",
       "      <td>36</td>\n",
       "      <td>Ota Šik</td>\n",
       "    </tr>\n",
       "  </tbody>\n",
       "</table>\n",
       "</div>"
      ],
      "text/plain": [
       "<impresso.resources.search.FacetDataContainer at 0x1103ed990>"
      ]
     },
     "execution_count": 9,
     "metadata": {},
     "output_type": "execute_result"
    }
   ],
   "source": [
    "persons = impresso_session.search.facet(\n",
    "  facet=\"person\",\n",
    "  term=query,\n",
    "  order_by=\"-count\",\n",
    "  limit=100\n",
    ")\n",
    "persons"
   ]
  },
  {
   "cell_type": "markdown",
   "metadata": {
    "id": "3zJPhvgXcR9d"
   },
   "source": [
    "### Next, we generate all unique pairs of entities with a mention count higher than `n`.\n",
    " \n",
    "First, entities that meet the mention threshold are selected, and then all possible pairs are generated using the `itertools.combinations` function.\n",
    "\n",
    "The `n` value can be adjusted so that we don't get too many entity combinations. A sweet spot is just under 500 combinations."
   ]
  },
  {
   "cell_type": "code",
   "execution_count": null,
   "metadata": {
    "id": "noFYDdkTcbZU"
   },
   "outputs": [
    {
     "name": "stdout",
     "output_type": "stream",
     "text": [
      "Total persons selected: 30\n",
      "Total combinations: 435\n"
     ]
    }
   ],
   "source": [
    "import itertools\n",
    "\n",
    "n = 6\n",
    "\n",
    "df = persons.df\n",
    "df = df[df[\"count\"] > n]\n",
    "persons_ids = df.index.tolist()\n",
    "print(f\"Total persons selected: {len(persons_ids)}\")\n",
    "\n",
    "person_ids_combinations = list(itertools.combinations(persons_ids, 2))\n",
    "print(f\"Total combinations: {len(person_ids_combinations)}\")"
   ]
  },
  {
   "cell_type": "code",
   "execution_count": 15,
   "metadata": {
    "id": "_KuW7vzjBh2A"
   },
   "outputs": [],
   "source": [
    "if len(person_ids_combinations) > 500:\n",
    "  msg = (\n",
    "      f\"The number of combinations is quite high ({len(person_ids_combinations)}). \" +\n",
    "      \"This may put a lot of load on Impresso and your requests may be throttled. \" +\n",
    "      \"Try to increase the threshold number of mentions in the cell above which will reduce the number of selected persons. \" +\n",
    "      \"You can also disable this error by commenting out this cell, if this number of combinations is expected.\"\n",
    "  )\n",
    "  raise Exception(msg)"
   ]
  },
  {
   "cell_type": "markdown",
   "metadata": {
    "id": "M2tpzlOWdpjX"
   },
   "source": [
    "\n",
    "### We also retrieve the dates and the number of articles where person entity pairs appear in.\n",
    "\n",
    "This piece of code gets a facet for every combination of named entities. It is a single call per combination so it may take a while for a large number of combinations."
   ]
  },
  {
   "cell_type": "code",
   "execution_count": 17,
   "metadata": {
    "id": "d-yxLSCQdpAz",
    "jupyter": {
     "is_executing": true
    }
   },
   "outputs": [
    {
     "name": "stderr",
     "output_type": "stream",
     "text": [
      "100%|██████████| 435/435 [01:09<00:00,  6.28it/s]\n"
     ]
    }
   ],
   "source": [
    "from impresso.util.error import ImpressoError\n",
    "from time import sleep\n",
    "from tqdm import tqdm\n",
    "\n",
    "connections = []\n",
    "\n",
    "# iterate over entity combinations, and build a query from each pair, faceting on `daterange`\n",
    "# the `query` variable hold the same value as above, i.e. keyword search for articles\n",
    "for idx, combo in tqdm(enumerate(person_ids_combinations), total=len(person_ids_combinations)):\n",
    "  try:\n",
    "    result = impresso_session.search.facet(\n",
    "      facet=\"daterange\",\n",
    "      term=query,\n",
    "      entity_id=AND(*combo),\n",
    "      limit=1000\n",
    "    )\n",
    "  except ImpressoError as e:\n",
    "    # a 429 status code means that the request has been throttled\n",
    "    # we sleep for 2 seconds and try again\n",
    "    if e.error.status == 429:\n",
    "      print(f\"Sleeping because of {e}\")\n",
    "      sleep(2)\n",
    "\n",
    "  if result.size > 0:\n",
    "    df = result.df\n",
    "\n",
    "    items = list(zip(df.index.tolist(), df['count'].tolist(), [result.url for i in range(len(df))]))\n",
    "    connections.append((combo, items))"
   ]
  },
  {
   "cell_type": "markdown",
   "metadata": {
    "id": "Ak1rEp7Omi6_"
   },
   "source": [
    "We put all in a dataframe"
   ]
  },
  {
   "cell_type": "code",
   "execution_count": 19,
   "metadata": {
    "id": "qkgCRrr3ez3r"
   },
   "outputs": [
    {
     "data": {
      "text/html": [
       "<div>\n",
       "<style scoped>\n",
       "    .dataframe tbody tr th:only-of-type {\n",
       "        vertical-align: middle;\n",
       "    }\n",
       "\n",
       "    .dataframe tbody tr th {\n",
       "        vertical-align: top;\n",
       "    }\n",
       "\n",
       "    .dataframe thead th {\n",
       "        text-align: right;\n",
       "    }\n",
       "</style>\n",
       "<table border=\"1\" class=\"dataframe\">\n",
       "  <thead>\n",
       "    <tr style=\"text-align: right;\">\n",
       "      <th></th>\n",
       "      <th>node_a</th>\n",
       "      <th>node_b</th>\n",
       "      <th>timestamp</th>\n",
       "      <th>count</th>\n",
       "      <th>url</th>\n",
       "    </tr>\n",
       "  </thead>\n",
       "  <tbody>\n",
       "    <tr>\n",
       "      <th>0</th>\n",
       "      <td>aida-0001-50-Alexander_Dubček</td>\n",
       "      <td>aida-0001-50-Gustáv_Husák</td>\n",
       "      <td>1968-10-02T00:00:00Z</td>\n",
       "      <td>4</td>\n",
       "      <td>https://impresso-project.ch/app/search?index=s...</td>\n",
       "    </tr>\n",
       "    <tr>\n",
       "      <th>1</th>\n",
       "      <td>aida-0001-50-Alexander_Dubček</td>\n",
       "      <td>aida-0001-50-Gustáv_Husák</td>\n",
       "      <td>1969-10-02T00:00:00Z</td>\n",
       "      <td>10</td>\n",
       "      <td>https://impresso-project.ch/app/search?index=s...</td>\n",
       "    </tr>\n",
       "    <tr>\n",
       "      <th>2</th>\n",
       "      <td>aida-0001-50-Alexander_Dubček</td>\n",
       "      <td>aida-0001-50-Gustáv_Husák</td>\n",
       "      <td>1973-10-02T00:00:00Z</td>\n",
       "      <td>1</td>\n",
       "      <td>https://impresso-project.ch/app/search?index=s...</td>\n",
       "    </tr>\n",
       "    <tr>\n",
       "      <th>3</th>\n",
       "      <td>aida-0001-50-Alexander_Dubček</td>\n",
       "      <td>aida-0001-50-Gustáv_Husák</td>\n",
       "      <td>1974-10-02T00:00:00Z</td>\n",
       "      <td>2</td>\n",
       "      <td>https://impresso-project.ch/app/search?index=s...</td>\n",
       "    </tr>\n",
       "    <tr>\n",
       "      <th>4</th>\n",
       "      <td>aida-0001-50-Alexander_Dubček</td>\n",
       "      <td>aida-0001-50-Gustáv_Husák</td>\n",
       "      <td>1977-10-02T00:00:00Z</td>\n",
       "      <td>2</td>\n",
       "      <td>https://impresso-project.ch/app/search?index=s...</td>\n",
       "    </tr>\n",
       "    <tr>\n",
       "      <th>...</th>\n",
       "      <td>...</td>\n",
       "      <td>...</td>\n",
       "      <td>...</td>\n",
       "      <td>...</td>\n",
       "      <td>...</td>\n",
       "    </tr>\n",
       "    <tr>\n",
       "      <th>193</th>\n",
       "      <td>aida-0001-50-Miloš_Forman</td>\n",
       "      <td>aida-0001-50-Alessandro_Cagliostro</td>\n",
       "      <td>1975-10-02T00:00:00Z</td>\n",
       "      <td>1</td>\n",
       "      <td>https://impresso-project.ch/app/search?index=s...</td>\n",
       "    </tr>\n",
       "    <tr>\n",
       "      <th>194</th>\n",
       "      <td>aida-0001-50-Miloš_Forman</td>\n",
       "      <td>aida-0001-50-Jean_Marais</td>\n",
       "      <td>1975-10-02T00:00:00Z</td>\n",
       "      <td>1</td>\n",
       "      <td>https://impresso-project.ch/app/search?index=s...</td>\n",
       "    </tr>\n",
       "    <tr>\n",
       "      <th>195</th>\n",
       "      <td>aida-0001-50-Paul_Lendvai</td>\n",
       "      <td>aida-0001-50-Jiří_Hájek</td>\n",
       "      <td>1976-10-02T00:00:00Z</td>\n",
       "      <td>1</td>\n",
       "      <td>https://impresso-project.ch/app/search?index=s...</td>\n",
       "    </tr>\n",
       "    <tr>\n",
       "      <th>196</th>\n",
       "      <td>aida-0001-50-Paul_Lendvai</td>\n",
       "      <td>aida-0001-50-Lubomír_Štrougal</td>\n",
       "      <td>1975-10-02T00:00:00Z</td>\n",
       "      <td>1</td>\n",
       "      <td>https://impresso-project.ch/app/search?index=s...</td>\n",
       "    </tr>\n",
       "    <tr>\n",
       "      <th>197</th>\n",
       "      <td>aida-0001-50-Alessandro_Cagliostro</td>\n",
       "      <td>aida-0001-50-Jean_Marais</td>\n",
       "      <td>1975-10-02T00:00:00Z</td>\n",
       "      <td>6</td>\n",
       "      <td>https://impresso-project.ch/app/search?index=s...</td>\n",
       "    </tr>\n",
       "  </tbody>\n",
       "</table>\n",
       "<p>198 rows × 5 columns</p>\n",
       "</div>"
      ],
      "text/plain": [
       "                                 node_a                              node_b  \\\n",
       "0         aida-0001-50-Alexander_Dubček           aida-0001-50-Gustáv_Husák   \n",
       "1         aida-0001-50-Alexander_Dubček           aida-0001-50-Gustáv_Husák   \n",
       "2         aida-0001-50-Alexander_Dubček           aida-0001-50-Gustáv_Husák   \n",
       "3         aida-0001-50-Alexander_Dubček           aida-0001-50-Gustáv_Husák   \n",
       "4         aida-0001-50-Alexander_Dubček           aida-0001-50-Gustáv_Husák   \n",
       "..                                  ...                                 ...   \n",
       "193           aida-0001-50-Miloš_Forman  aida-0001-50-Alessandro_Cagliostro   \n",
       "194           aida-0001-50-Miloš_Forman            aida-0001-50-Jean_Marais   \n",
       "195           aida-0001-50-Paul_Lendvai             aida-0001-50-Jiří_Hájek   \n",
       "196           aida-0001-50-Paul_Lendvai       aida-0001-50-Lubomír_Štrougal   \n",
       "197  aida-0001-50-Alessandro_Cagliostro            aida-0001-50-Jean_Marais   \n",
       "\n",
       "                timestamp  count  \\\n",
       "0    1968-10-02T00:00:00Z      4   \n",
       "1    1969-10-02T00:00:00Z     10   \n",
       "2    1973-10-02T00:00:00Z      1   \n",
       "3    1974-10-02T00:00:00Z      2   \n",
       "4    1977-10-02T00:00:00Z      2   \n",
       "..                    ...    ...   \n",
       "193  1975-10-02T00:00:00Z      1   \n",
       "194  1975-10-02T00:00:00Z      1   \n",
       "195  1976-10-02T00:00:00Z      1   \n",
       "196  1975-10-02T00:00:00Z      1   \n",
       "197  1975-10-02T00:00:00Z      6   \n",
       "\n",
       "                                                   url  \n",
       "0    https://impresso-project.ch/app/search?index=s...  \n",
       "1    https://impresso-project.ch/app/search?index=s...  \n",
       "2    https://impresso-project.ch/app/search?index=s...  \n",
       "3    https://impresso-project.ch/app/search?index=s...  \n",
       "4    https://impresso-project.ch/app/search?index=s...  \n",
       "..                                                 ...  \n",
       "193  https://impresso-project.ch/app/search?index=s...  \n",
       "194  https://impresso-project.ch/app/search?index=s...  \n",
       "195  https://impresso-project.ch/app/search?index=s...  \n",
       "196  https://impresso-project.ch/app/search?index=s...  \n",
       "197  https://impresso-project.ch/app/search?index=s...  \n",
       "\n",
       "[198 rows x 5 columns]"
      ]
     },
     "execution_count": 19,
     "metadata": {},
     "output_type": "execute_result"
    }
   ],
   "source": [
    "import pandas as pd\n",
    "\n",
    "connections_denormalised = []\n",
    "for c in connections:\n",
    "  nodes, edges = c\n",
    "\n",
    "  connections_denormalised.extend(\n",
    "    [[node_a, node_b, ts, count, url] for (node_a, node_b), (ts, count, url) in zip([nodes for i in range(len(edges))], edges)]\n",
    "  )\n",
    "\n",
    "connections_df = pd.DataFrame(connections_denormalised, columns=('node_a', 'node_b', 'timestamp', 'count', 'url'))\n",
    "connections_df"
   ]
  },
  {
   "cell_type": "markdown",
   "metadata": {},
   "source": [
    "And save the connections to a CSV file that can be visualised independently in Part 2. Provide a name for the file."
   ]
  },
  {
   "cell_type": "code",
   "execution_count": 20,
   "metadata": {},
   "outputs": [
    {
     "name": "stdout",
     "output_type": "stream",
     "text": [
      "File saved in /var/folders/0h/60jp226s7c95z0wq163306fc0000gn/T/my_collection.csv\n"
     ]
    }
   ],
   "source": [
    "from tempfile import gettempdir\n",
    "\n",
    "temp_dir = gettempdir()\n",
    "\n",
    "connections_csv_filename = input(\"Enter the filename: \").replace(\" \", \"_\")\n",
    "connections_csv_filepath = f\"{temp_dir}/{connections_csv_filename}.csv\"\n",
    "connections_df.to_csv(connections_csv_filepath)\n",
    "print(f\"File saved in {connections_csv_filepath}\")"
   ]
  },
  {
   "cell_type": "markdown",
   "metadata": {
    "id": "BDSucJXvoNTG"
   },
   "source": [
    "## Part 2: visualise"
   ]
  },
  {
   "cell_type": "code",
   "execution_count": 21,
   "metadata": {
    "id": "juaVZgkWoRKL"
   },
   "outputs": [
    {
     "data": {
      "text/html": [
       "<div>\n",
       "<style scoped>\n",
       "    .dataframe tbody tr th:only-of-type {\n",
       "        vertical-align: middle;\n",
       "    }\n",
       "\n",
       "    .dataframe tbody tr th {\n",
       "        vertical-align: top;\n",
       "    }\n",
       "\n",
       "    .dataframe thead th {\n",
       "        text-align: right;\n",
       "    }\n",
       "</style>\n",
       "<table border=\"1\" class=\"dataframe\">\n",
       "  <thead>\n",
       "    <tr style=\"text-align: right;\">\n",
       "      <th></th>\n",
       "      <th>Unnamed: 0</th>\n",
       "      <th>node_a</th>\n",
       "      <th>node_b</th>\n",
       "      <th>timestamp</th>\n",
       "      <th>count</th>\n",
       "      <th>url</th>\n",
       "    </tr>\n",
       "  </thead>\n",
       "  <tbody>\n",
       "    <tr>\n",
       "      <th>0</th>\n",
       "      <td>0</td>\n",
       "      <td>aida-0001-50-Alexander_Dubček</td>\n",
       "      <td>aida-0001-50-Gustáv_Husák</td>\n",
       "      <td>1968-10-02T00:00:00Z</td>\n",
       "      <td>4</td>\n",
       "      <td>https://impresso-project.ch/app/search?index=s...</td>\n",
       "    </tr>\n",
       "    <tr>\n",
       "      <th>1</th>\n",
       "      <td>1</td>\n",
       "      <td>aida-0001-50-Alexander_Dubček</td>\n",
       "      <td>aida-0001-50-Gustáv_Husák</td>\n",
       "      <td>1969-10-02T00:00:00Z</td>\n",
       "      <td>10</td>\n",
       "      <td>https://impresso-project.ch/app/search?index=s...</td>\n",
       "    </tr>\n",
       "    <tr>\n",
       "      <th>2</th>\n",
       "      <td>2</td>\n",
       "      <td>aida-0001-50-Alexander_Dubček</td>\n",
       "      <td>aida-0001-50-Gustáv_Husák</td>\n",
       "      <td>1973-10-02T00:00:00Z</td>\n",
       "      <td>1</td>\n",
       "      <td>https://impresso-project.ch/app/search?index=s...</td>\n",
       "    </tr>\n",
       "    <tr>\n",
       "      <th>3</th>\n",
       "      <td>3</td>\n",
       "      <td>aida-0001-50-Alexander_Dubček</td>\n",
       "      <td>aida-0001-50-Gustáv_Husák</td>\n",
       "      <td>1974-10-02T00:00:00Z</td>\n",
       "      <td>2</td>\n",
       "      <td>https://impresso-project.ch/app/search?index=s...</td>\n",
       "    </tr>\n",
       "    <tr>\n",
       "      <th>4</th>\n",
       "      <td>4</td>\n",
       "      <td>aida-0001-50-Alexander_Dubček</td>\n",
       "      <td>aida-0001-50-Gustáv_Husák</td>\n",
       "      <td>1977-10-02T00:00:00Z</td>\n",
       "      <td>2</td>\n",
       "      <td>https://impresso-project.ch/app/search?index=s...</td>\n",
       "    </tr>\n",
       "    <tr>\n",
       "      <th>...</th>\n",
       "      <td>...</td>\n",
       "      <td>...</td>\n",
       "      <td>...</td>\n",
       "      <td>...</td>\n",
       "      <td>...</td>\n",
       "      <td>...</td>\n",
       "    </tr>\n",
       "    <tr>\n",
       "      <th>193</th>\n",
       "      <td>193</td>\n",
       "      <td>aida-0001-50-Miloš_Forman</td>\n",
       "      <td>aida-0001-50-Alessandro_Cagliostro</td>\n",
       "      <td>1975-10-02T00:00:00Z</td>\n",
       "      <td>1</td>\n",
       "      <td>https://impresso-project.ch/app/search?index=s...</td>\n",
       "    </tr>\n",
       "    <tr>\n",
       "      <th>194</th>\n",
       "      <td>194</td>\n",
       "      <td>aida-0001-50-Miloš_Forman</td>\n",
       "      <td>aida-0001-50-Jean_Marais</td>\n",
       "      <td>1975-10-02T00:00:00Z</td>\n",
       "      <td>1</td>\n",
       "      <td>https://impresso-project.ch/app/search?index=s...</td>\n",
       "    </tr>\n",
       "    <tr>\n",
       "      <th>195</th>\n",
       "      <td>195</td>\n",
       "      <td>aida-0001-50-Paul_Lendvai</td>\n",
       "      <td>aida-0001-50-Jiří_Hájek</td>\n",
       "      <td>1976-10-02T00:00:00Z</td>\n",
       "      <td>1</td>\n",
       "      <td>https://impresso-project.ch/app/search?index=s...</td>\n",
       "    </tr>\n",
       "    <tr>\n",
       "      <th>196</th>\n",
       "      <td>196</td>\n",
       "      <td>aida-0001-50-Paul_Lendvai</td>\n",
       "      <td>aida-0001-50-Lubomír_Štrougal</td>\n",
       "      <td>1975-10-02T00:00:00Z</td>\n",
       "      <td>1</td>\n",
       "      <td>https://impresso-project.ch/app/search?index=s...</td>\n",
       "    </tr>\n",
       "    <tr>\n",
       "      <th>197</th>\n",
       "      <td>197</td>\n",
       "      <td>aida-0001-50-Alessandro_Cagliostro</td>\n",
       "      <td>aida-0001-50-Jean_Marais</td>\n",
       "      <td>1975-10-02T00:00:00Z</td>\n",
       "      <td>6</td>\n",
       "      <td>https://impresso-project.ch/app/search?index=s...</td>\n",
       "    </tr>\n",
       "  </tbody>\n",
       "</table>\n",
       "<p>198 rows × 6 columns</p>\n",
       "</div>"
      ],
      "text/plain": [
       "     Unnamed: 0                              node_a  \\\n",
       "0             0       aida-0001-50-Alexander_Dubček   \n",
       "1             1       aida-0001-50-Alexander_Dubček   \n",
       "2             2       aida-0001-50-Alexander_Dubček   \n",
       "3             3       aida-0001-50-Alexander_Dubček   \n",
       "4             4       aida-0001-50-Alexander_Dubček   \n",
       "..          ...                                 ...   \n",
       "193         193           aida-0001-50-Miloš_Forman   \n",
       "194         194           aida-0001-50-Miloš_Forman   \n",
       "195         195           aida-0001-50-Paul_Lendvai   \n",
       "196         196           aida-0001-50-Paul_Lendvai   \n",
       "197         197  aida-0001-50-Alessandro_Cagliostro   \n",
       "\n",
       "                                 node_b             timestamp  count  \\\n",
       "0             aida-0001-50-Gustáv_Husák  1968-10-02T00:00:00Z      4   \n",
       "1             aida-0001-50-Gustáv_Husák  1969-10-02T00:00:00Z     10   \n",
       "2             aida-0001-50-Gustáv_Husák  1973-10-02T00:00:00Z      1   \n",
       "3             aida-0001-50-Gustáv_Husák  1974-10-02T00:00:00Z      2   \n",
       "4             aida-0001-50-Gustáv_Husák  1977-10-02T00:00:00Z      2   \n",
       "..                                  ...                   ...    ...   \n",
       "193  aida-0001-50-Alessandro_Cagliostro  1975-10-02T00:00:00Z      1   \n",
       "194            aida-0001-50-Jean_Marais  1975-10-02T00:00:00Z      1   \n",
       "195             aida-0001-50-Jiří_Hájek  1976-10-02T00:00:00Z      1   \n",
       "196       aida-0001-50-Lubomír_Štrougal  1975-10-02T00:00:00Z      1   \n",
       "197            aida-0001-50-Jean_Marais  1975-10-02T00:00:00Z      6   \n",
       "\n",
       "                                                   url  \n",
       "0    https://impresso-project.ch/app/search?index=s...  \n",
       "1    https://impresso-project.ch/app/search?index=s...  \n",
       "2    https://impresso-project.ch/app/search?index=s...  \n",
       "3    https://impresso-project.ch/app/search?index=s...  \n",
       "4    https://impresso-project.ch/app/search?index=s...  \n",
       "..                                                 ...  \n",
       "193  https://impresso-project.ch/app/search?index=s...  \n",
       "194  https://impresso-project.ch/app/search?index=s...  \n",
       "195  https://impresso-project.ch/app/search?index=s...  \n",
       "196  https://impresso-project.ch/app/search?index=s...  \n",
       "197  https://impresso-project.ch/app/search?index=s...  \n",
       "\n",
       "[198 rows x 6 columns]"
      ]
     },
     "execution_count": 21,
     "metadata": {},
     "output_type": "execute_result"
    }
   ],
   "source": [
    "import pandas as pd\n",
    "\n",
    "connections_df = pd.read_csv(connections_csv_filepath)\n",
    "connections_df"
   ]
  },
  {
   "cell_type": "markdown",
   "metadata": {},
   "source": [
    "Group connections counting number of mentions and preserve the URL."
   ]
  },
  {
   "cell_type": "code",
   "execution_count": 22,
   "metadata": {
    "id": "7oD3RMWtfmXw"
   },
   "outputs": [
    {
     "data": {
      "text/html": [
       "<div>\n",
       "<style scoped>\n",
       "    .dataframe tbody tr th:only-of-type {\n",
       "        vertical-align: middle;\n",
       "    }\n",
       "\n",
       "    .dataframe tbody tr th {\n",
       "        vertical-align: top;\n",
       "    }\n",
       "\n",
       "    .dataframe thead th {\n",
       "        text-align: right;\n",
       "    }\n",
       "</style>\n",
       "<table border=\"1\" class=\"dataframe\">\n",
       "  <thead>\n",
       "    <tr style=\"text-align: right;\">\n",
       "      <th></th>\n",
       "      <th>node_a</th>\n",
       "      <th>node_b</th>\n",
       "      <th>timestamp</th>\n",
       "      <th>count</th>\n",
       "      <th>url</th>\n",
       "    </tr>\n",
       "  </thead>\n",
       "  <tbody>\n",
       "    <tr>\n",
       "      <th>0</th>\n",
       "      <td>aida-0001-50-Alessandro_Cagliostro</td>\n",
       "      <td>aida-0001-50-Jean_Marais</td>\n",
       "      <td>1975-10-02T00:00:00Z</td>\n",
       "      <td>6</td>\n",
       "      <td>https://impresso-project.ch/app/search?index=s...</td>\n",
       "    </tr>\n",
       "    <tr>\n",
       "      <th>1</th>\n",
       "      <td>aida-0001-50-Alexander_Dubček</td>\n",
       "      <td>aida-0001-50-Antonín_Novotný</td>\n",
       "      <td>1967-10-02T00:00:00Z, 1968-10-02T00:00:00Z, 19...</td>\n",
       "      <td>7</td>\n",
       "      <td>https://impresso-project.ch/app/search?index=s...</td>\n",
       "    </tr>\n",
       "    <tr>\n",
       "      <th>2</th>\n",
       "      <td>aida-0001-50-Alexander_Dubček</td>\n",
       "      <td>aida-0001-50-Gustáv_Husák</td>\n",
       "      <td>1968-10-02T00:00:00Z, 1969-10-02T00:00:00Z, 19...</td>\n",
       "      <td>24</td>\n",
       "      <td>https://impresso-project.ch/app/search?index=s...</td>\n",
       "    </tr>\n",
       "    <tr>\n",
       "      <th>3</th>\n",
       "      <td>aida-0001-50-Alexander_Dubček</td>\n",
       "      <td>aida-0001-50-Harold_Wilson</td>\n",
       "      <td>1968-10-02T00:00:00Z, 1969-10-02T00:00:00Z, 19...</td>\n",
       "      <td>3</td>\n",
       "      <td>https://impresso-project.ch/app/search?index=s...</td>\n",
       "    </tr>\n",
       "    <tr>\n",
       "      <th>4</th>\n",
       "      <td>aida-0001-50-Alexander_Dubček</td>\n",
       "      <td>aida-0001-50-Jan_Palach</td>\n",
       "      <td>1969-10-02T00:00:00Z, 1972-10-02T00:00:00Z, 19...</td>\n",
       "      <td>4</td>\n",
       "      <td>https://impresso-project.ch/app/search?index=s...</td>\n",
       "    </tr>\n",
       "    <tr>\n",
       "      <th>...</th>\n",
       "      <td>...</td>\n",
       "      <td>...</td>\n",
       "      <td>...</td>\n",
       "      <td>...</td>\n",
       "      <td>...</td>\n",
       "    </tr>\n",
       "    <tr>\n",
       "      <th>101</th>\n",
       "      <td>aida-0001-50-Willy_Brandt</td>\n",
       "      <td>aida-0001-50-Johannes_Brahms</td>\n",
       "      <td>1969-10-02T00:00:00Z</td>\n",
       "      <td>1</td>\n",
       "      <td>https://impresso-project.ch/app/search?index=s...</td>\n",
       "    </tr>\n",
       "    <tr>\n",
       "      <th>102</th>\n",
       "      <td>aida-0001-50-Willy_Brandt</td>\n",
       "      <td>aida-0001-50-Lubomír_Štrougal</td>\n",
       "      <td>1969-10-02T00:00:00Z</td>\n",
       "      <td>1</td>\n",
       "      <td>https://impresso-project.ch/app/search?index=s...</td>\n",
       "    </tr>\n",
       "    <tr>\n",
       "      <th>103</th>\n",
       "      <td>aida-0001-50-Willy_Brandt</td>\n",
       "      <td>aida-0001-50-Walter_Ulbricht</td>\n",
       "      <td>1969-10-02T00:00:00Z, 1970-10-02T00:00:00Z</td>\n",
       "      <td>2</td>\n",
       "      <td>https://impresso-project.ch/app/search?index=s...</td>\n",
       "    </tr>\n",
       "    <tr>\n",
       "      <th>104</th>\n",
       "      <td>aida-0001-50-Zdeněk_Mlynář</td>\n",
       "      <td>aida-0001-50-Jiří_Pelikán</td>\n",
       "      <td>1977-10-02T00:00:00Z</td>\n",
       "      <td>1</td>\n",
       "      <td>https://impresso-project.ch/app/search?index=s...</td>\n",
       "    </tr>\n",
       "    <tr>\n",
       "      <th>105</th>\n",
       "      <td>aida-0001-50-Zdeněk_Mlynář</td>\n",
       "      <td>aida-0001-50-Pavel_Kohout</td>\n",
       "      <td>1976-10-02T00:00:00Z</td>\n",
       "      <td>1</td>\n",
       "      <td>https://impresso-project.ch/app/search?index=s...</td>\n",
       "    </tr>\n",
       "  </tbody>\n",
       "</table>\n",
       "<p>106 rows × 5 columns</p>\n",
       "</div>"
      ],
      "text/plain": [
       "                                 node_a                         node_b  \\\n",
       "0    aida-0001-50-Alessandro_Cagliostro       aida-0001-50-Jean_Marais   \n",
       "1         aida-0001-50-Alexander_Dubček   aida-0001-50-Antonín_Novotný   \n",
       "2         aida-0001-50-Alexander_Dubček      aida-0001-50-Gustáv_Husák   \n",
       "3         aida-0001-50-Alexander_Dubček     aida-0001-50-Harold_Wilson   \n",
       "4         aida-0001-50-Alexander_Dubček        aida-0001-50-Jan_Palach   \n",
       "..                                  ...                            ...   \n",
       "101           aida-0001-50-Willy_Brandt   aida-0001-50-Johannes_Brahms   \n",
       "102           aida-0001-50-Willy_Brandt  aida-0001-50-Lubomír_Štrougal   \n",
       "103           aida-0001-50-Willy_Brandt   aida-0001-50-Walter_Ulbricht   \n",
       "104          aida-0001-50-Zdeněk_Mlynář      aida-0001-50-Jiří_Pelikán   \n",
       "105          aida-0001-50-Zdeněk_Mlynář      aida-0001-50-Pavel_Kohout   \n",
       "\n",
       "                                             timestamp  count  \\\n",
       "0                                 1975-10-02T00:00:00Z      6   \n",
       "1    1967-10-02T00:00:00Z, 1968-10-02T00:00:00Z, 19...      7   \n",
       "2    1968-10-02T00:00:00Z, 1969-10-02T00:00:00Z, 19...     24   \n",
       "3    1968-10-02T00:00:00Z, 1969-10-02T00:00:00Z, 19...      3   \n",
       "4    1969-10-02T00:00:00Z, 1972-10-02T00:00:00Z, 19...      4   \n",
       "..                                                 ...    ...   \n",
       "101                               1969-10-02T00:00:00Z      1   \n",
       "102                               1969-10-02T00:00:00Z      1   \n",
       "103         1969-10-02T00:00:00Z, 1970-10-02T00:00:00Z      2   \n",
       "104                               1977-10-02T00:00:00Z      1   \n",
       "105                               1976-10-02T00:00:00Z      1   \n",
       "\n",
       "                                                   url  \n",
       "0    https://impresso-project.ch/app/search?index=s...  \n",
       "1    https://impresso-project.ch/app/search?index=s...  \n",
       "2    https://impresso-project.ch/app/search?index=s...  \n",
       "3    https://impresso-project.ch/app/search?index=s...  \n",
       "4    https://impresso-project.ch/app/search?index=s...  \n",
       "..                                                 ...  \n",
       "101  https://impresso-project.ch/app/search?index=s...  \n",
       "102  https://impresso-project.ch/app/search?index=s...  \n",
       "103  https://impresso-project.ch/app/search?index=s...  \n",
       "104  https://impresso-project.ch/app/search?index=s...  \n",
       "105  https://impresso-project.ch/app/search?index=s...  \n",
       "\n",
       "[106 rows x 5 columns]"
      ]
     },
     "execution_count": 22,
     "metadata": {},
     "output_type": "execute_result"
    }
   ],
   "source": [
    "grouped_connections_df = connections_df.groupby(['node_a', 'node_b']) \\\n",
    "    .agg({'timestamp': lambda x: ', '.join(list(x)), 'count': 'sum', 'url': lambda x: list(set(x))[0]}) \\\n",
    "    .reset_index()\n",
    "grouped_connections_df"
   ]
  },
  {
   "cell_type": "code",
   "execution_count": 23,
   "metadata": {
    "id": "MDvmvxTIo1-D"
   },
   "outputs": [
    {
     "data": {
      "text/plain": [
       "NodeView(('aida-0001-50-Alessandro_Cagliostro', 'aida-0001-50-Jean_Marais', 'aida-0001-50-Alexander_Dubček', 'aida-0001-50-Antonín_Novotný', 'aida-0001-50-Gustáv_Husák', 'aida-0001-50-Harold_Wilson', 'aida-0001-50-Jan_Palach', 'aida-0001-50-Jiří_Hájek', 'aida-0001-50-Josef_Smrkovský', 'aida-0001-50-Lubomír_Štrougal', 'aida-0001-50-Ludvík_Svoboda', 'aida-0001-50-Mikhail_Gorbachev', 'aida-0001-50-Miloš_Forman', 'aida-0001-50-Oldřich_Černík', 'aida-0001-50-Ota_Šik', 'aida-0001-50-Pavel_Kohout', 'aida-0001-50-Václav_Havel', 'aida-0001-50-Walter_Ulbricht', 'aida-0001-50-Willy_Brandt', 'aida-0001-50-Zdeněk_Mlynář', 'aida-0001-50-Věra_Chytilová', 'aida-0001-50-Jaromil_Jireš', 'aida-0001-50-Jiří_Menzel', 'aida-0001-50-Paul_Lendvai', 'aida-0001-50-Richard_Nixon', 'aida-0001-50-Herbert_von_Karajan', 'aida-0001-50-Bedřich_Smetana', 'aida-0001-50-Joseph_Haydn', 'aida-0001-50-Johannes_Brahms', 'aida-0001-50-Jiří_Pelikán'))"
      ]
     },
     "execution_count": 23,
     "metadata": {},
     "output_type": "execute_result"
    }
   ],
   "source": [
    "import networkx as nx\n",
    "\n",
    "G = nx.from_pandas_edgelist(\n",
    "    grouped_connections_df,\n",
    "    source='node_a',\n",
    "    target='node_b',\n",
    "    edge_attr=['count', 'url'],\n",
    "    create_using=nx.MultiGraph()\n",
    ")\n",
    "for i in sorted(G.nodes()):\n",
    "    G.nodes[i]['url'] = f\"https://impresso-project.ch/app/entities/{i}\"\n",
    "G.nodes"
   ]
  },
  {
   "cell_type": "markdown",
   "metadata": {},
   "source": [
    "Save the file so that it could be downloaded and used elsewhere."
   ]
  },
  {
   "cell_type": "code",
   "execution_count": 24,
   "metadata": {
    "id": "wlKjTDFqEAJ-"
   },
   "outputs": [
    {
     "name": "stdout",
     "output_type": "stream",
     "text": [
      "File saved in /var/folders/0h/60jp226s7c95z0wq163306fc0000gn/T/my_gefx.gefx\n"
     ]
    }
   ],
   "source": [
    "from tempfile import gettempdir\n",
    "\n",
    "temp_dir = gettempdir()\n",
    "\n",
    "gefx_filename = input(\"Enter the gefx filename: \").replace(\" \", \"_\")\n",
    "gefx_filepath = f\"{temp_dir}/{gefx_filename}.gefx\"\n",
    "\n",
    "nx.write_gexf(G, gefx_filepath)\n",
    "\n",
    "print(f\"File saved in {gefx_filepath}\")"
   ]
  },
  {
   "cell_type": "markdown",
   "metadata": {},
   "source": [
    "If running in Colab - activate custom widgets to allow `ipysigma` to render the graph."
   ]
  },
  {
   "cell_type": "code",
   "execution_count": 25,
   "metadata": {
    "id": "_98XMUAfU45K"
   },
   "outputs": [],
   "source": [
    "try:\n",
    "    from google.colab import output\n",
    "    output.enable_custom_widget_manager()\n",
    "except:\n",
    "    pass"
   ]
  },
  {
   "cell_type": "markdown",
   "metadata": {},
   "source": [
    "Render the graph."
   ]
  },
  {
   "cell_type": "code",
   "execution_count": 26,
   "metadata": {},
   "outputs": [
    {
     "data": {
      "application/vnd.jupyter.widget-view+json": {
       "model_id": "aa4a4ce565834fafa4f1f500f77ddd1b",
       "version_major": 2,
       "version_minor": 0
      },
      "text/plain": [
       "Box(children=(Label(value='What should represent the size of the nodes:'), Dropdown(layout=Layout(width='max-c…"
      ]
     },
     "execution_count": 26,
     "metadata": {},
     "output_type": "execute_result"
    }
   ],
   "source": [
    "import ipywidgets\n",
    "\n",
    "node_size_widget = ipywidgets.Dropdown(\n",
    "    options=['Degree', 'Betweenness', 'Eigenvector', 'Closeness'],\n",
    "    value='Degree',\n",
    "    disabled=False,\n",
    "    layout={'width': 'max-content'}\n",
    ")\n",
    "ipywidgets.Box(\n",
    "    [\n",
    "        ipywidgets.Label(value='What should represent the size of the nodes:'), \n",
    "        node_size_widget\n",
    "    ]\n",
    ")\n"
   ]
  },
  {
   "cell_type": "markdown",
   "metadata": {},
   "source": [
    "Refresh the next cell after changing the value above."
   ]
  },
  {
   "cell_type": "code",
   "execution_count": 27,
   "metadata": {
    "id": "pzXtYjKZUvZm"
   },
   "outputs": [
    {
     "name": "stdout",
     "output_type": "stream",
     "text": [
      "Node size method: Degree.\n",
      "See the following link for more information about centrality measures: https://networkx.org/documentation/stable/reference/algorithms/centrality.html\n"
     ]
    },
    {
     "data": {
      "application/vnd.jupyter.widget-view+json": {
       "model_id": "b1a2fafd77a243e8a4d3ef1f60e79dc4",
       "version_major": 2,
       "version_minor": 0
      },
      "text/plain": [
       "Sigma(nx.Graph with 30 nodes and 106 edges)"
      ]
     },
     "execution_count": 27,
     "metadata": {},
     "output_type": "execute_result"
    }
   ],
   "source": [
    "import networkx as nx\n",
    "from ipysigma import Sigma\n",
    "\n",
    "# Importing a gexf graph\n",
    "g = nx.read_gexf(gefx_filepath)\n",
    "\n",
    "node_size = None\n",
    "# Read node size method\n",
    "match node_size_widget.value:\n",
    "    case 'Degree':\n",
    "        node_size = g.degree\n",
    "    case 'Betweenness':\n",
    "        node_size = nx.betweenness_centrality(g)\n",
    "    case 'Eigenvector':\n",
    "        node_size = nx.eigenvector_centrality(g)\n",
    "    case 'Closeness':\n",
    "        node_size = nx.closeness_centrality(g)\n",
    "    case _:\n",
    "        node_size = g.degree\n",
    "\n",
    "print(f\"Node size method: {node_size_widget.value}.\")\n",
    "print(\"See the following link for more information about centrality measures: https://networkx.org/documentation/stable/reference/algorithms/centrality.html\")\n",
    "\n",
    "# Displaying the graph with a size mapped on degree and\n",
    "# a color mapped on a categorical attribute of the nodes\n",
    "Sigma(g, node_size=node_size, edge_size='count', clickable_edges=True, )"
   ]
  }
 ],
 "metadata": {
  "colab": {
   "collapsed_sections": [
    "TwR9UmpvaLhp",
    "q1NQ9Kq9aVm4"
   ],
   "provenance": []
  },
  "kernelspec": {
   "display_name": ".venv",
   "language": "python",
   "name": "python3"
  },
  "language_info": {
   "codemirror_mode": {
    "name": "ipython",
    "version": 3
   },
   "file_extension": ".py",
   "mimetype": "text/x-python",
   "name": "python",
   "nbconvert_exporter": "python",
   "pygments_lexer": "ipython3",
   "version": "3.11.11"
  }
 },
 "nbformat": 4,
 "nbformat_minor": 4
}
