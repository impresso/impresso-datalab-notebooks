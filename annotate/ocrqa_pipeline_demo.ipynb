{
  "nbformat": 4,
  "nbformat_minor": 0,
  "metadata": {
    "colab": {
      "provenance": []
    },
    "kernelspec": {
      "name": "python3",
      "display_name": "Python 3"
    },
    "language_info": {
      "name": "python"
    }
  },
  "cells": [
    {
      "cell_type": "markdown",
      "source": [
        "# OCR QA Score Pipeline with Impresso Package"
      ],
      "metadata": {
        "id": "rhQe5f0yBLS5"
      }
    },
    {
      "cell_type": "markdown",
      "source": [
        "### What is this notebook about?\n",
        "\n",
        "This notebook demonstrates the functionality and use cases of the Impresso subpackage `ocrqa`.\n",
        "\n",
        "At its core, this package/pipeline takes a text input and calculates a QA score using a Bloom filter. It first automatically detects the language of the text using the Impresso subpackage `langident` (unless explicitly specified). The pipeline dynamically checks all available languages based on existing Bloom filters and returns an \"unsupported language\" message if the language is not yet available. If supported, it retrieves the latest Bloom filter for the detected language from the Impresso Hugging Face repository: `impresso-project/OCR-quality-assessment-unigram`, which is then used to calculate the QA score.\n",
        "\n",
        "*  QA Score: A value between 0 and 1, representing the ratio of known to unknown words in the text compared to the Bloom filter.\n",
        "\n",
        "Additionally, as will be shown below, the pipeline provides optional arguments that allow for more advanced usage of the package.\n",
        "\n"
      ],
      "metadata": {
        "id": "2oEACNWrBUFc"
      }
    },
    {
      "cell_type": "markdown",
      "source": [
        "---\n",
        "## What will you learn?\n",
        "\n",
        "In this notebook, you will:\n",
        "\n",
        "* Understand the functionality of the `ocrqa` subpackage from the Impresso Pipelines package.\n",
        "* Learn how to calculate a **QA score** for a given text using a **Bloom filter**.\n",
        "* See how the pipeline **automatically detects language** using `langident` before applying QA scoring.\n",
        "* Explore different use cases, including **basic and advanced usage** of the OCR QA pipeline.\n",
        "* Identify limitations of the pipeline, such as handling **uncommon words and short texts**.\n",
        "\n",
        "By the end of this notebook, you will have a clear understanding of how the OCR QA score is computed and its practical applications."
      ],
      "metadata": {
        "id": "8eQJBze2Mc_Q"
      }
    },
    {
      "cell_type": "markdown",
      "source": [
        "---\n",
        "## Prerequisites"
      ],
      "metadata": {
        "id": "dyx4fqlXBXEX"
      }
    },
    {
      "cell_type": "markdown",
      "source": [
        "First, you should install Impresso package:"
      ],
      "metadata": {
        "id": "q891fk9XFHay"
      }
    },
    {
      "cell_type": "code",
      "source": [
        "%pip install impresso_pipelines[ocrqa]"
      ],
      "metadata": {
        "colab": {
          "base_uri": "https://localhost:8080/"
        },
        "id": "S2_e-lIOFMRN",
        "outputId": "90a83a00-c021-432e-97ae-11910e0b4bb1"
      },
      "execution_count": 13,
      "outputs": [
        {
          "output_type": "stream",
          "name": "stdout",
          "text": [
            "Requirement already satisfied: impresso_pipelines[ocrqa] in /usr/local/lib/python3.11/dist-packages (0.3.4)\n",
            "Requirement already satisfied: cython in /usr/local/lib/python3.11/dist-packages (from impresso_pipelines[ocrqa]) (3.0.12)\n",
            "Requirement already satisfied: floret in /usr/local/lib/python3.11/dist-packages (from impresso_pipelines[ocrqa]) (0.10.5)\n",
            "Requirement already satisfied: huggingface_hub in /usr/local/lib/python3.11/dist-packages (from impresso_pipelines[ocrqa]) (0.28.1)\n",
            "Requirement already satisfied: numpy<2.0,>=1.24 in /usr/local/lib/python3.11/dist-packages (from impresso_pipelines[ocrqa]) (1.26.4)\n",
            "Requirement already satisfied: pybloomfiltermmap3 in /usr/local/lib/python3.11/dist-packages (from impresso_pipelines[ocrqa]) (0.6.0)\n",
            "Requirement already satisfied: filelock in /usr/local/lib/python3.11/dist-packages (from huggingface_hub->impresso_pipelines[ocrqa]) (3.17.0)\n",
            "Requirement already satisfied: fsspec>=2023.5.0 in /usr/local/lib/python3.11/dist-packages (from huggingface_hub->impresso_pipelines[ocrqa]) (2024.10.0)\n",
            "Requirement already satisfied: packaging>=20.9 in /usr/local/lib/python3.11/dist-packages (from huggingface_hub->impresso_pipelines[ocrqa]) (24.2)\n",
            "Requirement already satisfied: pyyaml>=5.1 in /usr/local/lib/python3.11/dist-packages (from huggingface_hub->impresso_pipelines[ocrqa]) (6.0.2)\n",
            "Requirement already satisfied: requests in /usr/local/lib/python3.11/dist-packages (from huggingface_hub->impresso_pipelines[ocrqa]) (2.32.3)\n",
            "Requirement already satisfied: tqdm>=4.42.1 in /usr/local/lib/python3.11/dist-packages (from huggingface_hub->impresso_pipelines[ocrqa]) (4.67.1)\n",
            "Requirement already satisfied: typing-extensions>=3.7.4.3 in /usr/local/lib/python3.11/dist-packages (from huggingface_hub->impresso_pipelines[ocrqa]) (4.12.2)\n",
            "Requirement already satisfied: charset-normalizer<4,>=2 in /usr/local/lib/python3.11/dist-packages (from requests->huggingface_hub->impresso_pipelines[ocrqa]) (3.4.1)\n",
            "Requirement already satisfied: idna<4,>=2.5 in /usr/local/lib/python3.11/dist-packages (from requests->huggingface_hub->impresso_pipelines[ocrqa]) (3.10)\n",
            "Requirement already satisfied: urllib3<3,>=1.21.1 in /usr/local/lib/python3.11/dist-packages (from requests->huggingface_hub->impresso_pipelines[ocrqa]) (2.3.0)\n",
            "Requirement already satisfied: certifi>=2017.4.17 in /usr/local/lib/python3.11/dist-packages (from requests->huggingface_hub->impresso_pipelines[ocrqa]) (2025.1.31)\n"
          ]
        }
      ]
    },
    {
      "cell_type": "markdown",
      "source": [
        "---\n",
        "## Workflow"
      ],
      "metadata": {
        "id": "X-tdR7o4Mky7"
      }
    },
    {
      "cell_type": "markdown",
      "source": [
        "\n",
        "### Basic Usage"
      ],
      "metadata": {
        "id": "nHEncypABbeo"
      }
    },
    {
      "cell_type": "markdown",
      "source": [
        "Unless explicitly specified, the pipeline uses the Impresso subpackage `langident` to detect the language of the text with the latest available model. For more details on the langident subpackage, please refer to the Impresso demo notebook for [langident](https://github.com/impresso/impresso-datalab-notebooks/tree/main/annotate/langident_pipeline_demo.ipynb).\n",
        "\n",
        "Once the language is detected, the pipeline checks if a corresponding Bloom filter exists. If available, it retrieves and uses the latest version."
      ],
      "metadata": {
        "id": "bD5nkNwuFsH7"
      }
    },
    {
      "cell_type": "markdown",
      "source": [
        "Start by importing the necessary module from Impresso Pipelines package"
      ],
      "metadata": {
        "id": "U_cVRyDfRnrZ"
      }
    },
    {
      "cell_type": "code",
      "source": [
        "from impresso_pipelines.ocrqa import OCRQAPipeline\n",
        "ocrqa_pipeline = OCRQAPipeline()"
      ],
      "metadata": {
        "id": "NVi5bRsaFdLO"
      },
      "execution_count": 14,
      "outputs": []
    },
    {
      "cell_type": "markdown",
      "source": [
        "Once you initialize the pipeline, you can simply provide the text you'd like to classify. This example demonstrates the use of German text."
      ],
      "metadata": {
        "id": "V9NbNk_THMER"
      }
    },
    {
      "cell_type": "code",
      "source": [
        "de_text = \"Ein kleiner Hund wqeg Max lebte in einem ruhigen Dorf.\""
      ],
      "metadata": {
        "id": "ycZz3bjwHEPg"
      },
      "execution_count": 15,
      "outputs": []
    },
    {
      "cell_type": "code",
      "source": [
        "ocrqa_pipeline(de_text)"
      ],
      "metadata": {
        "colab": {
          "base_uri": "https://localhost:8080/"
        },
        "id": "DebXqYB0HRtM",
        "outputId": "921c42a9-f410-4e5b-97df-bc039ccc1a42"
      },
      "execution_count": 16,
      "outputs": [
        {
          "output_type": "execute_result",
          "data": {
            "text/plain": [
              "{'language': 'de', 'score': 0.9}"
            ]
          },
          "metadata": {},
          "execution_count": 16
        }
      ]
    },
    {
      "cell_type": "markdown",
      "source": [
        "The default output of the pipeline is a dictionary containing the detected language and the corresponding QA score. The QA score is rounded to one decimal place to account for minor variations, such as the presence of unusual names or OCR errors, which should not significantly impact the overall score.\n",
        "\n",
        "In this example, the score is **0.9**, meaning that approximately **one out of ten words** does not exist in the Bloom filter. This suggests that while the OCR process was largely successful, there was a small misidentification (*wqeg*) in the text."
      ],
      "metadata": {
        "id": "OlmUZvxIHaVk"
      }
    },
    {
      "cell_type": "markdown",
      "source": [
        "### Advanced Usage"
      ],
      "metadata": {
        "id": "LT0z6ugxBdF6"
      }
    },
    {
      "cell_type": "markdown",
      "source": [
        "This pipeline offers several additional attributes that can be used when calling it to gain a deeper understanding of the results. These attributes include `language`, `version`, `diagnostics`, `model_id`, and `supported_languages`:\n",
        "\n",
        "*   `language`: Accepts language abbreviation strings such as \"en\" (English) or \"de\" (German). If provided, the pipeline assumes the specified language and skips the language detection step, directly using the corresponding Bloom filter.\n",
        "\n",
        "*   `version`: Accepts a specific Bloom filter model version in the format \"1.0.5\" or \"1.0.6\". If specified, the pipeline uses the requested version (if available) and skips the automatic retrieval of the latest model.\n",
        "\n",
        "*   `diagnostics`: Boolean. If set to True, the pipeline returns additional information, such as known_tokens, unknown_tokens, and the Bloom filter name used. For more details, see the sections below.\n",
        "\n",
        "*   `model_id`: Boolean. If set to True, the pipeline includes the name of the Bloom filter model used in the output.\n",
        "\n",
        "*   `supported_languages`: Boolean. If set to True, the pipeline returns a list of supported languages (i.e., languages for which a Bloom filter is available).\n",
        "\n",
        "These attributes can be used individually, in combination with each other, or all at once, depending on the level of detail needed."
      ],
      "metadata": {
        "id": "Y6iu4jelILoK"
      }
    },
    {
      "cell_type": "markdown",
      "source": [
        "**Example 1**: `language`"
      ],
      "metadata": {
        "id": "8qpBHjqvLMS2"
      }
    },
    {
      "cell_type": "code",
      "execution_count": 17,
      "metadata": {
        "colab": {
          "base_uri": "https://localhost:8080/"
        },
        "id": "Z9jmh60QA8Xx",
        "outputId": "7fd25f88-706b-4d86-fce5-ef35e98b6881"
      },
      "outputs": [
        {
          "output_type": "execute_result",
          "data": {
            "text/plain": [
              "{'language': 'lb', 'score': 0.9}"
            ]
          },
          "metadata": {},
          "execution_count": 17
        }
      ],
      "source": [
        "# Using the same German text example as before\n",
        "ocrqa_pipeline(de_text, language=\"lb\")"
      ]
    },
    {
      "cell_type": "markdown",
      "source": [
        "Even though the provided text is clearly in German, specifying the language as Luxembourgish, for example, forces the pipeline to use the corresponding Bloom filter for that language. If the selected language is unsupported, the pipeline will return an appropriate error message."
      ],
      "metadata": {
        "id": "m6IfMkZpLpFD"
      }
    },
    {
      "cell_type": "markdown",
      "source": [
        "**Example 2**: `version`"
      ],
      "metadata": {
        "id": "1BCop6krMBkS"
      }
    },
    {
      "cell_type": "code",
      "source": [
        "# Using the same German text example as before\n",
        "ocrqa_pipeline(de_text, version=\"1.0.5\")"
      ],
      "metadata": {
        "colab": {
          "base_uri": "https://localhost:8080/"
        },
        "id": "b_y6HMbrLS-c",
        "outputId": "137f2873-ada4-4d1b-95da-5d0504b04dbc"
      },
      "execution_count": 18,
      "outputs": [
        {
          "output_type": "execute_result",
          "data": {
            "text/plain": [
              "{'language': 'de', 'score': 0.9}"
            ]
          },
          "metadata": {},
          "execution_count": 18
        }
      ]
    },
    {
      "cell_type": "markdown",
      "source": [
        "In the example above, by explicitly setting the `version` to *1.0.5* , you are instructing the pipeline to use the Bloom filter corresponding to this version, even if a more recent version is available."
      ],
      "metadata": {
        "id": "iIzkhKNqM8uP"
      }
    },
    {
      "cell_type": "markdown",
      "source": [
        "**Example 3**: `diagnostics`"
      ],
      "metadata": {
        "id": "NuHr1YDHNZGF"
      }
    },
    {
      "cell_type": "code",
      "source": [
        "# Using the same German text example as before\n",
        "ocrqa_pipeline(de_text, diagnostics=True)"
      ],
      "metadata": {
        "colab": {
          "base_uri": "https://localhost:8080/"
        },
        "id": "sOSWx-rkMpvJ",
        "outputId": "d22c7ead-2f76-4c4e-c281-e4b578cf4eac"
      },
      "execution_count": 19,
      "outputs": [
        {
          "output_type": "execute_result",
          "data": {
            "text/plain": [
              "{'language': 'de',\n",
              " 'score': 0.9,\n",
              " 'diagnostics': {'known_tokens': ['dorf',\n",
              "   'max',\n",
              "   'kleiner',\n",
              "   'lebte',\n",
              "   'in',\n",
              "   'ein',\n",
              "   'ruhigen',\n",
              "   'hund',\n",
              "   'einem'],\n",
              "  'unknown_tokens': ['wqeg'],\n",
              "  'model_id': 'ocrqa-wp_v1.0.6-de'}}"
            ]
          },
          "metadata": {},
          "execution_count": 19
        }
      ]
    },
    {
      "cell_type": "markdown",
      "source": [
        "Once you set `diagnostics` to *True* , an additional key, `diagnostics`, will be added to the dictionary. The value of this key contains all known and unknown tokens, as well as the name of the Bloom filter used. In this example, we can see that there are no unknown words, meaning every word exists in this specific Bloom filter."
      ],
      "metadata": {
        "id": "bcbLziN_OwfA"
      }
    },
    {
      "cell_type": "markdown",
      "source": [
        "**Example 4**: `model_id`"
      ],
      "metadata": {
        "id": "TAGVU8cGNfy-"
      }
    },
    {
      "cell_type": "code",
      "source": [
        "# Using the same German text example as before\n",
        "ocrqa_pipeline(de_text, model_id=True)"
      ],
      "metadata": {
        "colab": {
          "base_uri": "https://localhost:8080/"
        },
        "id": "_FHAOX0QPati",
        "outputId": "ffd641cf-8e58-43b2-fa0c-22fd1e2aa9ab"
      },
      "execution_count": 20,
      "outputs": [
        {
          "output_type": "execute_result",
          "data": {
            "text/plain": [
              "{'language': 'de', 'score': 0.9, 'model_id': 'ocrqa-wp_v1.0.6-de'}"
            ]
          },
          "metadata": {},
          "execution_count": 20
        }
      ]
    },
    {
      "cell_type": "markdown",
      "source": [
        "Similar to the `diagnostics` attribute, the `model_id` attribute is a simpler version. If set to `True`, the pipeline will return an additional key, `bloom_filter`, with the value indicating the Bloom filter that was used for the analysis."
      ],
      "metadata": {
        "id": "EzEnDhokPeeB"
      }
    },
    {
      "cell_type": "markdown",
      "source": [
        "**Example 5**: `supported languages`"
      ],
      "metadata": {
        "id": "O3X0rNIeNgON"
      }
    },
    {
      "cell_type": "code",
      "source": [
        "# Using the same German text example as before\n",
        "ocrqa_pipeline(de_text, supported_languages=True)"
      ],
      "metadata": {
        "colab": {
          "base_uri": "https://localhost:8080/"
        },
        "id": "K7jkZAR2NlnF",
        "outputId": "5a4279c5-1aec-4662-bae1-daf2ba76f300"
      },
      "execution_count": 21,
      "outputs": [
        {
          "output_type": "execute_result",
          "data": {
            "text/plain": [
              "{'language': 'de',\n",
              " 'score': 0.9,\n",
              " 'supported_languages': ['fr', 'de', 'lb', 'en']}"
            ]
          },
          "metadata": {},
          "execution_count": 21
        }
      ]
    },
    {
      "cell_type": "markdown",
      "source": [
        "Once `supported_languages` is set to *True*, the pipeline returns an additional key, `supported_languages`, with a value containing a list of all currently supported languages (i.e., languages that have a corresponding Bloom filter)."
      ],
      "metadata": {
        "id": "3xHzczRtP9_t"
      }
    },
    {
      "cell_type": "markdown",
      "source": [
        "**Example 6**: All at once"
      ],
      "metadata": {
        "id": "_YLZAibuP1Jn"
      }
    },
    {
      "cell_type": "code",
      "source": [
        "# Using the same German text example as before\n",
        "ocrqa_pipeline(de_text, language=\"fr\", version=\"1.0.5\", diagnostics=True, model_id=True, supported_languages=True)"
      ],
      "metadata": {
        "colab": {
          "base_uri": "https://localhost:8080/"
        },
        "id": "qKLHCUZ4P3OG",
        "outputId": "1d35954a-8121-4d7b-c2bd-4cf11cc3aa11"
      },
      "execution_count": 22,
      "outputs": [
        {
          "output_type": "execute_result",
          "data": {
            "text/plain": [
              "{'language': 'fr',\n",
              " 'score': 0.7,\n",
              " 'diagnostics': {'known_tokens': ['dorf',\n",
              "   'max',\n",
              "   'kleiner',\n",
              "   'in',\n",
              "   'ein',\n",
              "   'hund',\n",
              "   'einem'],\n",
              "  'unknown_tokens': ['wqeg', 'lebte', 'ruhigen'],\n",
              "  'model_id': 'ocrqa-wp_v1.0.5-fr'},\n",
              " 'supported_languages': ['fr', 'de', 'lb', 'en']}"
            ]
          },
          "metadata": {},
          "execution_count": 22
        }
      ]
    },
    {
      "cell_type": "markdown",
      "source": [
        "You can use a mix of additional parameters, or all of them at once, to gain a deeper understanding of your QA score. In the example above, we set the language to French, which results in many unknown tokens being identified, as the Bloom filter used may not cover certain French words."
      ],
      "metadata": {
        "id": "xoA2pr-XQgMd"
      }
    },
    {
      "cell_type": "markdown",
      "source": [
        "### Limitations of the OCR QA Score Pipeline"
      ],
      "metadata": {
        "id": "He5YuZ_nR350"
      }
    },
    {
      "cell_type": "code",
      "source": [
        "short_de_text_with_unusual_name = \"Glebs geht ins Büro.\""
      ],
      "metadata": {
        "id": "vvSzfgE2Qcvp"
      },
      "execution_count": 23,
      "outputs": []
    },
    {
      "cell_type": "code",
      "source": [
        "# Example 1: Very short sentence\n",
        "ocrqa_pipeline(short_de_text_with_unusual_name, diagnostics=True)"
      ],
      "metadata": {
        "colab": {
          "base_uri": "https://localhost:8080/"
        },
        "id": "g-V1gu0MSHLG",
        "outputId": "e03d20d8-69c8-4ad0-ade7-8a1f633bb0c1"
      },
      "execution_count": 24,
      "outputs": [
        {
          "output_type": "execute_result",
          "data": {
            "text/plain": [
              "{'language': 'lb',\n",
              " 'score': 0.8,\n",
              " 'diagnostics': {'known_tokens': ['büro', 'ins', 'geht'],\n",
              "  'unknown_tokens': ['glebs'],\n",
              "  'model_id': 'ocrqa-wp_v1.0.5-lb'}}"
            ]
          },
          "metadata": {},
          "execution_count": 24
        }
      ]
    },
    {
      "cell_type": "markdown",
      "source": [
        "As shown, the language detection model struggles with **short texts**, leading to potential misclassification. Additionally, **uncommon names** or **rare words** can lower the QA score, even if they were correctly identified by OCR. This happens because these words do not exist in the current version of the Bloom filter, making them appear as unknown tokens."
      ],
      "metadata": {
        "id": "yvq7ue67TWq_"
      }
    },
    {
      "cell_type": "markdown",
      "source": [
        "---\n",
        "## Conclusion"
      ],
      "metadata": {
        "id": "Au7M3ra8Mx_S"
      }
    },
    {
      "cell_type": "markdown",
      "source": [
        "### Summary\n",
        "\n",
        "In this notebook, we've explored the OCR QA Pipeline from the Impresso package, which evaluates OCR quality by calculating a score between 0 and 1. The pipeline:\n",
        "\n",
        "* Automatically detects text language using `langident` (or accepts manual language specification)\n",
        "* Uses Bloom filters to identify known/unknown words and calculate a quality score\n",
        "* Offers additional parameters for customization (`language`, `version`, `diagnostics`, `model_id`, `supported_languages`)\n",
        "* Has limitations with short texts and uncommon words\n",
        "* Provides a standardized approach to OCR quality assessment across multiple languages\n",
        "\n",
        "The pipeline is particularly useful for evaluating OCR quality in historical documents and identifying potential errors in digitized text."
      ],
      "metadata": {
        "id": "b2donc9ZM4hI"
      }
    },
    {
      "cell_type": "markdown",
      "source": [
        "### Next steps"
      ],
      "metadata": {
        "id": "v_YxOk_rSTWq"
      }
    },
    {
      "cell_type": "markdown",
      "source": [
        "Since this subpackage relies on the Impresso langident subpackage, you might be interested in exploring the [demo notebook](https://github.com/impresso/impresso-datalab-notebooks/tree/main/annotate/langident_pipeline_demo.ipynb) for langident.\n",
        "\n",
        "Additionally, you can find the repository for the **Impresso Pipelines package** [here](https://github.com/impresso/impresso-pipelines/tree/mallet_pipeline)."
      ],
      "metadata": {
        "id": "Hq_RTRtAM6Du"
      }
    },
    {
      "cell_type": "markdown",
      "source": [
        "---\n",
        "## Project and License info\n",
        "\n",
        "### Impresso project\n",
        "\n",
        "[Impresso - Media Monitoring of the Past](https://impresso-project.ch) is an interdisciplinary research project that aims to develop and consolidate tools for processing and exploring large collections of media archives across modalities, time, languages and national borders. The first project (2017-2021) was funded by the Swiss National Science Foundation under grant No. [CRSII5_173719](http://p3.snf.ch/project-173719) and the second project (2023-2027) by the SNSF under grant No. [CRSII5_213585](https://data.snf.ch/grants/grant/213585) and the Luxembourg National Research Fund under grant No. 17498891.\n",
        "\n",
        "### Copyright\n",
        "\n",
        "Copyright (C) 2024 The Impresso team.\n",
        "\n",
        "### License\n",
        "\n",
        "This program is provided as open source under the [GNU Affero General Public License](https://github.com/impresso/impresso-pyindexation/blob/master/LICENSE) v3 or later.\n",
        "\n",
        "---\n",
        "\n",
        "<p align=\"center\">\n",
        "  <img src=\"https://github.com/impresso/impresso.github.io/blob/master/assets/images/3x1--Yellow-Impresso-Black-on-White--transparent.png?raw=true\" width=\"350\" alt=\"Impresso Project Logo\"/>\n",
        "</p>\n",
        "\n"
      ],
      "metadata": {
        "id": "X4DQgojRPyXn"
      }
    }
  ]
}