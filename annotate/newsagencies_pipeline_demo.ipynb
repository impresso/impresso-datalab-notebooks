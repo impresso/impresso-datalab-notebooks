{
 "cells": [
  {
   "cell_type": "markdown",
   "metadata": {
    "id": "QFaBppP2Sb6z"
   },
   "source": [
    "# News Agencies Recognition with impresso-pipelines Package\n",
    "\n",
    "<a target=\"_blank\" href=\"https://colab.research.google.com/github/impresso/impresso-datalab-notebooks/blob/main/annotate/newsagencies_pipeline_demo.ipynb\">\n",
    "  <img src=\"https://colab.research.google.com/assets/colab-badge.svg\" alt=\"Open In Colab\"/>\n",
    "</a>\n"
   ]
  },
  {
   "cell_type": "markdown",
   "metadata": {
    "id": "nAcbQs-NSwsL"
   },
   "source": [
    "## What is this notebook about?\n",
    "\n",
    "This notebook introduces the NewsAgencies component of the [impresso-pipelines](https://pypi.org/project/impresso-pipelines/) Python package. The broader goal of the impresso pipelines is to make the internal data processing workflows of the impresso project reusable and accessible to others. It allows external users—such as researchers, developers, or digital humanities practitioners—to apply the same processing steps we used on our historical newspaper collections to their own text collections.\n",
    "\n",
    "The package is designed to minimize the coding effort required. By offering ready-to-use pipelines, users can adopt impresso approach to document processing with minimal configuration. This ensures consistency, comparability, and transparency in how News-Agencies-derived data is prepared and evaluated.\n",
    "\n",
    "In this notebook, we focus on the [newsagencies](https://github.com/impresso/impresso-pipelines/tree/main/impresso_pipelines/newsagencies) subpackage, which enables extraction of news agencies from a chunk of text. You will learn how to apply the NewsAgencies pipeline to your text data, explore different usage options, and interpret the results.\n",
    "\n",
    "## Why is this useful?\n",
    "\n",
    "\n",
    "*   News agency datasets often contain inconsistencies in structure, naming conventions, and content formatting across countries, time periods, and document sources.\n",
    "*   This pipeline provides a standardized, end-to-end approach for extracting, cleaning, and organizing metadata and textual content, making it easier to perform large-scale comparisons, identify patterns, and feed clean input into downstream models or dashboards.\n",
    "\n",
    "\n",
    "## How it works\n",
    "\n",
    "*   **Init**: Load the Hugging Face NER model and tokenizer.\n",
    "*   **Inference**: Tokenize text, detect “press-agency” mentions with confidence scores.\n",
    "*   **Filter**: Drop mentions below `min_relevance` or in `suppress_entities`.\n",
    "\n",
    "*   **Aggregate**: Group by UID and attach its Wikidata link.\n",
    "\n",
    "*   **Extras**: Enable `diagnostics` for raw mention details or swap in a custom `model_id`.\n",
    "\n",
    "## Technical background\n",
    "\n",
    "- **Transformer Encoder**: A BERT-style model produces contextual embeddings for each token.\n",
    "- **Token-Classification Head**: A linear layer classifies each token as “press-agency” or “O,” trained via cross-entropy.\n",
    "- **Subword Tokenization**: WordPiece splits text into subwords to handle unknown vocabulary.\n",
    "- **Hugging Face Pipeline**: Wraps tokenization, model inference, and offset alignment into a single call.\n",
    "- **Post-Processing**: Applies a confidence threshold, groups spans by UID, links to Wikidata, and filters via `suppress_entities`; `diagnostics` and `model_id` flags enable raw outputs or custom models.\n",
    "\n"
   ]
  },
  {
   "cell_type": "markdown",
   "metadata": {
    "id": "MvRaGa7jS0Zg"
   },
   "source": [
    "## What will you learn?\n",
    "\n",
    "In this notebook, you will:\n",
    "\n",
    "- Understand the functionality of the `newsagencies` subpackage from the Impresso Pipelines package.\n",
    "- Learn how to extract news agencies from a given raw text.\n",
    "- Explore different use cases, including **basic and advanced usage** of the News Agencies pipeline.\n",
    "- Recognize some limitations of the pipeline, such as handling **uncommon abbreviations and short texts**.\n",
    "\n",
    "By the end of this notebook, you will have a clear understanding of how the News Agencies are extracted from a text and their practical applications."
   ]
  },
  {
   "cell_type": "markdown",
   "metadata": {
    "id": "_Ek_DUzRS5wR"
   },
   "source": [
    "## Useful resources\n",
    "- For technical details on this library, please refer to the repository of the [Impresso Pipelines package](https://github.com/impresso/impresso-pipelines/tree/main)."
   ]
  },
  {
   "cell_type": "markdown",
   "metadata": {
    "id": "PBdL2WC0S-vh"
   },
   "source": [
    "## Prerequisites\n",
    "First, start by installing `impresso-pipelines` package. Please, note that it might require you to restart kernel to apply changes. To do so, on Google Colab, go to *Runtime* and select *Restart session*.\n",
    "\n"
   ]
  },
  {
   "cell_type": "code",
   "execution_count": null,
   "metadata": {
    "id": "Jc2KhsawQ8bv"
   },
   "outputs": [],
   "source": [
    "%pip install \"impresso_pipelines[newsagencies]\""
   ]
  },
  {
   "cell_type": "markdown",
   "metadata": {
    "id": "vW6_QLg_THhc"
   },
   "source": [
    "## Basic Usage\n",
    "\n",
    "Start by importing the necessary module from `impresso-pipelines` package\n"
   ]
  },
  {
   "cell_type": "code",
   "execution_count": 3,
   "metadata": {
    "id": "N1kYDZMOTHqI"
   },
   "outputs": [],
   "source": [
    "from impresso_pipelines.newsagencies import NewsAgenciesPipeline\n",
    "\n",
    "newsagencies_pipeline = NewsAgenciesPipeline()"
   ]
  },
  {
   "cell_type": "markdown",
   "metadata": {
    "id": "9zWWVmCcTqsl"
   },
   "source": [
    "Once you initialize the pipeline, you can simply provide the text you'd like to extract news agencies for. This example demonstrates the use of multilingual text (French, German, English).\n"
   ]
  },
  {
   "cell_type": "code",
   "execution_count": null,
   "metadata": {
    "id": "z4yNrxseTMdl"
   },
   "outputs": [],
   "source": [
    "text = \"\"\"\n",
    "\n",
    "Selon une dépêche matinale de l’Agence Havas, datée du 14 mai 1898, la Chambre s’est réunie dans une atmosphère « pleine de gravité ». Par câble, l’Agence France‑Presse (AFP) précise que les bancs de la gauche ont bruyamment salué l’allocution ministérielle. D’Amsterdam, l’Algemeen Nederlands Persbureau (ANP) fait savoir que La Haye observe l’affaire « avec le plus grand intérêt », tandis que l’Agenzia Nazionale Stampa Associata (ANSA) signale de Rome qu’un amendement sera déposé « au nom de la défense des manufactures locales ».\n",
    "À Berne, ATS‑SDA expédie un avis où l’on lit que le Conseil fédéral « n’entend point se départir de la doctrine de neutralité »; Belga télégraphie que Bruxelles redoute des rétorsions douanières. De Sofia, BTA rappelle qu’en 1904 déjà, des économistes bulgares prévoyaient des secousses monétaires similaires. Dans les cafés de Saint‑Pétersbourg, rapporte Interfax, on discute du projet « comme on eût commenté la réforme de 1861 ».\n",
    "\n",
    "Wie das Wolffs Telegraphisches Bureau (Wolff) gestern in einer abendlichen Meldung verlautbarte, trat der Haushaltsausschuss „unter beträchtlichem Andrang der Presse“ zusammen. Eine Fernschreibnotiz der Telegraphen‑Union (Telunion) fügte hinzu, man erwarte „lebhafte Zwischenrufe von der Zentrumspartei“. Gemäß Deutsches Nachrichtenbüro (DNB) erinnern die Vorgänge an die Zolltarif‑Debatten des Jahres 1879.\n",
    "Der Deutsche Depeschendienst / dapd (DDP‑DAPD) berichtet von letzter Minute‑Verhandlungen, während die Deutsche Presse‑Agentur (dpa) meldet, der Reichskanzler halte sich „zu weitergehenden Stellungnahmen bedeckt“. Aus Wien telegraphiert die Österreichische Presseagentur (APA), man hege „vorsichtigen Optimismus“; gleichzeitig warnt die Schweizerische Depeschenagentur (ATS/SDA) vor juristischen Fallstricken im Alpenraum. Die Schweizer Mittelpresse (SPK‑SMP) lässt verlauten, mehrere Kantone pochten auf Kompensationen. Nach einer Drahtnachricht der tschechischen ČTK wolle Prag demnächst ein Gutachten veröffentlichen.\n",
    "\n",
    "By cable to The Times of London, Reuters states that the conference hall fell silent when the chairman produced a memorandum drafted, it is said, by experts of the old Stefani bureau. Across the Atlantic, the Associated Press (AP) wires that a „spirit of compromise” pervades the corridors, though private circulars hint at lingering scepticism.\n",
    "From New York, United    Press International (UPI/UP) recalls that Domei chroniclers followed the Tokyo tariff talks of 1934 „with equal fervour“. Market sheets collated by Extel record a brief rally in overseas securities; yet commentators consulted by Europapress counsel prudence for the Latin exchanges. Warsaw-based PAP intimates that Poland will vote „in concert with Budapest and Prague“. Stockholm’s Tidningarnas Telegrambyrå (TT), meanwhile, relays Nordic caution, whereas Belgrade’s TANJUG cautions against „any settlement that might hamper Balkan exports“.\n",
    "Late in the evening, TASS issues a bulletin insisting that existing fuel conventions be honoured; a companion wire from Interfax suggests the Kremlin regards the matter as „no less vital than the grain question of 1917“.\n",
    "\n",
    "\n",
    "\"\"\""
   ]
  },
  {
   "cell_type": "code",
   "execution_count": null,
   "metadata": {
    "id": "n_JPtOlIVQCU"
   },
   "outputs": [],
   "source": [
    "newsagencies_pipeline(text)"
   ]
  },
  {
   "cell_type": "markdown",
   "metadata": {
    "id": "CLbfwYjMMOrD"
   },
   "source": [
    "**Interpretation of the result:**\n",
    "\n",
    "As can be seen, the returned result is a dictionary with a single key \"agencies\" and a list of agencies found in the text.\n",
    "\n",
    "Each found agency is returned in a separate dictionary containing 3 key-value pairs:\n",
    "\n",
    "\n",
    "1.   `uid` is unique name of a news agency.\n",
    "\n",
    "2.   `relevance`: Score value between 0 and 1. This score indicates how confident the model is that a particular word or phrase belongs to a specific entity class. A relevance score of 0 indicates that the model is not confident at all that the detected entity is correct (probability 0%).\n",
    "A relevance score of 1 indicates that the model is fully confident that the detected entity is correct (probability 100%). By default, a threshold of 0.1 is applied to ensure the output contains only the meaningful results.\n",
    "\n",
    "\n",
    "\n",
    "3.   `wikidata_link` is link to Wikidata that has information and some description about the specific news agency.\n",
    "\n"
   ]
  },
  {
   "cell_type": "markdown",
   "metadata": {
    "id": "7Kxpw368QbD6"
   },
   "source": [
    "## Advanced Usage"
   ]
  },
  {
   "cell_type": "markdown",
   "metadata": {
    "id": "COx0hlwmQmWT"
   },
   "source": [
    "This pipeline offers several additional attributes that can be used when calling it to manipulate or gain a deeper understanding of the results and include the corresponding metadata from the processing pipeline for documentation.\n",
    "\n",
    "- `min_relevance`: controls the strictness of entity filtering. Lower values make the pipeline less strict (more entities, lower confidence), while higher values make it more strict (fewer, higher-confidence entities). Any value between 0 and 1 is allowed.\n",
    "\n",
    "- `diagnostics`: expects a boolean value (True or False). If set to True, the pipeline returns detailed information about each detected agency, including the exact text span, entity type, relevance score, and Wikidata link. If set to False (default), it returns only a summary list of unique agencies with their highest relevance scores and Wikidata links.\n",
    "\n",
    "- `model_id`: expects a string that specifies the identifier or path of the pretrained model to use (for example, `impresso-project/ner-newsagency-bert-multilingual`).\n",
    "It tells the pipeline which model to load from Hugging Face Hub or a local directory.\n",
    "Changing model_id allows you to use different models for news agency recognition, as long as they are compatible with the pipeline.\n",
    "\n",
    "- `suppress_entities`: expects a list or sequence of entity type strings to exclude from the results.\n",
    "By default, the pipeline suppresses `['org.ent.pressagency.unk', 'ag', 'pers.ind.articleauthor']`, which means unknown agencies, general agency tags, and individual article authors are filtered out.\n",
    "These are suppressed by default to focus the output on recognized, specific news agencies and avoid irrelevant or overly generic entities.\n"
   ]
  },
  {
   "cell_type": "markdown",
   "metadata": {
    "id": "ManNU1dtSXbl"
   },
   "source": [
    "**Example 1:** `min_relevance`"
   ]
  },
  {
   "cell_type": "code",
   "execution_count": null,
   "metadata": {
    "id": "i5h95lR-LFUw"
   },
   "outputs": [],
   "source": [
    "newsagencies_pipeline(text, min_relevance=0.95)"
   ]
  },
  {
   "cell_type": "markdown",
   "metadata": {
    "id": "I17tyTgTSiI1"
   },
   "source": [
    "If you specify min_relevance=0.95, only entities with a relevance (confidence) score of 0.95 or higher will be included in the output.\n",
    "Entities with a score below 0.95 will be filtered out and not returned.\n",
    "This makes the pipeline more strict, so you will get fewer entities, but with higher confidence that they are correct."
   ]
  },
  {
   "cell_type": "markdown",
   "metadata": {
    "id": "nKuRQFDUTlIW"
   },
   "source": [
    "**Example 2:** `diagnostics`"
   ]
  },
  {
   "cell_type": "code",
   "execution_count": null,
   "metadata": {
    "id": "Bt7Z334FSg-N"
   },
   "outputs": [],
   "source": [
    "newsagencies_pipeline(text, diagnostics=True)"
   ]
  },
  {
   "cell_type": "markdown",
   "metadata": {
    "id": "qwU2q2OITuo3"
   },
   "source": [
    "Enabling `diagnostics` adds original text that was fed to the pipeline for easier reference in the future. Additionally, now result contains every recognised new agency and not just unique ones. Lastly, `diagnostics` adds 3 additional key-value pairs for each recognised entity:\n",
    "\n",
    "1. `surface`: contains the **exact** substring from the input text that was identified as a news agency entity.\n",
    "It preserves the original spacing and formatting from the input, allowing you to see precisely which part of the text was recognized as an entity.\n",
    "For example, if the input text is `\"Agence France-Presse reported...\"`, the `surface` might be `\"Agence France-Presse\"`.\n",
    "\n",
    "2. `start`: indicates the character index in the input text where the detected entity begins.\n",
    "It allows you to locate the exact position of the entity within the original text.\n",
    "For example, if start is 10, the entity starts at the 11th character (0-based index) of the input string.\n",
    "\n",
    "3. `stop`: indicates the character index in the input text where the detected entity ends (exclusive).\n",
    "It marks the position just after the last character of the entity, so the entity spans from start (inclusive) to stop (exclusive).\n",
    "This allows you to extract the exact substring for the entity using input_text[start:stop].\n"
   ]
  },
  {
   "cell_type": "markdown",
   "metadata": {
    "id": "v01lcBBMVc93"
   },
   "source": [
    "**Example 3:** `model_id`"
   ]
  },
  {
   "cell_type": "code",
   "execution_count": null,
   "metadata": {
    "id": "9zmxjODZTtnD"
   },
   "outputs": [],
   "source": [
    "newsagencies_pipeline(text, model_id='impresso-project/ner-newsagency-bert-multilingual')"
   ]
  },
  {
   "cell_type": "markdown",
   "metadata": {
    "id": "KSai4CKsWRUA"
   },
   "source": [
    "As can be seen, the output is exactly the same, since the `model_id` we specified above is the default one. It tells the pipeline which model to load from Hugging Face Hub or a local directory.\n",
    "Changing `model_id` allows you to use different models for news agency recognition, as long as they are compatible with the pipeline."
   ]
  },
  {
   "cell_type": "markdown",
   "metadata": {
    "id": "ANBdRotWWa70"
   },
   "source": [
    "**Example 4:** `suppress_entities`"
   ]
  },
  {
   "cell_type": "code",
   "execution_count": null,
   "metadata": {
    "id": "vT3g20zOV6n3"
   },
   "outputs": [],
   "source": [
    "newsagencies_pipeline(text, suppress_entities=['org.ent.pressagency.AFP'])"
   ]
  },
  {
   "cell_type": "markdown",
   "metadata": {
    "id": "sOMiXNCCYGsU"
   },
   "source": [
    "Example 5: All at once"
   ]
  },
  {
   "cell_type": "code",
   "execution_count": null,
   "metadata": {
    "id": "o4mzTfFQWnJo"
   },
   "outputs": [],
   "source": [
    "newsagencies_pipeline(\n",
    "    text,\n",
    "    min_relevance=0.95,\n",
    "    diagnostics=True,\n",
    "    model_id='impresso-project/ner-newsagency-bert-multilingual',\n",
    "    suppress_entities=['org.ent.pressagency.AFP']\n",
    ")"
   ]
  },
  {
   "cell_type": "markdown",
   "metadata": {
    "id": "JkZmjroAYUac"
   },
   "source": [
    "You can use a mix of additional parameters, or all of them at once, to deeper control the output of your News Agencies. In the example above, we set the relevance threshold to 0.95 and suppress additionally AFP news agency."
   ]
  },
  {
   "cell_type": "markdown",
   "metadata": {
    "id": "-2Z9qGJWY8Nk"
   },
   "source": [
    "## Limitations of the News Agencies Pipeline"
   ]
  },
  {
   "cell_type": "code",
   "execution_count": 11,
   "metadata": {
    "id": "KYX9q5SDY-oP"
   },
   "outputs": [],
   "source": [
    "underrepresented_entities = \"\"\"Selon une dépêche matinale de l’Agence Havas, datée du 14 mai 1898, la Chambre s’est réunie dans une atmosphère « pleine de gravité ».\"\"\""
   ]
  },
  {
   "cell_type": "code",
   "execution_count": null,
   "metadata": {
    "id": "3BYnm_iXZjHM"
   },
   "outputs": [],
   "source": [
    "newsagencies_pipeline(underrepresented_entities, diagnostics=True)"
   ]
  },
  {
   "cell_type": "markdown",
   "metadata": {
    "id": "BO5HLC54aSAS"
   },
   "source": [
    "As shown, the News Agencies Pipeline struggles with agencies that were underrepresented in the training dataset. In this case, there were few instances where `Agency Havas` appeared with `l'` in the training material, which explains why the `surface`  returns `Agence Havas` instead of `l'Agence Havas`.\n"
   ]
  },
  {
   "cell_type": "markdown",
   "metadata": {
    "id": "DM9fXpu4bxRN"
   },
   "source": [
    "## Conclusion"
   ]
  },
  {
   "cell_type": "markdown",
   "metadata": {
    "id": "9101-ciSb0yg"
   },
   "source": [
    "The `NewsAgenciesPipeline` provides a lightweight, end-to-end solution for identifying and linking news‐agency mentions in text. It delivers:\n",
    "\n",
    "- **Accurate Detection**: High-confidence, token-level classification of “press-agency” spans.  \n",
    "- **Easy Integration**: One-line setup and inference with minimal code.  \n",
    "- **Customizable Filtering**: User-defined relevance thresholds and suppression lists to reduce noise.  \n",
    "- **Rich Output**: Aggregated UIDs with Wikidata links, plus optional raw diagnostics for deeper analysis.  \n",
    "- **Model Flexibility**: Swap in any compatible token-classification model by adjusting `model_id`.\n",
    "\n",
    "Whether you’re processing multilingual corpora or building a downstream dashboard of source attributions, this pipeline streamlines the entire workflow—from tokenization to knowledge-graph linking—without manual feature engineering.\n",
    "\n",
    "\n",
    "\n",
    "\n",
    "\n",
    "\n"
   ]
  },
  {
   "cell_type": "markdown",
   "metadata": {
    "id": "AL4iHEtob3KD"
   },
   "source": [
    "## Next steps"
   ]
  },
  {
   "cell_type": "markdown",
   "metadata": {
    "id": "MyxXhuPAb541"
   },
   "source": [
    "To get more understanding of how this pipeline works, please check out the [original repository](https://github.com/impresso/impresso-pipelines/tree/main/impresso_pipelines/newsagencies)."
   ]
  },
  {
   "cell_type": "markdown",
   "metadata": {
    "id": "B2C0NVdVb-sR"
   },
   "source": [
    "---\n",
    "## Project and License info\n",
    "\n",
    "### Notebook credits [![CreditLogo.png](data:image/png;base64,iVBORw0KGgoAAAANSUhEUgAAABIAAAARCAYAAAGnXcxvAAAABGdBTUEAALGPC/xhBQAAACBjSFJNAAB6JgAAgIQAAPoAAACA6AAAdTAAAOpgAAA6mAAAF3CculE8AAAAhGVYSWZNTQAqAAAACAAFARIAAwAAAAEAAQAAARoABQAAAAEAAABKARsABQAAAAEAAABSASgAAwAAAAEAAgAAh2kABAAAAAEAAABaAAAAAAAAAJYAAAABAAAAlgAAAAEAA6ABAAMAAAABAAEAAKACAAQAAAABAAAAEqADAAQAAAABAAAAEQAAAACvX75vAAAACXBIWXMAABcSAAAXEgFnn9JSAAABWWlUWHRYTUw6Y29tLmFkb2JlLnhtcAAAAAAAPHg6eG1wbWV0YSB4bWxuczp4PSJhZG9iZTpuczptZXRhLyIgeDp4bXB0az0iWE1QIENvcmUgNi4wLjAiPgogICA8cmRmOlJERiB4bWxuczpyZGY9Imh0dHA6Ly93d3cudzMub3JnLzE5OTkvMDIvMjItcmRmLXN5bnRheC1ucyMiPgogICAgICA8cmRmOkRlc2NyaXB0aW9uIHJkZjphYm91dD0iIgogICAgICAgICAgICB4bWxuczp0aWZmPSJodHRwOi8vbnMuYWRvYmUuY29tL3RpZmYvMS4wLyI+CiAgICAgICAgIDx0aWZmOk9yaWVudGF0aW9uPjE8L3RpZmY6T3JpZW50YXRpb24+CiAgICAgIDwvcmRmOkRlc2NyaXB0aW9uPgogICA8L3JkZjpSREY+CjwveDp4bXBtZXRhPgoZXuEHAAAD/UlEQVQ4ES1UW2hcVRRd+9w7907mkUfTmEczkzRpraH1gUWaZBKJ0BY/FKsSwS9BClbxv1V/RlAC/vghghShBVuVRo2GQv1Qa0xSalAi2sxMJNF2Yt7oJDOZmZs795zjvtMe5s7A2Xevvddaew/A51asz00CAun2Xp2bmNbpfb3aDyDFF/4vzR0eilBeHqc/AB15423/Ztii/NpzNNs5VB/c2M55pVn/VQTa+/4yy54t7JIDo/4otGQMIrMaTccSF1Oxfobhs9B8TN9CRKcfOa7nYJTE7vomJHZgn+yHB1lD89xJZXkNxN1RR3MFSe4zHU+Mp2N9Sz4EXcGw8XB87eWoVudz0iuR1DWwREW7SghDmD0rN8l8MLZ808vmHzW/GkH4l99C0aEEcqNfWw3Dp1C4MYM7l20tfDgGrH6s2D7kv59AeKAPheuTKCTPAU4FxFREpiPxmi3VBw50hTMC0FpxnhcSptWZnSZ+KSkISZWJJ15Q0EmtdZdB9Ilh1b1+YOGayzU0P8BiPKEdx63AMkBSmVpQuVEbof8s48We2y2jlIn1b6qGYNT7/QfbbD0GtfozVzrAqQsIdw+iGGyxhRUQe6k2ZLeOXUXo9NPY+9kXCAwPou2naRQX16XIr3wjdknr1pG3sPrsUzD21MOsjaI8egGluQzEQ+1Ca/m4sDXR6tl30Hb1W0ABW+PXfEGgHRdwpSISk35PORUyI2p+xiTrAVBzEDANYKkIq6UGOlgfrLL7Jz6g87Li0zUZmB1EJQwRKJJ4qSfbetlXnNqzUxyyXtFCbPiVBInxC0snjZ7s1CXCqPQVJ0aozuGf+xMnlNQjURJHLYYrKYmy3yhHQ1ygRhhwtEYResqDOHckOznt5zPw3a9UbPBUrcBYcdeFrLOLVBcKUZG1KTHBxrBPEnqjAIraYEmVIpRtpxKmnIPdgHii5/bUjyIV7z/boPVYPkiOXFuGml8MW48dIXGwHervAsyDcYhYE+TaDPNrhOhuE2a8OaS62+BsO049ieupjsHTlGrvK4uoFaykJ9D0+ZeAlNj6+FPI67PYc+k9qJ0deP/mUJvoxZ2hATSdvwir+T6sP3MG4lCnNssV8jRWqqNbFcjnabAVzFjOZlmWErTrIti1H7WD/dh4/yNeJLZ2hxXie40se8M390QiXs8360Dvbtlw9cKyhUgDrOd57rYKkL8uAGELen4TxtAhqMwKELHuJvNuKEFuA5nWNvSZquKZ+MBwHdGVnOcqTpREFIDkhVBczn/YKVj8v1B0QbwB7L2LXc+KGgF2FSfuz059V7X/nn060znwJAN8WEeii31Cmfeu4oPwCfCQ1JBRpVfQas5D4NXDSxOTHK2Oz/88172PBBmtMAAAAABJRU5ErkJggg==)](https://credit.niso.org/)\n",
    "\n",
    "INSERT CREDITS HERE\n",
    "<br></br>\n",
    "This notebook is published under [CC BY 4.0 License](https://creativecommons.org/licenses/by/4.0/)\n",
    "<br><a target=\"_blank\" href=\"https://creativecommons.org/licenses/by/4.0/\">\n",
    "  <img src=\"https://mirrors.creativecommons.org/presskit/buttons/88x31/png/by.png\"  width=\"100\" alt=\"Open In Colab\"/>\n",
    "</a>\n",
    "<br></br>\n",
    "\n",
    "### Impresso project\n",
    "\n",
    "[Impresso - Media Monitoring of the Past](https://impresso-project.ch) is an interdisciplinary research project that aims to develop and consolidate tools for processing and exploring large collections of media archives across modalities, time, languages and national borders. The first project (2017-2021) was funded by the Swiss National Science Foundation under grant No. [CRSII5_173719](http://p3.snf.ch/project-173719) and the second project (2023-2027) by the SNSF under grant No. [CRSII5_213585](https://data.snf.ch/grants/grant/213585) and the Luxembourg National Research Fund under grant No. 17498891.\n",
    "<br></br>\n",
    "### License\n",
    "\n",
    "All Impresso code is published open source under the [GNU Affero General Public License](https://github.com/impresso/impresso-pyindexation/blob/master/LICENSE) v3 or later.\n",
    "\n",
    "\n",
    "---\n",
    "\n",
    "<p align=\"center\">\n",
    "  <img src=\"https://github.com/impresso/impresso.github.io/blob/master/assets/images/3x1--Yellow-Impresso-Black-on-White--transparent.png?raw=true\" width=\"350\" alt=\"Impresso Project Logo\"/>\n",
    "</p>\n",
    "\n"
   ]
  }
 ],
 "metadata": {
  "colab": {
   "provenance": []
  },
  "kernelspec": {
   "display_name": "Python 3",
   "name": "python3"
  },
  "language_info": {
   "name": "python"
  }
 },
 "nbformat": 4,
 "nbformat_minor": 0
}
