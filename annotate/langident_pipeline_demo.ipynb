{
  "cells": [
    {
      "cell_type": "markdown",
      "metadata": {
        "id": "AlxKbkly00q4"
      },
      "source": [
        "# Language Identification with `impresso-pipelines` Package\n",
        "\n",
        "<a target=\"_blank\" href=\"https://colab.research.google.com/github/impresso/impresso-datalab-notebooks/blob/main/annotate/langident_pipeline_demo.ipynb\">\n",
        "  <img src=\"https://colab.research.google.com/assets/colab-badge.svg\" alt=\"Open In Colab\"/>\n",
        "</a>\n"
      ]
    },
    {
      "cell_type": "markdown",
      "metadata": {
        "id": "9dBRT6Lg0_3X"
      },
      "source": [
        "## What is this notebook about?\n",
        "\n",
        "This notebook introduces the language identification component of the\n",
        "[`impresso-pipelines](https://pypi.org/project/impresso-pipelines/) Python package. The broader goal of impresso pipelines is to make\n",
        "the internal data processing workflows of the impresso project reusable and accessible\n",
        "to others. It allows external users—such as researchers, developers, or digital\n",
        "humanities practitioners—to apply the same processing steps we used on our historical\n",
        "newspaper collections to their own text collections.\n",
        "\n",
        "The package is designed to require as little coding effort as possible. By offering ready-to-use pipelines, users can replicate impresso’s approach to document processing with minimal configuration. This ensures consistency, comparability, and transparency in how text data is prepared and analyzed.\n",
        "\n",
        "In this particular notebook, we focus on the langident subpackage, which performs\n",
        "automatic language detection. You will learn how to apply language identification to\n",
        "your multilingual document collection and explore tools for understanding and diagnosing the\n",
        "results.\n",
        "\n",
        "## What will you learn?\n",
        "\n",
        "In this notebook, you will:\n",
        "\n",
        "- Understand how to use the `langident` subpackage from the impresso Pipelines package for language detection.\n",
        "\n",
        "- Learn how to classify text into different languages using a simple pipeline.\n",
        "\n",
        "- Explore diagnostic features to analyze language predictions.\n",
        "\n",
        "- Identify common challenges in language detection, such as handling short texts or\n",
        "  ambiguous words.\n",
        "\n",
        "- Experiment with multilingual and edge-case scenarios to observe model behavior.\n",
        "\n",
        "This hands-on guide will provide you with practical insights into language identification and its limitations. ​\n"
      ]
    },
    {
      "cell_type": "markdown",
      "metadata": {
        "id": "iBxdqDSd7Vpa"
      },
      "source": []
    },
    {
      "cell_type": "markdown",
      "metadata": {
        "id": "fI_rST2p1-4Y"
      },
      "source": [
        "## Prerequisites\n",
        "\n",
        "First, you should install Impresso Pipelines package:\n"
      ]
    },
    {
      "cell_type": "code",
      "execution_count": null,
      "metadata": {
        "colab": {
          "base_uri": "https://localhost:8080/"
        },
        "collapsed": true,
        "id": "QctlGqvC0KuO",
        "outputId": "8cebdb5c-baf4-4662-d595-aca152a6b2c8"
      },
      "outputs": [],
      "source": [
        "%pip install -q impresso_pipelines[langident]"
      ]
    },
    {
      "cell_type": "markdown",
      "metadata": {
        "id": "m_Uik0Sd70C7"
      },
      "source": [
        "## Workflow\n",
        "\n",
        "### Basic usage\n",
        "\n",
        "Start by importing the necessary module from Impresso Pipelines package\n"
      ]
    },
    {
      "cell_type": "code",
      "execution_count": null,
      "metadata": {
        "id": "EtitCAr93Apc"
      },
      "outputs": [],
      "source": [
        "from impresso_pipelines.langident import LangIdentPipeline\n",
        "\n",
        "lang_pipeline = LangIdentPipeline()"
      ]
    },
    {
      "cell_type": "markdown",
      "metadata": {
        "id": "Oui-HWvY3ZBi"
      },
      "source": [
        "Once you initialize the pipeline, you can simply provide the text you'd like to classify. This example demonstrates the use of German text.\n"
      ]
    },
    {
      "cell_type": "code",
      "execution_count": null,
      "metadata": {
        "id": "MtQ3v9c33NI7"
      },
      "outputs": [],
      "source": [
        "de_text = \"Ein kleiner Hund namens Max lebte in einem ruhigen Dorf.\""
      ]
    },
    {
      "cell_type": "code",
      "execution_count": null,
      "metadata": {
        "colab": {
          "base_uri": "https://localhost:8080/"
        },
        "id": "tko-ibcv3zJy",
        "outputId": "1d9ac83b-0d8a-45fc-f14e-601cda76ee8f"
      },
      "outputs": [],
      "source": [
        "lang_pipeline(de_text)"
      ]
    },
    {
      "cell_type": "markdown",
      "metadata": {
        "id": "VKhiiYDR4DHH"
      },
      "source": [
        "The default output of the pipeline is a dictionary containing the top predicted language and its corresponding score (expressed as a probability). The score is rounded to three decimal places for better readability. Please note that the probabilities for all supported languages add up to 1 (by default, only the top language is returned).\n",
        "\n",
        "As shown, the pipeline uses the language identification model to correctly classify this text as German, with a rounded probability of 100%.\n"
      ]
    },
    {
      "cell_type": "markdown",
      "metadata": {
        "id": "uOTaGXLI65Bg"
      },
      "source": [
        "### Advanced usage\n"
      ]
    },
    {
      "cell_type": "markdown",
      "metadata": {
        "id": "mNYo2bvQ_c1G"
      },
      "source": [
        "When using the pipeline with text, you can additionally specify two parameters: `diagnostics` and `model_id`.\n",
        "\n",
        "- `diagnostics`: A boolean value. If set to True, it returns not only the top predicted language but also all languages that the model can detect, along with their corresponding scores.\n",
        "\n",
        "- `model_id`: A boolean value. If set to True, it returns the name of the model used to identify the language of the text.\n"
      ]
    },
    {
      "cell_type": "markdown",
      "metadata": {
        "id": "a-1eYVtbAMoA"
      },
      "source": [
        "Here we skip the part of module importing and initialization as it was done above.\n"
      ]
    },
    {
      "cell_type": "code",
      "execution_count": null,
      "metadata": {
        "colab": {
          "base_uri": "https://localhost:8080/"
        },
        "id": "wzgB6bEW66qD",
        "outputId": "b605c1e8-1342-4e89-b621-d2720e7789bf"
      },
      "outputs": [],
      "source": [
        "# Using text example from before\n",
        "lang_pipeline(de_text, diagnostics=True)"
      ]
    },
    {
      "cell_type": "markdown",
      "metadata": {
        "id": "Zx_4AeK-CO56"
      },
      "source": [
        "As shown, it returns a `language_dict` containing a list of all supported languages and their corresponding scores. Since the text is purely in German, all other scores are 0.0.\n"
      ]
    },
    {
      "cell_type": "markdown",
      "metadata": {
        "id": "m5BQ5tbfDd61"
      },
      "source": [
        "Below is an example of using `model_id` with and without `diagnostics`.\n"
      ]
    },
    {
      "cell_type": "code",
      "execution_count": null,
      "metadata": {
        "colab": {
          "base_uri": "https://localhost:8080/"
        },
        "id": "VxkhiBmBDIYV",
        "outputId": "8f41ad1c-fb32-4b9f-8a06-bc291547bb12"
      },
      "outputs": [],
      "source": [
        "lang_pipeline(de_text, model_id=True)"
      ]
    },
    {
      "cell_type": "code",
      "execution_count": null,
      "metadata": {
        "colab": {
          "base_uri": "https://localhost:8080/"
        },
        "id": "AI6HUfC4DsA8",
        "outputId": "fd880afc-8a00-4e10-865a-49f6e71d2e93"
      },
      "outputs": [],
      "source": [
        "lang_pipeline(de_text, model_id=True, diagnostics=True)"
      ]
    },
    {
      "cell_type": "markdown",
      "metadata": {
        "id": "oiToPyATDzdU"
      },
      "source": [
        "In both cases, we can see an additional key, `model_name`, which stores the name of the language identification model used by the pipeline.\n"
      ]
    },
    {
      "cell_type": "markdown",
      "metadata": {
        "id": "sTIBgZY6C3Od"
      },
      "source": [
        "### Mixed language example\n"
      ]
    },
    {
      "cell_type": "code",
      "execution_count": null,
      "metadata": {
        "id": "GRnC8oXuC8kg"
      },
      "outputs": [],
      "source": [
        "mixed_text = (\n",
        "    \"Max marchait doucement. Der vento soffiait fort, aber la strada restait vide.\"\n",
        ")"
      ]
    },
    {
      "cell_type": "code",
      "execution_count": null,
      "metadata": {
        "colab": {
          "base_uri": "https://localhost:8080/"
        },
        "id": "j59q6T_JDEKT",
        "outputId": "e83e831e-1263-4919-81a2-02e8a9b207a4"
      },
      "outputs": [],
      "source": [
        "lang_pipeline(mixed_text, diagnostics=True)"
      ]
    },
    {
      "cell_type": "markdown",
      "metadata": {
        "id": "O128P703DKcv"
      },
      "source": [
        "As shown, this time the model clearly detects some French and even Italian, but French remains the top predicted language, with German as the second most likely.\n"
      ]
    },
    {
      "cell_type": "markdown",
      "metadata": {
        "id": "9DB6YPK16mkT"
      },
      "source": [
        "### Advanced Pipeline Initialization\n"
      ]
    },
    {
      "cell_type": "markdown",
      "metadata": {
        "id": "0ToYPc3H4kk7"
      },
      "source": [
        "By default, the pipeline automatically selects the most recent language identification model from the Impresso HF repository: `impresso-project/impresso-floret-langident`.\n"
      ]
    },
    {
      "cell_type": "markdown",
      "metadata": {
        "id": "D8akaEac67WX"
      },
      "source": [
        "However, the module initialization allows you to pass additional arguments to use a specific model instead of the default one. These arguments include `model_id`, `repo_id`, and `revision`.\n",
        "\n",
        "- `model_id`: Specifies the name of the model.\n",
        "- `repo_id`: Specifies the repository where the model is located.\n",
        "\n",
        "- `revision`: Specifies the branch name of the repository.\n",
        "\n",
        "By providing all three, you can force the pipeline to use the language model you have specified.\n"
      ]
    },
    {
      "cell_type": "code",
      "execution_count": null,
      "metadata": {
        "id": "XRdWbmfd6TH5"
      },
      "outputs": [],
      "source": [
        "from impresso_pipelines.langident import (\n",
        "    LangIdentPipeline,\n",
        ")  # There's no need to import the module again if it has already been imported\n",
        "\n",
        "lang_pipeline = LangIdentPipeline(\n",
        "    model_id=\"langident-v1.0.0.bin\",\n",
        "    repo_id=\"impresso-project/impresso-floret-langident\",\n",
        "    revision=\"main\",\n",
        ")"
      ]
    },
    {
      "cell_type": "code",
      "execution_count": null,
      "metadata": {
        "colab": {
          "base_uri": "https://localhost:8080/"
        },
        "id": "VILeEY1e9EU3",
        "outputId": "306c177e-b1ba-4ee1-bd5f-e3bfdc19bed1"
      },
      "outputs": [],
      "source": [
        "# Using text example from before\n",
        "lang_pipeline(de_text)"
      ]
    },
    {
      "cell_type": "markdown",
      "metadata": {
        "id": "bbqtvL7h9PwF"
      },
      "source": [
        "Once again, we see the same pipeline output as before.\n"
      ]
    },
    {
      "cell_type": "markdown",
      "metadata": {
        "id": "s9bnUx-JE9l3"
      },
      "source": [
        "### Common Pitfalls in Language Detection\n"
      ]
    },
    {
      "cell_type": "code",
      "execution_count": null,
      "metadata": {
        "id": "22Bs7eSrFA_I"
      },
      "outputs": [],
      "source": [
        "short_fr_text = \"Je mange.\""
      ]
    },
    {
      "cell_type": "code",
      "execution_count": null,
      "metadata": {
        "id": "dI5kI--oGIuU"
      },
      "outputs": [],
      "source": [
        "short_de_text = \"Der Computer auf dem Tisch funktioniert gut.\""
      ]
    },
    {
      "cell_type": "code",
      "execution_count": null,
      "metadata": {
        "id": "Goc7TiWLGm4h"
      },
      "outputs": [],
      "source": [
        "short_de_text_with_unusual_name = \"Gleb geht ins Büro.\""
      ]
    },
    {
      "cell_type": "code",
      "execution_count": null,
      "metadata": {
        "colab": {
          "base_uri": "https://localhost:8080/"
        },
        "id": "HDtaVKXlFl-K",
        "outputId": "3cca2d4f-dc89-4fae-ed60-3a76d7e5132c"
      },
      "outputs": [],
      "source": [
        "# Example 1: Very short sentence\n",
        "lang_pipeline(short_fr_text, diagnostics=True)"
      ]
    },
    {
      "cell_type": "code",
      "execution_count": null,
      "metadata": {
        "colab": {
          "base_uri": "https://localhost:8080/"
        },
        "id": "9qhlLkM6Fo8W",
        "outputId": "14f683e7-7e61-433b-f470-a9010a445a88"
      },
      "outputs": [],
      "source": [
        "# Exaple 2: Not language specific sentence\n",
        "lang_pipeline(short_de_text, diagnostics=True)"
      ]
    },
    {
      "cell_type": "code",
      "execution_count": null,
      "metadata": {
        "colab": {
          "base_uri": "https://localhost:8080/"
        },
        "id": "KKnCcz7IGqME",
        "outputId": "daa8c8ab-73ff-4235-ac6d-e391bc8b886c"
      },
      "outputs": [],
      "source": [
        "# Example 3: Short sentence and unsual name\n",
        "lang_pipeline(short_de_text_with_unusual_name, diagnostics=True)"
      ]
    },
    {
      "cell_type": "markdown",
      "metadata": {
        "id": "t2T9zzzoGM8t"
      },
      "source": [
        "As demonstrated, this pipeline struggles to accurately detect the language when the text is too short. This challenge becomes even more pronounced when the words used are not strongly tied to a specific language. Additionally, the model encounters difficulties with short sentences that contain uncommon names. In general, the longer the text sample, the higher the detection accuracy.\n",
        "\n",
        "As shown above, despite low confidence scores, the pipeline correctly predicts the language in the first two cases (a short French text and a non-language-specific German text). However, in the third example—where the sentence is both short and includes an unusual, non-German name—the model makes an incorrect prediction.\n",
        "\n",
        "This example highlights the importance of longer, more language-distinctive sentences for achieving higher accuracy and confidence in language classification.\n"
      ]
    },
    {
      "cell_type": "markdown",
      "metadata": {
        "id": "ULSI17yoCGEv"
      },
      "source": [
        "---\n",
        "\n",
        "## Conclusion\n"
      ]
    },
    {
      "cell_type": "markdown",
      "metadata": {
        "id": "4P94qtVFCVGm"
      },
      "source": [
        "### Summary\n",
        "\n",
        "This notebook provides a step-by-step guide on using the `langident` subpackage from the Impresso Python package for language detection. It begins with an introduction to the package and instructions on installing the necessary dependencies.\n",
        "\n",
        "The workflow section covers:\n",
        "\n",
        "- Basic Usage: Initializing the language identification pipeline and classifying single-language texts.\n",
        "- Advanced Usage: Exploring additional pipeline features, such as retrieving full probability distributions for multiple languages.\n",
        "- Handling Challenging Cases: Analyzing model limitations when dealing with short or ambiguous texts, multilingual content, and names that may not be strongly language-specific.\n"
      ]
    },
    {
      "cell_type": "markdown",
      "metadata": {
        "id": "95dJGhS4CVzA"
      },
      "source": [
        "### Next steps\n",
        "\n",
        "You might also be interested in a follow-up notebook on the Impresso Pipeline package, [OCRQA](https://github.com/impresso/impresso-datalab-notebooks/tree/main/annotate/ocrqa_pipeline_demo.ipynb), which utilizes the `langident` language detection.\n",
        "\n",
        "Additionally, you can find more technical details in the repository of the [**Impresso Pipelines package**](https://github.com/impresso/impresso-pipelines/tree/mallet_pipeline).\n"
      ]
    },
    {
      "cell_type": "markdown",
      "metadata": {
        "id": "kcRKDomECJv7"
      },
      "source": [
        "---\n",
        "## Project and License info\n",
        "\n",
        "### Impresso project\n",
        "\n",
        "[Impresso - Media Monitoring of the Past](https://impresso-project.ch) is an interdisciplinary research project that aims to develop and consolidate tools for processing and exploring large collections of media archives across modalities, time, languages and national borders. The first project (2017-2021) was funded by the Swiss National Science Foundation under grant No. [CRSII5_173719](http://p3.snf.ch/project-173719) and the second project (2023-2027) by the SNSF under grant No. [CRSII5_213585](https://data.snf.ch/grants/grant/213585) and the Luxembourg National Research Fund under grant No. 17498891.\n",
        "\n",
        "### Copyright\n",
        "\n",
        "Copyright (C) 2024 The Impresso team.\n",
        "\n",
        "### License\n",
        "\n",
        "This program is provided as open source under the [GNU Affero General Public License](https://github.com/impresso/impresso-pyindexation/blob/master/LICENSE) v3 or later.\n",
        "\n",
        "---\n",
        "\n",
        "<p align=\"center\">\n",
        "  <img src=\"https://github.com/impresso/impresso.github.io/blob/master/assets/images/3x1--Yellow-Impresso-Black-on-White--transparent.png?raw=true\" width=\"350\" alt=\"Impresso Project Logo\"/>\n",
        "</p>\n"
      ]
    }
  ],
  "metadata": {
    "colab": {
      "provenance": []
    },
    "kernelspec": {
      "display_name": ".venv",
      "language": "python",
      "name": "python3"
    },
    "language_info": {
      "name": "python",
      "version": "3.12.7"
    }
  },
  "nbformat": 4,
  "nbformat_minor": 0
}
