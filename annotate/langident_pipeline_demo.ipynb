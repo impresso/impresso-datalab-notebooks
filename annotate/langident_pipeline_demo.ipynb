{
  "nbformat": 4,
  "nbformat_minor": 0,
  "metadata": {
    "colab": {
      "provenance": []
    },
    "kernelspec": {
      "name": "python3",
      "display_name": "Python 3"
    },
    "language_info": {
      "name": "python"
    }
  },
  "cells": [
    {
      "cell_type": "markdown",
      "source": [
        "# Language Identification with Impresso Pipelines Package"
      ],
      "metadata": {
        "id": "AlxKbkly00q4"
      }
    },
    {
      "cell_type": "markdown",
      "source": [
        "## What is this notebook about?"
      ],
      "metadata": {
        "id": "9dBRT6Lg0_3X"
      }
    },
    {
      "cell_type": "markdown",
      "source": [
        "\n",
        "This notebook demonstrates how to use the language identification subpackage `langident` from the Impresso Python package. This subpackage allows to detect the language of a given text and provides simple diagnostic features to analyze the decection process."
      ],
      "metadata": {
        "id": "gOPUj_re9h1n"
      }
    },
    {
      "cell_type": "markdown",
      "source": [
        "---\n",
        "## What will you learn?\n",
        "\n",
        "In this notebook, you will:\n",
        "\n",
        "* Understand how to use the `langident` subpackage from the Impresso Pipelines package for language detection.\n",
        "\n",
        "* Learn how to classify text into different languages using a simple pipeline.\n",
        "\n",
        "* Explore diagnostic features to analyze language predictions.\n",
        "\n",
        "* Identify common challenges in language detection, such as handling short texts or ambiguous words.\n",
        "*   Experiment with multilingual and edge-case scenarios to observe model behavior.\n",
        "\n",
        "This hands-on guide will provide you with practical insights into language identification and its limitations. ​"
      ],
      "metadata": {
        "id": "iBxdqDSd7Vpa"
      }
    },
    {
      "cell_type": "markdown",
      "source": [
        "---\n",
        "## Prerequisites"
      ],
      "metadata": {
        "id": "fI_rST2p1-4Y"
      }
    },
    {
      "cell_type": "markdown",
      "source": [
        "First, you should install Impresso Pipelines package:"
      ],
      "metadata": {
        "id": "8u3KMaCE9fqa"
      }
    },
    {
      "cell_type": "code",
      "execution_count": 22,
      "metadata": {
        "colab": {
          "base_uri": "https://localhost:8080/"
        },
        "collapsed": true,
        "id": "QctlGqvC0KuO",
        "outputId": "bfddd4ae-51a9-463b-f24b-9316ae27af6a"
      },
      "outputs": [
        {
          "output_type": "stream",
          "name": "stdout",
          "text": [
            "Requirement already satisfied: impresso_pipelines[langident] in /usr/local/lib/python3.11/dist-packages (0.3.0)\n",
            "Requirement already satisfied: cython in /usr/local/lib/python3.11/dist-packages (from impresso_pipelines[langident]) (3.0.12)\n",
            "Requirement already satisfied: floret in /usr/local/lib/python3.11/dist-packages (from impresso_pipelines[langident]) (0.10.5)\n",
            "Requirement already satisfied: huggingface_hub in /usr/local/lib/python3.11/dist-packages (from impresso_pipelines[langident]) (0.28.1)\n",
            "Requirement already satisfied: numpy<2.0,>=1.24 in /usr/local/lib/python3.11/dist-packages (from impresso_pipelines[langident]) (1.26.4)\n",
            "Requirement already satisfied: filelock in /usr/local/lib/python3.11/dist-packages (from huggingface_hub->impresso_pipelines[langident]) (3.17.0)\n",
            "Requirement already satisfied: fsspec>=2023.5.0 in /usr/local/lib/python3.11/dist-packages (from huggingface_hub->impresso_pipelines[langident]) (2024.10.0)\n",
            "Requirement already satisfied: packaging>=20.9 in /usr/local/lib/python3.11/dist-packages (from huggingface_hub->impresso_pipelines[langident]) (24.2)\n",
            "Requirement already satisfied: pyyaml>=5.1 in /usr/local/lib/python3.11/dist-packages (from huggingface_hub->impresso_pipelines[langident]) (6.0.2)\n",
            "Requirement already satisfied: requests in /usr/local/lib/python3.11/dist-packages (from huggingface_hub->impresso_pipelines[langident]) (2.32.3)\n",
            "Requirement already satisfied: tqdm>=4.42.1 in /usr/local/lib/python3.11/dist-packages (from huggingface_hub->impresso_pipelines[langident]) (4.67.1)\n",
            "Requirement already satisfied: typing-extensions>=3.7.4.3 in /usr/local/lib/python3.11/dist-packages (from huggingface_hub->impresso_pipelines[langident]) (4.12.2)\n",
            "Requirement already satisfied: charset-normalizer<4,>=2 in /usr/local/lib/python3.11/dist-packages (from requests->huggingface_hub->impresso_pipelines[langident]) (3.4.1)\n",
            "Requirement already satisfied: idna<4,>=2.5 in /usr/local/lib/python3.11/dist-packages (from requests->huggingface_hub->impresso_pipelines[langident]) (3.10)\n",
            "Requirement already satisfied: urllib3<3,>=1.21.1 in /usr/local/lib/python3.11/dist-packages (from requests->huggingface_hub->impresso_pipelines[langident]) (2.3.0)\n",
            "Requirement already satisfied: certifi>=2017.4.17 in /usr/local/lib/python3.11/dist-packages (from requests->huggingface_hub->impresso_pipelines[langident]) (2025.1.31)\n"
          ]
        }
      ],
      "source": [
        "%pip install impresso_pipelines[langident]"
      ]
    },
    {
      "cell_type": "markdown",
      "source": [
        "---\n",
        "## Workflow"
      ],
      "metadata": {
        "id": "m_Uik0Sd70C7"
      }
    },
    {
      "cell_type": "markdown",
      "source": [
        "### Basic usage"
      ],
      "metadata": {
        "id": "Dv2GMCHV25y5"
      }
    },
    {
      "cell_type": "markdown",
      "source": [
        "Start by importing the necessary module from Impresso Pipelines package"
      ],
      "metadata": {
        "id": "Dz-vZwOHJ2nF"
      }
    },
    {
      "cell_type": "code",
      "source": [
        "from impresso_pipelines.langident import LangIdentPipeline\n",
        "lang_pipeline = LangIdentPipeline()"
      ],
      "metadata": {
        "id": "EtitCAr93Apc"
      },
      "execution_count": 6,
      "outputs": []
    },
    {
      "cell_type": "markdown",
      "source": [
        "Once you initialize the pipeline, you can simply provide the text you'd like to classify. This example demonstrates the use of German text."
      ],
      "metadata": {
        "id": "Oui-HWvY3ZBi"
      }
    },
    {
      "cell_type": "code",
      "source": [
        "de_text = \"Ein kleiner Hund namens Max lebte in einem ruhigen Dorf.\""
      ],
      "metadata": {
        "id": "MtQ3v9c33NI7"
      },
      "execution_count": 7,
      "outputs": []
    },
    {
      "cell_type": "code",
      "source": [
        "lang_pipeline(de_text)"
      ],
      "metadata": {
        "colab": {
          "base_uri": "https://localhost:8080/"
        },
        "id": "tko-ibcv3zJy",
        "outputId": "7f282c96-61ce-47ca-ae55-4e2d259ba8e1"
      },
      "execution_count": 8,
      "outputs": [
        {
          "output_type": "execute_result",
          "data": {
            "text/plain": [
              "{'language': 'de', 'score': 1.0}"
            ]
          },
          "metadata": {},
          "execution_count": 8
        }
      ]
    },
    {
      "cell_type": "markdown",
      "source": [
        "The default output of the pipeline is a dictionary containing the top predicted language and its corresponding score (expressed as a probability). The score is rounded to three decimal places for better readability. Please note that the probabilities for all supported languages add up to 1 (by default, only the top language is returned).\n",
        "\n",
        "As shown, the pipeline uses the language identification model to correctly classify this text as German, with a rounded probability of 100%."
      ],
      "metadata": {
        "id": "VKhiiYDR4DHH"
      }
    },
    {
      "cell_type": "markdown",
      "source": [
        "### Advanced usage"
      ],
      "metadata": {
        "id": "uOTaGXLI65Bg"
      }
    },
    {
      "cell_type": "markdown",
      "source": [
        "When using the pipeline with text, you can additionally specify two parameters: `diagnostics` and `model_id`.\n",
        "\n",
        "\n",
        "*   `diagnostics`: A boolean value. If set to True, it returns not only the top predicted language but also all languages that the model can detect, along with their corresponding scores.\n",
        "\n",
        "*   `model_id`: A boolean value. If set to True, it returns the name of the model used to identify the language of the text."
      ],
      "metadata": {
        "id": "mNYo2bvQ_c1G"
      }
    },
    {
      "cell_type": "markdown",
      "source": [
        "Here we skip the part of module importing and initialization as it was done above."
      ],
      "metadata": {
        "id": "a-1eYVtbAMoA"
      }
    },
    {
      "cell_type": "code",
      "source": [
        "# Using text example from before\n",
        "lang_pipeline(de_text, diagnostics=True)"
      ],
      "metadata": {
        "colab": {
          "base_uri": "https://localhost:8080/"
        },
        "id": "wzgB6bEW66qD",
        "outputId": "b43b9de2-a8fd-4692-bc8d-283fb1fc7f0f"
      },
      "execution_count": 9,
      "outputs": [
        {
          "output_type": "execute_result",
          "data": {
            "text/plain": [
              "{'language': 'de',\n",
              " 'score': 1.0,\n",
              " 'diagnostics': {'languages': [{'language': 'de', 'score': 1.0},\n",
              "   {'language': 'fr', 'score': 0.0},\n",
              "   {'language': 'it', 'score': 0.0},\n",
              "   {'language': 'lb', 'score': 0.0},\n",
              "   {'language': 'en', 'score': 0.0}]}}"
            ]
          },
          "metadata": {},
          "execution_count": 9
        }
      ]
    },
    {
      "cell_type": "markdown",
      "source": [
        "As shown, it returns a `language_dict` containing a list of all supported languages and their corresponding scores. Since the text is purely in German, all other scores are 0.0."
      ],
      "metadata": {
        "id": "Zx_4AeK-CO56"
      }
    },
    {
      "cell_type": "markdown",
      "source": [
        "Below is an example of using `model_id` with and without `diagnostics`."
      ],
      "metadata": {
        "id": "m5BQ5tbfDd61"
      }
    },
    {
      "cell_type": "code",
      "source": [
        "lang_pipeline(de_text, model_id=True)"
      ],
      "metadata": {
        "colab": {
          "base_uri": "https://localhost:8080/"
        },
        "id": "VxkhiBmBDIYV",
        "outputId": "f5f9a253-6308-4028-8bb2-95c3693a668e"
      },
      "execution_count": 10,
      "outputs": [
        {
          "output_type": "execute_result",
          "data": {
            "text/plain": [
              "{'language': 'de', 'score': 1.0, 'model_id': 'langident-v1.0.0.bin'}"
            ]
          },
          "metadata": {},
          "execution_count": 10
        }
      ]
    },
    {
      "cell_type": "code",
      "source": [
        "lang_pipeline(de_text, model_id=True, diagnostics=True)"
      ],
      "metadata": {
        "colab": {
          "base_uri": "https://localhost:8080/"
        },
        "id": "AI6HUfC4DsA8",
        "outputId": "21b4e1b9-b3ef-4bc0-d954-efa34b00b3d9"
      },
      "execution_count": 11,
      "outputs": [
        {
          "output_type": "execute_result",
          "data": {
            "text/plain": [
              "{'language': 'de',\n",
              " 'score': 1.0,\n",
              " 'diagnostics': {'languages': [{'language': 'de', 'score': 1.0},\n",
              "   {'language': 'fr', 'score': 0.0},\n",
              "   {'language': 'it', 'score': 0.0},\n",
              "   {'language': 'lb', 'score': 0.0},\n",
              "   {'language': 'en', 'score': 0.0}]},\n",
              " 'model_id': 'langident-v1.0.0.bin'}"
            ]
          },
          "metadata": {},
          "execution_count": 11
        }
      ]
    },
    {
      "cell_type": "markdown",
      "source": [
        "In both cases, we can see an additional key, `model_name`, which stores the name of the language identification model used by the pipeline."
      ],
      "metadata": {
        "id": "oiToPyATDzdU"
      }
    },
    {
      "cell_type": "markdown",
      "source": [
        "### Mixed text example"
      ],
      "metadata": {
        "id": "sTIBgZY6C3Od"
      }
    },
    {
      "cell_type": "code",
      "source": [
        "mixed_text = \"Max marchait doucement. Der vento soffiait fort, aber la strada restait vide.\"\n"
      ],
      "metadata": {
        "id": "GRnC8oXuC8kg"
      },
      "execution_count": 12,
      "outputs": []
    },
    {
      "cell_type": "code",
      "source": [
        "lang_pipeline(mixed_text, diagnostics=True)"
      ],
      "metadata": {
        "colab": {
          "base_uri": "https://localhost:8080/"
        },
        "id": "j59q6T_JDEKT",
        "outputId": "31f345a5-7de7-4c87-cbe8-71a0f4762898"
      },
      "execution_count": 13,
      "outputs": [
        {
          "output_type": "execute_result",
          "data": {
            "text/plain": [
              "{'language': 'fr',\n",
              " 'score': 0.55,\n",
              " 'diagnostics': {'languages': [{'language': 'fr', 'score': 0.55},\n",
              "   {'language': 'de', 'score': 0.31},\n",
              "   {'language': 'it', 'score': 0.1},\n",
              "   {'language': 'en', 'score': 0.04},\n",
              "   {'language': 'lb', 'score': 0.01}]}}"
            ]
          },
          "metadata": {},
          "execution_count": 13
        }
      ]
    },
    {
      "cell_type": "markdown",
      "source": [
        "As shown, this time the model clearly detects some French and even Italian, but French remains the top predicted language, with German as the second most likely."
      ],
      "metadata": {
        "id": "O128P703DKcv"
      }
    },
    {
      "cell_type": "markdown",
      "source": [
        "### Advanced Initialization"
      ],
      "metadata": {
        "id": "9DB6YPK16mkT"
      }
    },
    {
      "cell_type": "markdown",
      "source": [
        "By default, the pipeline automatically selects the most recent language identification model from the Impresso HF repository: `impresso-project/impresso-floret-langident`."
      ],
      "metadata": {
        "id": "0ToYPc3H4kk7"
      }
    },
    {
      "cell_type": "markdown",
      "source": [
        "However, the module initialization allows you to pass additional arguments to use a specific model instead of the default one. These arguments include `model_id`, `repo_id`, and `revision`.\n",
        "\n",
        "*   `model_id`: Specifies the name of the model.\n",
        "*   `repo_id`: Specifies the repository where the model is located.\n",
        "\n",
        "*   `revision`: Specifies the branch name of the repository.\n",
        "\n",
        "By providing all three, you can force the pipeline to use the language model you have specified."
      ],
      "metadata": {
        "id": "D8akaEac67WX"
      }
    },
    {
      "cell_type": "code",
      "source": [
        "from impresso_pipelines.langident import LangIdentPipeline # There's no need to import the module again if it has already been imported\n",
        "lang_pipeline = LangIdentPipeline(model_id=\"langident-v1.0.0.bin\", repo_id=\"impresso-project/impresso-floret-langident\", revision=\"main\")"
      ],
      "metadata": {
        "id": "XRdWbmfd6TH5"
      },
      "execution_count": 14,
      "outputs": []
    },
    {
      "cell_type": "code",
      "source": [
        "# Using text example from before\n",
        "lang_pipeline(de_text)"
      ],
      "metadata": {
        "colab": {
          "base_uri": "https://localhost:8080/"
        },
        "id": "VILeEY1e9EU3",
        "outputId": "3314f07f-44e8-4a35-da0f-6a10d621250c"
      },
      "execution_count": 15,
      "outputs": [
        {
          "output_type": "execute_result",
          "data": {
            "text/plain": [
              "{'language': 'de', 'score': 1.0}"
            ]
          },
          "metadata": {},
          "execution_count": 15
        }
      ]
    },
    {
      "cell_type": "markdown",
      "source": [
        "Once again, we see the same pipeline output as before."
      ],
      "metadata": {
        "id": "bbqtvL7h9PwF"
      }
    },
    {
      "cell_type": "markdown",
      "source": [
        "### Common Pitfalls in Language Detection"
      ],
      "metadata": {
        "id": "s9bnUx-JE9l3"
      }
    },
    {
      "cell_type": "code",
      "source": [
        "short_fr_text = \"Je mange.\""
      ],
      "metadata": {
        "id": "22Bs7eSrFA_I"
      },
      "execution_count": 16,
      "outputs": []
    },
    {
      "cell_type": "code",
      "source": [
        "short_de_text = \"Der Computer auf dem Tisch funktioniert gut.\""
      ],
      "metadata": {
        "id": "dI5kI--oGIuU"
      },
      "execution_count": 17,
      "outputs": []
    },
    {
      "cell_type": "code",
      "source": [
        "short_de_text_with_unusual_name = \"Gleb geht ins Büro.\""
      ],
      "metadata": {
        "id": "Goc7TiWLGm4h"
      },
      "execution_count": 18,
      "outputs": []
    },
    {
      "cell_type": "code",
      "source": [
        "# Example 1: Very short sentence\n",
        "lang_pipeline(short_fr_text, diagnostics=True)"
      ],
      "metadata": {
        "colab": {
          "base_uri": "https://localhost:8080/"
        },
        "id": "HDtaVKXlFl-K",
        "outputId": "69a8b009-8acd-4be8-9437-4f0dcd0c9efc"
      },
      "execution_count": 19,
      "outputs": [
        {
          "output_type": "execute_result",
          "data": {
            "text/plain": [
              "{'language': 'fr',\n",
              " 'score': 0.67,\n",
              " 'diagnostics': {'languages': [{'language': 'fr', 'score': 0.67},\n",
              "   {'language': 'lb', 'score': 0.33},\n",
              "   {'language': 'de', 'score': 0.0},\n",
              "   {'language': 'it', 'score': 0.0},\n",
              "   {'language': 'en', 'score': 0.0}]}}"
            ]
          },
          "metadata": {},
          "execution_count": 19
        }
      ]
    },
    {
      "cell_type": "code",
      "source": [
        "# Exaple 2: Not language specific sentence\n",
        "lang_pipeline(short_de_text, diagnostics=True)"
      ],
      "metadata": {
        "colab": {
          "base_uri": "https://localhost:8080/"
        },
        "id": "9qhlLkM6Fo8W",
        "outputId": "41e05531-bf87-4043-93e8-2831ec476218"
      },
      "execution_count": 20,
      "outputs": [
        {
          "output_type": "execute_result",
          "data": {
            "text/plain": [
              "{'language': 'de',\n",
              " 'score': 0.61,\n",
              " 'diagnostics': {'languages': [{'language': 'de', 'score': 0.61},\n",
              "   {'language': 'lb', 'score': 0.38},\n",
              "   {'language': 'it', 'score': 0.01},\n",
              "   {'language': 'en', 'score': 0.0},\n",
              "   {'language': 'fr', 'score': 0.0}]}}"
            ]
          },
          "metadata": {},
          "execution_count": 20
        }
      ]
    },
    {
      "cell_type": "code",
      "source": [
        "# Example 3: Short sentence and unsual name\n",
        "lang_pipeline(short_de_text_with_unusual_name, diagnostics=True)"
      ],
      "metadata": {
        "colab": {
          "base_uri": "https://localhost:8080/"
        },
        "id": "KKnCcz7IGqME",
        "outputId": "28fb70bc-8303-4b25-9264-6e801bd4246e"
      },
      "execution_count": 21,
      "outputs": [
        {
          "output_type": "execute_result",
          "data": {
            "text/plain": [
              "{'language': 'lb',\n",
              " 'score': 0.52,\n",
              " 'diagnostics': {'languages': [{'language': 'lb', 'score': 0.52},\n",
              "   {'language': 'de', 'score': 0.43},\n",
              "   {'language': 'en', 'score': 0.04},\n",
              "   {'language': 'it', 'score': 0.01},\n",
              "   {'language': 'fr', 'score': 0.0}]}}"
            ]
          },
          "metadata": {},
          "execution_count": 21
        }
      ]
    },
    {
      "cell_type": "markdown",
      "source": [
        "As demonstrated, this pipeline struggles to accurately detect the language when the text is too short. This challenge becomes even more pronounced when the words used are not strongly tied to a specific language. Additionally, the model encounters difficulties with short sentences that contain uncommon names. In general, the longer the text sample, the higher the detection accuracy.\n",
        "\n",
        "As shown above, despite low confidence scores, the pipeline correctly predicts the language in the first two cases (a short French text and a non-language-specific German text). However, in the third example—where the sentence is both short and includes an unusual, non-German name—the model makes an incorrect prediction.\n",
        "\n",
        "This example highlights the importance of longer, more language-distinctive sentences for achieving higher accuracy and confidence in language classification."
      ],
      "metadata": {
        "id": "t2T9zzzoGM8t"
      }
    },
    {
      "cell_type": "markdown",
      "source": [
        "---\n",
        "## Conclusion"
      ],
      "metadata": {
        "id": "ULSI17yoCGEv"
      }
    },
    {
      "cell_type": "markdown",
      "source": [
        "### Summary\n",
        "\n",
        "This notebook provides a step-by-step guide on using the `langident` subpackage from the Impresso Python package for language detection. It begins with an introduction to the package and instructions on installing the necessary dependencies.\n",
        "\n",
        "The workflow section covers:\n",
        "\n",
        "* Basic Usage: Initializing the language identification pipeline and classifying single-language texts.\n",
        "* Advanced Usage: Exploring additional pipeline features, such as retrieving full probability distributions for multiple languages.\n",
        "* Handling Challenging Cases: Analyzing model limitations when dealing with short or ambiguous texts, multilingual content, and names that may not be strongly language-specific."
      ],
      "metadata": {
        "id": "4P94qtVFCVGm"
      }
    },
    {
      "cell_type": "markdown",
      "source": [
        "### Next steps\n",
        "\n",
        "You might also be interested in a follow-up notebook on the Impresso Pipeline package, [OCRQA](https://github.com/impresso/impresso-datalab-notebooks/tree/main/annotate/ocrqa_pipeline_demo.ipynb), which utilizes the `langident` language detection.\n",
        "\n",
        "Additionally, you can find the repository for the **Impresso Pipelines** package [here](https://github.com/impresso/impresso-pipelines/tree/mallet_pipeline).\n",
        "\n",
        "\n"
      ],
      "metadata": {
        "id": "95dJGhS4CVzA"
      }
    },
    {
      "cell_type": "markdown",
      "source": [
        "---\n",
        "## Project and License info\n",
        "\n",
        "### Impresso project\n",
        "\n",
        "[Impresso - Media Monitoring of the Past](https://impresso-project.ch) is an interdisciplinary research project that aims to develop and consolidate tools for processing and exploring large collections of media archives across modalities, time, languages and national borders. The first project (2017-2021) was funded by the Swiss National Science Foundation under grant No. [CRSII5_173719](http://p3.snf.ch/project-173719) and the second project (2023-2027) by the SNSF under grant No. [CRSII5_213585](https://data.snf.ch/grants/grant/213585) and the Luxembourg National Research Fund under grant No. 17498891.\n",
        "\n",
        "### Copyright\n",
        "\n",
        "Copyright (C) 2024 The Impresso team.\n",
        "\n",
        "### License\n",
        "\n",
        "This program is provided as open source under the [GNU Affero General Public License](https://github.com/impresso/impresso-pyindexation/blob/master/LICENSE) v3 or later.\n",
        "\n",
        "---\n",
        "\n",
        "<p align=\"center\">\n",
        "  <img src=\"https://github.com/impresso/impresso.github.io/blob/master/assets/images/3x1--Yellow-Impresso-Black-on-White--transparent.png?raw=true\" width=\"350\" alt=\"Impresso Project Logo\"/>\n",
        "</p>\n",
        "\n",
        "\n"
      ],
      "metadata": {
        "id": "kcRKDomECJv7"
      }
    }
  ]
}