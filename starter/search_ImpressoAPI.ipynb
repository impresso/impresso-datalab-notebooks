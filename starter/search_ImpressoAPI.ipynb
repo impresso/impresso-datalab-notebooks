{
  "cells": [
    {
      "cell_type": "code",
      "execution_count": null,
      "metadata": {
        "id": "VX2zOQu4rNhv",
        "outputId": "a4daa4f6-70f5-419a-9751-eab488ac3a95"
      },
      "outputs": [
        {
          "name": "stdout",
          "output_type": "stream",
          "text": [
            "🎉 You are now connected to the Impresso API!  🎉\n",
            "🔗 Using API: https://dev.impresso-project.ch/public-api\n"
          ]
        }
      ],
      "source": [
        "from impresso import connect\n",
        "\n",
        "impresso = connect()"
      ]
    },
    {
      "cell_type": "markdown",
      "metadata": {
        "id": "KPiOvSsnrNhv"
      },
      "source": [
        "# Search\n",
        "\n",
        "Find content items in Impresso using a variety of different filters."
      ]
    },
    {
      "cell_type": "markdown",
      "metadata": {
        "id": "tQccImeIrNhw"
      },
      "source": [
        "## Term\n",
        "\n",
        "Find all items containing \"impresso\" keyword."
      ]
    },
    {
      "cell_type": "code",
      "execution_count": null,
      "metadata": {
        "id": "SsAsxHeorNhw",
        "outputId": "d8632ba6-8e24-450a-d18e-d9e449b1ccd5"
      },
      "outputs": [
        {
          "data": {
            "text/html": [
              "<div style=\"display: grid; \">\n",
              "<div>\n",
              "<h2>Search result</h2>\n",
              "<div>Contains <b>56</b> items of <b>56</b> total items.</div>\n",
              "<br/>\n",
              "See this result in the <a href=\"https://impresso-project.ch/app/search?sq=CgwYByoIaW1wcmVzc28=&p=1\">Impresso App</a>.\n",
              "</div>\n",
              "</div>\n",
              "<h3>Data preview:</h3>\n",
              "<div>\n",
              "<style scoped>\n",
              "    .dataframe tbody tr th:only-of-type {\n",
              "        vertical-align: middle;\n",
              "    }\n",
              "\n",
              "    .dataframe tbody tr th {\n",
              "        vertical-align: top;\n",
              "    }\n",
              "\n",
              "    .dataframe thead th {\n",
              "        text-align: right;\n",
              "    }\n",
              "</style>\n",
              "<table border=\"1\" class=\"dataframe\">\n",
              "  <thead>\n",
              "    <tr style=\"text-align: right;\">\n",
              "      <th></th>\n",
              "      <th>type</th>\n",
              "      <th>title</th>\n",
              "      <th>transcript</th>\n",
              "      <th>locations</th>\n",
              "      <th>persons</th>\n",
              "      <th>topics</th>\n",
              "      <th>transcriptLength</th>\n",
              "      <th>isOnFrontPage</th>\n",
              "      <th>mediaType</th>\n",
              "    </tr>\n",
              "    <tr>\n",
              "      <th>uid</th>\n",
              "      <th></th>\n",
              "      <th></th>\n",
              "      <th></th>\n",
              "      <th></th>\n",
              "      <th></th>\n",
              "      <th></th>\n",
              "      <th></th>\n",
              "      <th></th>\n",
              "      <th></th>\n",
              "    </tr>\n",
              "  </thead>\n",
              "  <tbody>\n",
              "    <tr>\n",
              "      <th>LLE-1976-02-23-a-i0207</th>\n",
              "      <td>ad</td>\n",
              "      <td>[REDACTED]</td>\n",
              "      <td>[REDACTED]</td>\n",
              "      <td>[]</td>\n",
              "      <td>[]</td>\n",
              "      <td>[]</td>\n",
              "      <td>0</td>\n",
              "      <td>False</td>\n",
              "      <td>newspaper</td>\n",
              "    </tr>\n",
              "    <tr>\n",
              "      <th>LLE-1973-05-18-a-i0016</th>\n",
              "      <td>ad</td>\n",
              "      <td>[REDACTED]</td>\n",
              "      <td>[REDACTED]</td>\n",
              "      <td>[]</td>\n",
              "      <td>[]</td>\n",
              "      <td>[]</td>\n",
              "      <td>0</td>\n",
              "      <td>False</td>\n",
              "      <td>newspaper</td>\n",
              "    </tr>\n",
              "    <tr>\n",
              "      <th>FZG-1995-11-27-a-i0121</th>\n",
              "      <td>ar</td>\n",
              "      <td>[REDACTED]</td>\n",
              "      <td>[REDACTED]</td>\n",
              "      <td>[{'uid': 'aida-0001-54-SC_Freiburg', 'relevanc...</td>\n",
              "      <td>[]</td>\n",
              "      <td>[]</td>\n",
              "      <td>0</td>\n",
              "      <td>False</td>\n",
              "      <td>newspaper</td>\n",
              "    </tr>\n",
              "  </tbody>\n",
              "</table>\n",
              "</div>"
            ],
            "text/plain": [
              "<impresso.resources.search.SearchDataContainer at 0x118d0d410>"
            ]
          },
          "execution_count": 4,
          "metadata": {},
          "output_type": "execute_result"
        }
      ],
      "source": [
        "impresso.search.find(term=\"impresso\")"
      ]
    },
    {
      "cell_type": "markdown",
      "metadata": {
        "id": "NdAXp4xfrNhw"
      },
      "source": [
        "## With text content only\n",
        "\n",
        "Limit to content items that have text."
      ]
    },
    {
      "cell_type": "code",
      "execution_count": null,
      "metadata": {
        "id": "kEs6two4rNhw",
        "outputId": "e7f7562f-b06c-48f5-8310-fc2f9b8c27e6"
      },
      "outputs": [
        {
          "data": {
            "text/html": [
              "<div style=\"display: grid; \">\n",
              "<div>\n",
              "<h2>Search result</h2>\n",
              "<div>Contains <b>56</b> items of <b>56</b> total items.</div>\n",
              "<br/>\n",
              "See this result in the <a href=\"https://impresso-project.ch/app/search?sq=CgwYByoIaW1wcmVzc28KAhgC&p=1\">Impresso App</a>.\n",
              "</div>\n",
              "</div>\n",
              "<h3>Data preview:</h3>\n",
              "<div>\n",
              "<style scoped>\n",
              "    .dataframe tbody tr th:only-of-type {\n",
              "        vertical-align: middle;\n",
              "    }\n",
              "\n",
              "    .dataframe tbody tr th {\n",
              "        vertical-align: top;\n",
              "    }\n",
              "\n",
              "    .dataframe thead th {\n",
              "        text-align: right;\n",
              "    }\n",
              "</style>\n",
              "<table border=\"1\" class=\"dataframe\">\n",
              "  <thead>\n",
              "    <tr style=\"text-align: right;\">\n",
              "      <th></th>\n",
              "      <th>type</th>\n",
              "      <th>title</th>\n",
              "      <th>transcript</th>\n",
              "      <th>locations</th>\n",
              "      <th>persons</th>\n",
              "      <th>topics</th>\n",
              "      <th>transcriptLength</th>\n",
              "      <th>isOnFrontPage</th>\n",
              "      <th>mediaType</th>\n",
              "    </tr>\n",
              "    <tr>\n",
              "      <th>uid</th>\n",
              "      <th></th>\n",
              "      <th></th>\n",
              "      <th></th>\n",
              "      <th></th>\n",
              "      <th></th>\n",
              "      <th></th>\n",
              "      <th></th>\n",
              "      <th></th>\n",
              "      <th></th>\n",
              "    </tr>\n",
              "  </thead>\n",
              "  <tbody>\n",
              "    <tr>\n",
              "      <th>LLE-1976-02-23-a-i0207</th>\n",
              "      <td>ad</td>\n",
              "      <td>[REDACTED]</td>\n",
              "      <td>[REDACTED]</td>\n",
              "      <td>[]</td>\n",
              "      <td>[]</td>\n",
              "      <td>[]</td>\n",
              "      <td>0</td>\n",
              "      <td>False</td>\n",
              "      <td>newspaper</td>\n",
              "    </tr>\n",
              "    <tr>\n",
              "      <th>LLE-1973-05-18-a-i0016</th>\n",
              "      <td>ad</td>\n",
              "      <td>[REDACTED]</td>\n",
              "      <td>[REDACTED]</td>\n",
              "      <td>[]</td>\n",
              "      <td>[]</td>\n",
              "      <td>[]</td>\n",
              "      <td>0</td>\n",
              "      <td>False</td>\n",
              "      <td>newspaper</td>\n",
              "    </tr>\n",
              "    <tr>\n",
              "      <th>FZG-1995-11-27-a-i0121</th>\n",
              "      <td>ar</td>\n",
              "      <td>[REDACTED]</td>\n",
              "      <td>[REDACTED]</td>\n",
              "      <td>[{'uid': 'aida-0001-54-SC_Freiburg', 'relevanc...</td>\n",
              "      <td>[]</td>\n",
              "      <td>[]</td>\n",
              "      <td>0</td>\n",
              "      <td>False</td>\n",
              "      <td>newspaper</td>\n",
              "    </tr>\n",
              "  </tbody>\n",
              "</table>\n",
              "</div>"
            ],
            "text/plain": [
              "<impresso.resources.search.SearchDataContainer at 0x1195062d0>"
            ]
          },
          "execution_count": 5,
          "metadata": {},
          "output_type": "execute_result"
        }
      ],
      "source": [
        "impresso.search.find(term=\"impresso\", with_text_contents=True)"
      ]
    },
    {
      "cell_type": "markdown",
      "metadata": {
        "id": "yP_SnBtArNhw"
      },
      "source": [
        "## Title\n",
        "Find items that have the keyword \"impresso\" in their title."
      ]
    },
    {
      "cell_type": "code",
      "execution_count": null,
      "metadata": {
        "id": "ys_soMnErNhw",
        "outputId": "a9212606-68f8-4e15-f87c-a3eb6b34f701"
      },
      "outputs": [
        {
          "data": {
            "text/html": [
              "<div style=\"display: grid; \">\n",
              "<div>\n",
              "<h2>Search result</h2>\n",
              "<div>Contains <b>2</b> items of <b>2</b> total items.</div>\n",
              "<br/>\n",
              "See this result in the <a href=\"https://impresso-project.ch/app/search?sq=CgwYAyoIaW1wcmVzc28=&p=1\">Impresso App</a>.\n",
              "</div>\n",
              "</div>\n",
              "<h3>Data preview:</h3>\n",
              "<div>\n",
              "<style scoped>\n",
              "    .dataframe tbody tr th:only-of-type {\n",
              "        vertical-align: middle;\n",
              "    }\n",
              "\n",
              "    .dataframe tbody tr th {\n",
              "        vertical-align: top;\n",
              "    }\n",
              "\n",
              "    .dataframe thead th {\n",
              "        text-align: right;\n",
              "    }\n",
              "</style>\n",
              "<table border=\"1\" class=\"dataframe\">\n",
              "  <thead>\n",
              "    <tr style=\"text-align: right;\">\n",
              "      <th></th>\n",
              "      <th>type</th>\n",
              "      <th>title</th>\n",
              "      <th>transcript</th>\n",
              "      <th>locations</th>\n",
              "      <th>persons</th>\n",
              "      <th>topics</th>\n",
              "      <th>transcriptLength</th>\n",
              "      <th>isOnFrontPage</th>\n",
              "      <th>mediaType</th>\n",
              "    </tr>\n",
              "    <tr>\n",
              "      <th>uid</th>\n",
              "      <th></th>\n",
              "      <th></th>\n",
              "      <th></th>\n",
              "      <th></th>\n",
              "      <th></th>\n",
              "      <th></th>\n",
              "      <th></th>\n",
              "      <th></th>\n",
              "      <th></th>\n",
              "    </tr>\n",
              "  </thead>\n",
              "  <tbody>\n",
              "    <tr>\n",
              "      <th>FZG-1995-11-27-a-i0121</th>\n",
              "      <td>ar</td>\n",
              "      <td>[REDACTED]</td>\n",
              "      <td>[REDACTED]</td>\n",
              "      <td>[{'uid': 'aida-0001-54-SC_Freiburg', 'relevanc...</td>\n",
              "      <td>[]</td>\n",
              "      <td>[]</td>\n",
              "      <td>0</td>\n",
              "      <td>False</td>\n",
              "      <td>newspaper</td>\n",
              "    </tr>\n",
              "    <tr>\n",
              "      <th>DTT-1976-12-02-a-i0114</th>\n",
              "      <td>ar</td>\n",
              "      <td>[REDACTED]</td>\n",
              "      <td>[REDACTED]</td>\n",
              "      <td>[{'uid': 'aida-0001-54-Basel', 'relevance': 1}...</td>\n",
              "      <td>[{'uid': 'aida-0001-50-Rudolf_Kelterborn', 're...</td>\n",
              "      <td>[]</td>\n",
              "      <td>0</td>\n",
              "      <td>False</td>\n",
              "      <td>newspaper</td>\n",
              "    </tr>\n",
              "  </tbody>\n",
              "</table>\n",
              "</div>"
            ],
            "text/plain": [
              "<impresso.resources.search.SearchDataContainer at 0x11955c2d0>"
            ]
          },
          "execution_count": 6,
          "metadata": {},
          "output_type": "execute_result"
        }
      ],
      "source": [
        "impresso.search.find(title=\"impresso\")"
      ]
    },
    {
      "cell_type": "markdown",
      "metadata": {
        "id": "vE5xiewOrNhx"
      },
      "source": [
        "### Complex term requests\n",
        "Find items that have both terms."
      ]
    },
    {
      "cell_type": "code",
      "execution_count": null,
      "metadata": {
        "id": "YZW5txFIrNhx",
        "outputId": "a5bf1f31-1a9a-4e9e-f26e-ed3fd232f2dc"
      },
      "outputs": [
        {
          "data": {
            "text/html": [
              "<div style=\"display: grid; \">\n",
              "<div>\n",
              "<h2>Search result</h2>\n",
              "<div>Contains <b>100</b> items (<b>0</b> - <b>100</b>) of <b>587</b> total items.</div>\n",
              "<br/>\n",
              "See this result in the <a href=\"https://impresso-project.ch/app/search?sq=ChIQARgDKgVmZW1tZSoFaG9tbWU=&p=1\">Impresso App</a>.\n",
              "</div>\n",
              "</div>\n",
              "<h3>Data preview:</h3>\n",
              "<div>\n",
              "<style scoped>\n",
              "    .dataframe tbody tr th:only-of-type {\n",
              "        vertical-align: middle;\n",
              "    }\n",
              "\n",
              "    .dataframe tbody tr th {\n",
              "        vertical-align: top;\n",
              "    }\n",
              "\n",
              "    .dataframe thead th {\n",
              "        text-align: right;\n",
              "    }\n",
              "</style>\n",
              "<table border=\"1\" class=\"dataframe\">\n",
              "  <thead>\n",
              "    <tr style=\"text-align: right;\">\n",
              "      <th></th>\n",
              "      <th>type</th>\n",
              "      <th>title</th>\n",
              "      <th>transcript</th>\n",
              "      <th>locations</th>\n",
              "      <th>persons</th>\n",
              "      <th>topics</th>\n",
              "      <th>transcriptLength</th>\n",
              "      <th>isOnFrontPage</th>\n",
              "      <th>mediaType</th>\n",
              "    </tr>\n",
              "    <tr>\n",
              "      <th>uid</th>\n",
              "      <th></th>\n",
              "      <th></th>\n",
              "      <th></th>\n",
              "      <th></th>\n",
              "      <th></th>\n",
              "      <th></th>\n",
              "      <th></th>\n",
              "      <th></th>\n",
              "      <th></th>\n",
              "    </tr>\n",
              "  </thead>\n",
              "  <tbody>\n",
              "    <tr>\n",
              "      <th>LLE-1961-06-03-a-i0150</th>\n",
              "      <td>ar</td>\n",
              "      <td>[REDACTED]</td>\n",
              "      <td>[REDACTED]</td>\n",
              "      <td>[{'uid': 'aida-0001-54-Luis_Vera', 'relevance'...</td>\n",
              "      <td>[]</td>\n",
              "      <td>[]</td>\n",
              "      <td>0</td>\n",
              "      <td>False</td>\n",
              "      <td>newspaper</td>\n",
              "    </tr>\n",
              "    <tr>\n",
              "      <th>EXP-2012-11-29-a-i0054</th>\n",
              "      <td>ar</td>\n",
              "      <td>[REDACTED]</td>\n",
              "      <td>[REDACTED]</td>\n",
              "      <td>[{'uid': 'aida-0001-54-Lake_Neuchâtel', 'relev...</td>\n",
              "      <td>[{'uid': 'aida-0001-50-Froidevaux', 'relevance...</td>\n",
              "      <td>[]</td>\n",
              "      <td>0</td>\n",
              "      <td>False</td>\n",
              "      <td>newspaper</td>\n",
              "    </tr>\n",
              "    <tr>\n",
              "      <th>EXP-2017-05-19-a-i0004</th>\n",
              "      <td>ar</td>\n",
              "      <td>[REDACTED]</td>\n",
              "      <td>[REDACTED]</td>\n",
              "      <td>[{'uid': 'aida-0001-54-Lake_Neuchâtel', 'relev...</td>\n",
              "      <td>[]</td>\n",
              "      <td>[]</td>\n",
              "      <td>0</td>\n",
              "      <td>False</td>\n",
              "      <td>newspaper</td>\n",
              "    </tr>\n",
              "  </tbody>\n",
              "</table>\n",
              "</div>"
            ],
            "text/plain": [
              "<impresso.resources.search.SearchDataContainer at 0x1195398d0>"
            ]
          },
          "execution_count": 7,
          "metadata": {},
          "output_type": "execute_result"
        }
      ],
      "source": [
        "from impresso import AND\n",
        "\n",
        "impresso.search.find(title=AND(\"homme\", \"femme\"))"
      ]
    },
    {
      "cell_type": "markdown",
      "metadata": {
        "id": "ktl9FA0qrNhx"
      },
      "source": [
        "Find items that have either one term or the other.\n",
        "\n",
        "Here we find all content items that contain either \"homme\" or \"femme\" in the title."
      ]
    },
    {
      "cell_type": "code",
      "execution_count": null,
      "metadata": {
        "id": "uqN79yqlrNhx",
        "outputId": "fc8cbdaa-6481-4c29-ba84-aa9be90e7130"
      },
      "outputs": [
        {
          "data": {
            "text/html": [
              "<div style=\"display: grid; \">\n",
              "<div>\n",
              "<h2>Search result</h2>\n",
              "<div>Contains <b>100</b> items (<b>0</b> - <b>100</b>) of <b>57848</b> total items.</div>\n",
              "<br/>\n",
              "See this result in the <a href=\"https://impresso-project.ch/app/search?sq=ChAYAyoFZmVtbWUqBWhvbW1l&p=1\">Impresso App</a>.\n",
              "</div>\n",
              "</div>\n",
              "<h3>Data preview:</h3>\n",
              "<div>\n",
              "<style scoped>\n",
              "    .dataframe tbody tr th:only-of-type {\n",
              "        vertical-align: middle;\n",
              "    }\n",
              "\n",
              "    .dataframe tbody tr th {\n",
              "        vertical-align: top;\n",
              "    }\n",
              "\n",
              "    .dataframe thead th {\n",
              "        text-align: right;\n",
              "    }\n",
              "</style>\n",
              "<table border=\"1\" class=\"dataframe\">\n",
              "  <thead>\n",
              "    <tr style=\"text-align: right;\">\n",
              "      <th></th>\n",
              "      <th>type</th>\n",
              "      <th>title</th>\n",
              "      <th>transcript</th>\n",
              "      <th>locations</th>\n",
              "      <th>persons</th>\n",
              "      <th>topics</th>\n",
              "      <th>transcriptLength</th>\n",
              "      <th>isOnFrontPage</th>\n",
              "      <th>mediaType</th>\n",
              "    </tr>\n",
              "    <tr>\n",
              "      <th>uid</th>\n",
              "      <th></th>\n",
              "      <th></th>\n",
              "      <th></th>\n",
              "      <th></th>\n",
              "      <th></th>\n",
              "      <th></th>\n",
              "      <th></th>\n",
              "      <th></th>\n",
              "      <th></th>\n",
              "    </tr>\n",
              "  </thead>\n",
              "  <tbody>\n",
              "    <tr>\n",
              "      <th>EXP-1933-01-17-a-i0003</th>\n",
              "      <td>ar</td>\n",
              "      <td>[REDACTED]</td>\n",
              "      <td>[REDACTED]</td>\n",
              "      <td>[{'uid': 'aida-0001-54-Lausanne', 'relevance':...</td>\n",
              "      <td>[]</td>\n",
              "      <td>[]</td>\n",
              "      <td>0</td>\n",
              "      <td>False</td>\n",
              "      <td>newspaper</td>\n",
              "    </tr>\n",
              "    <tr>\n",
              "      <th>LLE-1961-01-10-a-i0078</th>\n",
              "      <td>ar</td>\n",
              "      <td>[REDACTED]</td>\n",
              "      <td>[REDACTED]</td>\n",
              "      <td>[]</td>\n",
              "      <td>[]</td>\n",
              "      <td>[]</td>\n",
              "      <td>0</td>\n",
              "      <td>False</td>\n",
              "      <td>newspaper</td>\n",
              "    </tr>\n",
              "    <tr>\n",
              "      <th>EXP-1933-02-04-a-i0028</th>\n",
              "      <td>ar</td>\n",
              "      <td>[REDACTED]</td>\n",
              "      <td>[REDACTED]</td>\n",
              "      <td>[{'uid': 'aida-0001-54-Paddle_steamer_Genève',...</td>\n",
              "      <td>[{'uid': 'aida-0001-50-Martina_Schild', 'relev...</td>\n",
              "      <td>[]</td>\n",
              "      <td>0</td>\n",
              "      <td>False</td>\n",
              "      <td>newspaper</td>\n",
              "    </tr>\n",
              "  </tbody>\n",
              "</table>\n",
              "</div>"
            ],
            "text/plain": [
              "<impresso.resources.search.SearchDataContainer at 0x10d8a6e10>"
            ]
          },
          "execution_count": 8,
          "metadata": {},
          "output_type": "execute_result"
        }
      ],
      "source": [
        "from impresso import OR\n",
        "\n",
        "impresso.search.find(title=OR(\"homme\", \"femme\"))"
      ]
    },
    {
      "cell_type": "markdown",
      "metadata": {
        "id": "hRoPt_YUrNhx"
      },
      "source": [
        "## Inverted search (everything excluding term A __OR__ term B).\n",
        "\n",
        "We want to find all content items with the word \"luddite\" in the title that do not mention neither \"textile\" nor \"machine\""
      ]
    },
    {
      "cell_type": "code",
      "execution_count": null,
      "metadata": {
        "id": "yuuyejifrNhx",
        "outputId": "003c0ef4-3660-4e46-b8b8-c62d909523ab"
      },
      "outputs": [
        {
          "data": {
            "text/html": [
              "<div style=\"display: grid; \">\n",
              "<div>\n",
              "<h2>Search result</h2>\n",
              "<div>Contains <b>1</b> items of <b>1</b> total items.</div>\n",
              "<br/>\n",
              "See this result in the <a href=\"https://impresso-project.ch/app/search?sq=ChgIAhABGAcqB3RleHRpbGUqB21hY2hpbmUKCxgDKgdsdWRkaXRl&p=1\">Impresso App</a>.\n",
              "</div>\n",
              "</div>\n",
              "<h3>Data preview:</h3>\n",
              "<div>\n",
              "<style scoped>\n",
              "    .dataframe tbody tr th:only-of-type {\n",
              "        vertical-align: middle;\n",
              "    }\n",
              "\n",
              "    .dataframe tbody tr th {\n",
              "        vertical-align: top;\n",
              "    }\n",
              "\n",
              "    .dataframe thead th {\n",
              "        text-align: right;\n",
              "    }\n",
              "</style>\n",
              "<table border=\"1\" class=\"dataframe\">\n",
              "  <thead>\n",
              "    <tr style=\"text-align: right;\">\n",
              "      <th></th>\n",
              "      <th>type</th>\n",
              "      <th>title</th>\n",
              "      <th>transcript</th>\n",
              "      <th>locations</th>\n",
              "      <th>persons</th>\n",
              "      <th>topics</th>\n",
              "      <th>transcriptLength</th>\n",
              "      <th>isOnFrontPage</th>\n",
              "      <th>mediaType</th>\n",
              "    </tr>\n",
              "    <tr>\n",
              "      <th>uid</th>\n",
              "      <th></th>\n",
              "      <th></th>\n",
              "      <th></th>\n",
              "      <th></th>\n",
              "      <th></th>\n",
              "      <th></th>\n",
              "      <th></th>\n",
              "      <th></th>\n",
              "      <th></th>\n",
              "    </tr>\n",
              "  </thead>\n",
              "  <tbody>\n",
              "    <tr>\n",
              "      <th>LES-2010-02-01-a-i0024</th>\n",
              "      <td>ar</td>\n",
              "      <td>[REDACTED]</td>\n",
              "      <td>[REDACTED]</td>\n",
              "      <td>[{'uid': 'aida-0001-54-England', 'relevance': 1}]</td>\n",
              "      <td>[]</td>\n",
              "      <td>[]</td>\n",
              "      <td>0</td>\n",
              "      <td>False</td>\n",
              "      <td>newspaper</td>\n",
              "    </tr>\n",
              "  </tbody>\n",
              "</table>\n",
              "</div>"
            ],
            "text/plain": [
              "<impresso.resources.search.SearchDataContainer at 0x1195c3650>"
            ]
          },
          "execution_count": 9,
          "metadata": {},
          "output_type": "execute_result"
        }
      ],
      "source": [
        "from impresso import OR\n",
        "\n",
        "impresso.search.find(title=\"luddite\", term=~OR(\"textile\", \"machine\"))"
      ]
    },
    {
      "cell_type": "markdown",
      "metadata": {
        "id": "vkUISKqJrNhx"
      },
      "source": [
        "### Complex combintation of terms\n",
        "\n",
        "The following cell searches all content items with all of the the following condition:\n",
        "\n",
        "* mentioning \"hitler\" and \"stalin\"\n",
        "* also mentioning one of: \"molotow\" or \"ribbentrop\"\n",
        "* and not mentioning \"churchill\""
      ]
    },
    {
      "cell_type": "code",
      "execution_count": null,
      "metadata": {
        "id": "Dak7erlhrNhx",
        "outputId": "08b3ee7c-413f-4a1b-8912-6b9c6a32a388"
      },
      "outputs": [
        {
          "data": {
            "text/html": [
              "<div style=\"display: grid; \">\n",
              "<div>\n",
              "<h2>Search result</h2>\n",
              "<div>Contains <b>100</b> items (<b>0</b> - <b>100</b>) of <b>462</b> total items.</div>\n",
              "<br/>\n",
              "See this result in the <a href=\"https://impresso-project.ch/app/search?sq=ChEIAhABGAcqCWNodXJjaGlsbAoXGAcqB21vbG90b3cqCnJpYmJlbnRyb3AKFBABGAcqBnN0YWxpbioGaGl0bGVy&p=1\">Impresso App</a>.\n",
              "</div>\n",
              "</div>\n",
              "<h3>Data preview:</h3>\n",
              "<div>\n",
              "<style scoped>\n",
              "    .dataframe tbody tr th:only-of-type {\n",
              "        vertical-align: middle;\n",
              "    }\n",
              "\n",
              "    .dataframe tbody tr th {\n",
              "        vertical-align: top;\n",
              "    }\n",
              "\n",
              "    .dataframe thead th {\n",
              "        text-align: right;\n",
              "    }\n",
              "</style>\n",
              "<table border=\"1\" class=\"dataframe\">\n",
              "  <thead>\n",
              "    <tr style=\"text-align: right;\">\n",
              "      <th></th>\n",
              "      <th>type</th>\n",
              "      <th>title</th>\n",
              "      <th>transcript</th>\n",
              "      <th>locations</th>\n",
              "      <th>persons</th>\n",
              "      <th>topics</th>\n",
              "      <th>transcriptLength</th>\n",
              "      <th>isOnFrontPage</th>\n",
              "      <th>mediaType</th>\n",
              "    </tr>\n",
              "    <tr>\n",
              "      <th>uid</th>\n",
              "      <th></th>\n",
              "      <th></th>\n",
              "      <th></th>\n",
              "      <th></th>\n",
              "      <th></th>\n",
              "      <th></th>\n",
              "      <th></th>\n",
              "      <th></th>\n",
              "      <th></th>\n",
              "    </tr>\n",
              "  </thead>\n",
              "  <tbody>\n",
              "    <tr>\n",
              "      <th>FZG-1986-11-12-a-i0167</th>\n",
              "      <td>ar</td>\n",
              "      <td>[REDACTED]</td>\n",
              "      <td>[REDACTED]</td>\n",
              "      <td>[]</td>\n",
              "      <td>[]</td>\n",
              "      <td>[]</td>\n",
              "      <td>0</td>\n",
              "      <td>False</td>\n",
              "      <td>newspaper</td>\n",
              "    </tr>\n",
              "    <tr>\n",
              "      <th>luxwort-1946-04-30-a-i0004</th>\n",
              "      <td>ar</td>\n",
              "      <td>[REDACTED]</td>\n",
              "      <td>[REDACTED]</td>\n",
              "      <td>[{'uid': 'aida-0001-54-Berlin', 'relevance': 2...</td>\n",
              "      <td>[{'uid': 'aida-0001-50-John_F._Simon_Jr.', 're...</td>\n",
              "      <td>[]</td>\n",
              "      <td>0</td>\n",
              "      <td>False</td>\n",
              "      <td>newspaper</td>\n",
              "    </tr>\n",
              "    <tr>\n",
              "      <th>luxwort-1946-04-02-a-i0053</th>\n",
              "      <td>ar</td>\n",
              "      <td>[REDACTED]</td>\n",
              "      <td>[REDACTED]</td>\n",
              "      <td>[{'uid': 'aida-0001-54-German_cruiser_Nürnberg...</td>\n",
              "      <td>[{'uid': 'aida-0001-50-Carl_Friedrich_Gauss', ...</td>\n",
              "      <td>[]</td>\n",
              "      <td>0</td>\n",
              "      <td>False</td>\n",
              "      <td>newspaper</td>\n",
              "    </tr>\n",
              "  </tbody>\n",
              "</table>\n",
              "</div>"
            ],
            "text/plain": [
              "<impresso.resources.search.SearchDataContainer at 0x118c532d0>"
            ]
          },
          "execution_count": 10,
          "metadata": {},
          "output_type": "execute_result"
        }
      ],
      "source": [
        "from impresso import AND, OR\n",
        "\n",
        "impresso.search.find(term=AND(\"hitler\", \"stalin\") & OR(\"molotow\", \"ribbentrop\") & ~OR(\"churchill\"))"
      ]
    },
    {
      "cell_type": "markdown",
      "metadata": {
        "id": "VsP7V4JSrNhx"
      },
      "source": [
        "## Front page\n",
        "\n",
        "Find content items published on the front page only"
      ]
    },
    {
      "cell_type": "code",
      "execution_count": null,
      "metadata": {
        "id": "VM0erpoArNhx",
        "outputId": "19546e49-29b2-4523-fc26-4eff24db3f5e"
      },
      "outputs": [
        {
          "data": {
            "text/html": [
              "<div style=\"display: grid; \">\n",
              "<div>\n",
              "<h2>Search result</h2>\n",
              "<div>Contains <b>1</b> items of <b>1</b> total items.</div>\n",
              "<br/>\n",
              "See this result in the <a href=\"https://impresso-project.ch/app/search?sq=CgwYByoIaW1wcmVzc28KAhgE&p=1\">Impresso App</a>.\n",
              "</div>\n",
              "</div>\n",
              "<h3>Data preview:</h3>\n",
              "<div>\n",
              "<style scoped>\n",
              "    .dataframe tbody tr th:only-of-type {\n",
              "        vertical-align: middle;\n",
              "    }\n",
              "\n",
              "    .dataframe tbody tr th {\n",
              "        vertical-align: top;\n",
              "    }\n",
              "\n",
              "    .dataframe thead th {\n",
              "        text-align: right;\n",
              "    }\n",
              "</style>\n",
              "<table border=\"1\" class=\"dataframe\">\n",
              "  <thead>\n",
              "    <tr style=\"text-align: right;\">\n",
              "      <th></th>\n",
              "      <th>type</th>\n",
              "      <th>title</th>\n",
              "      <th>transcript</th>\n",
              "      <th>locations</th>\n",
              "      <th>persons</th>\n",
              "      <th>topics</th>\n",
              "      <th>transcriptLength</th>\n",
              "      <th>isOnFrontPage</th>\n",
              "      <th>mediaType</th>\n",
              "    </tr>\n",
              "    <tr>\n",
              "      <th>uid</th>\n",
              "      <th></th>\n",
              "      <th></th>\n",
              "      <th></th>\n",
              "      <th></th>\n",
              "      <th></th>\n",
              "      <th></th>\n",
              "      <th></th>\n",
              "      <th></th>\n",
              "      <th></th>\n",
              "    </tr>\n",
              "  </thead>\n",
              "  <tbody>\n",
              "    <tr>\n",
              "      <th>LLE-1970-11-10-a-i0021</th>\n",
              "      <td>ar</td>\n",
              "      <td>[REDACTED]</td>\n",
              "      <td>[REDACTED]</td>\n",
              "      <td>[{'uid': 'aida-0001-54-Poland', 'relevance': 1...</td>\n",
              "      <td>[{'uid': 'aida-0001-50-Walter_Scheel', 'releva...</td>\n",
              "      <td>[]</td>\n",
              "      <td>0</td>\n",
              "      <td>False</td>\n",
              "      <td>newspaper</td>\n",
              "    </tr>\n",
              "  </tbody>\n",
              "</table>\n",
              "</div>"
            ],
            "text/plain": [
              "<impresso.resources.search.SearchDataContainer at 0x11831cd90>"
            ]
          },
          "execution_count": 11,
          "metadata": {},
          "output_type": "execute_result"
        }
      ],
      "source": [
        "impresso.search.find(term=\"impresso\", front_page=True)"
      ]
    },
    {
      "cell_type": "markdown",
      "metadata": {
        "id": "BZGh38fNrNhx"
      },
      "source": [
        "## Entity ID\n",
        "\n",
        "Search by entity ID"
      ]
    },
    {
      "cell_type": "code",
      "execution_count": null,
      "metadata": {
        "id": "3FrycShvrNhx",
        "outputId": "116958d3-5a6a-474d-fa71-aac1ef38e01a"
      },
      "outputs": [
        {
          "data": {
            "text/html": [
              "<div style=\"display: grid; \">\n",
              "<div>\n",
              "<h2>Search result</h2>\n",
              "<div>Contains <b>100</b> items (<b>0</b> - <b>100</b>) of <b>2373440</b> total items.</div>\n",
              "<br/>\n",
              "See this result in the <a href=\"https://impresso-project.ch/app/search?sq=ChwYCCoYYWlkYS0wMDAxLTU0LVN3aXR6ZXJsYW5k&p=1\">Impresso App</a>.\n",
              "</div>\n",
              "</div>\n",
              "<h3>Data preview:</h3>\n",
              "<div>\n",
              "<style scoped>\n",
              "    .dataframe tbody tr th:only-of-type {\n",
              "        vertical-align: middle;\n",
              "    }\n",
              "\n",
              "    .dataframe tbody tr th {\n",
              "        vertical-align: top;\n",
              "    }\n",
              "\n",
              "    .dataframe thead th {\n",
              "        text-align: right;\n",
              "    }\n",
              "</style>\n",
              "<table border=\"1\" class=\"dataframe\">\n",
              "  <thead>\n",
              "    <tr style=\"text-align: right;\">\n",
              "      <th></th>\n",
              "      <th>type</th>\n",
              "      <th>title</th>\n",
              "      <th>transcript</th>\n",
              "      <th>locations</th>\n",
              "      <th>persons</th>\n",
              "      <th>topics</th>\n",
              "      <th>transcriptLength</th>\n",
              "      <th>isOnFrontPage</th>\n",
              "      <th>mediaType</th>\n",
              "    </tr>\n",
              "    <tr>\n",
              "      <th>uid</th>\n",
              "      <th></th>\n",
              "      <th></th>\n",
              "      <th></th>\n",
              "      <th></th>\n",
              "      <th></th>\n",
              "      <th></th>\n",
              "      <th></th>\n",
              "      <th></th>\n",
              "      <th></th>\n",
              "    </tr>\n",
              "  </thead>\n",
              "  <tbody>\n",
              "    <tr>\n",
              "      <th>LLE-1961-01-09-a-i0098</th>\n",
              "      <td>ar</td>\n",
              "      <td>[REDACTED]</td>\n",
              "      <td>[REDACTED]</td>\n",
              "      <td>[{'uid': 'aida-0001-54-Switzerland', 'relevanc...</td>\n",
              "      <td>[]</td>\n",
              "      <td>[]</td>\n",
              "      <td>0</td>\n",
              "      <td>False</td>\n",
              "      <td>newspaper</td>\n",
              "    </tr>\n",
              "    <tr>\n",
              "      <th>EXP-1933-01-17-a-i0023</th>\n",
              "      <td>ar</td>\n",
              "      <td>[REDACTED]</td>\n",
              "      <td>[REDACTED]</td>\n",
              "      <td>[{'uid': 'aida-0001-54-Zürich', 'relevance': 1...</td>\n",
              "      <td>[]</td>\n",
              "      <td>[]</td>\n",
              "      <td>0</td>\n",
              "      <td>False</td>\n",
              "      <td>newspaper</td>\n",
              "    </tr>\n",
              "    <tr>\n",
              "      <th>EXP-2012-12-10-a-i0068</th>\n",
              "      <td>ar</td>\n",
              "      <td>[REDACTED]</td>\n",
              "      <td>[REDACTED]</td>\n",
              "      <td>[{'uid': 'aida-0001-54-Switzerland', 'relevanc...</td>\n",
              "      <td>[{'uid': 'aida-0001-50-Robert_Pattinson', 'rel...</td>\n",
              "      <td>[]</td>\n",
              "      <td>0</td>\n",
              "      <td>False</td>\n",
              "      <td>newspaper</td>\n",
              "    </tr>\n",
              "  </tbody>\n",
              "</table>\n",
              "</div>"
            ],
            "text/plain": [
              "<impresso.resources.search.SearchDataContainer at 0x118d888d0>"
            ]
          },
          "execution_count": 12,
          "metadata": {},
          "output_type": "execute_result"
        }
      ],
      "source": [
        "impresso.search.find(entity_id=\"aida-0001-54-Switzerland\")"
      ]
    },
    {
      "cell_type": "markdown",
      "metadata": {
        "id": "-a2reFgIrNhx"
      },
      "source": [
        "Find all content items that mention Switzerland and Albert Einstein."
      ]
    },
    {
      "cell_type": "code",
      "execution_count": null,
      "metadata": {
        "id": "T54DA47xrNhx",
        "outputId": "ec86df09-0be7-4440-9428-2ebce9160d05"
      },
      "outputs": [
        {
          "data": {
            "text/html": [
              "<div style=\"display: grid; \">\n",
              "<div>\n",
              "<h2>Search result</h2>\n",
              "<div>Contains <b>100</b> items (<b>0</b> - <b>100</b>) of <b>626</b> total items.</div>\n",
              "<br/>\n",
              "See this result in the <a href=\"https://impresso-project.ch/app/search?sq=CjwQARgIKhhhaWRhLTAwMDEtNTQtU3dpdHplcmxhbmQqHGFpZGEtMDAwMS01MC1BbGJlcnRfRWluc3RlaW4=&p=1\">Impresso App</a>.\n",
              "</div>\n",
              "</div>\n",
              "<h3>Data preview:</h3>\n",
              "<div>\n",
              "<style scoped>\n",
              "    .dataframe tbody tr th:only-of-type {\n",
              "        vertical-align: middle;\n",
              "    }\n",
              "\n",
              "    .dataframe tbody tr th {\n",
              "        vertical-align: top;\n",
              "    }\n",
              "\n",
              "    .dataframe thead th {\n",
              "        text-align: right;\n",
              "    }\n",
              "</style>\n",
              "<table border=\"1\" class=\"dataframe\">\n",
              "  <thead>\n",
              "    <tr style=\"text-align: right;\">\n",
              "      <th></th>\n",
              "      <th>type</th>\n",
              "      <th>title</th>\n",
              "      <th>transcript</th>\n",
              "      <th>locations</th>\n",
              "      <th>persons</th>\n",
              "      <th>topics</th>\n",
              "      <th>transcriptLength</th>\n",
              "      <th>isOnFrontPage</th>\n",
              "      <th>mediaType</th>\n",
              "    </tr>\n",
              "    <tr>\n",
              "      <th>uid</th>\n",
              "      <th></th>\n",
              "      <th></th>\n",
              "      <th></th>\n",
              "      <th></th>\n",
              "      <th></th>\n",
              "      <th></th>\n",
              "      <th></th>\n",
              "      <th></th>\n",
              "      <th></th>\n",
              "    </tr>\n",
              "  </thead>\n",
              "  <tbody>\n",
              "    <tr>\n",
              "      <th>EXP-2013-10-02-a-i0190</th>\n",
              "      <td>ar</td>\n",
              "      <td>[REDACTED]</td>\n",
              "      <td>[REDACTED]</td>\n",
              "      <td>[{'uid': 'aida-0001-54-Neuchâtel', 'relevance'...</td>\n",
              "      <td>[{'uid': 'aida-0001-50-Charles_Édouard_Guillau...</td>\n",
              "      <td>[]</td>\n",
              "      <td>0</td>\n",
              "      <td>False</td>\n",
              "      <td>newspaper</td>\n",
              "    </tr>\n",
              "    <tr>\n",
              "      <th>IMP-1975-04-18-a-i0281</th>\n",
              "      <td>ar</td>\n",
              "      <td>[REDACTED]</td>\n",
              "      <td>[REDACTED]</td>\n",
              "      <td>[{'uid': 'aida-0001-54-Switzerland', 'relevanc...</td>\n",
              "      <td>[{'uid': 'aida-0001-50-Guy_de_Maupassant', 're...</td>\n",
              "      <td>[]</td>\n",
              "      <td>0</td>\n",
              "      <td>False</td>\n",
              "      <td>newspaper</td>\n",
              "    </tr>\n",
              "    <tr>\n",
              "      <th>EXP-2000-04-20-a-i0368</th>\n",
              "      <td>ar</td>\n",
              "      <td>[REDACTED]</td>\n",
              "      <td>[REDACTED]</td>\n",
              "      <td>[{'uid': 'aida-0001-54-Miami', 'relevance': 1}...</td>\n",
              "      <td>[{'uid': 'aida-0001-50-Mike_Hammer', 'relevanc...</td>\n",
              "      <td>[]</td>\n",
              "      <td>0</td>\n",
              "      <td>False</td>\n",
              "      <td>newspaper</td>\n",
              "    </tr>\n",
              "  </tbody>\n",
              "</table>\n",
              "</div>"
            ],
            "text/plain": [
              "<impresso.resources.search.SearchDataContainer at 0x11831cdd0>"
            ]
          },
          "execution_count": 13,
          "metadata": {},
          "output_type": "execute_result"
        }
      ],
      "source": [
        "impresso.search.find(entity_id=AND(\"aida-0001-54-Switzerland\", \"aida-0001-50-Albert_Einstein\"))"
      ]
    },
    {
      "cell_type": "markdown",
      "metadata": {
        "id": "eeTrx9IhrNhx"
      },
      "source": [
        "Find all content items that mention either Switzerland or Albert Einstein."
      ]
    },
    {
      "cell_type": "code",
      "execution_count": null,
      "metadata": {
        "id": "QjgqTBJBrNhy",
        "outputId": "b2f65678-27d9-4e2c-d3f1-e62d3b8aaac0"
      },
      "outputs": [
        {
          "data": {
            "text/html": [
              "<div style=\"display: grid; \">\n",
              "<div>\n",
              "<h2>Search result</h2>\n",
              "<div>Contains <b>100</b> items (<b>0</b> - <b>100</b>) of <b>2374957</b> total items.</div>\n",
              "<br/>\n",
              "See this result in the <a href=\"https://impresso-project.ch/app/search?sq=CjoYCCoYYWlkYS0wMDAxLTU0LVN3aXR6ZXJsYW5kKhxhaWRhLTAwMDEtNTAtQWxiZXJ0X0VpbnN0ZWlu&p=1\">Impresso App</a>.\n",
              "</div>\n",
              "</div>\n",
              "<h3>Data preview:</h3>\n",
              "<div>\n",
              "<style scoped>\n",
              "    .dataframe tbody tr th:only-of-type {\n",
              "        vertical-align: middle;\n",
              "    }\n",
              "\n",
              "    .dataframe tbody tr th {\n",
              "        vertical-align: top;\n",
              "    }\n",
              "\n",
              "    .dataframe thead th {\n",
              "        text-align: right;\n",
              "    }\n",
              "</style>\n",
              "<table border=\"1\" class=\"dataframe\">\n",
              "  <thead>\n",
              "    <tr style=\"text-align: right;\">\n",
              "      <th></th>\n",
              "      <th>type</th>\n",
              "      <th>title</th>\n",
              "      <th>transcript</th>\n",
              "      <th>locations</th>\n",
              "      <th>persons</th>\n",
              "      <th>topics</th>\n",
              "      <th>transcriptLength</th>\n",
              "      <th>isOnFrontPage</th>\n",
              "      <th>mediaType</th>\n",
              "    </tr>\n",
              "    <tr>\n",
              "      <th>uid</th>\n",
              "      <th></th>\n",
              "      <th></th>\n",
              "      <th></th>\n",
              "      <th></th>\n",
              "      <th></th>\n",
              "      <th></th>\n",
              "      <th></th>\n",
              "      <th></th>\n",
              "      <th></th>\n",
              "    </tr>\n",
              "  </thead>\n",
              "  <tbody>\n",
              "    <tr>\n",
              "      <th>LLE-1961-01-09-a-i0098</th>\n",
              "      <td>ar</td>\n",
              "      <td>[REDACTED]</td>\n",
              "      <td>[REDACTED]</td>\n",
              "      <td>[{'uid': 'aida-0001-54-Switzerland', 'relevanc...</td>\n",
              "      <td>[]</td>\n",
              "      <td>[]</td>\n",
              "      <td>0</td>\n",
              "      <td>False</td>\n",
              "      <td>newspaper</td>\n",
              "    </tr>\n",
              "    <tr>\n",
              "      <th>EXP-1933-01-17-a-i0023</th>\n",
              "      <td>ar</td>\n",
              "      <td>[REDACTED]</td>\n",
              "      <td>[REDACTED]</td>\n",
              "      <td>[{'uid': 'aida-0001-54-Zürich', 'relevance': 1...</td>\n",
              "      <td>[]</td>\n",
              "      <td>[]</td>\n",
              "      <td>0</td>\n",
              "      <td>False</td>\n",
              "      <td>newspaper</td>\n",
              "    </tr>\n",
              "    <tr>\n",
              "      <th>EXP-2012-12-10-a-i0068</th>\n",
              "      <td>ar</td>\n",
              "      <td>[REDACTED]</td>\n",
              "      <td>[REDACTED]</td>\n",
              "      <td>[{'uid': 'aida-0001-54-Switzerland', 'relevanc...</td>\n",
              "      <td>[{'uid': 'aida-0001-50-Robert_Pattinson', 'rel...</td>\n",
              "      <td>[]</td>\n",
              "      <td>0</td>\n",
              "      <td>False</td>\n",
              "      <td>newspaper</td>\n",
              "    </tr>\n",
              "  </tbody>\n",
              "</table>\n",
              "</div>"
            ],
            "text/plain": [
              "<impresso.resources.search.SearchDataContainer at 0x118f4da10>"
            ]
          },
          "execution_count": 14,
          "metadata": {},
          "output_type": "execute_result"
        }
      ],
      "source": [
        "impresso.search.find(entity_id=OR(\"aida-0001-54-Switzerland\", \"aida-0001-50-Albert_Einstein\"))"
      ]
    },
    {
      "cell_type": "markdown",
      "metadata": {
        "id": "k5Ak69oLrNhy"
      },
      "source": [
        "## Newspaper\n",
        "\n",
        "Limit search to two newspapers"
      ]
    },
    {
      "cell_type": "code",
      "execution_count": null,
      "metadata": {
        "id": "g5C7z6PvrNhy",
        "outputId": "6c24a907-72e9-4f5c-8e2c-64bdac3ac182"
      },
      "outputs": [
        {
          "data": {
            "text/html": [
              "<div style=\"display: grid; \">\n",
              "<div>\n",
              "<h2>Search result</h2>\n",
              "<div>Contains <b>100</b> items (<b>0</b> - <b>100</b>) of <b>481</b> total items.</div>\n",
              "<br/>\n",
              "See this result in the <a href=\"https://impresso-project.ch/app/search?sq=ChAYByoMaW5kZXBlbmRlbmNlCgwYCSoDR0RMKgNFWFA=&p=1\">Impresso App</a>.\n",
              "</div>\n",
              "</div>\n",
              "<h3>Data preview:</h3>\n",
              "<div>\n",
              "<style scoped>\n",
              "    .dataframe tbody tr th:only-of-type {\n",
              "        vertical-align: middle;\n",
              "    }\n",
              "\n",
              "    .dataframe tbody tr th {\n",
              "        vertical-align: top;\n",
              "    }\n",
              "\n",
              "    .dataframe thead th {\n",
              "        text-align: right;\n",
              "    }\n",
              "</style>\n",
              "<table border=\"1\" class=\"dataframe\">\n",
              "  <thead>\n",
              "    <tr style=\"text-align: right;\">\n",
              "      <th></th>\n",
              "      <th>type</th>\n",
              "      <th>title</th>\n",
              "      <th>transcript</th>\n",
              "      <th>locations</th>\n",
              "      <th>persons</th>\n",
              "      <th>topics</th>\n",
              "      <th>transcriptLength</th>\n",
              "      <th>isOnFrontPage</th>\n",
              "      <th>mediaType</th>\n",
              "    </tr>\n",
              "    <tr>\n",
              "      <th>uid</th>\n",
              "      <th></th>\n",
              "      <th></th>\n",
              "      <th></th>\n",
              "      <th></th>\n",
              "      <th></th>\n",
              "      <th></th>\n",
              "      <th></th>\n",
              "      <th></th>\n",
              "      <th></th>\n",
              "    </tr>\n",
              "  </thead>\n",
              "  <tbody>\n",
              "    <tr>\n",
              "      <th>GDL-1951-04-04-a-i0086</th>\n",
              "      <td>ad</td>\n",
              "      <td>[REDACTED]</td>\n",
              "      <td>[REDACTED]</td>\n",
              "      <td>[{'uid': 'aida-0001-54-Medal_bar', 'relevance'...</td>\n",
              "      <td>[]</td>\n",
              "      <td>[]</td>\n",
              "      <td>0</td>\n",
              "      <td>False</td>\n",
              "      <td>newspaper</td>\n",
              "    </tr>\n",
              "    <tr>\n",
              "      <th>GDL-1951-07-03-a-i0009</th>\n",
              "      <td>ad</td>\n",
              "      <td>[REDACTED]</td>\n",
              "      <td>[REDACTED]</td>\n",
              "      <td>[{'uid': 'aida-0001-54-Province_of_New_York', ...</td>\n",
              "      <td>[]</td>\n",
              "      <td>[]</td>\n",
              "      <td>0</td>\n",
              "      <td>False</td>\n",
              "      <td>newspaper</td>\n",
              "    </tr>\n",
              "    <tr>\n",
              "      <th>GDL-1951-09-01-a-i0185</th>\n",
              "      <td>ad</td>\n",
              "      <td>[REDACTED]</td>\n",
              "      <td>[REDACTED]</td>\n",
              "      <td>[{'uid': 'aida-0001-54-Independence_Bowl', 're...</td>\n",
              "      <td>[]</td>\n",
              "      <td>[]</td>\n",
              "      <td>0</td>\n",
              "      <td>False</td>\n",
              "      <td>newspaper</td>\n",
              "    </tr>\n",
              "  </tbody>\n",
              "</table>\n",
              "</div>"
            ],
            "text/plain": [
              "<impresso.resources.search.SearchDataContainer at 0x118c95c90>"
            ]
          },
          "execution_count": 15,
          "metadata": {},
          "output_type": "execute_result"
        }
      ],
      "source": [
        "impresso.search.find(term=\"independence\", newspaper_id=OR(\"EXP\", \"GDL\"))"
      ]
    },
    {
      "cell_type": "markdown",
      "metadata": {
        "id": "RQtL2_5ZrNhy"
      },
      "source": [
        "## Date range\n",
        "\n",
        "Items published between dates"
      ]
    },
    {
      "cell_type": "code",
      "execution_count": null,
      "metadata": {
        "id": "O_MLVFZSrNhy",
        "outputId": "cce891e1-8f6b-4909-fd86-0268594aca9c"
      },
      "outputs": [
        {
          "data": {
            "text/html": [
              "<div style=\"display: grid; \">\n",
              "<div>\n",
              "<h2>Search result</h2>\n",
              "<div>Contains <b>100</b> items (<b>0</b> - <b>100</b>) of <b>1898</b> total items.</div>\n",
              "<br/>\n",
              "See this result in the <a href=\"https://impresso-project.ch/app/search?sq=ChAYByoMaW5kZXBlbmRlbmNlCjAYCiosMTkyMS0wNS0yMVQwMDowMDowMFogVE8gMjAwMS0wMS0wMlQwMDowMDowMFo=&p=1\">Impresso App</a>.\n",
              "</div>\n",
              "</div>\n",
              "<h3>Data preview:</h3>\n",
              "<div>\n",
              "<style scoped>\n",
              "    .dataframe tbody tr th:only-of-type {\n",
              "        vertical-align: middle;\n",
              "    }\n",
              "\n",
              "    .dataframe tbody tr th {\n",
              "        vertical-align: top;\n",
              "    }\n",
              "\n",
              "    .dataframe thead th {\n",
              "        text-align: right;\n",
              "    }\n",
              "</style>\n",
              "<table border=\"1\" class=\"dataframe\">\n",
              "  <thead>\n",
              "    <tr style=\"text-align: right;\">\n",
              "      <th></th>\n",
              "      <th>type</th>\n",
              "      <th>title</th>\n",
              "      <th>transcript</th>\n",
              "      <th>locations</th>\n",
              "      <th>persons</th>\n",
              "      <th>topics</th>\n",
              "      <th>transcriptLength</th>\n",
              "      <th>isOnFrontPage</th>\n",
              "      <th>mediaType</th>\n",
              "    </tr>\n",
              "    <tr>\n",
              "      <th>uid</th>\n",
              "      <th></th>\n",
              "      <th></th>\n",
              "      <th></th>\n",
              "      <th></th>\n",
              "      <th></th>\n",
              "      <th></th>\n",
              "      <th></th>\n",
              "      <th></th>\n",
              "      <th></th>\n",
              "    </tr>\n",
              "  </thead>\n",
              "  <tbody>\n",
              "    <tr>\n",
              "      <th>JDG-1957-10-25-a-i0032</th>\n",
              "      <td>ad</td>\n",
              "      <td>[REDACTED]</td>\n",
              "      <td>[REDACTED]</td>\n",
              "      <td>[{'uid': 'aida-0001-54-Independence$2c$_Ohio',...</td>\n",
              "      <td>[]</td>\n",
              "      <td>[]</td>\n",
              "      <td>0</td>\n",
              "      <td>False</td>\n",
              "      <td>newspaper</td>\n",
              "    </tr>\n",
              "    <tr>\n",
              "      <th>JDG-1958-03-24-a-i0076</th>\n",
              "      <td>ad</td>\n",
              "      <td>[REDACTED]</td>\n",
              "      <td>[REDACTED]</td>\n",
              "      <td>[{'uid': 'aida-0001-54-Independence$2c$_Ohio',...</td>\n",
              "      <td>[]</td>\n",
              "      <td>[]</td>\n",
              "      <td>0</td>\n",
              "      <td>False</td>\n",
              "      <td>newspaper</td>\n",
              "    </tr>\n",
              "    <tr>\n",
              "      <th>JDG-1958-03-20-a-i0045</th>\n",
              "      <td>ad</td>\n",
              "      <td>[REDACTED]</td>\n",
              "      <td>[REDACTED]</td>\n",
              "      <td>[{'uid': 'aida-0001-54-Independence$2c$_Iowa',...</td>\n",
              "      <td>[]</td>\n",
              "      <td>[]</td>\n",
              "      <td>0</td>\n",
              "      <td>False</td>\n",
              "      <td>newspaper</td>\n",
              "    </tr>\n",
              "  </tbody>\n",
              "</table>\n",
              "</div>"
            ],
            "text/plain": [
              "<impresso.resources.search.SearchDataContainer at 0x11953a910>"
            ]
          },
          "execution_count": 16,
          "metadata": {},
          "output_type": "execute_result"
        }
      ],
      "source": [
        "from impresso import DateRange\n",
        "\n",
        "impresso.search.find(term=\"independence\", date_range=DateRange(\"1921-05-21\", \"2001-01-02\"))"
      ]
    },
    {
      "cell_type": "markdown",
      "metadata": {
        "id": "7reMIDGprNhy"
      },
      "source": [
        "Content items published at any time excluding the range (not the `~` that negates the range)."
      ]
    },
    {
      "cell_type": "code",
      "execution_count": null,
      "metadata": {
        "id": "eX1eFpLWrNhy",
        "outputId": "9bef3d4f-3e45-4db4-a0db-d53e6fe0012d"
      },
      "outputs": [
        {
          "data": {
            "text/html": [
              "<div style=\"display: grid; \">\n",
              "<div>\n",
              "<h2>Search result</h2>\n",
              "<div>Contains <b>100</b> items (<b>0</b> - <b>100</b>) of <b>411</b> total items.</div>\n",
              "<br/>\n",
              "See this result in the <a href=\"https://impresso-project.ch/app/search?sq=ChAYByoMaW5kZXBlbmRlbmNlCjIIAhgKKiwxOTIxLTA1LTIxVDAwOjAwOjAwWiBUTyAyMDAxLTAxLTAyVDAwOjAwOjAwWg==&p=1\">Impresso App</a>.\n",
              "</div>\n",
              "</div>\n",
              "<h3>Data preview:</h3>\n",
              "<div>\n",
              "<style scoped>\n",
              "    .dataframe tbody tr th:only-of-type {\n",
              "        vertical-align: middle;\n",
              "    }\n",
              "\n",
              "    .dataframe tbody tr th {\n",
              "        vertical-align: top;\n",
              "    }\n",
              "\n",
              "    .dataframe thead th {\n",
              "        text-align: right;\n",
              "    }\n",
              "</style>\n",
              "<table border=\"1\" class=\"dataframe\">\n",
              "  <thead>\n",
              "    <tr style=\"text-align: right;\">\n",
              "      <th></th>\n",
              "      <th>type</th>\n",
              "      <th>title</th>\n",
              "      <th>transcript</th>\n",
              "      <th>locations</th>\n",
              "      <th>persons</th>\n",
              "      <th>topics</th>\n",
              "      <th>transcriptLength</th>\n",
              "      <th>isOnFrontPage</th>\n",
              "      <th>mediaType</th>\n",
              "    </tr>\n",
              "    <tr>\n",
              "      <th>uid</th>\n",
              "      <th></th>\n",
              "      <th></th>\n",
              "      <th></th>\n",
              "      <th></th>\n",
              "      <th></th>\n",
              "      <th></th>\n",
              "      <th></th>\n",
              "      <th></th>\n",
              "      <th></th>\n",
              "    </tr>\n",
              "  </thead>\n",
              "  <tbody>\n",
              "    <tr>\n",
              "      <th>IMP-2016-08-08-a-i0095</th>\n",
              "      <td>ar</td>\n",
              "      <td>[REDACTED]</td>\n",
              "      <td>[REDACTED]</td>\n",
              "      <td>[{'uid': 'aida-0001-54-Independence_Bowl', 're...</td>\n",
              "      <td>[]</td>\n",
              "      <td>[]</td>\n",
              "      <td>0</td>\n",
              "      <td>False</td>\n",
              "      <td>newspaper</td>\n",
              "    </tr>\n",
              "    <tr>\n",
              "      <th>EXP-2016-08-08-a-i0101</th>\n",
              "      <td>ar</td>\n",
              "      <td>[REDACTED]</td>\n",
              "      <td>[REDACTED]</td>\n",
              "      <td>[{'uid': 'aida-0001-54-Independence_Bowl', 're...</td>\n",
              "      <td>[]</td>\n",
              "      <td>[]</td>\n",
              "      <td>0</td>\n",
              "      <td>False</td>\n",
              "      <td>newspaper</td>\n",
              "    </tr>\n",
              "    <tr>\n",
              "      <th>IMP-2016-07-26-a-i0102</th>\n",
              "      <td>ar</td>\n",
              "      <td>[REDACTED]</td>\n",
              "      <td>[REDACTED]</td>\n",
              "      <td>[{'uid': 'aida-0001-54-Independence_Bowl', 're...</td>\n",
              "      <td>[{'uid': 'aida-0001-50-Jeff_Goldblum', 'releva...</td>\n",
              "      <td>[]</td>\n",
              "      <td>0</td>\n",
              "      <td>False</td>\n",
              "      <td>newspaper</td>\n",
              "    </tr>\n",
              "  </tbody>\n",
              "</table>\n",
              "</div>"
            ],
            "text/plain": [
              "<impresso.resources.search.SearchDataContainer at 0x1195b7050>"
            ]
          },
          "execution_count": 17,
          "metadata": {},
          "output_type": "execute_result"
        }
      ],
      "source": [
        "from impresso import DateRange\n",
        "\n",
        "impresso.search.find(term=\"independence\", date_range=~DateRange(\"1921-05-21\", \"2001-01-02\"))"
      ]
    },
    {
      "cell_type": "markdown",
      "metadata": {
        "id": "lXe0d1WurNhy"
      },
      "source": [
        "## Language\n",
        "\n",
        "Search for the term \"banana\" in English or Italian."
      ]
    },
    {
      "cell_type": "code",
      "execution_count": null,
      "metadata": {
        "id": "ROzJb01-rNhy",
        "outputId": "9371ddee-fbc9-44d5-8cdd-8b2d63d5184f"
      },
      "outputs": [
        {
          "data": {
            "text/html": [
              "<div style=\"display: grid; \">\n",
              "<div>\n",
              "<h2>Search result</h2>\n",
              "<div>Contains <b>7</b> items of <b>7</b> total items.</div>\n",
              "<br/>\n",
              "See this result in the <a href=\"https://impresso-project.ch/app/search?sq=CgoYByoGYmFuYW5hCgoYDCoCaXQqAmVu&p=1\">Impresso App</a>.\n",
              "</div>\n",
              "</div>\n",
              "<h3>Data preview:</h3>\n",
              "<div>\n",
              "<style scoped>\n",
              "    .dataframe tbody tr th:only-of-type {\n",
              "        vertical-align: middle;\n",
              "    }\n",
              "\n",
              "    .dataframe tbody tr th {\n",
              "        vertical-align: top;\n",
              "    }\n",
              "\n",
              "    .dataframe thead th {\n",
              "        text-align: right;\n",
              "    }\n",
              "</style>\n",
              "<table border=\"1\" class=\"dataframe\">\n",
              "  <thead>\n",
              "    <tr style=\"text-align: right;\">\n",
              "      <th></th>\n",
              "      <th>type</th>\n",
              "      <th>title</th>\n",
              "      <th>transcript</th>\n",
              "      <th>locations</th>\n",
              "      <th>persons</th>\n",
              "      <th>topics</th>\n",
              "      <th>transcriptLength</th>\n",
              "      <th>isOnFrontPage</th>\n",
              "      <th>mediaType</th>\n",
              "    </tr>\n",
              "    <tr>\n",
              "      <th>uid</th>\n",
              "      <th></th>\n",
              "      <th></th>\n",
              "      <th></th>\n",
              "      <th></th>\n",
              "      <th></th>\n",
              "      <th></th>\n",
              "      <th></th>\n",
              "      <th></th>\n",
              "      <th></th>\n",
              "    </tr>\n",
              "  </thead>\n",
              "  <tbody>\n",
              "    <tr>\n",
              "      <th>LLE-1969-09-26-a-i0120</th>\n",
              "      <td>ar</td>\n",
              "      <td>[REDACTED]</td>\n",
              "      <td>[REDACTED]</td>\n",
              "      <td>[{'uid': 'aida-0001-54-Mexico', 'relevance': 1}]</td>\n",
              "      <td>[{'uid': 'aida-0001-50-Honey_Pie', 'relevance'...</td>\n",
              "      <td>[]</td>\n",
              "      <td>0</td>\n",
              "      <td>False</td>\n",
              "      <td>newspaper</td>\n",
              "    </tr>\n",
              "    <tr>\n",
              "      <th>FZG-1981-02-28-a-i0088</th>\n",
              "      <td>ar</td>\n",
              "      <td>[REDACTED]</td>\n",
              "      <td>[REDACTED]</td>\n",
              "      <td>[]</td>\n",
              "      <td>[{'uid': 'aida-0001-50-Barclay_James_Harvest',...</td>\n",
              "      <td>[]</td>\n",
              "      <td>0</td>\n",
              "      <td>False</td>\n",
              "      <td>newspaper</td>\n",
              "    </tr>\n",
              "    <tr>\n",
              "      <th>FZG-1981-01-23-a-i0068</th>\n",
              "      <td>ar</td>\n",
              "      <td>[REDACTED]</td>\n",
              "      <td>[REDACTED]</td>\n",
              "      <td>[]</td>\n",
              "      <td>[{'uid': 'aida-0001-50-John_Lennon', 'relevanc...</td>\n",
              "      <td>[]</td>\n",
              "      <td>0</td>\n",
              "      <td>False</td>\n",
              "      <td>newspaper</td>\n",
              "    </tr>\n",
              "  </tbody>\n",
              "</table>\n",
              "</div>"
            ],
            "text/plain": [
              "<impresso.resources.search.SearchDataContainer at 0x11973fed0>"
            ]
          },
          "execution_count": 18,
          "metadata": {},
          "output_type": "execute_result"
        }
      ],
      "source": [
        "impresso.search.find(term=\"banana\", language=OR(\"it\", \"en\"))"
      ]
    },
    {
      "cell_type": "markdown",
      "metadata": {
        "id": "i6Hnsuz0rNhy"
      },
      "source": [
        "And now search for the word \"banana\" in any language _except_ English or Italian."
      ]
    },
    {
      "cell_type": "code",
      "execution_count": null,
      "metadata": {
        "id": "3-QVy2YxrNhy",
        "outputId": "79196cfe-71e1-4857-fed6-f10dbd3b0ac4"
      },
      "outputs": [
        {
          "data": {
            "text/html": [
              "<div style=\"display: grid; \">\n",
              "<div>\n",
              "<h2>Search result</h2>\n",
              "<div>Contains <b>100</b> items (<b>0</b> - <b>100</b>) of <b>1913</b> total items.</div>\n",
              "<br/>\n",
              "See this result in the <a href=\"https://impresso-project.ch/app/search?sq=CgoYByoGYmFuYW5hCg4IAhABGAwqAml0KgJlbg==&p=1\">Impresso App</a>.\n",
              "</div>\n",
              "</div>\n",
              "<h3>Data preview:</h3>\n",
              "<div>\n",
              "<style scoped>\n",
              "    .dataframe tbody tr th:only-of-type {\n",
              "        vertical-align: middle;\n",
              "    }\n",
              "\n",
              "    .dataframe tbody tr th {\n",
              "        vertical-align: top;\n",
              "    }\n",
              "\n",
              "    .dataframe thead th {\n",
              "        text-align: right;\n",
              "    }\n",
              "</style>\n",
              "<table border=\"1\" class=\"dataframe\">\n",
              "  <thead>\n",
              "    <tr style=\"text-align: right;\">\n",
              "      <th></th>\n",
              "      <th>type</th>\n",
              "      <th>title</th>\n",
              "      <th>transcript</th>\n",
              "      <th>locations</th>\n",
              "      <th>persons</th>\n",
              "      <th>topics</th>\n",
              "      <th>transcriptLength</th>\n",
              "      <th>isOnFrontPage</th>\n",
              "      <th>mediaType</th>\n",
              "    </tr>\n",
              "    <tr>\n",
              "      <th>uid</th>\n",
              "      <th></th>\n",
              "      <th></th>\n",
              "      <th></th>\n",
              "      <th></th>\n",
              "      <th></th>\n",
              "      <th></th>\n",
              "      <th></th>\n",
              "      <th></th>\n",
              "      <th></th>\n",
              "    </tr>\n",
              "  </thead>\n",
              "  <tbody>\n",
              "    <tr>\n",
              "      <th>LLE-1996-01-04-a-i0147</th>\n",
              "      <td>ar</td>\n",
              "      <td>[REDACTED]</td>\n",
              "      <td>[REDACTED]</td>\n",
              "      <td>[]</td>\n",
              "      <td>[]</td>\n",
              "      <td>[]</td>\n",
              "      <td>0</td>\n",
              "      <td>False</td>\n",
              "      <td>newspaper</td>\n",
              "    </tr>\n",
              "    <tr>\n",
              "      <th>EXP-2013-08-31-a-i0228</th>\n",
              "      <td>ar</td>\n",
              "      <td>[REDACTED]</td>\n",
              "      <td>[REDACTED]</td>\n",
              "      <td>[{'uid': 'aida-0001-54-Lausanne', 'relevance':...</td>\n",
              "      <td>[{'uid': 'aida-0001-50-Rolf_Feltscher', 'relev...</td>\n",
              "      <td>[]</td>\n",
              "      <td>0</td>\n",
              "      <td>False</td>\n",
              "      <td>newspaper</td>\n",
              "    </tr>\n",
              "    <tr>\n",
              "      <th>IMP-2013-08-31-a-i0210</th>\n",
              "      <td>ar</td>\n",
              "      <td>[REDACTED]</td>\n",
              "      <td>[REDACTED]</td>\n",
              "      <td>[{'uid': 'aida-0001-54-Lausanne', 'relevance':...</td>\n",
              "      <td>[{'uid': 'aida-0001-50-Rolf_Feltscher', 'relev...</td>\n",
              "      <td>[]</td>\n",
              "      <td>0</td>\n",
              "      <td>False</td>\n",
              "      <td>newspaper</td>\n",
              "    </tr>\n",
              "  </tbody>\n",
              "</table>\n",
              "</div>"
            ],
            "text/plain": [
              "<impresso.resources.search.SearchDataContainer at 0x1196fed50>"
            ]
          },
          "execution_count": 19,
          "metadata": {},
          "output_type": "execute_result"
        }
      ],
      "source": [
        "impresso.search.find(term=\"banana\", language=~OR(\"it\", \"en\"))"
      ]
    },
    {
      "cell_type": "markdown",
      "metadata": {
        "id": "ktfM5R7DrNhy"
      },
      "source": [
        "## Entity mention\n",
        "\n",
        "Find content items that mention two entities."
      ]
    },
    {
      "cell_type": "code",
      "execution_count": null,
      "metadata": {
        "id": "_3Wj4wzlrNhy",
        "outputId": "6fcdabb9-43da-4a0c-9614-286aabdae8d3"
      },
      "outputs": [
        {
          "data": {
            "text/html": [
              "<div style=\"display: grid; \">\n",
              "<div>\n",
              "<h2>Search result</h2>\n",
              "<div>Contains <b>50</b> items of <b>50</b> total items.</div>\n",
              "<br/>\n",
              "See this result in the <a href=\"https://impresso-project.ch/app/search?sq=CiIQARgPKg9DaGFybGllIENoYXBsaW4qC1N3aXR6ZXJsYW5k&p=1\">Impresso App</a>.\n",
              "</div>\n",
              "</div>\n",
              "<h3>Data preview:</h3>\n",
              "<div>\n",
              "<style scoped>\n",
              "    .dataframe tbody tr th:only-of-type {\n",
              "        vertical-align: middle;\n",
              "    }\n",
              "\n",
              "    .dataframe tbody tr th {\n",
              "        vertical-align: top;\n",
              "    }\n",
              "\n",
              "    .dataframe thead th {\n",
              "        text-align: right;\n",
              "    }\n",
              "</style>\n",
              "<table border=\"1\" class=\"dataframe\">\n",
              "  <thead>\n",
              "    <tr style=\"text-align: right;\">\n",
              "      <th></th>\n",
              "      <th>type</th>\n",
              "      <th>title</th>\n",
              "      <th>transcript</th>\n",
              "      <th>locations</th>\n",
              "      <th>persons</th>\n",
              "      <th>topics</th>\n",
              "      <th>transcriptLength</th>\n",
              "      <th>isOnFrontPage</th>\n",
              "      <th>mediaType</th>\n",
              "    </tr>\n",
              "    <tr>\n",
              "      <th>uid</th>\n",
              "      <th></th>\n",
              "      <th></th>\n",
              "      <th></th>\n",
              "      <th></th>\n",
              "      <th></th>\n",
              "      <th></th>\n",
              "      <th></th>\n",
              "      <th></th>\n",
              "      <th></th>\n",
              "    </tr>\n",
              "  </thead>\n",
              "  <tbody>\n",
              "    <tr>\n",
              "      <th>NZZ-1947-02-28-c-i0008</th>\n",
              "      <td>page</td>\n",
              "      <td>[REDACTED]</td>\n",
              "      <td>[REDACTED]</td>\n",
              "      <td>[{'uid': 'aida-0001-54-Marseille', 'relevance'...</td>\n",
              "      <td>[{'uid': 'aida-0001-50-Friedel_Rausch', 'relev...</td>\n",
              "      <td>[]</td>\n",
              "      <td>0</td>\n",
              "      <td>False</td>\n",
              "      <td>newspaper</td>\n",
              "    </tr>\n",
              "    <tr>\n",
              "      <th>IMP-2000-03-11-a-i0352</th>\n",
              "      <td>ar</td>\n",
              "      <td>[REDACTED]</td>\n",
              "      <td>[REDACTED]</td>\n",
              "      <td>[{'uid': 'aida-0001-54-Rugby_union', 'relevanc...</td>\n",
              "      <td>[{'uid': 'aida-0001-50-John_Woo_$28$musician$2...</td>\n",
              "      <td>[]</td>\n",
              "      <td>0</td>\n",
              "      <td>False</td>\n",
              "      <td>newspaper</td>\n",
              "    </tr>\n",
              "    <tr>\n",
              "      <th>GDL-1988-09-05-a-i0130</th>\n",
              "      <td>ar</td>\n",
              "      <td>[REDACTED]</td>\n",
              "      <td>[REDACTED]</td>\n",
              "      <td>[{'uid': 'aida-0001-54-Cannes', 'relevance': 2...</td>\n",
              "      <td>[{'uid': 'aida-0001-50-Steven_Seagal', 'releva...</td>\n",
              "      <td>[]</td>\n",
              "      <td>0</td>\n",
              "      <td>False</td>\n",
              "      <td>newspaper</td>\n",
              "    </tr>\n",
              "  </tbody>\n",
              "</table>\n",
              "</div>"
            ],
            "text/plain": [
              "<impresso.resources.search.SearchDataContainer at 0x11833d190>"
            ]
          },
          "execution_count": 20,
          "metadata": {},
          "output_type": "execute_result"
        }
      ],
      "source": [
        "impresso.search.find(mention=AND(\"Charlie Chaplin\", \"Switzerland\"))"
      ]
    },
    {
      "cell_type": "markdown",
      "metadata": {
        "id": "vpxjVNCerNhy"
      },
      "source": [
        "## Topic\n",
        "\n",
        "Find content items that match either of the two topics."
      ]
    },
    {
      "cell_type": "code",
      "execution_count": null,
      "metadata": {
        "id": "DZ94E-aXrNhy",
        "outputId": "c7aac3a8-3ce4-4111-d6d0-18326a2f5d81"
      },
      "outputs": [
        {
          "data": {
            "text/html": [
              "<div style=\"display: grid; \">\n",
              "<div>\n",
              "<h2>Search result</h2>\n",
              "<div>Contains <b>100</b> items (<b>0</b> - <b>100</b>) of <b>3075009</b> total items.</div>\n",
              "<br/>\n",
              "See this result in the <a href=\"https://impresso-project.ch/app/search?sq=CjIYEioWdG0tZnItYWxsLXYyLjBfdHAwN19mcioWdG0tZnItYWxsLXYyLjBfdHA0OF9mcg==&p=1\">Impresso App</a>.\n",
              "</div>\n",
              "</div>\n",
              "<h3>Data preview:</h3>\n",
              "<div>\n",
              "<style scoped>\n",
              "    .dataframe tbody tr th:only-of-type {\n",
              "        vertical-align: middle;\n",
              "    }\n",
              "\n",
              "    .dataframe tbody tr th {\n",
              "        vertical-align: top;\n",
              "    }\n",
              "\n",
              "    .dataframe thead th {\n",
              "        text-align: right;\n",
              "    }\n",
              "</style>\n",
              "<table border=\"1\" class=\"dataframe\">\n",
              "  <thead>\n",
              "    <tr style=\"text-align: right;\">\n",
              "      <th></th>\n",
              "      <th>type</th>\n",
              "      <th>title</th>\n",
              "      <th>transcript</th>\n",
              "      <th>locations</th>\n",
              "      <th>persons</th>\n",
              "      <th>topics</th>\n",
              "      <th>transcriptLength</th>\n",
              "      <th>isOnFrontPage</th>\n",
              "      <th>mediaType</th>\n",
              "    </tr>\n",
              "    <tr>\n",
              "      <th>uid</th>\n",
              "      <th></th>\n",
              "      <th></th>\n",
              "      <th></th>\n",
              "      <th></th>\n",
              "      <th></th>\n",
              "      <th></th>\n",
              "      <th></th>\n",
              "      <th></th>\n",
              "      <th></th>\n",
              "    </tr>\n",
              "  </thead>\n",
              "  <tbody>\n",
              "    <tr>\n",
              "      <th>IMP-1996-11-08-a-i0335</th>\n",
              "      <td>ar</td>\n",
              "      <td>[REDACTED]</td>\n",
              "      <td>[REDACTED]</td>\n",
              "      <td>[{'uid': 'aida-0001-54-Canton_of_Neuchâtel', '...</td>\n",
              "      <td>[{'uid': 'aida-0001-50-Jean-Marc_Lofficier', '...</td>\n",
              "      <td>[]</td>\n",
              "      <td>0</td>\n",
              "      <td>False</td>\n",
              "      <td>newspaper</td>\n",
              "    </tr>\n",
              "    <tr>\n",
              "      <th>IMP-1886-10-13-a-i0016</th>\n",
              "      <td>ar</td>\n",
              "      <td>[REDACTED]</td>\n",
              "      <td>[REDACTED]</td>\n",
              "      <td>[{'uid': 'aida-0001-54-La_Chaux-de-Fonds', 're...</td>\n",
              "      <td>[{'uid': 'aida-0001-50-Joseph_P._Heflin', 'rel...</td>\n",
              "      <td>[]</td>\n",
              "      <td>0</td>\n",
              "      <td>False</td>\n",
              "      <td>newspaper</td>\n",
              "    </tr>\n",
              "    <tr>\n",
              "      <th>IMP-1996-05-24-a-i0153</th>\n",
              "      <td>ar</td>\n",
              "      <td>[REDACTED]</td>\n",
              "      <td>[REDACTED]</td>\n",
              "      <td>[{'uid': 'aida-0001-54-Cantons_of_Switzerland'...</td>\n",
              "      <td>[{'uid': 'aida-0001-50-Marie_Claire', 'relevan...</td>\n",
              "      <td>[]</td>\n",
              "      <td>0</td>\n",
              "      <td>False</td>\n",
              "      <td>newspaper</td>\n",
              "    </tr>\n",
              "  </tbody>\n",
              "</table>\n",
              "</div>"
            ],
            "text/plain": [
              "<impresso.resources.search.SearchDataContainer at 0x11950e1d0>"
            ]
          },
          "execution_count": 21,
          "metadata": {},
          "output_type": "execute_result"
        }
      ],
      "source": [
        "impresso.search.find(topic_id=OR(\"tm-fr-all-v2.0_tp07_fr\", \"tm-fr-all-v2.0_tp48_fr\"))"
      ]
    },
    {
      "cell_type": "markdown",
      "metadata": {
        "id": "iQvbey2DrNhy"
      },
      "source": [
        "## Collection\n",
        "\n",
        "Find all content items in a collection."
      ]
    },
    {
      "cell_type": "code",
      "execution_count": null,
      "metadata": {
        "id": "Ed9-thU1rNh1",
        "outputId": "23afebbc-25c8-4db8-ed65-382153126c13"
      },
      "outputs": [
        {
          "data": {
            "text/html": [
              "<div style=\"display: grid; \">\n",
              "<div>\n",
              "<h2>Search result</h2>\n",
              "<div>Contains <b>0</b> items of <b>0</b> total items.</div>\n",
              "<br/>\n",
              "See this result in the <a href=\"https://impresso-project.ch/app/search?sq=Cg0YEyoJUkVQTEFDRU1F&p=1\">Impresso App</a>.\n",
              "</div>\n",
              "</div>\n",
              "<h3>Data preview:</h3>\n",
              "<div>\n",
              "<style scoped>\n",
              "    .dataframe tbody tr th:only-of-type {\n",
              "        vertical-align: middle;\n",
              "    }\n",
              "\n",
              "    .dataframe tbody tr th {\n",
              "        vertical-align: top;\n",
              "    }\n",
              "\n",
              "    .dataframe thead th {\n",
              "        text-align: right;\n",
              "    }\n",
              "</style>\n",
              "<table border=\"1\" class=\"dataframe\">\n",
              "  <thead>\n",
              "    <tr style=\"text-align: right;\">\n",
              "      <th></th>\n",
              "    </tr>\n",
              "  </thead>\n",
              "  <tbody>\n",
              "  </tbody>\n",
              "</table>\n",
              "</div>"
            ],
            "text/plain": [
              "<impresso.resources.search.SearchDataContainer at 0x119678b10>"
            ]
          },
          "execution_count": 22,
          "metadata": {},
          "output_type": "execute_result"
        }
      ],
      "source": [
        "impresso.search.find(collection_id=\"REPLACEME\")"
      ]
    },
    {
      "cell_type": "markdown",
      "metadata": {
        "id": "RigZKdGhrNh1"
      },
      "source": [
        "## Country\n",
        "\n",
        "Find all content items published in either of the two specified countries."
      ]
    },
    {
      "cell_type": "code",
      "execution_count": null,
      "metadata": {
        "id": "OB6VHZSbrNh1",
        "outputId": "e03b18ab-34db-4a37-f0f5-3af11656d8ee"
      },
      "outputs": [
        {
          "data": {
            "text/html": [
              "<div style=\"display: grid; \">\n",
              "<div>\n",
              "<h2>Search result</h2>\n",
              "<div>Contains <b>100</b> items (<b>0</b> - <b>100</b>) of <b>5592</b> total items.</div>\n",
              "<br/>\n",
              "See this result in the <a href=\"https://impresso-project.ch/app/search?sq=CgwYByoIU2NoZW5nZW4KChgWKgJDSCoCRlI=&p=1\">Impresso App</a>.\n",
              "</div>\n",
              "</div>\n",
              "<h3>Data preview:</h3>\n",
              "<div>\n",
              "<style scoped>\n",
              "    .dataframe tbody tr th:only-of-type {\n",
              "        vertical-align: middle;\n",
              "    }\n",
              "\n",
              "    .dataframe tbody tr th {\n",
              "        vertical-align: top;\n",
              "    }\n",
              "\n",
              "    .dataframe thead th {\n",
              "        text-align: right;\n",
              "    }\n",
              "</style>\n",
              "<table border=\"1\" class=\"dataframe\">\n",
              "  <thead>\n",
              "    <tr style=\"text-align: right;\">\n",
              "      <th></th>\n",
              "      <th>type</th>\n",
              "      <th>title</th>\n",
              "      <th>transcript</th>\n",
              "      <th>locations</th>\n",
              "      <th>persons</th>\n",
              "      <th>topics</th>\n",
              "      <th>transcriptLength</th>\n",
              "      <th>isOnFrontPage</th>\n",
              "      <th>mediaType</th>\n",
              "    </tr>\n",
              "    <tr>\n",
              "      <th>uid</th>\n",
              "      <th></th>\n",
              "      <th></th>\n",
              "      <th></th>\n",
              "      <th></th>\n",
              "      <th></th>\n",
              "      <th></th>\n",
              "      <th></th>\n",
              "      <th></th>\n",
              "      <th></th>\n",
              "    </tr>\n",
              "  </thead>\n",
              "  <tbody>\n",
              "    <tr>\n",
              "      <th>LLE-2002-07-24-a-i0069</th>\n",
              "      <td>ar</td>\n",
              "      <td>[REDACTED]</td>\n",
              "      <td>[REDACTED]</td>\n",
              "      <td>[{'uid': 'aida-0001-54-Luxembourg', 'relevance...</td>\n",
              "      <td>[]</td>\n",
              "      <td>[]</td>\n",
              "      <td>0</td>\n",
              "      <td>False</td>\n",
              "      <td>newspaper</td>\n",
              "    </tr>\n",
              "    <tr>\n",
              "      <th>LLE-2004-06-25-a-i0157</th>\n",
              "      <td>ar</td>\n",
              "      <td>[REDACTED]</td>\n",
              "      <td>[REDACTED]</td>\n",
              "      <td>[{'uid': 'aida-0001-54-Suisse$2c$_Moselle', 'r...</td>\n",
              "      <td>[]</td>\n",
              "      <td>[]</td>\n",
              "      <td>0</td>\n",
              "      <td>False</td>\n",
              "      <td>newspaper</td>\n",
              "    </tr>\n",
              "    <tr>\n",
              "      <th>EXP-1997-06-21-a-i0122</th>\n",
              "      <td>ar</td>\n",
              "      <td>[REDACTED]</td>\n",
              "      <td>[REDACTED]</td>\n",
              "      <td>[{'uid': 'aida-0001-54-Suisse$2c$_Moselle', 'r...</td>\n",
              "      <td>[]</td>\n",
              "      <td>[]</td>\n",
              "      <td>0</td>\n",
              "      <td>False</td>\n",
              "      <td>newspaper</td>\n",
              "    </tr>\n",
              "  </tbody>\n",
              "</table>\n",
              "</div>"
            ],
            "text/plain": [
              "<impresso.resources.search.SearchDataContainer at 0x118b3b1d0>"
            ]
          },
          "execution_count": 23,
          "metadata": {},
          "output_type": "execute_result"
        }
      ],
      "source": [
        "impresso.search.find(term=\"Schengen\", country=OR(\"FR\", \"CH\"))"
      ]
    },
    {
      "cell_type": "markdown",
      "metadata": {
        "id": "1xJ6BDtVrNh1"
      },
      "source": [
        "## Partner\n",
        "\n",
        "Limit search to content items provided by a specific partner of the Impresso project."
      ]
    },
    {
      "cell_type": "code",
      "execution_count": null,
      "metadata": {
        "id": "lupcHyxSrNh1",
        "outputId": "9215b9ab-e9ad-492e-935a-caa22daa6d14"
      },
      "outputs": [
        {
          "data": {
            "text/html": [
              "<div style=\"display: grid; \">\n",
              "<div>\n",
              "<h2>Search result</h2>\n",
              "<div>Contains <b>18</b> items of <b>18</b> total items.</div>\n",
              "<br/>\n",
              "See this result in the <a href=\"https://impresso-project.ch/app/search?sq=CgwYByoIU2NoZW5nZW4KChgYKgZNaWdyb3M=&p=1\">Impresso App</a>.\n",
              "</div>\n",
              "</div>\n",
              "<h3>Data preview:</h3>\n",
              "<div>\n",
              "<style scoped>\n",
              "    .dataframe tbody tr th:only-of-type {\n",
              "        vertical-align: middle;\n",
              "    }\n",
              "\n",
              "    .dataframe tbody tr th {\n",
              "        vertical-align: top;\n",
              "    }\n",
              "\n",
              "    .dataframe thead th {\n",
              "        text-align: right;\n",
              "    }\n",
              "</style>\n",
              "<table border=\"1\" class=\"dataframe\">\n",
              "  <thead>\n",
              "    <tr style=\"text-align: right;\">\n",
              "      <th></th>\n",
              "      <th>type</th>\n",
              "      <th>title</th>\n",
              "      <th>transcript</th>\n",
              "      <th>locations</th>\n",
              "      <th>persons</th>\n",
              "      <th>topics</th>\n",
              "      <th>transcriptLength</th>\n",
              "      <th>isOnFrontPage</th>\n",
              "      <th>mediaType</th>\n",
              "    </tr>\n",
              "    <tr>\n",
              "      <th>uid</th>\n",
              "      <th></th>\n",
              "      <th></th>\n",
              "      <th></th>\n",
              "      <th></th>\n",
              "      <th></th>\n",
              "      <th></th>\n",
              "      <th></th>\n",
              "      <th></th>\n",
              "      <th></th>\n",
              "    </tr>\n",
              "  </thead>\n",
              "  <tbody>\n",
              "    <tr>\n",
              "      <th>DTT-1969-04-30-a-i0159</th>\n",
              "      <td>ar</td>\n",
              "      <td>[REDACTED]</td>\n",
              "      <td>[REDACTED]</td>\n",
              "      <td>[{'uid': 'aida-0001-54-Mao_Dun', 'relevance': ...</td>\n",
              "      <td>[{'uid': 'aida-0001-50-Mao_Zedong', 'relevance...</td>\n",
              "      <td>[]</td>\n",
              "      <td>0</td>\n",
              "      <td>False</td>\n",
              "      <td>newspaper</td>\n",
              "    </tr>\n",
              "    <tr>\n",
              "      <th>DTT-1977-08-31-a-i0189</th>\n",
              "      <td>ar</td>\n",
              "      <td>[REDACTED]</td>\n",
              "      <td>[REDACTED]</td>\n",
              "      <td>[]</td>\n",
              "      <td>[{'uid': 'aida-0001-50-Mao_Zedong', 'relevance...</td>\n",
              "      <td>[]</td>\n",
              "      <td>0</td>\n",
              "      <td>False</td>\n",
              "      <td>newspaper</td>\n",
              "    </tr>\n",
              "    <tr>\n",
              "      <th>DTT-1960-04-07-a-i0020</th>\n",
              "      <td>ar</td>\n",
              "      <td>[REDACTED]</td>\n",
              "      <td>[REDACTED]</td>\n",
              "      <td>[{'uid': 'aida-0001-54-Taiwan', 'relevance': 1...</td>\n",
              "      <td>[]</td>\n",
              "      <td>[]</td>\n",
              "      <td>0</td>\n",
              "      <td>False</td>\n",
              "      <td>newspaper</td>\n",
              "    </tr>\n",
              "  </tbody>\n",
              "</table>\n",
              "</div>"
            ],
            "text/plain": [
              "<impresso.resources.search.SearchDataContainer at 0x119543450>"
            ]
          },
          "execution_count": 25,
          "metadata": {},
          "output_type": "execute_result"
        }
      ],
      "source": [
        "impresso.search.find(term=\"Schengen\", partner_id=\"Migros\")"
      ]
    },
    {
      "cell_type": "markdown",
      "metadata": {
        "id": "S6ZaAZF4rNh1"
      },
      "source": [
        "## Text reuse cluster\n",
        "\n",
        "Find all content items that are part of a specific text reuse cluster."
      ]
    },
    {
      "cell_type": "code",
      "execution_count": null,
      "metadata": {
        "id": "aiGRIr1HrNh1",
        "outputId": "760a3d3e-594e-454e-f83b-07702ccbf418"
      },
      "outputs": [
        {
          "data": {
            "text/html": [
              "<div style=\"display: grid; \">\n",
              "<div>\n",
              "<h2>Search result</h2>\n",
              "<div>Contains <b>100</b> items (<b>0</b> - <b>100</b>) of <b>39032</b> total items.</div>\n",
              "<br/>\n",
              "See this result in the <a href=\"https://impresso-project.ch/app/search?sq=ChcYHSoTdHItbm9icC1hbGwtdjAxLWMyOQ==&p=1\">Impresso App</a>.\n",
              "</div>\n",
              "</div>\n",
              "<h3>Data preview:</h3>\n",
              "<div>\n",
              "<style scoped>\n",
              "    .dataframe tbody tr th:only-of-type {\n",
              "        vertical-align: middle;\n",
              "    }\n",
              "\n",
              "    .dataframe tbody tr th {\n",
              "        vertical-align: top;\n",
              "    }\n",
              "\n",
              "    .dataframe thead th {\n",
              "        text-align: right;\n",
              "    }\n",
              "</style>\n",
              "<table border=\"1\" class=\"dataframe\">\n",
              "  <thead>\n",
              "    <tr style=\"text-align: right;\">\n",
              "      <th></th>\n",
              "      <th>type</th>\n",
              "      <th>title</th>\n",
              "      <th>transcript</th>\n",
              "      <th>locations</th>\n",
              "      <th>persons</th>\n",
              "      <th>topics</th>\n",
              "      <th>transcriptLength</th>\n",
              "      <th>isOnFrontPage</th>\n",
              "      <th>mediaType</th>\n",
              "    </tr>\n",
              "    <tr>\n",
              "      <th>uid</th>\n",
              "      <th></th>\n",
              "      <th></th>\n",
              "      <th></th>\n",
              "      <th></th>\n",
              "      <th></th>\n",
              "      <th></th>\n",
              "      <th></th>\n",
              "      <th></th>\n",
              "      <th></th>\n",
              "    </tr>\n",
              "  </thead>\n",
              "  <tbody>\n",
              "    <tr>\n",
              "      <th>JDG-1985-11-15-a-i0074</th>\n",
              "      <td>ar</td>\n",
              "      <td>[REDACTED]</td>\n",
              "      <td>[REDACTED]</td>\n",
              "      <td>[{'uid': 'aida-0001-54-Guernsey', 'relevance':...</td>\n",
              "      <td>[]</td>\n",
              "      <td>[]</td>\n",
              "      <td>0</td>\n",
              "      <td>False</td>\n",
              "      <td>newspaper</td>\n",
              "    </tr>\n",
              "    <tr>\n",
              "      <th>JDG-1987-02-13-a-i0031</th>\n",
              "      <td>ar</td>\n",
              "      <td>[REDACTED]</td>\n",
              "      <td>[REDACTED]</td>\n",
              "      <td>[{'uid': 'aida-0001-54-Switzerland', 'relevanc...</td>\n",
              "      <td>[{'uid': 'aida-0001-50-Max_Lorentz', 'relevanc...</td>\n",
              "      <td>[]</td>\n",
              "      <td>0</td>\n",
              "      <td>False</td>\n",
              "      <td>newspaper</td>\n",
              "    </tr>\n",
              "    <tr>\n",
              "      <th>GDL-1988-10-26-a-i0064</th>\n",
              "      <td>ar</td>\n",
              "      <td>[REDACTED]</td>\n",
              "      <td>[REDACTED]</td>\n",
              "      <td>[{'uid': 'aida-0001-54-London', 'relevance': 1...</td>\n",
              "      <td>[{'uid': 'aida-0001-50-Sandy_Keith', 'relevanc...</td>\n",
              "      <td>[]</td>\n",
              "      <td>0</td>\n",
              "      <td>False</td>\n",
              "      <td>newspaper</td>\n",
              "    </tr>\n",
              "  </tbody>\n",
              "</table>\n",
              "</div>"
            ],
            "text/plain": [
              "<impresso.resources.search.SearchDataContainer at 0x119619a90>"
            ]
          },
          "execution_count": 26,
          "metadata": {},
          "output_type": "execute_result"
        }
      ],
      "source": [
        "from impresso import OR\n",
        "impresso.search.find(text_reuse_cluster_id=OR(\"tr-nobp-all-v01-c29\"))"
      ]
    },
    {
      "cell_type": "markdown",
      "metadata": {
        "id": "XA49wdw0rNh1"
      },
      "source": [
        "# Facets\n",
        "\n",
        "Facets are a way to get a summary of the search results from the perspective of a specific field. In a facet search result the field values are grouped together and the number of items in each group is displayed.\n",
        "\n",
        "Facet search method has the same attributes as the search method."
      ]
    },
    {
      "cell_type": "markdown",
      "metadata": {
        "id": "Bx_IlCzwrNh1"
      },
      "source": [
        "## Date range\n",
        "\n",
        "Get the number of content items that mention \"Impresso\", published on ever particular date."
      ]
    },
    {
      "cell_type": "code",
      "execution_count": null,
      "metadata": {
        "id": "dweMJNhArNh1",
        "outputId": "e41c7209-eb86-4307-b3d9-715c84b34069"
      },
      "outputs": [
        {
          "data": {
            "text/html": [
              "<div style=\"display: grid; grid-template-columns: minmax(200px, 1fr) auto;\">\n",
              "<div>\n",
              "<h2>Facet result</h2>\n",
              "<div>Contains <b>17</b> items of <b>17</b> total items.</div>\n",
              "<br/>\n",
              "See this result in the <a href=\"https://impresso-project.ch/app/search?index=search&facet=type&domain=daterange&sq=CgwYByoIaW1wcmVzc28=&p=1\">Impresso App</a>.\n",
              "</div>\n",
              "<div style=\"align-content: center;\"><img src=\"data:image/png;base64,iVBORw0KGgoAAAANSUhEUgAAA7YAAABhCAYAAADiKT2SAAAAOXRFWHRTb2Z0d2FyZQBNYXRwbG90bGliIHZlcnNpb24zLjkuMiwgaHR0cHM6Ly9tYXRwbG90bGliLm9yZy8hTgPZAAAACXBIWXMAAA9hAAAPYQGoP6dpAAAC5ElEQVR4nO3cgW3CMBBA0aRiEPZhIUZgIfZhE3cCqNRWON+8N8FZUSJ9neJ9jLEBAABA1dfsAQAAAOAvhC0AAABpwhYAAIA0YQsAAECasAUAACBN2AIAAJAmbAEAAEgTtgAAAKQJWwAAANKELQAAAGnCFgAAgDRhCwAAQJqwBQAAIO00ewAAAJjhfL2P2TP85HG77LNngAIbWwAAANKELQAAAGnCFgAAgDRhCwAAQJqwBQAAIE3YAgAAkCZsAQAASBO2AAAApAlbAAAA0k6zBwAA+BTn633MnuGVx+2yz54B4DdsbAEAAEgTtgAAAKQJWwAAANKELQAAAGnCFgAAgDRhCwAAQJqwBQAAIE3YAgAAkCZsAQAASBO2AAAApJ1mDwAAQMv5eh+zZ3jlcbvss2cA3svGFgAAgDRhCwAAQJqwBQAAIE3YAgAAkCZsAQAASBO2AAAApAlbAAAA0oQtAAAAacIWAACANGELAABAmrAFAAAgTdgCAACQJmwBAABIE7YAAACkCVsAAADShC0AAABpwhYAAIA0YQsAAECasAUAACBN2AIAAJAmbAEAAEgTtgAAAKQJWwAAANKELQAAAGnCFgAAgDRhCwAAQJqwBQAAIE3YAgAAkCZsAQAASBO2AAAApAlbAAAA0oQtAAAAacIWAACANGELAABAmrAFAAAg7TR7gP92vt7H7Bl+8rhd9tkzwAqO/r571wEA3sPGFgAAgDRhCwAAQJqwBQAAIE3YAgAAkCZsAQAASFvuVmQA5nFTNcAcvr98OhtbAAAA0oQtAAAAacIWAACANGELAABAmsujDmyVSwCc431WOcunXTDheRzPKs9klXNs21pnAZ5b5V0/+jm2bb3vlo0tAAAAacIWAACANGELAABAmrAFAAAgbR/j8P81AwAAwFM2tgAAAKQJWwAAANKELQAAAGnCFgAAgDRhCwAAQJqwBQAAIE3YAgAAkCZsAQAASBO2AAAApH0Da55Kx71GR3oAAAAASUVORK5CYII=\" style=\"max-width: 800px; width: 100%;\"></div>\n",
              "</div>\n",
              "<h3>Data preview:</h3>\n",
              "<div>\n",
              "<style scoped>\n",
              "    .dataframe tbody tr th:only-of-type {\n",
              "        vertical-align: middle;\n",
              "    }\n",
              "\n",
              "    .dataframe tbody tr th {\n",
              "        vertical-align: top;\n",
              "    }\n",
              "\n",
              "    .dataframe thead th {\n",
              "        text-align: right;\n",
              "    }\n",
              "</style>\n",
              "<table border=\"1\" class=\"dataframe\">\n",
              "  <thead>\n",
              "    <tr style=\"text-align: right;\">\n",
              "      <th></th>\n",
              "      <th>count</th>\n",
              "    </tr>\n",
              "    <tr>\n",
              "      <th>value</th>\n",
              "      <th></th>\n",
              "    </tr>\n",
              "  </thead>\n",
              "  <tbody>\n",
              "    <tr>\n",
              "      <th>1861-01-01T00:00:00Z</th>\n",
              "      <td>3</td>\n",
              "    </tr>\n",
              "    <tr>\n",
              "      <th>1894-01-01T00:00:00Z</th>\n",
              "      <td>1</td>\n",
              "    </tr>\n",
              "    <tr>\n",
              "      <th>1946-01-01T00:00:00Z</th>\n",
              "      <td>1</td>\n",
              "    </tr>\n",
              "  </tbody>\n",
              "</table>\n",
              "</div>"
            ],
            "text/plain": [
              "<impresso.resources.search.FacetDataContainer at 0x119865810>"
            ]
          },
          "execution_count": 27,
          "metadata": {},
          "output_type": "execute_result"
        }
      ],
      "source": [
        "impresso.search.facet(\"daterange\", term=\"impresso\")"
      ]
    },
    {
      "cell_type": "markdown",
      "metadata": {
        "id": "sHUzpynTrNh1"
      },
      "source": [
        "## Year\n",
        "\n",
        "Get the number of content items that mention \"impresso\", published during every particular year."
      ]
    },
    {
      "cell_type": "code",
      "execution_count": null,
      "metadata": {
        "id": "ZCHvc5BTrNh1",
        "outputId": "7791c65c-b468-496e-9510-f86cad2cd9d4"
      },
      "outputs": [
        {
          "data": {
            "text/html": [
              "<div style=\"display: grid; grid-template-columns: minmax(200px, 1fr) auto;\">\n",
              "<div>\n",
              "<h2>Facet result</h2>\n",
              "<div>Contains <b>10</b> items (<b>0</b> - <b>10</b>) of <b>17</b> total items.</div>\n",
              "<br/>\n",
              "See this result in the <a href=\"https://impresso-project.ch/app/search?index=search&facet=type&domain=year&sq=CgwYByoIaW1wcmVzc28=&p=1\">Impresso App</a>.\n",
              "</div>\n",
              "<div style=\"align-content: center;\"><img src=\"data:image/png;base64,iVBORw0KGgoAAAANSUhEUgAAA7YAAABhCAYAAADiKT2SAAAAOXRFWHRTb2Z0d2FyZQBNYXRwbG90bGliIHZlcnNpb24zLjkuMiwgaHR0cHM6Ly9tYXRwbG90bGliLm9yZy8hTgPZAAAACXBIWXMAAA9hAAAPYQGoP6dpAAACv0lEQVR4nO3ZgWnDMABFwbp4kOzjhTKCF8o+2UQdwFBK4yC/9m6A8BEi5qFljPEBAAAAVZ+zBwAAAMArhC0AAABpwhYAAIA0YQsAAECasAUAACBN2AIAAJAmbAEAAEgTtgAAAKQJWwAAANKELQAAAGnCFgAAgDRhCwAAQJqwBQAAIG2dPeBst/tjzN5wNc99W2ZvAOB7vl9Hvl8A/JQXWwAAANKELQAAAGnCFgAAgDRhCwAAQJqwBQAAIE3YAgAAkCZsAQAASBO2AAAApAlbAAAA0oQtAAAAacIWAACANGELAABAmrAFAAAgTdgCAACQJmwBAABIE7YAAACkCVsAAADShC0AAABpwhYAAIA0YQsAAECasAUAACBN2AIAAJAmbAEAAEhbZw8AAKDldn+M2Ruu5rlvy+wN8J95sQUAACBN2AIAAJAmbAEAAEgTtgAAAKQJWwAAANKELQAAAGnCFgAAgDRhCwAAQJqwBQAAIE3YAgAAkCZsAQAASBO2AAAApAlbAAAA0oQtAAAAacIWAACANGELAABAmrAFAAAgTdgCAACQJmwBAABIE7YAAACkCVsAAADShC0AAABpwhYAAIA0YQsAAEDaOnsAHbf7Y8zecDXPfVte/Q3neuRc38O5vscZ58r7uLNH7ux1ua9HZ91XZ3v01/4LvNgCAACQJmwBAABIE7YAAACkCVsAAADShC0AAABpwhYAAIA0YQsAAECasAUAACBN2AIAAJAmbAEAAEgTtgAAAKQJWwAAANKELQAAAGnCFgAAgDRhCwAAQJqwBQAAIE3YAgAAkCZsAQAASBO2AAAApAlbAAAA0oQtAAAAacIWAACANGELAABA2jLGmL0BAAAAfs2LLQAAAGnCFgAAgDRhCwAAQJqwBQAAIE3YAgAAkCZsAQAASBO2AAAApAlbAAAA0oQtAAAAaV/YCi7BVHuPBwAAAABJRU5ErkJggg==\" style=\"max-width: 800px; width: 100%;\"></div>\n",
              "</div>\n",
              "<h3>Data preview:</h3>\n",
              "<div>\n",
              "<style scoped>\n",
              "    .dataframe tbody tr th:only-of-type {\n",
              "        vertical-align: middle;\n",
              "    }\n",
              "\n",
              "    .dataframe tbody tr th {\n",
              "        vertical-align: top;\n",
              "    }\n",
              "\n",
              "    .dataframe thead th {\n",
              "        text-align: right;\n",
              "    }\n",
              "</style>\n",
              "<table border=\"1\" class=\"dataframe\">\n",
              "  <thead>\n",
              "    <tr style=\"text-align: right;\">\n",
              "      <th></th>\n",
              "      <th>count</th>\n",
              "    </tr>\n",
              "    <tr>\n",
              "      <th>value</th>\n",
              "      <th></th>\n",
              "    </tr>\n",
              "  </thead>\n",
              "  <tbody>\n",
              "    <tr>\n",
              "      <th>1861</th>\n",
              "      <td>3</td>\n",
              "    </tr>\n",
              "    <tr>\n",
              "      <th>1894</th>\n",
              "      <td>1</td>\n",
              "    </tr>\n",
              "    <tr>\n",
              "      <th>1946</th>\n",
              "      <td>1</td>\n",
              "    </tr>\n",
              "  </tbody>\n",
              "</table>\n",
              "</div>"
            ],
            "text/plain": [
              "<impresso.resources.search.FacetDataContainer at 0x119884410>"
            ]
          },
          "execution_count": 28,
          "metadata": {},
          "output_type": "execute_result"
        }
      ],
      "source": [
        "impresso.search.facet(\"year\", term=\"impresso\")"
      ]
    },
    {
      "cell_type": "markdown",
      "metadata": {
        "id": "SwE-efvsrNh1"
      },
      "source": [
        "## Content length\n",
        "\n",
        "Get the number of content items that mention \"impresso\", grouped by content length."
      ]
    },
    {
      "cell_type": "code",
      "execution_count": null,
      "metadata": {
        "id": "Bo2vKqSfrNh1",
        "outputId": "bae2eacd-f9d0-4d36-cb46-8860068c55be"
      },
      "outputs": [
        {
          "data": {
            "text/html": [
              "<div style=\"display: grid; grid-template-columns: minmax(200px, 1fr) auto;\">\n",
              "<div>\n",
              "<h2>Facet result</h2>\n",
              "<div>Contains <b>100</b> items of <b>100</b> total items.</div>\n",
              "<br/>\n",
              "See this result in the <a href=\"https://impresso-project.ch/app/search?index=search&facet=type&domain=contentLength&sq=CgwYByoIaW1wcmVzc28=&p=1\">Impresso App</a>.\n",
              "</div>\n",
              "<div style=\"align-content: center;\"><img src=\"data:image/png;base64,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\" style=\"max-width: 800px; width: 100%;\"></div>\n",
              "</div>\n",
              "<h3>Data preview:</h3>\n",
              "<div>\n",
              "<style scoped>\n",
              "    .dataframe tbody tr th:only-of-type {\n",
              "        vertical-align: middle;\n",
              "    }\n",
              "\n",
              "    .dataframe tbody tr th {\n",
              "        vertical-align: top;\n",
              "    }\n",
              "\n",
              "    .dataframe thead th {\n",
              "        text-align: right;\n",
              "    }\n",
              "</style>\n",
              "<table border=\"1\" class=\"dataframe\">\n",
              "  <thead>\n",
              "    <tr style=\"text-align: right;\">\n",
              "      <th></th>\n",
              "      <th>count</th>\n",
              "    </tr>\n",
              "    <tr>\n",
              "      <th>value</th>\n",
              "      <th></th>\n",
              "    </tr>\n",
              "  </thead>\n",
              "  <tbody>\n",
              "    <tr>\n",
              "      <th>0</th>\n",
              "      <td>6</td>\n",
              "    </tr>\n",
              "    <tr>\n",
              "      <th>100</th>\n",
              "      <td>6</td>\n",
              "    </tr>\n",
              "    <tr>\n",
              "      <th>200</th>\n",
              "      <td>11</td>\n",
              "    </tr>\n",
              "  </tbody>\n",
              "</table>\n",
              "</div>"
            ],
            "text/plain": [
              "<impresso.resources.search.FacetDataContainer at 0x119960310>"
            ]
          },
          "execution_count": 29,
          "metadata": {},
          "output_type": "execute_result"
        }
      ],
      "source": [
        "impresso.search.facet(\"contentLength\", term=\"impresso\")"
      ]
    },
    {
      "cell_type": "markdown",
      "metadata": {
        "id": "lrMIR-0LrNh1"
      },
      "source": [
        "## Month\n",
        "\n",
        "Get the number of content items that mention \"impresso\", published during every particular month."
      ]
    },
    {
      "cell_type": "code",
      "execution_count": null,
      "metadata": {
        "id": "YWAo9oc6rNh1",
        "outputId": "7cc49669-5339-41b4-f0fb-aa15dcabe0e8"
      },
      "outputs": [
        {
          "data": {
            "text/html": [
              "<div style=\"display: grid; grid-template-columns: minmax(200px, 1fr) auto;\">\n",
              "<div>\n",
              "<h2>Facet result</h2>\n",
              "<div>Contains <b>10</b> items of <b>10</b> total items.</div>\n",
              "<br/>\n",
              "See this result in the <a href=\"https://impresso-project.ch/app/search?index=search&facet=type&domain=month&sq=CgwYByoIaW1wcmVzc28=&p=1\">Impresso App</a>.\n",
              "</div>\n",
              "<div style=\"align-content: center;\"><img src=\"data:image/png;base64,iVBORw0KGgoAAAANSUhEUgAAA7YAAABhCAYAAADiKT2SAAAAOXRFWHRTb2Z0d2FyZQBNYXRwbG90bGliIHZlcnNpb24zLjkuMiwgaHR0cHM6Ly9tYXRwbG90bGliLm9yZy8hTgPZAAAACXBIWXMAAA9hAAAPYQGoP6dpAAACxElEQVR4nO3dwYkCQRBA0ZnFQMzHhAzBhMzHTHpPe18YofzOe3ehGGjhU4fa11obAAAAVP1MDwAAAABHCFsAAADShC0AAABpwhYAAIA0YQsAAECasAUAACBN2AIAAJAmbAEAAEgTtgAAAKQJWwAAANKELQAAAGnCFgAAgDRhCwAAQNplegAAAIAJ1/tzTc8w5fW47dMzvJONLQAAAGnCFgAAgDRhCwAAQJqwBQAAIE3YAgAAkCZsAQAASBO2AAAApAlbAAAA0oQtAAAAacIWAACANGELAABAmrAFAAAgTdgCAACQJmwBAABIE7YAAACkCVsAAADShC0AAABpwhYAAIA0YQsAAECasAUAACBN2AIAAJAmbAEAAEgTtgAAAKRdpgcAAIA/1/tzTc8w4fW47Ud+77txdja2AAAApAlbAAAA0oQtAAAAacIWAACANGELAABAmrAFAAAgTdgCAACQ5o4tHORuHAAAzLKxBQAAIE3YAgAAkCZsAQAASBO2AAAApAlbAAAA0oQtAAAAacIWAACANGELAABAmrAFAAAgTdgCAACQJmwBAABIE7YAAACkCVsAAADShC0AAABpwhYAAIA0YQsAAEDaZXoAPsf1/lzTM0x4PW779AzwX2d9p9t2/K2e9dv5jwPgDGxsAQAASBO2AAAApAlbAAAA0oQtAAAAacIWAACANGELAABAmrAFAAAg7evu2J71TuG2uVVIi7cKAMC72NgCAACQJmwBAABIE7YAAACkCVsAAADShC0AAABpwhYAAIA0YQsAAEDa192xBQDex81pAApsbAEAAEgTtgAAAKQJWwAAANKELQAAAGnCFgAAgDRhCwAAQJqwBQAAIG1f67Tn6QAAAPgCNrYAAACkCVsAAADShC0AAABpwhYAAIA0YQsAAECasAUAACBN2AIAAJAmbAEAAEgTtgAAAKT9ApVgLsesNKmyAAAAAElFTkSuQmCC\" style=\"max-width: 800px; width: 100%;\"></div>\n",
              "</div>\n",
              "<h3>Data preview:</h3>\n",
              "<div>\n",
              "<style scoped>\n",
              "    .dataframe tbody tr th:only-of-type {\n",
              "        vertical-align: middle;\n",
              "    }\n",
              "\n",
              "    .dataframe tbody tr th {\n",
              "        vertical-align: top;\n",
              "    }\n",
              "\n",
              "    .dataframe thead th {\n",
              "        text-align: right;\n",
              "    }\n",
              "</style>\n",
              "<table border=\"1\" class=\"dataframe\">\n",
              "  <thead>\n",
              "    <tr style=\"text-align: right;\">\n",
              "      <th></th>\n",
              "      <th>count</th>\n",
              "    </tr>\n",
              "    <tr>\n",
              "      <th>value</th>\n",
              "      <th></th>\n",
              "    </tr>\n",
              "  </thead>\n",
              "  <tbody>\n",
              "    <tr>\n",
              "      <th>1</th>\n",
              "      <td>2</td>\n",
              "    </tr>\n",
              "    <tr>\n",
              "      <th>2</th>\n",
              "      <td>3</td>\n",
              "    </tr>\n",
              "    <tr>\n",
              "      <th>3</th>\n",
              "      <td>5</td>\n",
              "    </tr>\n",
              "  </tbody>\n",
              "</table>\n",
              "</div>"
            ],
            "text/plain": [
              "<impresso.resources.search.FacetDataContainer at 0x1199ac450>"
            ]
          },
          "execution_count": 30,
          "metadata": {},
          "output_type": "execute_result"
        }
      ],
      "source": [
        "impresso.search.facet(\"month\", term=\"impresso\")"
      ]
    },
    {
      "cell_type": "markdown",
      "metadata": {
        "id": "k-8kBnl1rNh1"
      },
      "source": [
        "## Country\n",
        "\n",
        "Get the number of content items that mention \"impresso\", grouped by country they were published in."
      ]
    },
    {
      "cell_type": "code",
      "execution_count": null,
      "metadata": {
        "id": "FKacmnlzrNh1",
        "outputId": "fd9b702f-d8d4-43d6-8894-774d5df3e7d3"
      },
      "outputs": [
        {
          "data": {
            "text/html": [
              "<div style=\"display: grid; grid-template-columns: minmax(200px, 1fr) auto;\">\n",
              "<div>\n",
              "<h2>Facet result</h2>\n",
              "<div>Contains <b>2</b> items of <b>2</b> total items.</div>\n",
              "<br/>\n",
              "See this result in the <a href=\"https://impresso-project.ch/app/search?index=search&facet=type&domain=country&sq=CgwYByoIaW1wcmVzc28=&p=1\">Impresso App</a>.\n",
              "</div>\n",
              "<div style=\"align-content: center;\"><img src=\"data:image/png;base64,iVBORw0KGgoAAAANSUhEUgAAA7YAAABhCAYAAADiKT2SAAAAOXRFWHRTb2Z0d2FyZQBNYXRwbG90bGliIHZlcnNpb24zLjkuMiwgaHR0cHM6Ly9tYXRwbG90bGliLm9yZy8hTgPZAAAACXBIWXMAAA9hAAAPYQGoP6dpAAAChklEQVR4nO3aUQ2DQBRFwdIgBD8YQgKG8IOTrYiSLCeZUXD/NidvlzHGBwAAAKq+swcAAADAP4QtAAAAacIWAACANGELAABAmrAFAAAgTdgCAACQJmwBAABIE7YAAACkCVsAAADShC0AAABpwhYAAIA0YQsAAECasAUAACBtnT3gadtxjdkbAHjefe7L7A0AwDu52AIAAJAmbAEAAEgTtgAAAKQJWwAAANKELQAAAGnCFgAAgDRhCwAAQJqwBQAAIE3YAgAAkCZsAQAASBO2AAAApAlbAAAA0oQtAAAAacIWAACANGELAABAmrAFAAAgTdgCAACQJmwBAABIE7YAAACkCVsAAADShC0AAABpwhYAAIA0YQsAAECasAUAACBN2AIAAJAmbAEAAEgTtgAAAKQJWwAAANKELQAAAGnCFgAAgDRhCwAAQJqwBQAAIE3YAgAAkCZsAQAASBO2AAAApAlbAAAA0oQtAAAAacIWAACANGELAABAmrAFAAAgTdgCAACQJmwBAABIE7YAAACkCVsAAADShC0AAABpwhYAAIA0YQsAAECasAUAACBN2AIAAJAmbAEAAEgTtgAAAKQJWwAAANKELQAAAGnCFgAAgDRhCwAAQJqwBQAAIE3YAgAAkCZsAQAASBO2AAAApAlbAAAA0oQtAAAAacIWAACANGELAABAmrAFAAAgTdgCAACQJmwBAABIE7YAAACkCVsAAADShC0AAABpwhYAAIA0YQsAAEDaOnsAAPBe23GN2RsAeN597svsDU9axvBeAQAA0OUrMgAAAGnCFgAAgDRhCwAAQJqwBQAAIE3YAgAAkCZsAQAASBO2AAAApAlbAAAA0oQtAAAAaT9TsQ6/J+OJoQAAAABJRU5ErkJggg==\" style=\"max-width: 800px; width: 100%;\"></div>\n",
              "</div>\n",
              "<h3>Data preview:</h3>\n",
              "<div>\n",
              "<style scoped>\n",
              "    .dataframe tbody tr th:only-of-type {\n",
              "        vertical-align: middle;\n",
              "    }\n",
              "\n",
              "    .dataframe tbody tr th {\n",
              "        vertical-align: top;\n",
              "    }\n",
              "\n",
              "    .dataframe thead th {\n",
              "        text-align: right;\n",
              "    }\n",
              "</style>\n",
              "<table border=\"1\" class=\"dataframe\">\n",
              "  <thead>\n",
              "    <tr style=\"text-align: right;\">\n",
              "      <th></th>\n",
              "      <th>count</th>\n",
              "    </tr>\n",
              "    <tr>\n",
              "      <th>value</th>\n",
              "      <th></th>\n",
              "    </tr>\n",
              "  </thead>\n",
              "  <tbody>\n",
              "    <tr>\n",
              "      <th>CH</th>\n",
              "      <td>55</td>\n",
              "    </tr>\n",
              "    <tr>\n",
              "      <th>LU</th>\n",
              "      <td>1</td>\n",
              "    </tr>\n",
              "  </tbody>\n",
              "</table>\n",
              "</div>"
            ],
            "text/plain": [
              "<impresso.resources.search.FacetDataContainer at 0x10d8ae890>"
            ]
          },
          "execution_count": 31,
          "metadata": {},
          "output_type": "execute_result"
        }
      ],
      "source": [
        "impresso.search.facet(\"country\", term=\"impresso\")"
      ]
    },
    {
      "cell_type": "markdown",
      "metadata": {
        "id": "Q38MpDMerNh1"
      },
      "source": [
        "## Type\n",
        "\n",
        "Get the number of items that mention \"impresso\", grouped by type of item."
      ]
    },
    {
      "cell_type": "code",
      "execution_count": null,
      "metadata": {
        "id": "54u0HPIYrNh1",
        "outputId": "bbc87eb8-f52a-4608-9610-c9259fd557b2"
      },
      "outputs": [
        {
          "data": {
            "text/html": [
              "<div style=\"display: grid; grid-template-columns: minmax(200px, 1fr) auto;\">\n",
              "<div>\n",
              "<h2>Facet result</h2>\n",
              "<div>Contains <b>8</b> items of <b>8</b> total items.</div>\n",
              "<br/>\n",
              "See this result in the <a href=\"https://impresso-project.ch/app/search?index=search&facet=type&domain=type&p=1\">Impresso App</a>.\n",
              "</div>\n",
              "<div style=\"align-content: center;\"><img src=\"data:image/png;base64,iVBORw0KGgoAAAANSUhEUgAAA7YAAABhCAYAAADiKT2SAAAAOXRFWHRTb2Z0d2FyZQBNYXRwbG90bGliIHZlcnNpb24zLjkuMiwgaHR0cHM6Ly9tYXRwbG90bGliLm9yZy8hTgPZAAAACXBIWXMAAA9hAAAPYQGoP6dpAAACl0lEQVR4nO3ZsXGEQBBFQaEiEPIhIUIgIfIhkz3jPLk6aetR3RF8980sY4wvAAAAqPqePQAAAAB+Q9gCAACQJmwBAABIE7YAAACkCVsAAADShC0AAABpwhYAAIA0YQsAAECasAUAACBN2AIAAJAmbAEAAEgTtgAAAKQJWwAAANLW2QNgO64xe8MT3ee+zN4AAAD/wccWAACANGELAABAmrAFAAAgTdgCAACQJmwBAABIE7YAAACkCVsAAADShC0AAABpwhYAAIA0YQsAAECasAUAACBN2AIAAJAmbAEAAEgTtgAAAKQJWwAAANKELQAAAGnCFgAAgDRhCwAAQJqwBQAAIE3YAgAAkCZsAQAASBO2AAAApAlbAAAA0oQtAAAAacIWAACANGELAABAmrAFAAAgTdgCAACQts4e8GnbcY3ZG57qPvdl9gYAAICffGwBAABIE7YAAACkCVsAAADShC0AAABpwhYAAIA0YQsAAECasAUAACBN2AIAAJAmbAEAAEgTtgAAAKQJWwAAANKELQAAAGnCFgAAgDRhCwAAQJqwBQAAIE3YAgAAkCZsAQAASBO2AAAApAlbAAAA0oQtAAAAacIWAACANGELAABAmrAFAAAgTdgCAACQJmwBAABIE7YAAACkCVsAAADShC0AAABpwhYAAIA0YQsAAECasAUAACBN2AIAAJAmbAEAAEgTtgAAAKQJWwAAANKELQAAAGnCFgAAgDRhCwAAQJqwBQAAIE3YAgAAkCZsAQAASFtnDwDg72zHNWZveKr73JfZGwCANx9bAAAA0pYxHPMBAADo8rEFAAAgTdgCAACQJmwBAABIE7YAAACkCVsAAADShC0AAABpwhYAAIA0YQsAAECasAUAACDtBf8qEsE68ep3AAAAAElFTkSuQmCC\" style=\"max-width: 800px; width: 100%;\"></div>\n",
              "</div>\n",
              "<h3>Data preview:</h3>\n",
              "<div>\n",
              "<style scoped>\n",
              "    .dataframe tbody tr th:only-of-type {\n",
              "        vertical-align: middle;\n",
              "    }\n",
              "\n",
              "    .dataframe tbody tr th {\n",
              "        vertical-align: top;\n",
              "    }\n",
              "\n",
              "    .dataframe thead th {\n",
              "        text-align: right;\n",
              "    }\n",
              "</style>\n",
              "<table border=\"1\" class=\"dataframe\">\n",
              "  <thead>\n",
              "    <tr style=\"text-align: right;\">\n",
              "      <th></th>\n",
              "      <th>count</th>\n",
              "    </tr>\n",
              "    <tr>\n",
              "      <th>value</th>\n",
              "      <th></th>\n",
              "    </tr>\n",
              "  </thead>\n",
              "  <tbody>\n",
              "    <tr>\n",
              "      <th>ad</th>\n",
              "      <td>14856907</td>\n",
              "    </tr>\n",
              "    <tr>\n",
              "      <th>ar</th>\n",
              "      <td>24836851</td>\n",
              "    </tr>\n",
              "    <tr>\n",
              "      <th>ob</th>\n",
              "      <td>123835</td>\n",
              "    </tr>\n",
              "  </tbody>\n",
              "</table>\n",
              "</div>"
            ],
            "text/plain": [
              "<impresso.resources.search.FacetDataContainer at 0x119973d50>"
            ]
          },
          "execution_count": 32,
          "metadata": {},
          "output_type": "execute_result"
        }
      ],
      "source": [
        "impresso.search.facet(\"type\")"
      ]
    },
    {
      "cell_type": "markdown",
      "metadata": {
        "id": "RUApyk5qrNh1"
      },
      "source": [
        "## Topic\n",
        "\n",
        "Find topics that the content items mentioning \"impresso\" are related to."
      ]
    },
    {
      "cell_type": "code",
      "execution_count": null,
      "metadata": {
        "id": "oBB_JPBqrNh1",
        "outputId": "3b102d27-2354-48b2-b3dd-997801b5bdea"
      },
      "outputs": [
        {
          "data": {
            "text/html": [
              "<div style=\"display: grid; grid-template-columns: minmax(200px, 1fr) auto;\">\n",
              "<div>\n",
              "<h2>Facet result</h2>\n",
              "<div>Contains <b>10</b> items (<b>0</b> - <b>10</b>) of <b>263</b> total items.</div>\n",
              "<br/>\n",
              "See this result in the <a href=\"https://impresso-project.ch/app/search?index=search&facet=type&domain=topic&sq=CgkYByoFcG9tbWU=&p=1\">Impresso App</a>.\n",
              "</div>\n",
              "<div style=\"align-content: center;\"><img src=\"data:image/png;base64,iVBORw0KGgoAAAANSUhEUgAAA7YAAABhCAYAAADiKT2SAAAAOXRFWHRTb2Z0d2FyZQBNYXRwbG90bGliIHZlcnNpb24zLjkuMiwgaHR0cHM6Ly9tYXRwbG90bGliLm9yZy8hTgPZAAAACXBIWXMAAA9hAAAPYQGoP6dpAAAC2UlEQVR4nO3dy23DMBBAwShwIepHDbkENeR+3AlzDaAcnA9APWWmgj3w8kgCu4wx3gAAAKDqffYAAAAA8BvCFgAAgDRhCwAAQJqwBQAAIE3YAgAAkCZsAQAASBO2AAAApAlbAAAA0oQtAAAAacIWAACANGELAABAmrAFAAAgTdgCAACQdps9APx36/0xZs9wNs99W2bPAABAhxdbAAAA0oQtAAAAacIWAACANGELAABAmrAFAAAgTdgCAACQJmwBAABIE7YAAACkCVsAAADShC0AAABpwhYAAIA0YQsAAECasAUAACBN2AIAAJAmbAEAAEgTtgAAAKQJWwAAANKELQAAAGnCFgAAgDRhCwAAQNpt9gB0rPfHmD3D2Tz3bZk9A19zXo+cVwDgqrzYAgAAkCZsAQAASBO2AAAApAlbAAAA0oQtAAAAacIWAACANGELAABAmrAFAAAgTdgCAACQJmwBAABIu80eAICO9f4Ys2c4m+e+LbNnAID/TtgCAJflMubIZcx5Oa9Hziuv8hUZAACANGELAABAmrAFAAAgTdgCAACQJmwBAABIE7YAAACkWfcDACdgzceRNR8AvErYAgDwLS5ijlzEwFy+IgMAAJAmbAEAAEgTtgAAAKQJWwAAANKELQAAAGnCFgAAgDRhCwAAQNrl9tjaq3ZkrxoAAHBlXmwBAABIE7YAAACkCVsAAADShC0AAABpwhYAAIA0YQsAAECasAUAACDtcntsAQAAPlvvjzF7hrN57tsye4a/5MUWAACANGELAABAmrAFAAAgTdgCAACQJmwBAABIE7YAAACkCVsAAADShC0AAABpwhYAAIA0YQsAAECasAUAACBN2AIAAJAmbAEAAEgTtgAAAKQJWwAAANKWMcbsGQAAAODHvNgCAACQJmwBAABIE7YAAACkCVsAAADShC0AAABpwhYAAIA0YQsAAECasAUAACBN2AIAAJD2AfU3LsvdTDoOAAAAAElFTkSuQmCC\" style=\"max-width: 800px; width: 100%;\"></div>\n",
              "</div>\n",
              "<h3>Data preview:</h3>\n",
              "<div>\n",
              "<style scoped>\n",
              "    .dataframe tbody tr th:only-of-type {\n",
              "        vertical-align: middle;\n",
              "    }\n",
              "\n",
              "    .dataframe tbody tr th {\n",
              "        vertical-align: top;\n",
              "    }\n",
              "\n",
              "    .dataframe thead th {\n",
              "        text-align: right;\n",
              "    }\n",
              "</style>\n",
              "<table border=\"1\" class=\"dataframe\">\n",
              "  <thead>\n",
              "    <tr style=\"text-align: right;\">\n",
              "      <th></th>\n",
              "      <th>count</th>\n",
              "      <th>label</th>\n",
              "    </tr>\n",
              "    <tr>\n",
              "      <th>value</th>\n",
              "      <th></th>\n",
              "      <th></th>\n",
              "    </tr>\n",
              "  </thead>\n",
              "  <tbody>\n",
              "    <tr>\n",
              "      <th>tm-de-all-v2.0_tp00_de</th>\n",
              "      <td>241</td>\n",
              "      <td>london (0.02403), new (0.01812), york (0.01433...</td>\n",
              "    </tr>\n",
              "    <tr>\n",
              "      <th>tm-de-all-v2.0_tp01_de</th>\n",
              "      <td>527</td>\n",
              "      <td>new (0.03594), york (0.02121), spanien (0.0209...</td>\n",
              "    </tr>\n",
              "    <tr>\n",
              "      <th>tm-de-all-v2.0_tp02_de</th>\n",
              "      <td>741</td>\n",
              "      <td>zimmer (0.02682), wort (0.02321), expedition (...</td>\n",
              "    </tr>\n",
              "  </tbody>\n",
              "</table>\n",
              "</div>"
            ],
            "text/plain": [
              "<impresso.resources.search.FacetDataContainer at 0x1199d6050>"
            ]
          },
          "execution_count": 33,
          "metadata": {},
          "output_type": "execute_result"
        }
      ],
      "source": [
        "impresso.search.facet(\"topic\", term=\"pomme\")"
      ]
    },
    {
      "cell_type": "markdown",
      "metadata": {
        "id": "A1r-gsIOrNh1"
      },
      "source": [
        "## Collection\n",
        "\n",
        "Find collections the content items mentioning \"pomme\" are part of."
      ]
    },
    {
      "cell_type": "code",
      "execution_count": null,
      "metadata": {
        "id": "9l9IuogyrNh1",
        "outputId": "000bded0-db37-421a-f964-b9c4bc1bebe1"
      },
      "outputs": [
        {
          "data": {
            "text/html": [
              "<div style=\"display: grid; grid-template-columns: minmax(200px, 1fr) auto;\">\n",
              "<div>\n",
              "<h2>Facet result</h2>\n",
              "<div>Contains <b>1</b> items of <b>1</b> total items.</div>\n",
              "<br/>\n",
              "See this result in the <a href=\"https://impresso-project.ch/app/search?index=search&facet=type&domain=collection&sq=CgkYByoFcG9tbWU=&p=1\">Impresso App</a>.\n",
              "</div>\n",
              "<div style=\"align-content: center;\"><img src=\"data:image/png;base64,iVBORw0KGgoAAAANSUhEUgAAA7YAAABhCAYAAADiKT2SAAAAOXRFWHRTb2Z0d2FyZQBNYXRwbG90bGliIHZlcnNpb24zLjkuMiwgaHR0cHM6Ly9tYXRwbG90bGliLm9yZy8hTgPZAAAACXBIWXMAAA9hAAAPYQGoP6dpAAACd0lEQVR4nO3ZUQ0CQRQEQZYgBD8YQsIZwg9OHh7gkqWTKgXz25k1MxcAAACouu4eAAAAAL8QtgAAAKQJWwAAANKELQAAAGnCFgAAgDRhCwAAQJqwBQAAIE3YAgAAkCZsAQAASBO2AAAApAlbAAAA0oQtAAAAacIWAACAtNvuAWe7P1+zewMAAMA/ex+PtXvDmTy2AAAApAlbAAAA0oQtAAAAacIWAACANGELAABAmrAFAAAgTdgCAACQJmwBAABIE7YAAACkCVsAAADShC0AAABpwhYAAIA0YQsAAECasAUAACBN2AIAAJAmbAEAAEgTtgAAAKQJWwAAANKELQAAAGnCFgAAgDRhCwAAQJqwBQAAIE3YAgAAkCZsAQAASBO2AAAApAlbAAAA0oQtAAAAacIWAACANGELAABAmrAFAAAgTdgCAACQJmwBAABIE7YAAACkCVsAAADShC0AAABpwhYAAIA0YQsAAECasAUAACBN2AIAAJAmbAEAAEgTtgAAAKQJWwAAANKELQAAAGnCFgAAgDRhCwAAQJqwBQAAIE3YAgAAkCZsAQAASBO2AAAApAlbAAAA0oQtAAAAacIWAACANGELAABAmrAFAAAgTdgCAACQJmwBAABIE7YAAACkCVsAAADShC0AAABpwhYAAIA0YQsAAECasAUAACBN2AIAAJAmbAEAAEgTtgAAAKQJWwAAANKELQAAAGnCFgAAgDRhCwAAQJqwBQAAIE3YAgAAkCZsAQAASFszs3sDAAAAfM1jCwAAQJqwBQAAIE3YAgAAkCZsAQAASBO2AAAApAlbAAAA0oQtAAAAacIWAACANGELAABA2gfGDAq9Zf+vtQAAAABJRU5ErkJggg==\" style=\"max-width: 800px; width: 100%;\"></div>\n",
              "</div>\n",
              "<h3>Data preview:</h3>\n",
              "<div>\n",
              "<style scoped>\n",
              "    .dataframe tbody tr th:only-of-type {\n",
              "        vertical-align: middle;\n",
              "    }\n",
              "\n",
              "    .dataframe tbody tr th {\n",
              "        vertical-align: top;\n",
              "    }\n",
              "\n",
              "    .dataframe thead th {\n",
              "        text-align: right;\n",
              "    }\n",
              "</style>\n",
              "<table border=\"1\" class=\"dataframe\">\n",
              "  <thead>\n",
              "    <tr style=\"text-align: right;\">\n",
              "      <th></th>\n",
              "      <th>count</th>\n",
              "      <th>label</th>\n",
              "    </tr>\n",
              "    <tr>\n",
              "      <th>value</th>\n",
              "      <th></th>\n",
              "      <th></th>\n",
              "    </tr>\n",
              "  </thead>\n",
              "  <tbody>\n",
              "    <tr>\n",
              "      <th>local-roka-UaJ1domy</th>\n",
              "      <td>16</td>\n",
              "      <td>estelle-test-collection-for-recsys-not-working</td>\n",
              "    </tr>\n",
              "  </tbody>\n",
              "</table>\n",
              "</div>"
            ],
            "text/plain": [
              "<impresso.resources.search.FacetDataContainer at 0x119a1ad90>"
            ]
          },
          "execution_count": 34,
          "metadata": {},
          "output_type": "execute_result"
        }
      ],
      "source": [
        "impresso.search.facet(\"collection\", term=\"pomme\")"
      ]
    },
    {
      "cell_type": "markdown",
      "metadata": {
        "id": "uvznf9K8rNh2"
      },
      "source": [
        "## Newspaper\n",
        "\n",
        "Find newspapers that the content items mentioning \"Schengen\" were published in."
      ]
    },
    {
      "cell_type": "code",
      "execution_count": null,
      "metadata": {
        "id": "z2GLejmcrNh2",
        "outputId": "90ea2ac7-185f-4778-8ac8-844fb7938a02"
      },
      "outputs": [
        {
          "data": {
            "text/html": [
              "<div style=\"display: grid; grid-template-columns: minmax(200px, 1fr) auto;\">\n",
              "<div>\n",
              "<h2>Facet result</h2>\n",
              "<div>Contains <b>10</b> items (<b>0</b> - <b>10</b>) of <b>39</b> total items.</div>\n",
              "<br/>\n",
              "See this result in the <a href=\"https://impresso-project.ch/app/search?index=search&facet=type&domain=newspaper&sq=CgwYByoIU2NoZW5nZW4=&p=1\">Impresso App</a>.\n",
              "</div>\n",
              "<div style=\"align-content: center;\"><img src=\"data:image/png;base64,iVBORw0KGgoAAAANSUhEUgAAA7YAAABhCAYAAADiKT2SAAAAOXRFWHRTb2Z0d2FyZQBNYXRwbG90bGliIHZlcnNpb24zLjkuMiwgaHR0cHM6Ly9tYXRwbG90bGliLm9yZy8hTgPZAAAACXBIWXMAAA9hAAAPYQGoP6dpAAACv0lEQVR4nO3bwW0CQRAAQZ91gZAPCRECCZEPmawDuA+WQUPjqgjmtVJrdra11hcAAABUfU8PAAAAAH8hbAEAAEgTtgAAAKQJWwAAANKELQAAAGnCFgAAgDRhCwAAQJqwBQAAIE3YAgAAkCZsAQAASBO2AAAApAlbAAAA0oQtAAAAafv0AAAAAK90utzW9Azv5n49b9MzPJOw5WEehKNPexCAOd7YI28sAI/yFRkAAIA0YQsAAECasAUAACBN2AIAAJAmbAEAAEgTtgAAAKQJWwAAANKELQAAAGnCFgAAgDRhCwAAQJqwBQAAIE3YAgAAkCZsAQAASBO2AAAApAlbAAAA0oQtAAAAacIWAACANGELAABAmrAFAAAgTdgCAACQJmwBAABIE7YAAACkCVsAAADShC0AAABpwhYAAIA0YQsAAECasAUAACBN2AIAAJAmbAEAAEgTtgAAAKQJWwAAANKELQAAAGnCFgAAgDRhCwAAQJqwBQAAIE3YAgAAkLZPDwD/3elyW9MzvJv79bxNzwAAQIeNLQAAAGnCFgAAgDRhCwAAQJqwBQAAIE3YAgAAkCZsAQAASBO2AAAApAlbAAAA0oQtAAAAacIWAACANGELAABAmrAFAAAgTdgCAACQJmwBAABIE7YAAACkCVsAAADShC0AAABpwhYAAIA0YQsAAECasAUAACBN2AIAAJAmbAEAAEgTtgAAAKQJWwAAANL26QEAAF7ldLmt6Rnezf163qZnAHg2G1sAAADSbGwBeJjt15HtFwDMs7EFAAAgTdgCAACQ5isyAAC/4izhyFkCzLKxBQAAIE3YAgAAkCZsAQAASPu4G1s3H0duPgAAgE+2raUDAQAA6PIVGQAAgDRhCwAAQJqwBQAAIE3YAgAAkCZsAQAASBO2AAAApAlbAAAA0oQtAAAAacIWAACAtB+KoSbJTTntDAAAAABJRU5ErkJggg==\" style=\"max-width: 800px; width: 100%;\"></div>\n",
              "</div>\n",
              "<h3>Data preview:</h3>\n",
              "<div>\n",
              "<style scoped>\n",
              "    .dataframe tbody tr th:only-of-type {\n",
              "        vertical-align: middle;\n",
              "    }\n",
              "\n",
              "    .dataframe tbody tr th {\n",
              "        vertical-align: top;\n",
              "    }\n",
              "\n",
              "    .dataframe thead th {\n",
              "        text-align: right;\n",
              "    }\n",
              "</style>\n",
              "<table border=\"1\" class=\"dataframe\">\n",
              "  <thead>\n",
              "    <tr style=\"text-align: right;\">\n",
              "      <th></th>\n",
              "      <th>count</th>\n",
              "      <th>label</th>\n",
              "    </tr>\n",
              "    <tr>\n",
              "      <th>value</th>\n",
              "      <th></th>\n",
              "      <th></th>\n",
              "    </tr>\n",
              "  </thead>\n",
              "  <tbody>\n",
              "    <tr>\n",
              "      <th>DTT</th>\n",
              "      <td>18</td>\n",
              "      <td>La Sentinelle</td>\n",
              "    </tr>\n",
              "    <tr>\n",
              "      <th>EXP</th>\n",
              "      <td>1424</td>\n",
              "      <td>L'Express</td>\n",
              "    </tr>\n",
              "    <tr>\n",
              "      <th>FZG</th>\n",
              "      <td>681</td>\n",
              "      <td>Freiburger Nachrichten</td>\n",
              "    </tr>\n",
              "  </tbody>\n",
              "</table>\n",
              "</div>"
            ],
            "text/plain": [
              "<impresso.resources.search.FacetDataContainer at 0x1198c9b90>"
            ]
          },
          "execution_count": 35,
          "metadata": {},
          "output_type": "execute_result"
        }
      ],
      "source": [
        "impresso.search.facet(\"newspaper\", term=\"Schengen\")"
      ]
    },
    {
      "cell_type": "markdown",
      "metadata": {
        "id": "y5GEHpMHrNh2"
      },
      "source": [
        "## Language\n",
        "\n",
        "Find all languages the content items mentioning \"impresso\" were published in."
      ]
    },
    {
      "cell_type": "code",
      "execution_count": null,
      "metadata": {
        "id": "FAtPwGO8rNh2",
        "outputId": "0a37d73a-2568-40ca-b4db-da10d0118c9e"
      },
      "outputs": [
        {
          "data": {
            "text/html": [
              "<div style=\"display: grid; grid-template-columns: minmax(200px, 1fr) auto;\">\n",
              "<div>\n",
              "<h2>Facet result</h2>\n",
              "<div>Contains <b>4</b> items of <b>4</b> total items.</div>\n",
              "<br/>\n",
              "See this result in the <a href=\"https://impresso-project.ch/app/search?index=search&facet=type&domain=language&sq=CgwYByoIU2NoZW5nZW4=&p=1\">Impresso App</a>.\n",
              "</div>\n",
              "<div style=\"align-content: center;\"><img src=\"data:image/png;base64,iVBORw0KGgoAAAANSUhEUgAAA7YAAABhCAYAAADiKT2SAAAAOXRFWHRTb2Z0d2FyZQBNYXRwbG90bGliIHZlcnNpb24zLjkuMiwgaHR0cHM6Ly9tYXRwbG90bGliLm9yZy8hTgPZAAAACXBIWXMAAA9hAAAPYQGoP6dpAAACkElEQVR4nO3dQQ3DMBQFwaYqkPAJoUAIofAJE5dC1VSytppB8K7rf/AyxngAAABA1XP2AAAAALhD2AIAAJAmbAEAAEgTtgAAAKQJWwAAANKELQAAAGnCFgAAgDRhCwAAQJqwBQAAIE3YAgAAkCZsAQAASBO2AAAApAlbAAAA0l6zBwAA31n3c8zeAHddx7bM3gD0udgCAACQJmwBAABIE7YAAACkCVsAAADShC0AAABpwhYAAIC0v/vux9cH/ANfHwAAwOdcbAEAAEgTtgAAAKQJWwAAANKELQAAAGnCFgAAgDRhCwAAQJqwBQAAIE3YAgAAkCZsAQAASBO2AAAApAlbAAAA0oQtAAAAacIWAACANGELAABAmrAFAAAgTdgCAACQJmwBAABIE7YAAACkCVsAAADShC0AAABpwhYAAIA0YQsAAECasAUAACBN2AIAAJAmbAEAAEgTtgAAAKQJWwAAANKELQAAAGnCFgAAgDRhCwAAQJqwBQAAIE3YAgAAkCZsAQAASBO2AAAApAlbAAAA0oQtAAAAacIWAACANGELAABAmrAFAAAgTdgCAACQJmwBAABIE7YAAACkCVsAAADShC0AAABpwhYAAIA0YQsAAECasAUAACBN2AIAAJAmbAEAAEgTtgAAAKQJWwAAANKELQAAAGnCFgAAgDRhCwAAQJqwBQAAIE3YAgAAkCZsAQAASBO2AAAApAlbAAAA0oQtAAAAacIWAACANGELAABAmrAFAAAg7TV7AAAAlKz7OWZvgLuuY1tmb/glF1sAAADSljE8OAEAANDlYgsAAECasAUAACBN2AIAAJAmbAEAAEgTtgAAAKQJWwAAANKELQAAAGnCFgAAgDRhCwAAQNobs6oSwXbXDaYAAAAASUVORK5CYII=\" style=\"max-width: 800px; width: 100%;\"></div>\n",
              "</div>\n",
              "<h3>Data preview:</h3>\n",
              "<div>\n",
              "<style scoped>\n",
              "    .dataframe tbody tr th:only-of-type {\n",
              "        vertical-align: middle;\n",
              "    }\n",
              "\n",
              "    .dataframe tbody tr th {\n",
              "        vertical-align: top;\n",
              "    }\n",
              "\n",
              "    .dataframe thead th {\n",
              "        text-align: right;\n",
              "    }\n",
              "</style>\n",
              "<table border=\"1\" class=\"dataframe\">\n",
              "  <thead>\n",
              "    <tr style=\"text-align: right;\">\n",
              "      <th></th>\n",
              "      <th>count</th>\n",
              "    </tr>\n",
              "    <tr>\n",
              "      <th>value</th>\n",
              "      <th></th>\n",
              "    </tr>\n",
              "  </thead>\n",
              "  <tbody>\n",
              "    <tr>\n",
              "      <th>de</th>\n",
              "      <td>5784</td>\n",
              "    </tr>\n",
              "    <tr>\n",
              "      <th>en</th>\n",
              "      <td>2</td>\n",
              "    </tr>\n",
              "    <tr>\n",
              "      <th>fr</th>\n",
              "      <td>6446</td>\n",
              "    </tr>\n",
              "  </tbody>\n",
              "</table>\n",
              "</div>"
            ],
            "text/plain": [
              "<impresso.resources.search.FacetDataContainer at 0x119965b90>"
            ]
          },
          "execution_count": 36,
          "metadata": {},
          "output_type": "execute_result"
        }
      ],
      "source": [
        "impresso.search.facet(\"language\", term=\"Schengen\")"
      ]
    },
    {
      "cell_type": "markdown",
      "metadata": {
        "id": "PhsW_r6-rNh2"
      },
      "source": [
        "## Person\n",
        "\n",
        "Find all persons mentioned in content items that mention \"Schengen\". Get only the last page."
      ]
    },
    {
      "cell_type": "code",
      "execution_count": null,
      "metadata": {
        "id": "7gdI4C0BrNh2",
        "outputId": "c62c337d-1c33-46aa-e01e-9569fdc1a09b"
      },
      "outputs": [
        {
          "data": {
            "text/html": [
              "<div style=\"display: grid; grid-template-columns: minmax(200px, 1fr) auto;\">\n",
              "<div>\n",
              "<h2>Facet result</h2>\n",
              "<div>Contains <b>3</b> items (<b>7140</b> - <b>7143</b>) of <b>7143</b> total items.</div>\n",
              "<br/>\n",
              "See this result in the <a href=\"https://impresso-project.ch/app/search?index=search&facet=type&domain=person&sq=CgwYByoIU2NoZW5nZW4=&p=1\">Impresso App</a>.\n",
              "</div>\n",
              "<div style=\"align-content: center;\"><img src=\"data:image/png;base64,iVBORw0KGgoAAAANSUhEUgAAA7YAAABhCAYAAADiKT2SAAAAOXRFWHRTb2Z0d2FyZQBNYXRwbG90bGliIHZlcnNpb24zLjkuMiwgaHR0cHM6Ly9tYXRwbG90bGliLm9yZy8hTgPZAAAACXBIWXMAAA9hAAAPYQGoP6dpAAACj0lEQVR4nO3ZQQ3CQBRFUUoQUj81hIQawk+dDArYUJLJpecoeMt/85cxxg0AAACq7rMHAAAAwBnCFgAAgDRhCwAAQJqwBQAAIE3YAgAAkCZsAQAASBO2AAAApAlbAAAA0oQtAAAAacIWAACANGELAABAmrAFAAAgTdgCAACQ9pg94NfW52vM3gCcc+zbMnsDAJ+5t6Dv3+4tH1sAAADShC0AAABpwhYAAIA0YQsAAECasAUAACBN2AIAAJAmbAEAAEgTtgAAAKQJWwAAANKELQAAAGnCFgAAgDRhCwAAQJqwBQAAIE3YAgAAkCZsAQAASBO2AAAApAlbAAAA0oQtAAAAacIWAACANGELAABAmrAFAAAgTdgCAACQJmwBAABIE7YAAACkCVsAAADShC0AAABpwhYAAIA0YQsAAECasAUAACBN2AIAAJAmbAEAAEgTtgAAAKQJWwAAANKELQAAAGnCFgAAgDRhCwAAQJqwBQAAIE3YAgAAkCZsAQAASBO2AAAApAlbAAAA0oQtAAAAacIWAACANGELAABAmrAFAAAgTdgCAACQJmwBAABIE7YAAACkPWYPALi69fkaszcA5xz7tszeAHBlPrYAAACkCVsAAADShC0AAABpwhYAAIA0YQsAAECasAUAACBN2AIAAJAmbAEAAEgTtgAAAKQJWwAAANKELQAAAGnCFgAAgDRhCwAAQJqwBQAAIE3YAgAAkCZsAQAASBO2AAAApAlbAAAA0oQtAAAAacIWAACANGELAABAmrAFAAAgTdgCAACQtowxZm8AAACAr/nYAgAAkCZsAQAASBO2AAAApAlbAAAA0oQtAAAAacIWAACANGELAABAmrAFAAAgTdgCAACQ9gb9IhK/LBSIkQAAAABJRU5ErkJggg==\" style=\"max-width: 800px; width: 100%;\"></div>\n",
              "</div>\n",
              "<h3>Data preview:</h3>\n",
              "<div>\n",
              "<style scoped>\n",
              "    .dataframe tbody tr th:only-of-type {\n",
              "        vertical-align: middle;\n",
              "    }\n",
              "\n",
              "    .dataframe tbody tr th {\n",
              "        vertical-align: top;\n",
              "    }\n",
              "\n",
              "    .dataframe thead th {\n",
              "        text-align: right;\n",
              "    }\n",
              "</style>\n",
              "<table border=\"1\" class=\"dataframe\">\n",
              "  <thead>\n",
              "    <tr style=\"text-align: right;\">\n",
              "      <th></th>\n",
              "      <th>count</th>\n",
              "      <th>label</th>\n",
              "    </tr>\n",
              "    <tr>\n",
              "      <th>value</th>\n",
              "      <th></th>\n",
              "      <th></th>\n",
              "    </tr>\n",
              "  </thead>\n",
              "  <tbody>\n",
              "    <tr>\n",
              "      <th>aida-0001-50-Étienne_Schmit</th>\n",
              "      <td>3</td>\n",
              "      <td>Étienne Schmit</td>\n",
              "    </tr>\n",
              "    <tr>\n",
              "      <th>aida-0001-50-Íngrid_Betancourt</th>\n",
              "      <td>1</td>\n",
              "      <td>Íngrid Betancourt</td>\n",
              "    </tr>\n",
              "    <tr>\n",
              "      <th>aida-0001-50-İsmail_Cem_İpekçi</th>\n",
              "      <td>3</td>\n",
              "      <td>İsmail Cem İpekçi</td>\n",
              "    </tr>\n",
              "  </tbody>\n",
              "</table>\n",
              "</div>"
            ],
            "text/plain": [
              "<impresso.resources.search.FacetDataContainer at 0x1199d51d0>"
            ]
          },
          "execution_count": 37,
          "metadata": {},
          "output_type": "execute_result"
        }
      ],
      "source": [
        "impresso.search.facet(\"person\", term=\"Schengen\", offset=7140)"
      ]
    },
    {
      "cell_type": "markdown",
      "metadata": {
        "id": "Gt282HuArNh2"
      },
      "source": [
        "## Location\n",
        "\n",
        "Find all locations mentioned in content items that mention \"Schengen\". Get only the last page."
      ]
    },
    {
      "cell_type": "code",
      "execution_count": null,
      "metadata": {
        "id": "WltO-s2VrNh2",
        "outputId": "98784543-21bf-4be2-989f-6352855769bc"
      },
      "outputs": [
        {
          "data": {
            "text/html": [
              "<div style=\"display: grid; grid-template-columns: minmax(200px, 1fr) auto;\">\n",
              "<div>\n",
              "<h2>Facet result</h2>\n",
              "<div>Contains <b>4</b> items (<b>3310</b> - <b>3314</b>) of <b>3314</b> total items.</div>\n",
              "<br/>\n",
              "See this result in the <a href=\"https://impresso-project.ch/app/search?index=search&facet=type&domain=location&sq=CgwYByoIU2NoZW5nZW4=&p=1\">Impresso App</a>.\n",
              "</div>\n",
              "<div style=\"align-content: center;\"><img src=\"data:image/png;base64,iVBORw0KGgoAAAANSUhEUgAAA7YAAABhCAYAAADiKT2SAAAAOXRFWHRTb2Z0d2FyZQBNYXRwbG90bGliIHZlcnNpb24zLjkuMiwgaHR0cHM6Ly9tYXRwbG90bGliLm9yZy8hTgPZAAAACXBIWXMAAA9hAAAPYQGoP6dpAAACl0lEQVR4nO3ZUQ3CQBRFQUoQUj8YQkIN4adOFgckUJLlNDMK7s9mc/KWMcYFAAAAqq6zBwAAAMARwhYAAIA0YQsAAECasAUAACBN2AIAAJAmbAEAAEgTtgAAAKQJWwAAANKELQAAAGnCFgAAgDRhCwAAQJqwBQAAIE3YAgAAkHabPQA4h/XxHLM3wFH7dl9mbwAAPudiCwAAQJqwBQAAIE3YAgAAkCZsAQAASBO2AAAApAlbAAAA0oQtAAAAacIWAACANGELAABAmrAFAAAgTdgCAACQJmwBAABIE7YAAACkCVsAAADShC0AAABpwhYAAIA0YQsAAECasAUAACBN2AIAAJAmbAEAAEgTtgAAAKQJWwAAANKELQAAAGnCFgAAgDRhCwAAQJqwBQAAIE3YAgAAkCZsAQAASBO2AAAApAlbAAAA0oQtAAAAacIWAACANGELAABAmrAFAAAgTdgCAACQdps94NfWx3PM3gBH7dt9mb0B+H/+PM6g+Od5e5xB8e2942ILAABAmrAFAAAgTdgCAACQJmwBAABIE7YAAACkCVsAAADShC0AAABpwhYAAIA0YQsAAECasAUAACBN2AIAAJAmbAEAAEgTtgAAAKQJWwAAANKELQAAAGnCFgAAgDRhCwAAQJqwBQAAIE3YAgAAkCZsAQAASBO2AAAApAlbAAAA0oQtAAAAacIWAACANGELAABAmrAFAAAgTdgCAACQJmwBAABIE7YAAACkCVsAAADShC0AAABpwhYAAIA0YQsAAECasAUAACBN2AIAAJAmbAEAAEhbxhizNwAAAMDXXGwBAABIE7YAAACkCVsAAADShC0AAABpwhYAAIA0YQsAAECasAUAACBN2AIAAJAmbAEAAEh7AWZ2Fr8VpnnLAAAAAElFTkSuQmCC\" style=\"max-width: 800px; width: 100%;\"></div>\n",
              "</div>\n",
              "<h3>Data preview:</h3>\n",
              "<div>\n",
              "<style scoped>\n",
              "    .dataframe tbody tr th:only-of-type {\n",
              "        vertical-align: middle;\n",
              "    }\n",
              "\n",
              "    .dataframe tbody tr th {\n",
              "        vertical-align: top;\n",
              "    }\n",
              "\n",
              "    .dataframe thead th {\n",
              "        text-align: right;\n",
              "    }\n",
              "</style>\n",
              "<table border=\"1\" class=\"dataframe\">\n",
              "  <thead>\n",
              "    <tr style=\"text-align: right;\">\n",
              "      <th></th>\n",
              "      <th>count</th>\n",
              "      <th>label</th>\n",
              "    </tr>\n",
              "    <tr>\n",
              "      <th>value</th>\n",
              "      <th></th>\n",
              "      <th></th>\n",
              "    </tr>\n",
              "  </thead>\n",
              "  <tbody>\n",
              "    <tr>\n",
              "      <th>aida-0001-54-Ünye</th>\n",
              "      <td>1</td>\n",
              "      <td>Ünye</td>\n",
              "    </tr>\n",
              "    <tr>\n",
              "      <th>aida-0001-54-Łomża</th>\n",
              "      <td>2</td>\n",
              "      <td>Łomża</td>\n",
              "    </tr>\n",
              "    <tr>\n",
              "      <th>aida-0001-54-Świnoujście</th>\n",
              "      <td>1</td>\n",
              "      <td>Świnoujście</td>\n",
              "    </tr>\n",
              "  </tbody>\n",
              "</table>\n",
              "</div>"
            ],
            "text/plain": [
              "<impresso.resources.search.FacetDataContainer at 0x119a45b90>"
            ]
          },
          "execution_count": 38,
          "metadata": {},
          "output_type": "execute_result"
        }
      ],
      "source": [
        "impresso.search.facet(\"location\", term=\"Schengen\", offset=3310)"
      ]
    },
    {
      "cell_type": "markdown",
      "metadata": {
        "id": "hdnrb9Z3rNh2"
      },
      "source": [
        "## NAG\n",
        "\n",
        "Find all entities without a known type mentioned in content items that mention \"homme\" and \"femme\"."
      ]
    },
    {
      "cell_type": "code",
      "execution_count": null,
      "metadata": {
        "id": "Ps5_BCyarNh2",
        "outputId": "67719174-405f-4450-dd17-30053d719354"
      },
      "outputs": [
        {
          "data": {
            "text/html": [
              "<div style=\"display: grid; grid-template-columns: minmax(200px, 1fr) auto;\">\n",
              "<div>\n",
              "<h2>Facet result</h2>\n",
              "<div>Contains <b>6</b> items of <b>6</b> total items.</div>\n",
              "<br/>\n",
              "See this result in the <a href=\"https://impresso-project.ch/app/search?index=search&facet=type&domain=nag&sq=ChIQARgDKgVmZW1tZSoFaG9tbWU=&p=1\">Impresso App</a>.\n",
              "</div>\n",
              "<div style=\"align-content: center;\"><img src=\"data:image/png;base64,iVBORw0KGgoAAAANSUhEUgAAA7YAAABhCAYAAADiKT2SAAAAOXRFWHRTb2Z0d2FyZQBNYXRwbG90bGliIHZlcnNpb24zLjkuMiwgaHR0cHM6Ly9tYXRwbG90bGliLm9yZy8hTgPZAAAACXBIWXMAAA9hAAAPYQGoP6dpAAACtElEQVR4nO3dUY3CQBhG0e2mQuoHQ0jAEH5wMhjY8LIl0zs5R8H32JufMNsY4wcAAACqfmcPAAAAgP8QtgAAAKQJWwAAANKELQAAAGnCFgAAgDRhCwAAQJqwBQAAIE3YAgAAkCZsAQAASBO2AAAApAlbAAAA0oQtAAAAacIWAACAtH32AIBVHffnmL2B87wet232BgDgby62AAAApAlbAAAA0oQtAAAAacIWAACANGELAABAmrAFAAAgTdgCAACQJmwBAABIE7YAAACkCVsAAADShC0AAABpwhYAAIA0YQsAAECasAUAACBN2AIAAJAmbAEAAEgTtgAAAKQJWwAAANKELQAAAGnCFgAAgDRhCwAAQJqwBQAAIE3YAgAAkCZsAQAASBO2AAAApAlbAAAA0oQtAAAAacIWAACANGELAABAmrAFAAAgTdgCAACQJmwBAABIE7YAAACkCVsAAADShC0AAABpwhYAAIA0YQsAAECasAUAACBN2AIAAJAmbAEAAEgTtgAAAKQJWwAAANKELQAAAGnCFgAAgDRhCwAAQJqwBQAAIE3YAgAAkLbPHgBXdNyfY/YGzvV63LbZGwAA+A4XWwAAANKELQAAAGnCFgAAgDRhCwAAQJqwBQAAIE3YAgAAkLbccz+eaVmPZ1oAAIBPXGwBAABIE7YAAACkCVsAAADShC0AAABpwhYAAIA0YQsAAECasAUAACBN2AIAAJC2zx4AAMD3HPfnmL2Bc70et232BrgaF1sAAADSXGwBAICPXP7Xs9rlX9gCwIX5mFzLah+SAFfhp8gAAACkCVsAAADShC0AAABpwhYAAIA0YQsAAEDaNoY/WwQAAKDLxRYAAIA0YQsAAECasAUAACBN2AIAAJAmbAEAAEgTtgAAAKQJWwAAANKELQAAAGnCFgAAgLQ3Qfoex/ceT5sAAAAASUVORK5CYII=\" style=\"max-width: 800px; width: 100%;\"></div>\n",
              "</div>\n",
              "<h3>Data preview:</h3>\n",
              "<div>\n",
              "<style scoped>\n",
              "    .dataframe tbody tr th:only-of-type {\n",
              "        vertical-align: middle;\n",
              "    }\n",
              "\n",
              "    .dataframe tbody tr th {\n",
              "        vertical-align: top;\n",
              "    }\n",
              "\n",
              "    .dataframe thead th {\n",
              "        text-align: right;\n",
              "    }\n",
              "</style>\n",
              "<table border=\"1\" class=\"dataframe\">\n",
              "  <thead>\n",
              "    <tr style=\"text-align: right;\">\n",
              "      <th></th>\n",
              "      <th>count</th>\n",
              "    </tr>\n",
              "    <tr>\n",
              "      <th>value</th>\n",
              "      <th></th>\n",
              "    </tr>\n",
              "  </thead>\n",
              "  <tbody>\n",
              "    <tr>\n",
              "      <th>bert-nag-55-AFP</th>\n",
              "      <td>12</td>\n",
              "    </tr>\n",
              "    <tr>\n",
              "      <th>bert-nag-55-AP</th>\n",
              "      <td>17</td>\n",
              "    </tr>\n",
              "    <tr>\n",
              "      <th>bert-nag-55-ATS_SDA</th>\n",
              "      <td>50</td>\n",
              "    </tr>\n",
              "  </tbody>\n",
              "</table>\n",
              "</div>"
            ],
            "text/plain": [
              "<impresso.resources.search.FacetDataContainer at 0x11997ea90>"
            ]
          },
          "execution_count": 39,
          "metadata": {},
          "output_type": "execute_result"
        }
      ],
      "source": [
        "from impresso import AND\n",
        "impresso.search.facet(\"nag\", title=AND(\"homme\", \"femme\"))"
      ]
    },
    {
      "cell_type": "markdown",
      "metadata": {
        "id": "kgWcJUEwrNh2"
      },
      "source": [
        "## Access rights\n",
        "\n",
        "Get access rights of content items mentioning \"pomme\"."
      ]
    },
    {
      "cell_type": "code",
      "execution_count": null,
      "metadata": {
        "id": "CeLsj8y8rNh2",
        "outputId": "c019586e-616b-491e-bef6-0d1452b19713"
      },
      "outputs": [
        {
          "data": {
            "text/html": [
              "<div style=\"display: grid; grid-template-columns: minmax(200px, 1fr) auto;\">\n",
              "<div>\n",
              "<h2>Facet result</h2>\n",
              "<div>Contains <b>4</b> items of <b>4</b> total items.</div>\n",
              "<br/>\n",
              "See this result in the <a href=\"https://impresso-project.ch/app/search?index=search&facet=type&domain=accessRight&sq=CgkYByoFcG9tbWU=&p=1\">Impresso App</a>.\n",
              "</div>\n",
              "<div style=\"align-content: center;\"><img src=\"data:image/png;base64,iVBORw0KGgoAAAANSUhEUgAAA7YAAABhCAYAAADiKT2SAAAAOXRFWHRTb2Z0d2FyZQBNYXRwbG90bGliIHZlcnNpb24zLjkuMiwgaHR0cHM6Ly9tYXRwbG90bGliLm9yZy8hTgPZAAAACXBIWXMAAA9hAAAPYQGoP6dpAAACmUlEQVR4nO3dUQ3CMABFUUYQMj8YQsIM4WdOigYykuaWcxS839su6zbGuAEAAEDVffYAAAAAuELYAgAAkCZsAQAASBO2AAAApAlbAAAA0oQtAAAAacIWAACANGELAABAmrAFAAAgTdgCAACQJmwBAABIE7YAAACkCVsAAADSHrMHAGvYX+8xewNcdR7PbfYGAOB7bmwBAABIE7YAAACkCVsAAADShC0AAABpwhYAAIA0YQsAAECasAUAACBN2AIAAJAmbAEAAEgTtgAAAKQJWwAAANKELQAAAGnCFgAAgDRhCwAAQJqwBQAAIE3YAgAAkCZsAQAASBO2AAAApAlbAAAA0oQtAAAAacIWAACANGELAABAmrAFAAAgTdgCAACQJmwBAABIE7YAAACkCVsAAADShC0AAABpwhYAAIA0YQsAAECasAUAACBN2AIAAJAmbAEAAEgTtgAAAKQJWwAAANKELQAAAGnCFgAAgDRhCwAAQJqwBQAAIE3YAgAAkCZsAQAASBO2AAAApAlbAAAA0oQtAAAAacIWAACANGELAABAmrAFAAAgTdgCAACQJmwBAABIE7YAAACkCVsAAADShC0AAABpwhYAAIA0YQsAAECasAUAACBN2AIAAJAmbAEAAEgTtgAAAKQJWwAAANKELQAAAGnCFgAAgDRhCwAAQJqwBQAAIO0xe8Cv7a/3mL0BrjqP5zZ7AwAAVLixBQAAIE3YAgAAkCZsAQAASBO2AAAApAlbAAAA0pb7KzIA/AsvAbACLwEAvyBsAQDgCw6VWMFqh0o+RQYAACBtG8OBEwAAAF1ubAEAAEgTtgAAAKQJWwAAANKELQAAAGnCFgAAgDRhCwAAQJqwBQAAIE3YAgAAkCZsAQAASPsA17MWw0shRSEAAAAASUVORK5CYII=\" style=\"max-width: 800px; width: 100%;\"></div>\n",
              "</div>\n",
              "<h3>Data preview:</h3>\n",
              "<div>\n",
              "<style scoped>\n",
              "    .dataframe tbody tr th:only-of-type {\n",
              "        vertical-align: middle;\n",
              "    }\n",
              "\n",
              "    .dataframe tbody tr th {\n",
              "        vertical-align: top;\n",
              "    }\n",
              "\n",
              "    .dataframe thead th {\n",
              "        text-align: right;\n",
              "    }\n",
              "</style>\n",
              "<table border=\"1\" class=\"dataframe\">\n",
              "  <thead>\n",
              "    <tr style=\"text-align: right;\">\n",
              "      <th></th>\n",
              "      <th>count</th>\n",
              "    </tr>\n",
              "    <tr>\n",
              "      <th>value</th>\n",
              "      <th></th>\n",
              "    </tr>\n",
              "  </thead>\n",
              "  <tbody>\n",
              "    <tr>\n",
              "      <th>Closed</th>\n",
              "      <td>5677</td>\n",
              "    </tr>\n",
              "    <tr>\n",
              "      <th>OpenPrivate</th>\n",
              "      <td>47691</td>\n",
              "    </tr>\n",
              "    <tr>\n",
              "      <th>OpenPublic</th>\n",
              "      <td>2128</td>\n",
              "    </tr>\n",
              "  </tbody>\n",
              "</table>\n",
              "</div>"
            ],
            "text/plain": [
              "<impresso.resources.search.FacetDataContainer at 0x1199cdb90>"
            ]
          },
          "execution_count": 40,
          "metadata": {},
          "output_type": "execute_result"
        }
      ],
      "source": [
        "impresso.search.facet(\"accessRight\", term=\"pomme\")"
      ]
    },
    {
      "cell_type": "markdown",
      "metadata": {
        "id": "3Q-b5J93rNh2"
      },
      "source": [
        "## Partner\n",
        "\n",
        "Get Impresso partners that provided content items mentioning \"pomme\"."
      ]
    },
    {
      "cell_type": "code",
      "execution_count": null,
      "metadata": {
        "id": "FnUFBe16rNh2",
        "outputId": "35035551-6d0f-451a-a484-2546897473ea"
      },
      "outputs": [
        {
          "data": {
            "text/html": [
              "<div style=\"display: grid; grid-template-columns: minmax(200px, 1fr) auto;\">\n",
              "<div>\n",
              "<h2>Facet result</h2>\n",
              "<div>Contains <b>4</b> items of <b>4</b> total items.</div>\n",
              "<br/>\n",
              "See this result in the <a href=\"https://impresso-project.ch/app/search?index=search&facet=type&domain=partner&sq=CgkYByoFcG9tbWU=&p=1\">Impresso App</a>.\n",
              "</div>\n",
              "<div style=\"align-content: center;\"><img src=\"data:image/png;base64,iVBORw0KGgoAAAANSUhEUgAAA7YAAABhCAYAAADiKT2SAAAAOXRFWHRTb2Z0d2FyZQBNYXRwbG90bGliIHZlcnNpb24zLjkuMiwgaHR0cHM6Ly9tYXRwbG90bGliLm9yZy8hTgPZAAAACXBIWXMAAA9hAAAPYQGoP6dpAAAClklEQVR4nO3bUQ3CMBhGUUomBD8YQsIMzQ9Oiogtae44R8H/evO1Y875AAAAgKrn6gMAAADgDGELAABAmrAFAAAgTdgCAACQJmwBAABIE7YAAACkCVsAAADShC0AAABpwhYAAIA0YQsAAECasAUAACBN2AIAAJAmbAEAAEjbVh8AAAAlr88xV98AZ33391h9w5UstgAAAKQJWwAAANKELQAAAGnCFgAAgDRhCwAAQJqwBQAAIE3YAgAAkCZsAQAASBO2AAAApAlbAAAA0oQtAAAAacIWAACANGELAABAmrAFAAAgTdgCAACQJmwBAABIE7YAAACkCVsAAADShC0AAABpwhYAAIA0YQsAAECasAUAACBN2AIAAJAmbAEAAEgTtgAAAKQJWwAAANKELQAAAGnCFgAAgDRhCwAAQJqwBQAAIE3YAgAAkCZsAQAASBO2AAAApAlbAAAA0oQtAAAAacIWAACANGELAABAmrAFAAAgTdgCAACQJmwBAABIE7YAAACkCVsAAADShC0AAABpwhYAAIA0YQsAAECasAUAACBN2AIAAJAmbAEAAEgTtgAAAKQJWwAAANKELQAAAGnCFgAAgDRhCwAAQJqwBQAAIE3YAgAAkCZsAQAASBO2AAAApAlbAAAA0oQtAAAAacIWAACANGELAABAmrAFAAAgTdgCAACQJmwBAABIE7YAAACkbasPuNrrc8zVN8BZ3/09Vt8AAAAVFlsAAADShC0AAABpt3uKDAD/wvcb7sD3G+AKFlsAAADSLLbAJSxH3IHlCACaLLYAAACkjTmNLAAAAHRZbAEAAEgTtgAAAKQJWwAAANKELQAAAGnCFgAAgDRhCwAAQJqwBQAAIE3YAgAAkCZsAQAASPsBUowWw3PIceoAAAAASUVORK5CYII=\" style=\"max-width: 800px; width: 100%;\"></div>\n",
              "</div>\n",
              "<h3>Data preview:</h3>\n",
              "<div>\n",
              "<style scoped>\n",
              "    .dataframe tbody tr th:only-of-type {\n",
              "        vertical-align: middle;\n",
              "    }\n",
              "\n",
              "    .dataframe tbody tr th {\n",
              "        vertical-align: top;\n",
              "    }\n",
              "\n",
              "    .dataframe thead th {\n",
              "        text-align: right;\n",
              "    }\n",
              "</style>\n",
              "<table border=\"1\" class=\"dataframe\">\n",
              "  <thead>\n",
              "    <tr style=\"text-align: right;\">\n",
              "      <th></th>\n",
              "      <th>count</th>\n",
              "    </tr>\n",
              "    <tr>\n",
              "      <th>value</th>\n",
              "      <th></th>\n",
              "    </tr>\n",
              "  </thead>\n",
              "  <tbody>\n",
              "    <tr>\n",
              "      <th>BNL</th>\n",
              "      <td>4862</td>\n",
              "    </tr>\n",
              "    <tr>\n",
              "      <th>Migros</th>\n",
              "      <td>1230</td>\n",
              "    </tr>\n",
              "    <tr>\n",
              "      <th>NZZ</th>\n",
              "      <td>2751</td>\n",
              "    </tr>\n",
              "  </tbody>\n",
              "</table>\n",
              "</div>"
            ],
            "text/plain": [
              "<impresso.resources.search.FacetDataContainer at 0x119a86090>"
            ]
          },
          "execution_count": 41,
          "metadata": {},
          "output_type": "execute_result"
        }
      ],
      "source": [
        "impresso.search.facet(\"partner\", term=\"pomme\")"
      ]
    }
  ],
  "metadata": {
    "kernelspec": {
      "display_name": ".venv",
      "language": "python",
      "name": "python3"
    },
    "language_info": {
      "codemirror_mode": {
        "name": "ipython",
        "version": 3
      },
      "file_extension": ".py",
      "mimetype": "text/x-python",
      "name": "python",
      "nbconvert_exporter": "python",
      "pygments_lexer": "ipython3",
      "version": "3.11.9"
    },
    "colab": {
      "provenance": []
    }
  },
  "nbformat": 4,
  "nbformat_minor": 0
}