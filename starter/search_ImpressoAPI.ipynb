{
  "cells": [
    {
      "cell_type": "markdown",
      "metadata": {},
      "source": [
        "# A quick guide to searching with Impresso library "
      ]
    },
    {
      "cell_type": "markdown",
      "metadata": {},
      "source": [
        "## What is this notebook about?\n",
        "\n",
        "This notebook serves as a quick guide to searching with [Impresso Python Library](https://impresso.github.io/impresso-py/). By using this, you will be able to find content items in Impresso using a variety of filters. While it is useful to introduce new users to the capabilities of the library, it can also be used as a cheatsheet, to which you can always refer to when you need a rapid solution. \n",
        "\n",
        "Please, note that some news headlines (titles) and transcripts might be shown as **[redacted]** depending on the copyright access your user plan allows."
      ]
    },
    {
      "cell_type": "markdown",
      "metadata": {},
      "source": [
        "---\n",
        "\n",
        "## What will you learn?\n",
        "\n",
        "In this notebook, you will learn how to:\n",
        "\n",
        "- Navigate the Impresso corpus via API\n",
        "- Use the diffent search functionalities available on the Impresso Python library.\n",
        "- Write complex queries (including AND and OR queries)\n",
        "\n",
        "This notebook will guide you through these core functionalities and help you get familiar with the Impresso library capabilities."
      ]
    },
    {
      "cell_type": "markdown",
      "metadata": {},
      "source": [
        "---\n",
        "## Prerequisites\n",
        "\n",
        "Run the following cell to install the `impresso` python library. You may need to restart the kernel to use updated packages. To do so, on Google Colab, go to *Runtime* and select *Restart session*."
      ]
    },
    {
      "cell_type": "code",
      "execution_count": null,
      "metadata": {
        "id": "VX2zOQu4rNhv",
        "outputId": "a4daa4f6-70f5-419a-9751-eab488ac3a95"
      },
      "outputs": [],
      "source": [
        "from impresso import connect\n",
        "\n",
        "impresso = connect()"
      ]
    },
    {
      "cell_type": "markdown",
      "metadata": {
        "id": "tQccImeIrNhw"
      },
      "source": [
        "### `term`\n",
        "\n",
        "Start by searching for content items containing the keyword 'impresso'.\n",
        "> In Impresso, a **Content Item** is the smallest unit of editorial content within a newspaper or radio collection. This can be an article (for newspapers) or a radio show or episode (for radio programs). Content items can also vary by type, including articles, advertisements, tables, images, and more. Please note that when a newspaper does not have segmentation (OLR) content items for this title correspond to pages.\n",
        "\n",
        "**Important note:** on the output, you will find the option 'See this result in the Impresso App'. By clicking on the link, you will be able to visualise the same result you retrieve using this notebook by using the powerful interface of the Impresso App. This is part of the Impresso project effort of integrating the workflow of the Web App and the Datalab!  "
      ]
    },
    {
      "cell_type": "code",
      "execution_count": null,
      "metadata": {
        "id": "SsAsxHeorNhw",
        "outputId": "d8632ba6-8e24-450a-d18e-d9e449b1ccd5"
      },
      "outputs": [],
      "source": [
        "impresso.search.find(term=\"impresso\")"
      ]
    },
    {
      "cell_type": "markdown",
      "metadata": {
        "id": "NdAXp4xfrNhw"
      },
      "source": [
        "### `with_text_contents`\n",
        "\n",
        "Retrieve only content items that contain textal data. "
      ]
    },
    {
      "cell_type": "code",
      "execution_count": null,
      "metadata": {
        "id": "kEs6two4rNhw",
        "outputId": "e7f7562f-b06c-48f5-8310-fc2f9b8c27e6"
      },
      "outputs": [],
      "source": [
        "impresso.search.find(term=\"impresso\", with_text_contents=True)"
      ]
    },
    {
      "cell_type": "markdown",
      "metadata": {
        "id": "yP_SnBtArNhw"
      },
      "source": [
        "### `Title`\n",
        "Retrieve only content itens that have the keyword 'impresso' in the title (news headline)."
      ]
    },
    {
      "cell_type": "code",
      "execution_count": null,
      "metadata": {
        "id": "ys_soMnErNhw",
        "outputId": "a9212606-68f8-4e15-f87c-a3eb6b34f701"
      },
      "outputs": [],
      "source": [
        "impresso.search.find(title=\"impresso\")"
      ]
    },
    {
      "cell_type": "markdown",
      "metadata": {
        "id": "vE5xiewOrNhx"
      },
      "source": [
        "## Complex term requests\n"
      ]
    },
    {
      "cell_type": "markdown",
      "metadata": {},
      "source": [
        "### `AND` queries\n",
        "Find content items that contain more than one term."
      ]
    },
    {
      "cell_type": "code",
      "execution_count": null,
      "metadata": {
        "id": "YZW5txFIrNhx",
        "outputId": "a5bf1f31-1a9a-4e9e-f26e-ed3fd232f2dc"
      },
      "outputs": [],
      "source": [
        "from impresso import AND\n",
        "\n",
        "impresso.search.find(title=AND(\"homme\", \"femme\"))"
      ]
    },
    {
      "cell_type": "markdown",
      "metadata": {},
      "source": [
        "### `OR` queries\n",
        "Find content items that contain either one or another term."
      ]
    },
    {
      "cell_type": "code",
      "execution_count": null,
      "metadata": {
        "id": "uqN79yqlrNhx",
        "outputId": "fc8cbdaa-6481-4c29-ba84-aa9be90e7130"
      },
      "outputs": [],
      "source": [
        "from impresso import OR\n",
        "\n",
        "impresso.search.find(title=OR(\"homme\", \"femme\"))"
      ]
    },
    {
      "cell_type": "markdown",
      "metadata": {
        "id": "hRoPt_YUrNhx"
      },
      "source": [
        "### Inverted search (everything excluding term A __OR__ term B).\n",
        "\n",
        "To find all content items containing the word \"luddite\" in the title that do not mention neither \"textile\" nor \"machine\", you can use `~` before **OR**"
      ]
    },
    {
      "cell_type": "code",
      "execution_count": null,
      "metadata": {
        "id": "yuuyejifrNhx",
        "outputId": "003c0ef4-3660-4e46-b8b8-c62d909523ab"
      },
      "outputs": [],
      "source": [
        "from impresso import OR\n",
        "\n",
        "impresso.search.find(title=\"luddite\", term=~OR(\"textile\", \"machine\"))"
      ]
    },
    {
      "cell_type": "markdown",
      "metadata": {
        "id": "vkUISKqJrNhx"
      },
      "source": [
        "### Complex combintation of terms\n",
        "\n",
        "The following cell searches all content items with all of the the following conditions:\n",
        "\n",
        "* mentioning 'hitler' AND 'stalin'\n",
        "* also mentioning either 'molotow' OR 'ribbentrop'\n",
        "* and not mentioning 'churchill'"
      ]
    },
    {
      "cell_type": "code",
      "execution_count": null,
      "metadata": {
        "id": "Dak7erlhrNhx",
        "outputId": "08b3ee7c-413f-4a1b-8912-6b9c6a32a388"
      },
      "outputs": [],
      "source": [
        "from impresso import AND, OR\n",
        "\n",
        "impresso.search.find(term=AND(\"hitler\", \"stalin\") & OR(\"molotow\", \"ribbentrop\") & ~OR(\"churchill\"))"
      ]
    },
    {
      "cell_type": "markdown",
      "metadata": {
        "id": "VsP7V4JSrNhx"
      },
      "source": [
        "### `front_page`\n",
        "\n",
        "Retrieve content items published on the newspaper's front page only"
      ]
    },
    {
      "cell_type": "code",
      "execution_count": null,
      "metadata": {
        "id": "VM0erpoArNhx",
        "outputId": "19546e49-29b2-4523-fc26-4eff24db3f5e"
      },
      "outputs": [],
      "source": [
        "impresso.search.find(term=\"impresso\", front_page=True)"
      ]
    },
    {
      "cell_type": "markdown",
      "metadata": {
        "id": "BZGh38fNrNhx"
      },
      "source": [
        "### `entity_id`\n",
        "\n",
        "Search by entity ID. All entities in the Impresso corpus have a specific id. You can use that id to retrieve content items where this specific entity is mention. "
      ]
    },
    {
      "cell_type": "code",
      "execution_count": null,
      "metadata": {
        "id": "3FrycShvrNhx",
        "outputId": "116958d3-5a6a-474d-fa71-aac1ef38e01a"
      },
      "outputs": [],
      "source": [
        "impresso.search.find(entity_id=\"aida-0001-54-Switzerland\")"
      ]
    },
    {
      "cell_type": "markdown",
      "metadata": {},
      "source": [
        "But where do I find the entity id? You can simply make a search for the entity using the cell below and the `entity_id` will be shown in the first column.\n",
        "\n",
        "PS: There are various entities mentioning Switzerland. We are looking for the Country, so we use the fist one in the output. The others refer to cities or Cantons. "
      ]
    },
    {
      "cell_type": "code",
      "execution_count": null,
      "metadata": {},
      "outputs": [],
      "source": [
        "impresso.entities.find(term=\"Switzerland\")"
      ]
    },
    {
      "cell_type": "markdown",
      "metadata": {
        "id": "-a2reFgIrNhx"
      },
      "source": [
        "You can retrieve all content items that mention both the entities Switzerland **AND** Albert Einstein."
      ]
    },
    {
      "cell_type": "code",
      "execution_count": null,
      "metadata": {
        "id": "T54DA47xrNhx",
        "outputId": "ec86df09-0be7-4440-9428-2ebce9160d05"
      },
      "outputs": [],
      "source": [
        "impresso.search.find(entity_id=AND(\"aida-0001-54-Switzerland\", \"aida-0001-50-Albert_Einstein\"))"
      ]
    },
    {
      "cell_type": "markdown",
      "metadata": {
        "id": "eeTrx9IhrNhx"
      },
      "source": [
        "Also, find all content items that mention either Switzerland **OR** Albert Einstein."
      ]
    },
    {
      "cell_type": "code",
      "execution_count": null,
      "metadata": {
        "id": "QjgqTBJBrNhy",
        "outputId": "b2f65678-27d9-4e2c-d3f1-e62d3b8aaac0"
      },
      "outputs": [],
      "source": [
        "impresso.search.find(entity_id=OR(\"aida-0001-54-Switzerland\", \"aida-0001-50-Albert_Einstein\"))"
      ]
    },
    {
      "cell_type": "markdown",
      "metadata": {
        "id": "k5Ak69oLrNhy"
      },
      "source": [
        "### `newspaper_id`\n",
        "\n",
        "Retrieve content items that have been published by a specific newspapers. In the case below, either by EXP (L'Express) or GDL (Gazette de Lausanne)"
      ]
    },
    {
      "cell_type": "code",
      "execution_count": null,
      "metadata": {
        "id": "g5C7z6PvrNhy",
        "outputId": "6c24a907-72e9-4f5c-8e2c-64bdac3ac182"
      },
      "outputs": [],
      "source": [
        "impresso.search.find(term=\"independence\", newspaper_id=OR(\"EXP\", \"GDL\"))"
      ]
    },
    {
      "cell_type": "markdown",
      "metadata": {},
      "source": [
        "But how do I find the newspapers' acronyms? \n",
        "\n",
        "You can simply use Facet search method to retrieve all newspapers that are relevant to your keyword search. "
      ]
    },
    {
      "cell_type": "code",
      "execution_count": null,
      "metadata": {},
      "outputs": [],
      "source": [
        "df_newspapers = impresso.search.facet(\"newspaper\", term=\"independence\", limit=100)\n",
        "df_newspapers.df"
      ]
    },
    {
      "cell_type": "markdown",
      "metadata": {
        "id": "RQtL2_5ZrNhy"
      },
      "source": [
        "### `DateRange`\n",
        "\n",
        "By using `DateRange`, you can delimit a timeframe for your search. In the example below, we will find content items mentioning the word 'independence', published between 21st May 1921 and 2nd January 2001. "
      ]
    },
    {
      "cell_type": "code",
      "execution_count": null,
      "metadata": {
        "id": "O_MLVFZSrNhy",
        "outputId": "cce891e1-8f6b-4909-fd86-0268594aca9c"
      },
      "outputs": [],
      "source": [
        "from impresso import DateRange\n",
        "\n",
        "impresso.search.find(term=\"independence\", date_range=DateRange(\"1921-05-21\", \"2001-01-02\"))"
      ]
    },
    {
      "cell_type": "markdown",
      "metadata": {
        "id": "7reMIDGprNhy"
      },
      "source": [
        "You can also search for content items published outside the date range by using the `~` ."
      ]
    },
    {
      "cell_type": "code",
      "execution_count": null,
      "metadata": {
        "id": "eX1eFpLWrNhy",
        "outputId": "9bef3d4f-3e45-4db4-a0db-d53e6fe0012d"
      },
      "outputs": [],
      "source": [
        "from impresso import DateRange\n",
        "\n",
        "impresso.search.find(term=\"independence\", date_range=~DateRange(\"1921-05-21\", \"2001-01-02\"))"
      ]
    },
    {
      "cell_type": "markdown",
      "metadata": {
        "id": "lXe0d1WurNhy"
      },
      "source": [
        "### `language`\n",
        "\n",
        "Search for the term \"Paris\" in content items in German or English language."
      ]
    },
    {
      "cell_type": "code",
      "execution_count": null,
      "metadata": {
        "id": "ROzJb01-rNhy",
        "outputId": "9371ddee-fbc9-44d5-8cdd-8b2d63d5184f"
      },
      "outputs": [],
      "source": [
        "impresso.search.find(term=\"Paris\", language=OR(\"de\", \"en\"))"
      ]
    },
    {
      "cell_type": "markdown",
      "metadata": {
        "id": "i6Hnsuz0rNhy"
      },
      "source": [
        "And now search for the word \"banana\" in any language **except** English or German."
      ]
    },
    {
      "cell_type": "code",
      "execution_count": null,
      "metadata": {
        "id": "3-QVy2YxrNhy",
        "outputId": "79196cfe-71e1-4857-fed6-f10dbd3b0ac4"
      },
      "outputs": [],
      "source": [
        "impresso.search.find(term=\"banana\", language=~OR(\"de\", \"en\"))"
      ]
    },
    {
      "cell_type": "markdown",
      "metadata": {
        "id": "vpxjVNCerNhy"
      },
      "source": [
        "### `topic_id`\n",
        "\n",
        "Find content items that match either of the two topics."
      ]
    },
    {
      "cell_type": "code",
      "execution_count": null,
      "metadata": {
        "id": "DZ94E-aXrNhy",
        "outputId": "c7aac3a8-3ce4-4111-d6d0-18326a2f5d81"
      },
      "outputs": [],
      "source": [
        "impresso.search.find(topic_id=OR(\"tm-fr-all-v2.0_tp07_fr\", \"tm-fr-all-v2.0_tp48_fr\")) "
      ]
    },
    {
      "cell_type": "markdown",
      "metadata": {},
      "source": [
        "But how do I know the topic_id?\n",
        "\n",
        "You can search for a specific term using a facet search method. The `topic_id` will be displayed in the first column. See example below:"
      ]
    },
    {
      "cell_type": "code",
      "execution_count": null,
      "metadata": {},
      "outputs": [],
      "source": [
        "impresso.search.facet(\"topic\", term=\"Paris\")"
      ]
    },
    {
      "cell_type": "markdown",
      "metadata": {
        "id": "iQvbey2DrNhy"
      },
      "source": [
        "### `collection_id`\n",
        "You can display all content items you saved in one of your collections."
      ]
    },
    {
      "cell_type": "code",
      "execution_count": null,
      "metadata": {
        "id": "Ed9-thU1rNh1",
        "outputId": "23afebbc-25c8-4db8-ed65-382153126c13"
      },
      "outputs": [],
      "source": [
        "impresso.search.find(collection_id=\"ADD_COLLECTION_ID_HERE\")"
      ]
    },
    {
      "cell_type": "markdown",
      "metadata": {},
      "source": [
        "To find the id of one of your collections, you can use the code below:"
      ]
    },
    {
      "cell_type": "code",
      "execution_count": null,
      "metadata": {},
      "outputs": [],
      "source": [
        "impresso.search.facet(\"collection\")"
      ]
    },
    {
      "cell_type": "markdown",
      "metadata": {
        "id": "RigZKdGhrNh1"
      },
      "source": [
        "### `country`\n",
        "\n",
        "Find all content items published in either of the two specified countries."
      ]
    },
    {
      "cell_type": "code",
      "execution_count": null,
      "metadata": {
        "id": "OB6VHZSbrNh1",
        "outputId": "e03b18ab-34db-4a37-f0f5-3af11656d8ee"
      },
      "outputs": [],
      "source": [
        "impresso.search.find(term=\"Schengen\", country=OR(\"FR\", \"CH\"))"
      ]
    },
    {
      "cell_type": "markdown",
      "metadata": {
        "id": "1xJ6BDtVrNh1"
      },
      "source": [
        "### `partner_id`\n",
        "\n",
        "Limit search to content items provided by a specific partner of the Impresso project."
      ]
    },
    {
      "cell_type": "code",
      "execution_count": null,
      "metadata": {
        "id": "lupcHyxSrNh1",
        "outputId": "9215b9ab-e9ad-492e-935a-caa22daa6d14"
      },
      "outputs": [],
      "source": [
        "impresso.search.find(term=\"Schengen\", partner_id=\"Migros\")"
      ]
    },
    {
      "cell_type": "markdown",
      "metadata": {
        "id": "S6ZaAZF4rNh1"
      },
      "source": [
        "### `text_reuse_cluster_id`\n",
        "\n",
        "Find all content items that are part of a specific text reuse cluster."
      ]
    },
    {
      "cell_type": "code",
      "execution_count": null,
      "metadata": {
        "id": "aiGRIr1HrNh1",
        "outputId": "760a3d3e-594e-454e-f83b-07702ccbf418"
      },
      "outputs": [],
      "source": [
        "from impresso import OR\n",
        "impresso.search.find(text_reuse_cluster_id=OR(\"tr-nobp-all-v01-c29\"))"
      ]
    },
    {
      "cell_type": "markdown",
      "metadata": {
        "id": "XA49wdw0rNh1"
      },
      "source": [
        "## Facets\n",
        "\n",
        "Facets search is a way to get statistics for your search using Impresso metadata. Facets search method has the same attributes as the search method.\n",
        "\n",
        "Some of these Facet search methods have been used above already. Here you will find more:"
      ]
    },
    {
      "cell_type": "markdown",
      "metadata": {
        "id": "Bx_IlCzwrNh1"
      },
      "source": [
        "### Date range\n",
        "\n",
        "Get the number of content items that mention 'Impresso', published on a particular date."
      ]
    },
    {
      "cell_type": "code",
      "execution_count": null,
      "metadata": {
        "id": "dweMJNhArNh1",
        "outputId": "e41c7209-eb86-4307-b3d9-715c84b34069"
      },
      "outputs": [],
      "source": [
        "impresso.search.facet(\"daterange\", term=\"impresso\")"
      ]
    },
    {
      "cell_type": "markdown",
      "metadata": {
        "id": "sHUzpynTrNh1"
      },
      "source": [
        "### Year\n",
        "\n",
        "Get the number of content items that mention 'impresso', published during a particular year."
      ]
    },
    {
      "cell_type": "code",
      "execution_count": null,
      "metadata": {
        "id": "ZCHvc5BTrNh1",
        "outputId": "7791c65c-b468-496e-9510-f86cad2cd9d4"
      },
      "outputs": [],
      "source": [
        "impresso.search.facet(\"year\", term=\"impresso\")"
      ]
    },
    {
      "cell_type": "markdown",
      "metadata": {
        "id": "SwE-efvsrNh1"
      },
      "source": [
        "### Content length\n",
        "\n",
        "Get the number of content items that mention 'impresso', grouped by content length.\n",
        "\n",
        "Results are grouped by 100 words. This way, 0 means content items containing between 0 - 100 words. "
      ]
    },
    {
      "cell_type": "code",
      "execution_count": null,
      "metadata": {
        "id": "Bo2vKqSfrNh1",
        "outputId": "bae2eacd-f9d0-4d36-cb46-8860068c55be"
      },
      "outputs": [],
      "source": [
        "impresso.search.facet(\"contentLength\", term=\"impresso\") "
      ]
    },
    {
      "cell_type": "markdown",
      "metadata": {
        "id": "lrMIR-0LrNh1"
      },
      "source": [
        "### Month\n",
        "\n",
        "Get the number of content items that mention 'impresso', published during a particular month.\n",
        "\n",
        "PS: Months are represented by numbers in column 'value'. 1 = January..."
      ]
    },
    {
      "cell_type": "code",
      "execution_count": null,
      "metadata": {
        "id": "YWAo9oc6rNh1",
        "outputId": "7cc49669-5339-41b4-f0fb-aa15dcabe0e8"
      },
      "outputs": [],
      "source": [
        "impresso.search.facet(\"month\", term=\"impresso\") "
      ]
    },
    {
      "cell_type": "markdown",
      "metadata": {
        "id": "k-8kBnl1rNh1"
      },
      "source": [
        "### Country\n",
        "\n",
        "Get the number of content items that mention 'impresso', grouped by country of publication."
      ]
    },
    {
      "cell_type": "code",
      "execution_count": null,
      "metadata": {
        "id": "FKacmnlzrNh1",
        "outputId": "fd9b702f-d8d4-43d6-8894-774d5df3e7d3"
      },
      "outputs": [],
      "source": [
        "impresso.search.facet(\"country\", term=\"impresso\")"
      ]
    },
    {
      "cell_type": "markdown",
      "metadata": {
        "id": "Q38MpDMerNh1"
      },
      "source": [
        "### Type\n",
        "\n",
        "Get the number of items that mention 'impresso', grouped by type of item.\n",
        "\n",
        "Dictionary:\n",
        "\n",
        "* ad = advertisement\n",
        "* ar = article\n",
        "* ob = obtuary "
      ]
    },
    {
      "cell_type": "code",
      "execution_count": null,
      "metadata": {
        "id": "54u0HPIYrNh1",
        "outputId": "bbc87eb8-f52a-4608-9610-c9259fd557b2"
      },
      "outputs": [],
      "source": [
        "impresso.search.facet(\"type\")"
      ]
    },
    {
      "cell_type": "markdown",
      "metadata": {
        "id": "RUApyk5qrNh1"
      },
      "source": [
        "### Topic\n",
        "\n",
        "Find topics that the content items mentioning 'impresso' are related to."
      ]
    },
    {
      "cell_type": "code",
      "execution_count": null,
      "metadata": {
        "id": "oBB_JPBqrNh1",
        "outputId": "3b102d27-2354-48b2-b3dd-997801b5bdea"
      },
      "outputs": [],
      "source": [
        "impresso.search.facet(\"topic\", term=\"pomme\")"
      ]
    },
    {
      "cell_type": "markdown",
      "metadata": {
        "id": "A1r-gsIOrNh1"
      },
      "source": [
        "### Collection\n",
        "\n",
        "Find within your collections, a collection in which a content items containing 'pomme' is stored. This will just work if you have a collection in Impresso. "
      ]
    },
    {
      "cell_type": "code",
      "execution_count": null,
      "metadata": {
        "id": "9l9IuogyrNh1",
        "outputId": "000bded0-db37-421a-f964-b9c4bc1bebe1"
      },
      "outputs": [],
      "source": [
        "impresso.search.facet(\"collection\", term=\"pomme\")"
      ]
    },
    {
      "cell_type": "markdown",
      "metadata": {
        "id": "uvznf9K8rNh2"
      },
      "source": [
        "### Newspaper\n",
        "\n",
        "Find newspapers in which content items mentioning the keyword 'Schengen' have been published in."
      ]
    },
    {
      "cell_type": "code",
      "execution_count": null,
      "metadata": {
        "id": "z2GLejmcrNh2",
        "outputId": "90ea2ac7-185f-4778-8ac8-844fb7938a02"
      },
      "outputs": [],
      "source": [
        "impresso.search.facet(\"newspaper\", term=\"Schengen\")"
      ]
    },
    {
      "cell_type": "markdown",
      "metadata": {
        "id": "y5GEHpMHrNh2"
      },
      "source": [
        "### Language\n",
        "\n",
        "Find the languages of content items mentioning the keyword 'impresso'."
      ]
    },
    {
      "cell_type": "code",
      "execution_count": null,
      "metadata": {
        "id": "FAtPwGO8rNh2",
        "outputId": "0a37d73a-2568-40ca-b4db-da10d0118c9e"
      },
      "outputs": [],
      "source": [
        "impresso.search.facet(\"language\", term=\"Schengen\")"
      ]
    },
    {
      "cell_type": "markdown",
      "metadata": {
        "id": "PhsW_r6-rNh2"
      },
      "source": [
        "### Person\n",
        "\n",
        "Find all persons mentioned in content items that contain the keyword 'Schengen'. "
      ]
    },
    {
      "cell_type": "code",
      "execution_count": null,
      "metadata": {
        "id": "7gdI4C0BrNh2",
        "outputId": "c62c337d-1c33-46aa-e01e-9569fdc1a09b"
      },
      "outputs": [],
      "source": [
        "impresso.search.facet(\"person\", term=\"Schengen\", offset=7140)"
      ]
    },
    {
      "cell_type": "markdown",
      "metadata": {
        "id": "Gt282HuArNh2"
      },
      "source": [
        "### Location\n",
        "\n",
        "Find all locations mentioned in content items that mention 'Schengen'."
      ]
    },
    {
      "cell_type": "code",
      "execution_count": null,
      "metadata": {
        "id": "WltO-s2VrNh2",
        "outputId": "98784543-21bf-4be2-989f-6352855769bc"
      },
      "outputs": [],
      "source": [
        "impresso.search.facet(\"location\", term=\"Schengen\", offset=3310)"
      ]
    },
    {
      "cell_type": "markdown",
      "metadata": {
        "id": "hdnrb9Z3rNh2"
      },
      "source": [
        "### NAG\n",
        "\n",
        "Find all entities without a known entity type (not tagged as person or location, for example) mentioned in content items that contain the keywords 'homme' and 'femme'."
      ]
    },
    {
      "cell_type": "code",
      "execution_count": null,
      "metadata": {
        "id": "Ps5_BCyarNh2",
        "outputId": "67719174-405f-4450-dd17-30053d719354"
      },
      "outputs": [],
      "source": [
        "from impresso import AND\n",
        "impresso.search.facet(\"nag\", title=AND(\"homme\", \"femme\"))"
      ]
    },
    {
      "cell_type": "markdown",
      "metadata": {
        "id": "kgWcJUEwrNh2"
      },
      "source": [
        "### Access rights\n",
        "\n",
        "Get access rights of content items mentioning 'pomme'."
      ]
    },
    {
      "cell_type": "code",
      "execution_count": null,
      "metadata": {
        "id": "CeLsj8y8rNh2",
        "outputId": "c019586e-616b-491e-bef6-0d1452b19713"
      },
      "outputs": [],
      "source": [
        "impresso.search.facet(\"accessRight\", term=\"pomme\")"
      ]
    },
    {
      "cell_type": "markdown",
      "metadata": {
        "id": "3Q-b5J93rNh2"
      },
      "source": [
        "### Partner\n",
        "\n",
        "Get Impresso partners that provided content items mentioning 'pomme'."
      ]
    },
    {
      "cell_type": "code",
      "execution_count": null,
      "metadata": {
        "id": "FnUFBe16rNh2",
        "outputId": "35035551-6d0f-451a-a484-2546897473ea"
      },
      "outputs": [],
      "source": [
        "impresso.search.facet(\"partner\", term=\"pomme\")"
      ]
    },
    {
      "cell_type": "markdown",
      "metadata": {},
      "source": [
        "## Conclusion\n",
        "That's it for now! Next, you can explore:\n",
        "\n",
        "- the [Introduction to the Impresso Python Library](https://github.com/impresso/impresso-datalab-notebooks/blob/main/starter/basics_ImpressoAPI.ipynb) notebook, which demonstrates how to use the Impresso Library further, including managing collections and much more.\n",
        "- if you want to learn more about the Impresso Python library, you can find its [documentation here](https://impresso.github.io/impresso-py/)"
      ]
    },
    {
      "cell_type": "markdown",
      "metadata": {},
      "source": [
        "---\n",
        "## Project and License info\n",
        "\n",
        "### Impresso project\n",
        "\n",
        "[Impresso - Media Monitoring of the Past](https://impresso-project.ch) is an interdisciplinary research project that aims to develop and consolidate tools for processing and exploring large collections of media archives across modalities, time, languages and national borders. The first project (2017-2021) was funded by the Swiss National Science Foundation under grant No. [CRSII5_173719](http://p3.snf.ch/project-173719) and the second project (2023-2027) by the SNSF under grant No. [CRSII5_213585](https://data.snf.ch/grants/grant/213585) and the Luxembourg National Research Fund under grant No. 17498891.\n",
        "\n",
        "### Copyright\n",
        "\n",
        "Copyright (C) 2024 The Impresso team.\n",
        "\n",
        "### License\n",
        "\n",
        "This program is provided as open source under the [GNU Affero General Public License](https://github.com/impresso/impresso-pyindexation/blob/master/LICENSE) v3 or later.\n",
        "\n",
        "---\n",
        "\n",
        "<p align=\"center\">\n",
        "  <img src=\"https://github.com/impresso/impresso.github.io/blob/master/assets/images/3x1--Yellow-Impresso-Black-on-White--transparent.png?raw=true\" width=\"350\" alt=\"Impresso Project Logo\"/>\n",
        "</p>"
      ]
    },
    {
      "cell_type": "markdown",
      "metadata": {},
      "source": []
    }
  ],
  "metadata": {
    "colab": {
      "provenance": []
    },
    "kernelspec": {
      "display_name": ".venv",
      "language": "python",
      "name": "python3"
    },
    "language_info": {
      "codemirror_mode": {
        "name": "ipython",
        "version": 3
      },
      "file_extension": ".py",
      "mimetype": "text/x-python",
      "name": "python",
      "nbconvert_exporter": "python",
      "pygments_lexer": "ipython3",
      "version": "3.12.7"
    }
  },
  "nbformat": 4,
  "nbformat_minor": 0
}
