{
  "cells": [
    {
      "cell_type": "markdown",
      "metadata": {},
      "source": [
        "# A quick guide to searching with Impresso library \n",
        "\n",
        "<a target=\"_blank\" href=\"https://colab.research.google.com/github/impresso/impresso-datalab-notebooks/blob/main/starter/search_ImpressoAPI.ipynb\">\n",
        "  <img src=\"https://colab.research.google.com/assets/colab-badge.svg\" alt=\"Open In Colab\"/>\n",
        "</a>\n"
      ]
    },
    {
      "cell_type": "markdown",
      "metadata": {},
      "source": [
        "## What is this notebook about?\n",
        "\n",
        "This notebook serves as a quick guide to searching with [Impresso Python Library](https://impresso.github.io/impresso-py/). By using this, you will be able to find content items in Impresso using a variety of filters. While it is useful to introduce new users to the capabilities of the library, it can also be used as a cheatsheet, to which you can always refer to when you need a rapid solution. \n",
        "\n",
        "Please, note that some news headlines (titles) and transcripts might be shown as **[redacted]** depending on the copyright access your user plan allows."
      ]
    },
    {
      "cell_type": "markdown",
      "metadata": {},
      "source": [
        "## Why is this useful?\n",
        "\n",
        "While the [Impresso Web App](https://impresso-project.ch/app/) provides users with a powerful user-friendly interface, accessing Impresso data via the API allows for more flexibility in your research pipelines. This means you can, for example, create visualisations beyond those provided by the interface, such as the one described in detail in the Datalab notebook [Visualising Place Entities on Maps](https://github.com/impresso/impresso-datalab-notebooks/blob/main/explore-vis/place-entities_map.ipynb)."
      ]
    },
    {
      "cell_type": "markdown",
      "metadata": {},
      "source": [
        "## What will you learn?\n",
        "\n",
        "In this notebook, you will learn how to:\n",
        "\n",
        "- Navigate the Impresso corpus via API\n",
        "- Use the diffent search functionalities available on the Impresso Python library.\n",
        "- Write complex queries (including AND and OR queries)\n",
        "\n",
        "This notebook will guide you through these core functionalities and help you get familiar with the Impresso library capabilities."
      ]
    },
    {
      "cell_type": "markdown",
      "metadata": {},
      "source": [
        "## Prerequisites\n",
        "\n",
        "Run the following cell to install the `impresso` python library. You may need to restart the kernel to use updated packages. To do so, on Google Colab, go to *Runtime* and select *Restart session*."
      ]
    },
    {
      "cell_type": "code",
      "execution_count": null,
      "metadata": {},
      "outputs": [],
      "source": [
        "%pip install -q impresso"
      ]
    },
    {
      "cell_type": "markdown",
      "metadata": {},
      "source": [
        "## Initialising an Impresso Client\n",
        "\n",
        "By running the following cell, we create an instance of the Impresso client and authenticate it with the Impresso API.\n",
        "\n",
        "> The `impresso` variable stores an instance of `ImpressoClient`, which establishes a connection to the API using your authentication token. With this object, you can interact with the API to perform operations such as searching for content items, retrieving entities, and fetching facets.\n",
        "\n",
        "The following command will prompt you to enter your Impresso token if it has not been authenticated recently (it expires after 8 hours).\n",
        "\n",
        "To get access to an Impresso API token, go to [Impresso Datalab](https://impresso-project.ch/datalab/) and select *Get API Token* on the menu."
      ]
    },
    {
      "cell_type": "code",
      "execution_count": null,
      "metadata": {
        "id": "VX2zOQu4rNhv",
        "outputId": "a4daa4f6-70f5-419a-9751-eab488ac3a95"
      },
      "outputs": [],
      "source": [
        "from impresso import connect\n",
        "\n",
        "impresso = connect()"
      ]
    },
    {
      "cell_type": "markdown",
      "metadata": {
        "id": "tQccImeIrNhw"
      },
      "source": [
        "### `term`\n",
        "\n",
        "Start by searching for content items containing the keyword 'titanic'.\n",
        "> In Impresso, a **Content Item** is the smallest unit of editorial content within a newspaper or radio collection. This can be an article (for newspapers) or a radio show or episode (for radio programs). Content items can also vary by type, including articles, advertisements, tables, images, and more. Please note that when a newspaper does not have segmentation (OLR) content items for this title correspond to pages.\n",
        "\n",
        "**Important note:** on the output, you will find the option 'See this result in the Impresso App'. By clicking on the link, you will be able to visualise the same result you retrieved using this notebook by using the powerful interface of the Impresso Web App. This is part of the Impresso project effort to integrate the workflow of the Web App with the Datalab.\n",
        "\n",
        "By default, results are limited to 100. You can use the parameter `limit` to extend your results. Eg. (limit = 300). Maximum is 1000."
      ]
    },
    {
      "cell_type": "code",
      "execution_count": null,
      "metadata": {
        "id": "SsAsxHeorNhw",
        "outputId": "d8632ba6-8e24-450a-d18e-d9e449b1ccd5"
      },
      "outputs": [],
      "source": [
        "impresso.search.find(term=\"titanic\")"
      ]
    },
    {
      "cell_type": "markdown",
      "metadata": {
        "id": "NdAXp4xfrNhw"
      },
      "source": [
        "### `with_text_contents`\n",
        "\n",
        "Retrieve only content items that contain textual data. "
      ]
    },
    {
      "cell_type": "code",
      "execution_count": null,
      "metadata": {
        "id": "kEs6two4rNhw",
        "outputId": "e7f7562f-b06c-48f5-8310-fc2f9b8c27e6"
      },
      "outputs": [],
      "source": [
        "impresso.search.find(term=\"titanic\", with_text_contents=True)"
      ]
    },
    {
      "cell_type": "markdown",
      "metadata": {
        "id": "yP_SnBtArNhw"
      },
      "source": [
        "### `Title`\n",
        "Retrieve only content items that have the keyword 'titanic' in the title (news headline)."
      ]
    },
    {
      "cell_type": "code",
      "execution_count": null,
      "metadata": {
        "id": "ys_soMnErNhw",
        "outputId": "a9212606-68f8-4e15-f87c-a3eb6b34f701"
      },
      "outputs": [],
      "source": [
        "impresso.search.find(title=\"titanic\")"
      ]
    },
    {
      "cell_type": "markdown",
      "metadata": {
        "id": "vE5xiewOrNhx"
      },
      "source": [
        "## Complex term requests\n"
      ]
    },
    {
      "cell_type": "markdown",
      "metadata": {},
      "source": [
        "### `AND` queries\n",
        "Find content items that contain more than one term in the news headline."
      ]
    },
    {
      "cell_type": "code",
      "execution_count": null,
      "metadata": {
        "id": "YZW5txFIrNhx",
        "outputId": "a5bf1f31-1a9a-4e9e-f26e-ed3fd232f2dc"
      },
      "outputs": [],
      "source": [
        "from impresso import AND\n",
        "\n",
        "impresso.search.find(title=AND(\"titanic\", \"oscars\"))"
      ]
    },
    {
      "cell_type": "markdown",
      "metadata": {},
      "source": [
        "### `OR` queries\n",
        "Find content items that contain either one or another term."
      ]
    },
    {
      "cell_type": "code",
      "execution_count": null,
      "metadata": {
        "id": "uqN79yqlrNhx",
        "outputId": "fc8cbdaa-6481-4c29-ba84-aa9be90e7130"
      },
      "outputs": [],
      "source": [
        "from impresso import OR\n",
        "\n",
        "impresso.search.find(title=OR(\"titanic\", \"naufrage\"))"
      ]
    },
    {
      "cell_type": "markdown",
      "metadata": {
        "id": "hRoPt_YUrNhx"
      },
      "source": [
        "### Inverted search (everything excluding term A __OR__ term B).\n",
        "\n",
        "To find all content items containing the word \"titanic\" in the title that do not mention neither \"film\" nor \"pellicule\", you can use `~` before **OR**"
      ]
    },
    {
      "cell_type": "code",
      "execution_count": null,
      "metadata": {
        "id": "yuuyejifrNhx",
        "outputId": "003c0ef4-3660-4e46-b8b8-c62d909523ab"
      },
      "outputs": [],
      "source": [
        "from impresso import OR\n",
        "\n",
        "impresso.search.find(title=\"titanic\", term=~OR(\"film\", \"pellicule\"))"
      ]
    },
    {
      "cell_type": "markdown",
      "metadata": {
        "id": "vkUISKqJrNhx"
      },
      "source": [
        "### Complex combintation of terms\n",
        "\n",
        "The following cell searches all content items with all of the the following conditions:\n",
        "\n",
        "* mentioning 'titanic' AND '1912'\n",
        "* also mentioning either 'eisberg' OR 'iceberg'\n",
        "* and not mentioning 'film' nor 'pellicule'"
      ]
    },
    {
      "cell_type": "code",
      "execution_count": null,
      "metadata": {
        "id": "Dak7erlhrNhx",
        "outputId": "08b3ee7c-413f-4a1b-8912-6b9c6a32a388"
      },
      "outputs": [],
      "source": [
        "from impresso import AND, OR\n",
        "\n",
        "impresso.search.find(term=AND(\"titanic\", \"1912\") & OR(\"eisberg\", \"iceberg\") & ~OR(\"film\", \"pellicule\"))"
      ]
    },
    {
      "cell_type": "markdown",
      "metadata": {
        "id": "VsP7V4JSrNhx"
      },
      "source": [
        "### `front_page`\n",
        "\n",
        "Retrieve content items published on the newspaper's front page only"
      ]
    },
    {
      "cell_type": "code",
      "execution_count": null,
      "metadata": {
        "id": "VM0erpoArNhx",
        "outputId": "19546e49-29b2-4523-fc26-4eff24db3f5e"
      },
      "outputs": [],
      "source": [
        "impresso.search.find(term=\"titanic\", front_page=True)"
      ]
    },
    {
      "cell_type": "markdown",
      "metadata": {
        "id": "BZGh38fNrNhx"
      },
      "source": [
        "### `entity_id`\n",
        "\n",
        "Search by entity ID. All entities in the Impresso corpus have a specific id. You can use that id to retrieve content items where this specific entity is mentioned. "
      ]
    },
    {
      "cell_type": "code",
      "execution_count": null,
      "metadata": {
        "id": "3FrycShvrNhx",
        "outputId": "116958d3-5a6a-474d-fa71-aac1ef38e01a"
      },
      "outputs": [],
      "source": [
        "impresso.search.find(entity_id=\"aida-0001-50-James_Cameron\")"
      ]
    },
    {
      "cell_type": "markdown",
      "metadata": {},
      "source": [
        "But where do I find the entity id? You can simply make a search for the entity using the cell below and the `entity_id` will be shown in the first column.\n",
        "\n",
        "PS: There are various entities (10) mentioning James Cameron. We are looking for the film director, so we use the fist one in the output. You can check to whom each of the outputs refer by clicking on 'see this result in the Impresso App'. "
      ]
    },
    {
      "cell_type": "code",
      "execution_count": null,
      "metadata": {},
      "outputs": [],
      "source": [
        "impresso.entities.find(term=\"James Cameron\")"
      ]
    },
    {
      "cell_type": "markdown",
      "metadata": {
        "id": "-a2reFgIrNhx"
      },
      "source": [
        "You can retrieve all content items that mention both the entities James Cameron **AND** Leonardo Dicaprio."
      ]
    },
    {
      "cell_type": "code",
      "execution_count": null,
      "metadata": {
        "id": "T54DA47xrNhx",
        "outputId": "ec86df09-0be7-4440-9428-2ebce9160d05"
      },
      "outputs": [],
      "source": [
        "impresso.search.find(entity_id=AND(\"aida-0001-50-James_Cameron\", \"aida-0001-50-Leonardo_DiCaprio\"))"
      ]
    },
    {
      "cell_type": "markdown",
      "metadata": {
        "id": "eeTrx9IhrNhx"
      },
      "source": [
        "Also, find all content items that mention the word 'titanic' and either the entities James Cameron **OR** Barbara Stanwyck (actress in the film [Titanic (1953)](https://en.wikipedia.org/wiki/Titanic_(1953_film)))"
      ]
    },
    {
      "cell_type": "code",
      "execution_count": null,
      "metadata": {
        "id": "QjgqTBJBrNhy",
        "outputId": "b2f65678-27d9-4e2c-d3f1-e62d3b8aaac0"
      },
      "outputs": [],
      "source": [
        "impresso.search.find(term=\"titanic\", entity_id=OR(\"aida-0001-50-James_Cameron\", \"aida-0001-50-Barbara_Stanwyck\"))"
      ]
    },
    {
      "cell_type": "markdown",
      "metadata": {
        "id": "k5Ak69oLrNhy"
      },
      "source": [
        "### `newspaper_id`\n",
        "\n",
        "Retrieve content items that have been published by a specific newspapers. In the case below, either by EXP (L'Express) or GDL (Gazette de Lausanne)"
      ]
    },
    {
      "cell_type": "code",
      "execution_count": null,
      "metadata": {
        "id": "g5C7z6PvrNhy",
        "outputId": "6c24a907-72e9-4f5c-8e2c-64bdac3ac182"
      },
      "outputs": [],
      "source": [
        "impresso.search.find(term=\"titanic\", newspaper_id=OR(\"EXP\", \"GDL\"))"
      ]
    },
    {
      "cell_type": "markdown",
      "metadata": {},
      "source": [
        "But how do I find the newspapers' acronyms? \n",
        "\n",
        "You can simply use Facet search method to retrieve all newspapers that are relevant to your keyword search. "
      ]
    },
    {
      "cell_type": "code",
      "execution_count": null,
      "metadata": {},
      "outputs": [],
      "source": [
        "df_newspapers = impresso.search.facet(\"newspaper\", term=\"titanic\", limit=100)\n",
        "df_newspapers.df"
      ]
    },
    {
      "cell_type": "markdown",
      "metadata": {
        "id": "RQtL2_5ZrNhy"
      },
      "source": [
        "### `DateRange`\n",
        "\n",
        "By using `DateRange`, you can delimit a timeframe for your search. In the example below, you will find content items mentioning the word 'titanic', published between 15th April 1912 (date of the accident) and 1st January 1913. "
      ]
    },
    {
      "cell_type": "code",
      "execution_count": null,
      "metadata": {
        "id": "O_MLVFZSrNhy",
        "outputId": "cce891e1-8f6b-4909-fd86-0268594aca9c"
      },
      "outputs": [],
      "source": [
        "from impresso import DateRange\n",
        "\n",
        "impresso.search.find(term=\"titanic\", date_range=DateRange(\"1912-04-15\", \"1913-01-01\"))"
      ]
    },
    {
      "cell_type": "markdown",
      "metadata": {
        "id": "7reMIDGprNhy"
      },
      "source": [
        "You can also search for content items published outside the date range by using the `~` ."
      ]
    },
    {
      "cell_type": "code",
      "execution_count": null,
      "metadata": {
        "id": "eX1eFpLWrNhy",
        "outputId": "9bef3d4f-3e45-4db4-a0db-d53e6fe0012d"
      },
      "outputs": [],
      "source": [
        "from impresso import DateRange\n",
        "\n",
        "impresso.search.find(term=\"titanic\", date_range=~DateRange(\"1912-04-15\", \"1913-01-01\"))"
      ]
    },
    {
      "cell_type": "markdown",
      "metadata": {
        "id": "lXe0d1WurNhy"
      },
      "source": [
        "### `language`\n",
        "\n",
        "Search for the term \"titanic\" in content items in German or English language."
      ]
    },
    {
      "cell_type": "code",
      "execution_count": null,
      "metadata": {
        "id": "ROzJb01-rNhy",
        "outputId": "9371ddee-fbc9-44d5-8cdd-8b2d63d5184f"
      },
      "outputs": [],
      "source": [
        "impresso.search.find(term=\"titanic\", language=OR(\"de\", \"en\"))"
      ]
    },
    {
      "cell_type": "markdown",
      "metadata": {
        "id": "iQvbey2DrNhy"
      },
      "source": [
        "### `collection_id`\n",
        "You can display all content items you saved in one of your collections."
      ]
    },
    {
      "cell_type": "code",
      "execution_count": null,
      "metadata": {
        "id": "Ed9-thU1rNh1",
        "outputId": "23afebbc-25c8-4db8-ed65-382153126c13"
      },
      "outputs": [],
      "source": [
        "impresso.search.find(collection_id=\"ADD_COLLECTION_ID_HERE\")"
      ]
    },
    {
      "cell_type": "markdown",
      "metadata": {},
      "source": [
        "To find the id of one of your collections, you can use the code below:"
      ]
    },
    {
      "cell_type": "code",
      "execution_count": null,
      "metadata": {},
      "outputs": [],
      "source": [
        "impresso.search.facet(\"collection\")"
      ]
    },
    {
      "cell_type": "markdown",
      "metadata": {
        "id": "RigZKdGhrNh1"
      },
      "source": [
        "### `country`\n",
        "\n",
        "Find all content items published in either of the two specified countries."
      ]
    },
    {
      "cell_type": "code",
      "execution_count": null,
      "metadata": {
        "id": "OB6VHZSbrNh1",
        "outputId": "e03b18ab-34db-4a37-f0f5-3af11656d8ee"
      },
      "outputs": [],
      "source": [
        "impresso.search.find(term=\"titanic\", country=OR(\"FR\", \"CH\"))"
      ]
    },
    {
      "cell_type": "markdown",
      "metadata": {
        "id": "1xJ6BDtVrNh1"
      },
      "source": [
        "### `partner_id`\n",
        "\n",
        "Limit search to content items provided by a specific partner of the Impresso project."
      ]
    },
    {
      "cell_type": "code",
      "execution_count": null,
      "metadata": {
        "id": "lupcHyxSrNh1",
        "outputId": "9215b9ab-e9ad-492e-935a-caa22daa6d14"
      },
      "outputs": [],
      "source": [
        "impresso.search.find(term=\"titanic\", partner_id=\"Migros\")"
      ]
    },
    {
      "cell_type": "markdown",
      "metadata": {
        "id": "XA49wdw0rNh1"
      },
      "source": [
        "## Facets\n",
        "\n",
        "Facets search is a way to get statistics for your search using Impresso metadata. Facets search method has the same attributes as the search method.\n",
        "\n",
        "Some of these Facet search methods have been used above already. Here you will find more:"
      ]
    },
    {
      "cell_type": "markdown",
      "metadata": {
        "id": "Bx_IlCzwrNh1"
      },
      "source": [
        "### Date range\n",
        "\n",
        "Get the number of content items that mention 'titanic', published on a particular date."
      ]
    },
    {
      "cell_type": "code",
      "execution_count": null,
      "metadata": {
        "id": "dweMJNhArNh1",
        "outputId": "e41c7209-eb86-4307-b3d9-715c84b34069"
      },
      "outputs": [],
      "source": [
        "impresso.search.facet(\"daterange\", term=\"titanic\")"
      ]
    },
    {
      "cell_type": "markdown",
      "metadata": {
        "id": "sHUzpynTrNh1"
      },
      "source": [
        "### Year\n",
        "\n",
        "Get the number of content items that mention 'titanic', published during a particular year."
      ]
    },
    {
      "cell_type": "code",
      "execution_count": null,
      "metadata": {
        "id": "ZCHvc5BTrNh1",
        "outputId": "7791c65c-b468-496e-9510-f86cad2cd9d4"
      },
      "outputs": [],
      "source": [
        "impresso.search.facet(\"year\", term=\"titanic\")"
      ]
    },
    {
      "cell_type": "markdown",
      "metadata": {
        "id": "SwE-efvsrNh1"
      },
      "source": [
        "### Content length\n",
        "\n",
        "Get the number of content items that mention 'titanic', grouped by content length.\n",
        "\n",
        "Results are grouped by 100 words. This way, 0 means content items containing between 0 - 100 words. "
      ]
    },
    {
      "cell_type": "code",
      "execution_count": null,
      "metadata": {
        "id": "Bo2vKqSfrNh1",
        "outputId": "bae2eacd-f9d0-4d36-cb46-8860068c55be"
      },
      "outputs": [],
      "source": [
        "impresso.search.facet(\"contentLength\", term=\"titanic\") "
      ]
    },
    {
      "cell_type": "markdown",
      "metadata": {
        "id": "lrMIR-0LrNh1"
      },
      "source": [
        "### Month\n",
        "\n",
        "Get the number of content items that mention 'titanic', published during a particular month.\n",
        "\n",
        "PS: Months are represented by numbers in column 'value'. 1 = January..."
      ]
    },
    {
      "cell_type": "code",
      "execution_count": null,
      "metadata": {
        "id": "YWAo9oc6rNh1",
        "outputId": "7cc49669-5339-41b4-f0fb-aa15dcabe0e8"
      },
      "outputs": [],
      "source": [
        "impresso.search.facet(\"month\", term=\"titanic\") "
      ]
    },
    {
      "cell_type": "markdown",
      "metadata": {
        "id": "k-8kBnl1rNh1"
      },
      "source": [
        "### Country\n",
        "\n",
        "Get the number of content items that mention 'titanic', grouped by country of publication."
      ]
    },
    {
      "cell_type": "code",
      "execution_count": null,
      "metadata": {
        "id": "FKacmnlzrNh1",
        "outputId": "fd9b702f-d8d4-43d6-8894-774d5df3e7d3"
      },
      "outputs": [],
      "source": [
        "impresso.search.facet(\"country\", term=\"titanic\")"
      ]
    },
    {
      "cell_type": "markdown",
      "metadata": {
        "id": "Q38MpDMerNh1"
      },
      "source": [
        "### Type\n",
        "\n",
        "Get the number of items that mention 'titanic', grouped by type of item.\n",
        "\n",
        "Dictionary:\n",
        "\n",
        "* ad = advertisement\n",
        "* ar = article\n",
        "* ob = obtuary "
      ]
    },
    {
      "cell_type": "code",
      "execution_count": null,
      "metadata": {
        "id": "54u0HPIYrNh1",
        "outputId": "bbc87eb8-f52a-4608-9610-c9259fd557b2"
      },
      "outputs": [],
      "source": [
        "impresso.search.facet(\"type\", term=\"titanic\")"
      ]
    },
    {
      "cell_type": "markdown",
      "metadata": {
        "id": "RUApyk5qrNh1"
      },
      "source": [
        "### Topic\n",
        "\n",
        "Find topics that the content items mentioning 'titanic' are related to."
      ]
    },
    {
      "cell_type": "code",
      "execution_count": null,
      "metadata": {
        "id": "oBB_JPBqrNh1",
        "outputId": "3b102d27-2354-48b2-b3dd-997801b5bdea"
      },
      "outputs": [],
      "source": [
        "impresso.search.facet(\"topic\", term=\"titanic\")"
      ]
    },
    {
      "cell_type": "markdown",
      "metadata": {
        "id": "A1r-gsIOrNh1"
      },
      "source": [
        "### Collection\n",
        "\n",
        "Find within your collections, a collection in which a content items containing 'titanic' is stored. This will just work if you have a collection in Impresso. "
      ]
    },
    {
      "cell_type": "code",
      "execution_count": null,
      "metadata": {
        "id": "9l9IuogyrNh1",
        "outputId": "000bded0-db37-421a-f964-b9c4bc1bebe1"
      },
      "outputs": [],
      "source": [
        "impresso.search.facet(\"collection\", term=\"titanic\")"
      ]
    },
    {
      "cell_type": "markdown",
      "metadata": {
        "id": "uvznf9K8rNh2"
      },
      "source": [
        "### Newspaper\n",
        "\n",
        "Find newspapers in which content items mentioning the keyword 'titanic' have been published in."
      ]
    },
    {
      "cell_type": "code",
      "execution_count": null,
      "metadata": {
        "id": "z2GLejmcrNh2",
        "outputId": "90ea2ac7-185f-4778-8ac8-844fb7938a02"
      },
      "outputs": [],
      "source": [
        "impresso.search.facet(\"newspaper\", term=\"titanic\")"
      ]
    },
    {
      "cell_type": "markdown",
      "metadata": {
        "id": "y5GEHpMHrNh2"
      },
      "source": [
        "### Language\n",
        "\n",
        "Find the languages of content items mentioning the keyword 'titanic'."
      ]
    },
    {
      "cell_type": "code",
      "execution_count": null,
      "metadata": {
        "id": "FAtPwGO8rNh2",
        "outputId": "0a37d73a-2568-40ca-b4db-da10d0118c9e"
      },
      "outputs": [],
      "source": [
        "impresso.search.facet(\"language\", term=\"titanic\")"
      ]
    },
    {
      "cell_type": "code",
      "execution_count": null,
      "metadata": {
        "id": "WltO-s2VrNh2",
        "outputId": "98784543-21bf-4be2-989f-6352855769bc"
      },
      "outputs": [],
      "source": [
        "impresso.search.facet(\"location\", term=\"titanic\")"
      ]
    },
    {
      "cell_type": "markdown",
      "metadata": {
        "id": "kgWcJUEwrNh2"
      },
      "source": [
        "### Access rights\n",
        "\n",
        "Get access rights of content items mentioning 'titanic'."
      ]
    },
    {
      "cell_type": "code",
      "execution_count": null,
      "metadata": {
        "id": "CeLsj8y8rNh2",
        "outputId": "c019586e-616b-491e-bef6-0d1452b19713"
      },
      "outputs": [],
      "source": [
        "impresso.search.facet(\"accessRight\", term=\"titanic\")"
      ]
    },
    {
      "cell_type": "markdown",
      "metadata": {
        "id": "3Q-b5J93rNh2"
      },
      "source": [
        "### Partner\n",
        "\n",
        "Get Impresso partners that provided content items mentioning 'titanic'."
      ]
    },
    {
      "cell_type": "code",
      "execution_count": null,
      "metadata": {
        "id": "FnUFBe16rNh2",
        "outputId": "35035551-6d0f-451a-a484-2546897473ea"
      },
      "outputs": [],
      "source": [
        "impresso.search.facet(\"partner\", term=\"titanic\")"
      ]
    },
    {
      "cell_type": "markdown",
      "metadata": {},
      "source": [
        "## Conclusion\n",
        "That's it for now! Next, you can explore:\n",
        "\n",
        "- the [Introduction to the Impresso Python Library](https://github.com/impresso/impresso-datalab-notebooks/blob/main/starter/basics_ImpressoAPI.ipynb) notebook, which demonstrates how to use the Impresso Library further, including managing collections and much more.\n",
        "- if you want to learn more about the Impresso Python library, you can find its [documentation here](https://impresso.github.io/impresso-py/)"
      ]
    },
    {
      "cell_type": "markdown",
      "metadata": {},
      "source": [
        "---\n",
        "## Project and License info\n",
        "\n",
        "### Notebook credits [![CreditLogo.png](data:image/png;base64,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)](https://credit.niso.org/)\n",
        "**Writing - Original draft:** Roman Kalyakin. **Conceptualization:** Roman Kalyakin, Maud Ehrmann. **Software:** Roman Kalyakin. **Writing - Review & Editing:** Caio Mello. **Validation:** Sarah Oberbichler. **Datalab editorial board:** Caio Mello (Managing), Pauline Conti, Emanuela Boros, Marten Düring, Juri Opitz, Martin Grandjean, Estelle Bunout. **Data curation & Formal analysis:** Maud Ehrmann, Emanuela Boros, Pauline Conti, Simon Clematide, Juri Opitz, Andrianos Michail. **Methodology:** Roman Kalyakin. **Supervision:** Marten Düring, Maud Ehrmann. **Funding aquisition:** Maud Ehrmann, Simon Clematide, Marten Düring, Raphaëlle Ruppen Coutaz.\n",
        "\n",
        "<br><a target=\"_blank\" href=\"https://creativecommons.org/licenses/by/4.0/\">\n",
        "  <img src=\"https://mirrors.creativecommons.org/presskit/buttons/88x31/png/by.png\"  width=\"100\" alt=\"Open In Colab\"/>\n",
        "</a> \n",
        "\n",
        "This notebook is published under [CC BY 4.0 License](https://creativecommons.org/licenses/by/4.0/)\n",
        "\n",
        "For feedback on this notebook, please send an email to info@impresso-project.ch\n",
        "\n",
        "### Impresso project\n",
        "\n",
        "[Impresso - Media Monitoring of the Past](https://impresso-project.ch) is an interdisciplinary research project that aims to develop and consolidate tools for processing and exploring large collections of media archives across modalities, time, languages and national borders. The first project (2017-2021) was funded by the Swiss National Science Foundation under grant No. [CRSII5_173719](http://p3.snf.ch/project-173719) and the second project (2023-2027) by the SNSF under grant No. [CRSII5_213585](https://data.snf.ch/grants/grant/213585) and the Luxembourg National Research Fund under grant No. 17498891.\n",
        "<br></br>\n",
        "### License\n",
        "\n",
        "All Impresso code is published open source under the [GNU Affero General Public License](https://github.com/impresso/impresso-pyindexation/blob/master/LICENSE) v3 or later.\n",
        "\n",
        "\n",
        "---\n",
        "\n",
        "<p align=\"center\">\n",
        "  <img src=\"https://github.com/impresso/impresso.github.io/blob/master/assets/images/3x1--Yellow-Impresso-Black-on-White--transparent.png?raw=true\" width=\"350\" alt=\"Impresso Project Logo\"/>\n",
        "</p>\n"
      ]
    }
  ],
  "metadata": {
    "colab": {
      "provenance": []
    },
    "kernelspec": {
      "display_name": ".venv",
      "language": "python",
      "name": "python3"
    },
    "language_info": {
      "codemirror_mode": {
        "name": "ipython",
        "version": 3
      },
      "file_extension": ".py",
      "mimetype": "text/x-python",
      "name": "python",
      "nbconvert_exporter": "python",
      "pygments_lexer": "ipython3",
      "version": "3.12.7"
    }
  },
  "nbformat": 4,
  "nbformat_minor": 0
}
